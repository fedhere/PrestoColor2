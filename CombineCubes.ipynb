{
 "cells": [
  {
   "cell_type": "code",
   "execution_count": 1,
   "id": "0582be07-6aa7-4661-b1ba-b3052b4a7d88",
   "metadata": {
    "executionInfo": {
     "elapsed": 218,
     "status": "ok",
     "timestamp": 1631647781845,
     "user": {
      "displayName": "Ming Lian",
      "photoUrl": "https://lh3.googleusercontent.com/a-/AOh14GhFnZN2A2xowTHg5pgYqhHMO_ye89Z2cXUJ-M0ywg=s64",
      "userId": "12705220457356801018"
     },
     "user_tz": 240
    },
    "id": "BHpGWIT00gQo"
   },
   "outputs": [],
   "source": [
    "import numpy as np\n",
    "import Functions\n",
    "import pickle\n",
    "import os\n",
    "from matplotlib.colors import LogNorm\n",
    "import time\n",
    "import Functions\n",
    "\n",
    "import matplotlib.pyplot as plt"
   ]
  },
  {
   "cell_type": "code",
   "execution_count": 3,
   "id": "c2d7fc69-22f1-4bad-9989-1047e4ec8634",
   "metadata": {},
   "outputs": [],
   "source": [
    "EventNames = ['AGN', 'CART', 'EB', 'ILOT', 'KN_B19', 'KN_K17', 'MIRA', 'Mdwarf',\n",
    "              'PISN', 'RRL', 'SLSN-I', 'SNII-NMF', 'SNII-Templates', 'SNIIn',\n",
    "              'SNIa-91bg', 'SNIa-SALT2', 'SNIax', 'SNIbc-MOSFIT',\n",
    "              'SNIbc-Templates', 'TDE', 'V19_CC+HostXT', 'uLens-Binary',\n",
    "              'uLens-Single-GenLens', 'uLens-Single_PyLIMA']"
   ]
  },
  {
   "cell_type": "code",
   "execution_count": 4,
   "id": "22bcc5c2-6001-4d46-80d5-89dcc738ec44",
   "metadata": {},
   "outputs": [],
   "source": [
    "FolderPath =       '/global/cscratch1/sd/lianming/Results/FullRun1'\n",
    "TargetFolderPath = '/global/cscratch1/sd/lianming/Results/FullRun_10000Obj_220802'"
   ]
  },
  {
   "cell_type": "code",
   "execution_count": 5,
   "id": "9ffa32af-1645-4415-9094-32302da5b377",
   "metadata": {},
   "outputs": [
    {
     "data": {
      "text/plain": [
       "['ProbCube_0702_0014__SNII-NMF.pkl',\n",
       " 'ProbCube_0702_0015__SNII-NMF.pkl',\n",
       " 'ProbCube_0702_0018__SNII-Templates.pkl',\n",
       " 'ProbCube_0702_0019__SNII-Templates.pkl',\n",
       " 'ProbCube_0702_0026__SNIIn.pkl',\n",
       " 'ProbCube_0702_0027__SNIIn.pkl',\n",
       " 'ProbCube_0702_0035__SLSN-I.pkl',\n",
       " 'ProbCube_0702_0036__SLSN-I.pkl',\n",
       " 'ProbCube_0702_0043__PISN.pkl',\n",
       " 'ProbCube_0702_0044__PISN.pkl',\n",
       " 'ProbCube_0702_0044__RRL.pkl',\n",
       " 'ProbCube_0702_0046__RRL.pkl',\n",
       " 'ProbCube_0702_1449__SNII-NMF.pkl',\n",
       " 'ProbCube_0702_1451__SNII-Templates.pkl',\n",
       " 'ProbCube_0702_1502__SNIIn.pkl',\n",
       " 'ProbCube_0702_1508__SLSN-I.pkl',\n",
       " 'ProbCube_0702_1516__PISN.pkl',\n",
       " 'ProbCube_0702_1519__RRL.pkl',\n",
       " 'ProbCube_0707_2001__SNII-NMF.pkl',\n",
       " 'ProbCube_0707_2003__SNII-Templates.pkl',\n",
       " 'ProbCube_0707_2013__SNIIn.pkl',\n",
       " 'ProbCube_0707_2021__SLSN-I.pkl',\n",
       " 'ProbCube_0707_2030__PISN.pkl',\n",
       " 'ProbCube_0707_2031__RRL.pkl',\n",
       " 'ProbCube_0727_1355__ILOT.pkl',\n",
       " 'ProbCube_0727_1411__CART.pkl',\n",
       " 'ProbCube_0727_1421__AGN.pkl',\n",
       " 'ProbCube_0727_1434__MIRA.pkl',\n",
       " 'ProbCube_0727_1435__EB.pkl',\n",
       " 'ProbCube_0727_1440__Mdwarf.pkl',\n",
       " 'ProbCube_0728_0533__ILOT.pkl',\n",
       " 'ProbCube_0728_0550__CART.pkl',\n",
       " 'ProbCube_0728_0601__AGN.pkl',\n",
       " 'ProbCube_0728_0612__EB.pkl',\n",
       " 'ProbCube_0728_0613__MIRA.pkl',\n",
       " 'ProbCube_0728_0614__Mdwarf.pkl',\n",
       " 'ProbCube_0728_1910__ILOT.pkl',\n",
       " 'ProbCube_0728_1927__CART.pkl',\n",
       " 'ProbCube_0728_1939__AGN.pkl',\n",
       " 'ProbCube_0728_1950__EB.pkl',\n",
       " 'ProbCube_0728_1950__MIRA.pkl',\n",
       " 'ProbCube_0728_1952__Mdwarf.pkl',\n",
       " 'ProbCube_0729_0231__SNIbc-MOSFIT.pkl',\n",
       " 'ProbCube_0729_0243__SNIbc-Templates.pkl',\n",
       " 'ProbCube_0729_0250__SNIax.pkl',\n",
       " 'ProbCube_0729_0252__SNIa-SALT2.pkl',\n",
       " 'ProbCube_0729_0259__SNIa-91bg.pkl',\n",
       " 'ProbCube_0729_1402__ILOT.pkl',\n",
       " 'ProbCube_0729_1417__CART.pkl',\n",
       " 'ProbCube_0729_1430__AGN.pkl',\n",
       " 'ProbCube_0729_1441__Mdwarf.pkl',\n",
       " 'ProbCube_0729_1442__EB.pkl',\n",
       " 'ProbCube_0729_1443__MIRA.pkl',\n",
       " 'ProbCube_0731_0428__SNIbc-MOSFIT.pkl',\n",
       " 'ProbCube_0731_0439__SNIbc-Templates.pkl',\n",
       " 'ProbCube_0731_0446__SNIax.pkl',\n",
       " 'ProbCube_0731_0448__SNIa-SALT2.pkl',\n",
       " 'ProbCube_0731_0455__SNIa-91bg.pkl',\n",
       " 'ProbCube_0731_1651__TDE.pkl',\n",
       " 'ProbCube_0731_1651__V19_CC+HostXT.pkl',\n",
       " 'ProbCube_0731_1651__uLens-Single-GenLens.pkl',\n",
       " 'ProbCube_0731_1651__uLens-Single_PyLIMA.pkl',\n",
       " 'ProbCube_0731_1653__uLens-Binary.pkl',\n",
       " 'ProbCube_0731_2102__V19_CC+HostXT.pkl',\n",
       " 'ProbCube_0731_2112__TDE.pkl',\n",
       " 'ProbCube_0731_2113__uLens-Single_PyLIMA.pkl',\n",
       " 'ProbCube_0731_2115__uLens-Single-GenLens.pkl',\n",
       " 'ProbCube_0731_2121__uLens-Binary.pkl',\n",
       " 'ProbCube_0801_0831__SNIbc-MOSFIT.pkl',\n",
       " 'ProbCube_0801_0843__SNIbc-Templates.pkl',\n",
       " 'ProbCube_0801_0850__SNIax.pkl',\n",
       " 'ProbCube_0801_0851__SNIa-SALT2.pkl',\n",
       " 'ProbCube_0801_0858__SNIa-91bg.pkl',\n",
       " 'ProbCube_0801_2343__SNIbc-MOSFIT.pkl',\n",
       " 'ProbCube_0801_2352__SNIbc-Templates.pkl',\n",
       " 'ProbCube_0802_0002__SNIa-SALT2.pkl',\n",
       " 'ProbCube_0802_0002__SNIax.pkl',\n",
       " 'ProbCube_0802_0010__SNIa-91bg.pkl',\n",
       " 'ProbCube_0802_0359__V19_CC+HostXT.pkl',\n",
       " 'ProbCube_0802_0406__TDE.pkl',\n",
       " 'ProbCube_0802_0408__uLens-Single_PyLIMA.pkl',\n",
       " 'ProbCube_0802_0413__uLens-Single-GenLens.pkl',\n",
       " 'ProbCube_0802_0417__uLens-Binary.pkl',\n",
       " 'ProbCube_0802_0919__V19_CC+HostXT.pkl',\n",
       " 'ProbCube_0802_0927__TDE.pkl',\n",
       " 'ProbCube_0802_0928__uLens-Single_PyLIMA.pkl',\n",
       " 'ProbCube_0802_0932__uLens-Single-GenLens.pkl',\n",
       " 'ProbCube_0802_0935__uLens-Binary.pkl']"
      ]
     },
     "execution_count": 5,
     "metadata": {},
     "output_type": "execute_result"
    }
   ],
   "source": [
    "FileNames = os.listdir(FolderPath)\n",
    "FileNames.sort()\n",
    "\n",
    "if '.ipynb_checkpoints' in FileNames:\n",
    "    FileNames.remove('.ipynb_checkpoints')\n",
    "\n",
    "FileNames"
   ]
  },
  {
   "cell_type": "code",
   "execution_count": 36,
   "id": "5f8f0c4f-c646-45e8-a783-d5bec6205c06",
   "metadata": {},
   "outputs": [
    {
     "data": {
      "text/plain": [
       "(-5.0, 8.0)"
      ]
     },
     "execution_count": 36,
     "metadata": {},
     "output_type": "execute_result"
    },
    {
     "data": {
      "image/png": "[encoded data removed]",
      "text/plain": [
       "<Figure size 1080x864 with 1 Axes>"
      ]
     },
     "metadata": {
      "needs_background": "light"
     },
     "output_type": "display_data"
    }
   ],
   "source": [
    "#If dMag and Color are not given, a 2-D array will be returned.\n",
    "fig, ax = plt.subplots(1, 1, figsize=(15, 12))\n",
    "\n",
    "Map = Enquiry(Cube, InfoDict, 'g', 'i', 480, 1440)\n",
    "plt.pcolor(InfoDict['BinMag'], InfoDict['BinColor'], np.transpose(Map)+1, edgecolors='face',\n",
    "           norm=LogNorm(1, vmax=Map.max()+1), cmap='gist_gray')\n",
    "plt.xlim([-1.5, 2])\n",
    "plt.ylim([-5, 8])\n",
    "# plt.axis('equal')"
   ]
  },
  {
   "cell_type": "code",
   "execution_count": 6,
   "id": "a22fcd33-869d-46c0-aa61-8a8a5d333da1",
   "metadata": {},
   "outputs": [
    {
     "name": "stdout",
     "output_type": "stream",
     "text": [
      "||||||||||||||||||||||\n",
      "Finish!\n"
     ]
    }
   ],
   "source": [
    "for EventName in EventNames:\n",
    "    \n",
    "    InfoDict = 0\n",
    "    Cube = 0\n",
    "    \n",
    "    for FileName in FileNames:\n",
    "        \n",
    "        if EventName not in FileName:\n",
    "            continue\n",
    "            \n",
    "        FilePath = os.path.join(FolderPath, FileName) \n",
    "\n",
    "        if InfoDict == 0:                \n",
    "\n",
    "            with open(FilePath, 'rb') as f:\n",
    "                InfoDict = pickle.load(f)\n",
    "                Cube = pickle.load(f)\n",
    "\n",
    "        else:\n",
    "            with open(FilePath, 'rb') as f:\n",
    "                infoDict = pickle.load(f)\n",
    "                Cube += pickle.load(f)\n",
    "\n",
    "                InfoDict['ObjectNo'] += infoDict['ObjectNo']\n",
    "                InfoDict['dMagRange'] = [ min( InfoDict['dMagRange'][0], infoDict['dMagRange'][0] ) , max( InfoDict['dMagRange'][1], infoDict['dMagRange'][1] ) ]\n",
    "                InfoDict['ColorRange'] = [ min( InfoDict['ColorRange'][0], infoDict['ColorRange'][0] ) , max( InfoDict['ColorRange'][1], infoDict['ColorRange'][1] ) ]\n",
    "                if 'StartObjNo' in InfoDict:\n",
    "                    InfoDict['StartObjNo'] = min(InfoDict['StartObjNo'], infoDict['StartObjNo'])\n",
    "    \n",
    "    if InfoDict == 0:\n",
    "        continue\n",
    "                    \n",
    "    FileName = 'ProbCube_' + time.strftime('%m%d_%H%M') + '__' + EventName + '.pkl'\n",
    "\n",
    "    FilePath = os.path.join(TargetFolderPath, FileName)\n",
    "    FilePath0 = FilePath\n",
    "\n",
    "    ii = 1\n",
    "    while os.path.exists(FilePath):\n",
    "        FilePath = FilePath0[:-4] + '('+str(ii)+')' + '.pkl'\n",
    "        ii += 1\n",
    "\n",
    "    with open(FilePath, 'wb') as f:\n",
    "        pickle.dump(InfoDict, f)\n",
    "        pickle.dump(Cube, f ) \n",
    "        \n",
    "    print('|', end='')\n",
    "    \n",
    "print('\\nFinish!')\n",
    "        \n"
   ]
  },
  {
   "cell_type": "code",
   "execution_count": 33,
   "id": "735916b2-e649-409b-bab5-f827f80cfc3e",
   "metadata": {},
   "outputs": [
    {
     "data": {
      "text/plain": [
       "{'EventName': 'SNII-NMF',\n",
       " 'PointsPerDay': 1,\n",
       " 'ObjectNo': 10000,\n",
       " 'BandPairs': ['ug',\n",
       "  'ur',\n",
       "  'ui',\n",
       "  'uz',\n",
       "  'gu',\n",
       "  'gr',\n",
       "  'gi',\n",
       "  'gz',\n",
       "  'gy',\n",
       "  'ru',\n",
       "  'rg',\n",
       "  'ri',\n",
       "  'rz',\n",
       "  'ry',\n",
       "  'iu',\n",
       "  'ig',\n",
       "  'ir',\n",
       "  'iz',\n",
       "  'iy',\n",
       "  'zu',\n",
       "  'zg',\n",
       "  'zr',\n",
       "  'zi',\n",
       "  'zy',\n",
       "  'yg',\n",
       "  'yr',\n",
       "  'yi',\n",
       "  'yz'],\n",
       " 'dT1s': array([-480, -465, -450, -435, -420, -405, -390, -375, -360, -345, -330,\n",
       "        -315, -300, -285, -270, -255, -240, -225, -210, -195, -180, -165,\n",
       "        -150, -135, -120, -105,  -90,  -75,  -60,  -45,  -30,  -15,    0,\n",
       "          15,   30,   45,   60,   75,   90,  105,  120,  135,  150,  165,\n",
       "         180,  195,  210,  225,  240,  255,  270,  285,  300,  315,  330,\n",
       "         345,  360,  375,  390,  405,  420,  435,  450,  465,  480]),\n",
       " 'dT2s': array([-1920, -1890, -1860, -1830, -1800, -1770, -1740, -1710, -1680,\n",
       "        -1650, -1620, -1590, -1560, -1530, -1500, -1470, -1440,  -480,\n",
       "         -450,  -420,  -390,  -360,  -330,  -300,  -270,  -240,  -210,\n",
       "         -180,  -150,  -120,   -90,   -60,   -30,     0,    30,    60,\n",
       "           90,   120,   150,   180,   210,   240,   270,   300,   330,\n",
       "          360,   390,   420,   450,   480,  1440,  1470,  1500,  1530,\n",
       "         1560,  1590,  1620,  1650,  1680,  1710,  1740,  1770,  1800,\n",
       "         1830,  1860,  1890,  1920]),\n",
       " 'BinMag': array([-5.05, -4.95, -4.85, -4.75, -4.65, -4.55, -4.45, -4.35, -4.25,\n",
       "        -4.15, -4.05, -3.95, -3.85, -3.75, -3.65, -3.55, -3.45, -3.35,\n",
       "        -3.25, -3.15, -3.05, -2.95, -2.85, -2.75, -2.65, -2.55, -2.45,\n",
       "        -2.35, -2.25, -2.15, -2.05, -1.95, -1.85, -1.75, -1.65, -1.55,\n",
       "        -1.45, -1.35, -1.25, -1.15, -1.05, -0.95, -0.85, -0.75, -0.65,\n",
       "        -0.55, -0.45, -0.35, -0.25, -0.15, -0.05,  0.05,  0.15,  0.25,\n",
       "         0.35,  0.45,  0.55,  0.65,  0.75,  0.85,  0.95,  1.05,  1.15,\n",
       "         1.25,  1.35,  1.45,  1.55,  1.65,  1.75,  1.85,  1.95,  2.05,\n",
       "         2.15,  2.25,  2.35,  2.45,  2.55,  2.65,  2.75,  2.85,  2.95,\n",
       "         3.05,  3.15,  3.25,  3.35,  3.45,  3.55,  3.65,  3.75,  3.85,\n",
       "         3.95,  4.05,  4.15,  4.25,  4.35,  4.45,  4.55,  4.65,  4.75,\n",
       "         4.85,  4.95,  5.05,  5.15,  5.25,  5.35,  5.45,  5.55,  5.65,\n",
       "         5.75,  5.85,  5.95]),\n",
       " 'BinColor': array([-9.25, -8.75, -8.25, -7.75, -7.25, -6.75, -6.25, -5.75, -5.25,\n",
       "        -4.75, -4.25, -3.75, -3.25, -2.75, -2.25, -1.75, -1.25, -0.75,\n",
       "        -0.25,  0.25,  0.75,  1.25,  1.75,  2.25,  2.75,  3.25,  3.75,\n",
       "         4.25,  4.75,  5.25,  5.75,  6.25,  6.75,  7.25,  7.75,  8.25,\n",
       "         8.75,  9.25,  9.75]),\n",
       " 'dMagRange': [-0.7776056925469881, 6.3006168878774],\n",
       " 'ColorRange': [-6.70166960387467, 6.621740197415992],\n",
       " 'TimePairs': array([[ -480, -1920],\n",
       "        [ -480, -1890],\n",
       "        [ -480, -1860],\n",
       "        ...,\n",
       "        [  480,  1860],\n",
       "        [  480,  1890],\n",
       "        [  480,  1920]]),\n",
       " 'Outliers': 9,\n",
       " 'OutliersRatio': 2.7786954333684273e-05}"
      ]
     },
     "execution_count": 33,
     "metadata": {},
     "output_type": "execute_result"
    }
   ],
   "source": [
    "InfoDict"
   ]
  },
  {
   "cell_type": "code",
   "execution_count": 31,
   "id": "9e3ed1b5-cdc3-4ba3-b8e4-d4d6769f8a67",
   "metadata": {},
   "outputs": [
    {
     "data": {
      "text/plain": [
       "{'EventName': 'PISN',\n",
       " 'PointsPerDay': 1,\n",
       " 'ObjectNo': 10000,\n",
       " 'BandPairs': ['ug',\n",
       "  'ur',\n",
       "  'ui',\n",
       "  'uz',\n",
       "  'gu',\n",
       "  'gr',\n",
       "  'gi',\n",
       "  'gz',\n",
       "  'gy',\n",
       "  'ru',\n",
       "  'rg',\n",
       "  'ri',\n",
       "  'rz',\n",
       "  'ry',\n",
       "  'iu',\n",
       "  'ig',\n",
       "  'ir',\n",
       "  'iz',\n",
       "  'iy',\n",
       "  'zu',\n",
       "  'zg',\n",
       "  'zr',\n",
       "  'zi',\n",
       "  'zy',\n",
       "  'yg',\n",
       "  'yr',\n",
       "  'yi',\n",
       "  'yz'],\n",
       " 'dT1s': array([-480, -465, -450, -435, -420, -405, -390, -375, -360, -345, -330,\n",
       "        -315, -300, -285, -270, -255, -240, -225, -210, -195, -180, -165,\n",
       "        -150, -135, -120, -105,  -90,  -75,  -60,  -45,  -30,  -15,    0,\n",
       "          15,   30,   45,   60,   75,   90,  105,  120,  135,  150,  165,\n",
       "         180,  195,  210,  225,  240,  255,  270,  285,  300,  315,  330,\n",
       "         345,  360,  375,  390,  405,  420,  435,  450,  465,  480]),\n",
       " 'dT2s': array([-1920, -1890, -1860, -1830, -1800, -1770, -1740, -1710, -1680,\n",
       "        -1650, -1620, -1590, -1560, -1530, -1500, -1470, -1440,  -480,\n",
       "         -450,  -420,  -390,  -360,  -330,  -300,  -270,  -240,  -210,\n",
       "         -180,  -150,  -120,   -90,   -60,   -30,     0,    30,    60,\n",
       "           90,   120,   150,   180,   210,   240,   270,   300,   330,\n",
       "          360,   390,   420,   450,   480,  1440,  1470,  1500,  1530,\n",
       "         1560,  1590,  1620,  1650,  1680,  1710,  1740,  1770,  1800,\n",
       "         1830,  1860,  1890,  1920]),\n",
       " 'BinMag': array([-5.05, -4.95, -4.85, -4.75, -4.65, -4.55, -4.45, -4.35, -4.25,\n",
       "        -4.15, -4.05, -3.95, -3.85, -3.75, -3.65, -3.55, -3.45, -3.35,\n",
       "        -3.25, -3.15, -3.05, -2.95, -2.85, -2.75, -2.65, -2.55, -2.45,\n",
       "        -2.35, -2.25, -2.15, -2.05, -1.95, -1.85, -1.75, -1.65, -1.55,\n",
       "        -1.45, -1.35, -1.25, -1.15, -1.05, -0.95, -0.85, -0.75, -0.65,\n",
       "        -0.55, -0.45, -0.35, -0.25, -0.15, -0.05,  0.05,  0.15,  0.25,\n",
       "         0.35,  0.45,  0.55,  0.65,  0.75,  0.85,  0.95,  1.05,  1.15,\n",
       "         1.25,  1.35,  1.45,  1.55,  1.65,  1.75,  1.85,  1.95,  2.05,\n",
       "         2.15,  2.25,  2.35,  2.45,  2.55,  2.65,  2.75,  2.85,  2.95,\n",
       "         3.05,  3.15,  3.25,  3.35,  3.45,  3.55,  3.65,  3.75,  3.85,\n",
       "         3.95,  4.05,  4.15,  4.25,  4.35,  4.45,  4.55,  4.65,  4.75,\n",
       "         4.85,  4.95,  5.05,  5.15,  5.25,  5.35,  5.45,  5.55,  5.65,\n",
       "         5.75,  5.85,  5.95]),\n",
       " 'BinColor': array([-9.25, -8.75, -8.25, -7.75, -7.25, -6.75, -6.25, -5.75, -5.25,\n",
       "        -4.75, -4.25, -3.75, -3.25, -2.75, -2.25, -1.75, -1.25, -0.75,\n",
       "        -0.25,  0.25,  0.75,  1.25,  1.75,  2.25,  2.75,  3.25,  3.75,\n",
       "         4.25,  4.75,  5.25,  5.75,  6.25,  6.75,  7.25,  7.75,  8.25,\n",
       "         8.75,  9.25,  9.75]),\n",
       " 'dMagRange': [-0.1292272659794378, 0.49410120646248856],\n",
       " 'ColorRange': [-8.276923659421968, 8.208585728720896],\n",
       " 'TimePairs': array([[ -480, -1920],\n",
       "        [ -480, -1890],\n",
       "        [ -480, -1860],\n",
       "        ...,\n",
       "        [  480,  1860],\n",
       "        [  480,  1890],\n",
       "        [  480,  1920]])}"
      ]
     },
     "execution_count": 31,
     "metadata": {},
     "output_type": "execute_result"
    }
   ],
   "source": [
    "InfoDict"
   ]
  },
  {
   "cell_type": "code",
   "execution_count": 35,
   "id": "73981259-1504-48aa-9f6a-3120b1cbcfef",
   "metadata": {},
   "outputs": [],
   "source": [
    "def Enquiry(HashTable, InfoDict, Band1, Band2, dT1, dT2, dMag=None, Color=None):\n",
    "    \n",
    "    if abs(dT1) > abs(dT1-dT2):\n",
    "        dT1, dT2 = dT1-dT2, -dT2    \n",
    "\n",
    "    Ind1 = InfoDict['BandPairs'].index(Band1+Band2)\n",
    "    \n",
    "    dT1grid = InfoDict['dT1s'][ abs( dT1 - InfoDict['dT1s'] ).argmin() ]\n",
    "    dT2grid = InfoDict['dT2s'][ abs( dT2 - InfoDict['dT2s'] ).argmin() ]\n",
    "    \n",
    "    TimePairGrid = [ InfoDict['dT1s'][ abs( dT1 - InfoDict['dT1s'] ).argmin() ], InfoDict['dT2s'][ abs( dT2 - InfoDict['dT2s'] ).argmin() ] ]\n",
    "    \n",
    "    Ind2 = np.where( (InfoDict['TimePairs'] == TimePairGrid ).all(axis=1) )[0][0]\n",
    "    \n",
    "    Results = HashTable[Ind1, Ind2]\n",
    "\n",
    "    if dMag == None:\n",
    "        pass        \n",
    "    elif dMag<InfoDict['BinMag'][0] or dMag>=InfoDict['BinMag'][-1]:\n",
    "        raise ValueError('The value of dMag is out of boundary, the available interval is [{:.2f}, {:.2f}).'.format(InfoDict['BinMag'][0], InfoDict['BinMag'][-1]))        \n",
    "    else:\n",
    "        Results = Results[np.where( dMag >= InfoDict['BinMag'] )[0][-1]]       \n",
    "\n",
    "    if Color == None:\n",
    "        pass        \n",
    "    elif Color<InfoDict['BinColor'][0] or Color>=InfoDict['BinColor'][-1]:\n",
    "        raise ValueError('The value of Color is out of boundary, the available interval is [{:.2f}, {:.2f}).'.format(InfoDict['BinColor'][0], InfoDict['BinColor'][-1]))\n",
    "        \n",
    "    else:\n",
    "        Results = Results[..., np.where( Color >= InfoDict['BinColor'] )[0][-1] ]\n",
    "\n",
    "    return Results"
   ]
  },
  {
   "cell_type": "code",
   "execution_count": null,
   "id": "1c0d0bd7-6ff8-447d-be98-6724ba613b6a",
   "metadata": {},
   "outputs": [],
   "source": []
  },
  {
   "cell_type": "code",
   "execution_count": null,
   "id": "e1b2575a-4d80-44bd-972c-b9a7afe00e0c",
   "metadata": {},
   "outputs": [],
   "source": []
  },
  {
   "cell_type": "code",
   "execution_count": null,
   "id": "c39d8a32-9602-47de-b78a-264912765d3f",
   "metadata": {},
   "outputs": [],
   "source": []
  },
  {
   "cell_type": "code",
   "execution_count": 6,
   "id": "7ef40cb9-c5a2-4e84-99dd-cf1fa8baed61",
   "metadata": {},
   "outputs": [],
   "source": [
    "dT1s = np.arange(-480, 481, 15)\n",
    "dT2s = np.hstack(( np.arange(-1920, -1439, 30), np.arange(-480, 481, 30), np.arange(1440, 1921, 30) )) "
   ]
  },
  {
   "cell_type": "code",
   "execution_count": 30,
   "id": "d209b3c8-8689-4621-8692-ada802991b8c",
   "metadata": {},
   "outputs": [],
   "source": [
    "dT1s = np.arange(60, 120, 15)\n",
    "dT2s = np.arange(450, 510, 15)"
   ]
  },
  {
   "cell_type": "code",
   "execution_count": 31,
   "id": "69f1243c-1981-4977-9003-e818f882c381",
   "metadata": {},
   "outputs": [],
   "source": [
    "TimePairs = [ [ii, jj] for ii in dT1s for jj in dT2s if abs(ii) <= abs(ii-jj) ]"
   ]
  },
  {
   "cell_type": "code",
   "execution_count": 32,
   "id": "1c4ded4e-3089-422a-aa8b-9cde82f2f1fa",
   "metadata": {},
   "outputs": [
    {
     "data": {
      "text/plain": [
       "16"
      ]
     },
     "execution_count": 32,
     "metadata": {},
     "output_type": "execute_result"
    }
   ],
   "source": [
    "len(TimePairs)"
   ]
  },
  {
   "cell_type": "code",
   "execution_count": null,
   "id": "eb82427f-4bfe-4dad-90d8-3abbc8dc868a",
   "metadata": {},
   "outputs": [],
   "source": []
  }
 ],
 "metadata": {
  "kernelspec": {
   "display_name": "NERSC Python",
   "language": "python",
   "name": "python3"
  },
  "language_info": {
   "codemirror_mode": {
    "name": "ipython",
    "version": 3
   },
   "file_extension": ".py",
   "mimetype": "text/x-python",
   "name": "python",
   "nbconvert_exporter": "python",
   "pygments_lexer": "ipython3",
   "version": "3.9.7"
  }
 },
 "nbformat": 4,
 "nbformat_minor": 5
}
