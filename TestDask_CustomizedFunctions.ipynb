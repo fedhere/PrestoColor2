{
 "cells": [
  {
   "cell_type": "code",
   "execution_count": 2,
   "id": "7fae7d67-d882-4822-a6bc-94eaf6598079",
   "metadata": {},
   "outputs": [],
   "source": [
    "from dask.distributed import Client, progress"
   ]
  },
  {
   "cell_type": "code",
   "execution_count": 1,
   "id": "afce37be-8796-4100-aa2d-ac068ac9e2e0",
   "metadata": {},
   "outputs": [
    {
     "name": "stderr",
     "output_type": "stream",
     "text": [
      "/opt/miniconda3/lib/python3.8/site-packages/distributed/node.py:151: UserWarning: Port 8787 is already in use.\n",
      "Perhaps you already have a cluster running?\n",
      "Hosting the HTTP server on port 37389 instead\n",
      "  warnings.warn(\n"
     ]
    },
    {
     "data": {
      "text/html": [
       "<table style=\"border: 2px solid white;\">\n",
       "<tr>\n",
       "<td style=\"vertical-align: top; border: 0px solid white\">\n",
       "<h3 style=\"text-align: left;\">Client</h3>\n",
       "<ul style=\"text-align: left; list-style: none; margin: 0; padding: 0;\">\n",
       "  <li><b>Scheduler: </b>tcp://127.0.0.1:35961</li>\n",
       "  <li><b>Dashboard: </b><a href='http://127.0.0.1:37389/status' target='_blank'>http://127.0.0.1:37389/status</a></li>\n",
       "</ul>\n",
       "</td>\n",
       "<td style=\"vertical-align: top; border: 0px solid white\">\n",
       "<h3 style=\"text-align: left;\">Cluster</h3>\n",
       "<ul style=\"text-align: left; list-style:none; margin: 0; padding: 0;\">\n",
       "  <li><b>Workers: </b>2</li>\n",
       "  <li><b>Cores: </b>8</li>\n",
       "  <li><b>Memory: </b>540.15 GB</li>\n",
       "</ul>\n",
       "</td>\n",
       "</tr>\n",
       "</table>"
      ],
      "text/plain": [
       "<Client: 'tcp://127.0.0.1:35961' processes=2 threads=8, memory=540.15 GB>"
      ]
     },
     "execution_count": 1,
     "metadata": {},
     "output_type": "execute_result"
    }
   ],
   "source": [
    "client = Client(threads_per_worker=4, n_workers=2)\n",
    "client"
   ]
  },
  {
   "cell_type": "code",
   "execution_count": null,
   "id": "2a7eef51-f7b0-407b-922e-c0183e077b6e",
   "metadata": {},
   "outputs": [],
   "source": []
  },
  {
   "cell_type": "code",
   "execution_count": 2,
   "id": "dd7269b9-ac8f-4b2d-bf53-64b3c2aecd49",
   "metadata": {},
   "outputs": [],
   "source": [
    "client.cluster.scale(4)"
   ]
  },
  {
   "cell_type": "code",
   "execution_count": 4,
   "id": "28a0ed40-863f-4fbb-bbf0-b51dd5cee0fe",
   "metadata": {},
   "outputs": [
    {
     "data": {
      "text/html": [
       "<table style=\"border: 2px solid white;\">\n",
       "<tr>\n",
       "<td style=\"vertical-align: top; border: 0px solid white\">\n",
       "<h3 style=\"text-align: left;\">Client</h3>\n",
       "<ul style=\"text-align: left; list-style: none; margin: 0; padding: 0;\">\n",
       "  <li><b>Scheduler: </b>tcp://127.0.0.1:37827</li>\n",
       "  <li><b>Dashboard: </b><a href='http://127.0.0.1:8787/status' target='_blank'>http://127.0.0.1:8787/status</a></li>\n",
       "</ul>\n",
       "</td>\n",
       "<td style=\"vertical-align: top; border: 0px solid white\">\n",
       "<h3 style=\"text-align: left;\">Cluster</h3>\n",
       "<ul style=\"text-align: left; list-style:none; margin: 0; padding: 0;\">\n",
       "  <li><b>Workers: </b>4</li>\n",
       "  <li><b>Cores: </b>16</li>\n",
       "  <li><b>Memory: </b>0.98 TiB</li>\n",
       "</ul>\n",
       "</td>\n",
       "</tr>\n",
       "</table>"
      ],
      "text/plain": [
       "<Client: 'tcp://127.0.0.1:37827' processes=4 threads=16, memory=0.98 TiB>"
      ]
     },
     "execution_count": 4,
     "metadata": {},
     "output_type": "execute_result"
    }
   ],
   "source": [
    "client"
   ]
  },
  {
   "cell_type": "markdown",
   "id": "5aa5f1b8-351c-4dcb-b2ec-1f3a985b6808",
   "metadata": {},
   "source": [
    "___"
   ]
  },
  {
   "cell_type": "code",
   "execution_count": 19,
   "id": "48c8a02e-ab58-46e6-934b-79e023378ade",
   "metadata": {},
   "outputs": [],
   "source": [
    "import os\n",
    "import numpy as np\n",
    "import matplotlib.pyplot as plt\n",
    "import math\n",
    "import time\n",
    "from scipy import interpolate\n",
    "import pickle\n",
    "import dask"
   ]
  },
  {
   "cell_type": "code",
   "execution_count": null,
   "id": "cca21a8b-b8ee-40de-8fe0-baadd6d66a1c",
   "metadata": {},
   "outputs": [],
   "source": []
  },
  {
   "cell_type": "code",
   "execution_count": 189,
   "id": "6e2c9060-d7b1-42bd-8626-e33b4a07376f",
   "metadata": {},
   "outputs": [],
   "source": [
    "def Generate():\n",
    "        time.sleep(0.1)\n",
    "        # np.random.seed(123)\n",
    "        return np.random.randint(1,10,5)\n",
    "        \n",
    "    "
   ]
  },
  {
   "cell_type": "code",
   "execution_count": 5,
   "id": "792f250d-e8eb-4a08-8996-f2ab3833a8f1",
   "metadata": {
    "tags": []
   },
   "outputs": [
    {
     "name": "stdout",
     "output_type": "stream",
     "text": [
      "CPU times: user 3.71 ms, sys: 2.38 ms, total: 6.09 ms\n",
      "Wall time: 5.01 s\n"
     ]
    }
   ],
   "source": [
    "%%time\n",
    "for ii in range(5):\n",
    "    \n",
    "    results = []\n",
    "    \n",
    "    for jj in range(10):\n",
    "        \n",
    "        aa = Generate()        \n",
    "        results.append(aa)\n",
    "    \n",
    "    bb = np.vstack((results))\n",
    "    # print(bb)"
   ]
  },
  {
   "cell_type": "code",
   "execution_count": 192,
   "id": "5501f886-12c3-404f-a099-86a162026237",
   "metadata": {},
   "outputs": [
    {
     "data": {
      "text/html": [
       "<table style=\"border: 2px solid white;\">\n",
       "<tr>\n",
       "<td style=\"vertical-align: top; border: 0px solid white\">\n",
       "<h3 style=\"text-align: left;\">Client</h3>\n",
       "<ul style=\"text-align: left; list-style: none; margin: 0; padding: 0;\">\n",
       "  <li><b>Scheduler: </b>tcp://127.0.0.1:42105</li>\n",
       "  <li><b>Dashboard: </b><a href='http://127.0.0.1:8787/status' target='_blank'>http://127.0.0.1:8787/status</a></li>\n",
       "</ul>\n",
       "</td>\n",
       "<td style=\"vertical-align: top; border: 0px solid white\">\n",
       "<h3 style=\"text-align: left;\">Cluster</h3>\n",
       "<ul style=\"text-align: left; list-style:none; margin: 0; padding: 0;\">\n",
       "  <li><b>Workers: </b>10</li>\n",
       "  <li><b>Cores: </b>50</li>\n",
       "  <li><b>Memory: </b>540.15 GB</li>\n",
       "</ul>\n",
       "</td>\n",
       "</tr>\n",
       "</table>"
      ],
      "text/plain": [
       "<Client: 'tcp://127.0.0.1:42105' processes=10 threads=50, memory=540.15 GB>"
      ]
     },
     "execution_count": 192,
     "metadata": {},
     "output_type": "execute_result"
    }
   ],
   "source": [
    "client = Client(threads_per_worker=5, n_workers=10)\n",
    "client"
   ]
  },
  {
   "cell_type": "code",
   "execution_count": 194,
   "id": "24322f2f-b2dd-43a8-8e46-b2de614b54ef",
   "metadata": {
    "tags": []
   },
   "outputs": [
    {
     "name": "stdout",
     "output_type": "stream",
     "text": [
      "CPU times: user 38.6 ms, sys: 13.8 ms, total: 52.5 ms\n",
      "Wall time: 170 ms\n"
     ]
    },
    {
     "data": {
      "text/plain": [
       "array([[15, 22, 24, 29, 29],\n",
       "       [25, 26, 27, 26, 31],\n",
       "       [31, 24, 18, 15, 34],\n",
       "       [27, 29, 17, 31, 21],\n",
       "       [27, 28, 38, 28, 18],\n",
       "       [28, 31, 33, 22, 20],\n",
       "       [29, 24, 33, 20, 20],\n",
       "       [16, 28, 33, 31, 20],\n",
       "       [18, 16, 26, 23, 21],\n",
       "       [29, 29, 35, 27, 24]])"
      ]
     },
     "execution_count": 194,
     "metadata": {},
     "output_type": "execute_result"
    }
   ],
   "source": [
    "%%time\n",
    "\n",
    "bbs = []\n",
    "\n",
    "for ii in range(5):\n",
    "    \n",
    "    results = []\n",
    "    \n",
    "    for jj in range(10):\n",
    "        \n",
    "        aa = dask.delayed(Generate)()        \n",
    "        results.append(aa)\n",
    "    \n",
    "    # bb = dask.delayed(np.vstack)((results))\n",
    "    \n",
    "    bbs.append(dask.delayed(np.vstack)((results)))\n",
    "    \n",
    "sum(bbs).compute()\n",
    "\n",
    "# aa = dask.compute(sum(bbs))[0]"
   ]
  },
  {
   "cell_type": "code",
   "execution_count": 164,
   "id": "97e0b551-51af-4b70-8591-d06923b3048f",
   "metadata": {},
   "outputs": [],
   "source": [
    "# np.random.seed(132)\n",
    "bb = dask.delayed(np.random.random)((5,5))"
   ]
  },
  {
   "cell_type": "code",
   "execution_count": 191,
   "id": "e5002a11-06b0-433d-8358-6273cb0265cb",
   "metadata": {},
   "outputs": [],
   "source": [
    "client.close()"
   ]
  },
  {
   "cell_type": "code",
   "execution_count": 162,
   "id": "863417ec-3fbf-4dca-9a32-961b14979d4d",
   "metadata": {},
   "outputs": [],
   "source": [
    "aa = np.random.randint(1,10,5)\n",
    "bb = [aa, aa, aa]"
   ]
  },
  {
   "cell_type": "code",
   "execution_count": 127,
   "id": "a7de1bc0-4c35-4eef-b7cd-59e0abc24b78",
   "metadata": {},
   "outputs": [],
   "source": [
    "cc = np.vstack(bb)"
   ]
  },
  {
   "cell_type": "code",
   "execution_count": 136,
   "id": "661a9ff3-9760-41b4-b5a2-4d7ce6aee3ca",
   "metadata": {},
   "outputs": [],
   "source": [
    "List = list(np.random.rand(5))"
   ]
  },
  {
   "cell_type": "code",
   "execution_count": 137,
   "id": "c0c1d985-5120-4f18-993e-27e7b52d822b",
   "metadata": {},
   "outputs": [
    {
     "data": {
      "text/plain": [
       "[0.9431532953754311,\n",
       " 0.07525658440692351,\n",
       " 0.27687252952929386,\n",
       " 0.9795706809438219,\n",
       " 0.10663601701872794]"
      ]
     },
     "execution_count": 137,
     "metadata": {},
     "output_type": "execute_result"
    }
   ],
   "source": [
    "List"
   ]
  },
  {
   "cell_type": "code",
   "execution_count": 169,
   "id": "dfa556c2-f2a8-4636-b9fa-f1c5b090122f",
   "metadata": {},
   "outputs": [
    {
     "data": {
      "text/plain": [
       "array([[0.72828295, 0.17747756, 0.96045143, 0.12665212, 0.8773446 ],\n",
       "       [0.27987421, 0.87531544, 0.7507514 , 0.13233317, 0.12509612],\n",
       "       [0.87023371, 0.79689174, 0.86154617, 0.42230363, 0.10651125],\n",
       "       [0.20023368, 0.23911258, 0.10258091, 0.96279501, 0.01412832],\n",
       "       [0.60974902, 0.27735673, 0.80800113, 0.03465429, 0.94051416]])"
      ]
     },
     "execution_count": 169,
     "metadata": {},
     "output_type": "execute_result"
    }
   ],
   "source": [
    "aa = np.random.rand(5,5)\n",
    "aa"
   ]
  },
  {
   "cell_type": "code",
   "execution_count": null,
   "id": "4e020d7f-3969-453a-80c0-a17a3a452534",
   "metadata": {},
   "outputs": [],
   "source": []
  },
  {
   "cell_type": "code",
   "execution_count": 187,
   "id": "4c34cff2-e3e2-4675-9f0a-51a975de38b4",
   "metadata": {},
   "outputs": [
    {
     "data": {
      "text/plain": [
       "'Mon Dec 27 03:53:31 2021'"
      ]
     },
     "execution_count": 187,
     "metadata": {},
     "output_type": "execute_result"
    }
   ],
   "source": [
    "time.ctime()"
   ]
  },
  {
   "cell_type": "code",
   "execution_count": 182,
   "id": "3b064182-55f5-4064-9a14-23c5501e84f1",
   "metadata": {},
   "outputs": [
    {
     "data": {
      "text/plain": [
       "time.struct_time(tm_year=2021, tm_mon=12, tm_mday=27, tm_hour=3, tm_min=30, tm_sec=50, tm_wday=0, tm_yday=361, tm_isdst=0)"
      ]
     },
     "execution_count": 182,
     "metadata": {},
     "output_type": "execute_result"
    }
   ],
   "source": [
    "tt = time.gmtime()\n",
    "tt"
   ]
  },
  {
   "cell_type": "code",
   "execution_count": 184,
   "id": "c0441414-ea60-4206-a621-3828ff9ec1ac",
   "metadata": {},
   "outputs": [
    {
     "data": {
      "text/plain": [
       "27"
      ]
     },
     "execution_count": 184,
     "metadata": {},
     "output_type": "execute_result"
    }
   ],
   "source": [
    "tt.tm_mday"
   ]
  },
  {
   "cell_type": "code",
   "execution_count": 186,
   "id": "8e3877f0-3452-4226-917b-bbd4d35d2f2a",
   "metadata": {},
   "outputs": [
    {
     "data": {
      "text/plain": [
       "'1227_0353'"
      ]
     },
     "execution_count": 186,
     "metadata": {},
     "output_type": "execute_result"
    }
   ],
   "source": [
    "time.strftime('%m%d_%H%M')"
   ]
  },
  {
   "cell_type": "code",
   "execution_count": null,
   "id": "fac7cde5-eef7-428a-aff1-067f21cf11b9",
   "metadata": {},
   "outputs": [],
   "source": []
  },
  {
   "cell_type": "code",
   "execution_count": 3,
   "id": "f54f61d8-041d-4a0b-9e33-c7690e82f7aa",
   "metadata": {},
   "outputs": [],
   "source": [
    "def inc(x):\n",
    "    return x + 1\n",
    "\n",
    "def add(x, y):\n",
    "    return x + y"
   ]
  },
  {
   "cell_type": "code",
   "execution_count": 4,
   "id": "da4c31ff-f68c-44d8-bece-8e7056dcbd03",
   "metadata": {},
   "outputs": [],
   "source": [
    "a = client.submit(inc, 10)  # calls inc(10) in background thread or process\n",
    "b = client.submit(inc, 20)  # calls inc(20) in background thread or process"
   ]
  },
  {
   "cell_type": "code",
   "execution_count": 5,
   "id": "e82887cd-b3a7-4104-8106-4a8d1709085f",
   "metadata": {},
   "outputs": [
    {
     "data": {
      "text/plain": [
       "distributed.client.Future"
      ]
     },
     "execution_count": 5,
     "metadata": {},
     "output_type": "execute_result"
    }
   ],
   "source": [
    "type(b)"
   ]
  },
  {
   "cell_type": "code",
   "execution_count": 6,
   "id": "3b48fe6e-0b75-4dc4-b79f-e9744ae7e34a",
   "metadata": {},
   "outputs": [],
   "source": [
    "c = client.map(inc, range(10))"
   ]
  },
  {
   "cell_type": "code",
   "execution_count": 7,
   "id": "5f5c14b6-7c84-4099-abd9-aab29105dd89",
   "metadata": {},
   "outputs": [
    {
     "data": {
      "text/plain": [
       "list"
      ]
     },
     "execution_count": 7,
     "metadata": {},
     "output_type": "execute_result"
    }
   ],
   "source": [
    "type(c)"
   ]
  },
  {
   "cell_type": "code",
   "execution_count": 8,
   "id": "68c90ca7-761a-4ade-a113-81c8ed2eda60",
   "metadata": {},
   "outputs": [
    {
     "data": {
      "text/plain": [
       "21"
      ]
     },
     "execution_count": 8,
     "metadata": {},
     "output_type": "execute_result"
    }
   ],
   "source": [
    "client.gather(b)"
   ]
  },
  {
   "cell_type": "code",
   "execution_count": null,
   "id": "cb08eb6f-56e1-405a-894f-6d3acd8368bb",
   "metadata": {},
   "outputs": [],
   "source": []
  },
  {
   "cell_type": "code",
   "execution_count": 53,
   "id": "349b8723-7b37-4b6c-b944-980e8b5a5fd2",
   "metadata": {},
   "outputs": [],
   "source": [
    "aa = client.map(add, [1,2,3], y=2)"
   ]
  },
  {
   "cell_type": "code",
   "execution_count": 54,
   "id": "3eac0009-3756-4d0a-86e4-113dc64cd3e1",
   "metadata": {},
   "outputs": [
    {
     "data": {
      "text/plain": [
       "[3, 4, 5]"
      ]
     },
     "execution_count": 54,
     "metadata": {},
     "output_type": "execute_result"
    }
   ],
   "source": [
    "client.gather(aa)"
   ]
  },
  {
   "cell_type": "code",
   "execution_count": null,
   "id": "ccac6c1d-1973-4020-bf0c-e2ef10ad2bcd",
   "metadata": {},
   "outputs": [],
   "source": []
  },
  {
   "cell_type": "code",
   "execution_count": 87,
   "id": "2cd052fb-dded-46e8-98aa-70976737a6d5",
   "metadata": {},
   "outputs": [],
   "source": [
    "bb=[]\n",
    "for ii in [1,2,3]:\n",
    "    bb.append(dask.delayed(add)(ii, 2))   "
   ]
  },
  {
   "cell_type": "code",
   "execution_count": 88,
   "id": "70dc6b29-56dc-4fd9-97d7-594f1b1a2f5d",
   "metadata": {},
   "outputs": [
    {
     "data": {
      "text/plain": [
       "(3, 4, 5)"
      ]
     },
     "execution_count": 88,
     "metadata": {},
     "output_type": "execute_result"
    }
   ],
   "source": [
    "dask.compute(*bb)"
   ]
  },
  {
   "cell_type": "code",
   "execution_count": 61,
   "id": "9ae23c3a-923e-452b-b01e-889a7281b30b",
   "metadata": {},
   "outputs": [
    {
     "data": {
      "text/plain": [
       "3"
      ]
     },
     "execution_count": 61,
     "metadata": {},
     "output_type": "execute_result"
    }
   ],
   "source": [
    "len(bb)"
   ]
  },
  {
   "cell_type": "code",
   "execution_count": null,
   "id": "e380d836-7128-4bd9-a8f3-96193bfc69de",
   "metadata": {},
   "outputs": [],
   "source": []
  },
  {
   "cell_type": "code",
   "execution_count": 10,
   "id": "a517ddc7-801f-4ebe-a2b8-2907519e12cd",
   "metadata": {},
   "outputs": [],
   "source": [
    "def inc(x):\n",
    "    return x + 1\n",
    "\n",
    "def add(x, y):\n",
    "    return x + y\n",
    "\n",
    "def function(x, y):\n",
    "    return np.sin(np.sqrt(x**2 + y**2))"
   ]
  },
  {
   "cell_type": "code",
   "execution_count": 20,
   "id": "e74a4c26-7f15-40a8-bf19-b9a6048916b4",
   "metadata": {},
   "outputs": [
    {
     "data": {
      "text/html": [
       "<b>Future: function</b> <font color=\"gray\">status: </font><font color=\"black\">pending</font>, <font color=\"gray\">key: </font>function-a5cea08e91a6fa844098caa98f390f72"
      ],
      "text/plain": [
       "<Future: pending, key: function-a5cea08e91a6fa844098caa98f390f72>"
      ]
     },
     "execution_count": 20,
     "metadata": {},
     "output_type": "execute_result"
    }
   ],
   "source": [
    "client.submit(function, 1, 3)\n",
    "    "
   ]
  },
  {
   "cell_type": "code",
   "execution_count": 5,
   "id": "44acb1d0-2dcb-45ac-b597-c5dc7dfba489",
   "metadata": {},
   "outputs": [
    {
     "ename": "NameError",
     "evalue": "name 'inc' is not defined",
     "output_type": "error",
     "traceback": [
      "\u001b[0;31m---------------------------------------------------------------------------\u001b[0m",
      "\u001b[0;31mNameError\u001b[0m                                 Traceback (most recent call last)",
      "\u001b[0;32m<ipython-input-5-f8a58d05128a>\u001b[0m in \u001b[0;36m<module>\u001b[0;34m\u001b[0m\n\u001b[0;32m----> 1\u001b[0;31m \u001b[0mL\u001b[0m \u001b[0;34m=\u001b[0m \u001b[0mclient\u001b[0m\u001b[0;34m.\u001b[0m\u001b[0mmap\u001b[0m\u001b[0;34m(\u001b[0m\u001b[0minc\u001b[0m\u001b[0;34m,\u001b[0m \u001b[0mrange\u001b[0m\u001b[0;34m(\u001b[0m\u001b[0;36m10\u001b[0m\u001b[0;34m)\u001b[0m\u001b[0;34m,\u001b[0m \u001b[0mrange\u001b[0m\u001b[0;34m(\u001b[0m\u001b[0;36m10\u001b[0m\u001b[0;34m,\u001b[0m \u001b[0;36m20\u001b[0m\u001b[0;34m)\u001b[0m\u001b[0;34m)\u001b[0m\u001b[0;34m\u001b[0m\u001b[0;34m\u001b[0m\u001b[0m\n\u001b[0m",
      "\u001b[0;31mNameError\u001b[0m: name 'inc' is not defined"
     ]
    }
   ],
   "source": [
    "L = client.map(inc, range(10), range(10, 20))"
   ]
  },
  {
   "cell_type": "code",
   "execution_count": 62,
   "id": "bed3bf1a-cc57-4d9c-bc1a-07aec270af57",
   "metadata": {},
   "outputs": [],
   "source": [
    "xx = np.arange(0,5,0.1)\n",
    "yy = np.arange(0,10,0.1)"
   ]
  },
  {
   "cell_type": "code",
   "execution_count": 63,
   "id": "8c4326c7-608f-4e6c-b28e-db10acef9aac",
   "metadata": {},
   "outputs": [],
   "source": [
    "MM = np.meshgrid(xx, yy)"
   ]
  },
  {
   "cell_type": "code",
   "execution_count": 64,
   "id": "6dcfd923-2bee-4826-8b78-24e503b1ef10",
   "metadata": {},
   "outputs": [
    {
     "data": {
      "text/plain": [
       "array([[0. , 0.1, 0.2, ..., 4.7, 4.8, 4.9],\n",
       "       [0. , 0.1, 0.2, ..., 4.7, 4.8, 4.9],\n",
       "       [0. , 0.1, 0.2, ..., 4.7, 4.8, 4.9],\n",
       "       ...,\n",
       "       [0. , 0.1, 0.2, ..., 4.7, 4.8, 4.9],\n",
       "       [0. , 0.1, 0.2, ..., 4.7, 4.8, 4.9],\n",
       "       [0. , 0.1, 0.2, ..., 4.7, 4.8, 4.9]])"
      ]
     },
     "execution_count": 64,
     "metadata": {},
     "output_type": "execute_result"
    }
   ],
   "source": [
    "MM[0]"
   ]
  },
  {
   "cell_type": "code",
   "execution_count": 65,
   "id": "94839e06-e4ec-453a-8e7e-f70a3c6c1cef",
   "metadata": {},
   "outputs": [
    {
     "data": {
      "text/plain": [
       "array([[0. , 0. , 0. , ..., 0. , 0. , 0. ],\n",
       "       [0.1, 0.1, 0.1, ..., 0.1, 0.1, 0.1],\n",
       "       [0.2, 0.2, 0.2, ..., 0.2, 0.2, 0.2],\n",
       "       ...,\n",
       "       [9.7, 9.7, 9.7, ..., 9.7, 9.7, 9.7],\n",
       "       [9.8, 9.8, 9.8, ..., 9.8, 9.8, 9.8],\n",
       "       [9.9, 9.9, 9.9, ..., 9.9, 9.9, 9.9]])"
      ]
     },
     "execution_count": 65,
     "metadata": {},
     "output_type": "execute_result"
    }
   ],
   "source": [
    "MM[1]"
   ]
  },
  {
   "cell_type": "code",
   "execution_count": 66,
   "id": "60828632-bfad-4798-80a3-a5f2654b0dbf",
   "metadata": {},
   "outputs": [
    {
     "data": {
      "text/plain": [
       "array([0. , 0.1, 0.2, ..., 4.7, 4.8, 4.9])"
      ]
     },
     "execution_count": 66,
     "metadata": {},
     "output_type": "execute_result"
    }
   ],
   "source": [
    "MM[0].flatten()"
   ]
  },
  {
   "cell_type": "code",
   "execution_count": 67,
   "id": "50dc91fc-1cf2-49ea-9444-bcc6d93aaf18",
   "metadata": {},
   "outputs": [
    {
     "data": {
      "text/plain": [
       "array([0. , 0. , 0. , ..., 9.9, 9.9, 9.9])"
      ]
     },
     "execution_count": 67,
     "metadata": {},
     "output_type": "execute_result"
    }
   ],
   "source": [
    "MM[1].flatten()"
   ]
  },
  {
   "cell_type": "code",
   "execution_count": 68,
   "id": "2f93816f-31cf-4ea7-9bee-d7969620ecf4",
   "metadata": {},
   "outputs": [],
   "source": [
    "future = client.map(function, MM[0].flatten(), MM[1].flatten())"
   ]
  },
  {
   "cell_type": "code",
   "execution_count": 69,
   "id": "9e900cc7-35d3-433b-b019-bdfe274ac7df",
   "metadata": {},
   "outputs": [],
   "source": [
    "RR = client.gather(future)"
   ]
  },
  {
   "cell_type": "code",
   "execution_count": 70,
   "id": "12063446-0974-45db-b45d-06442f8c61c8",
   "metadata": {},
   "outputs": [],
   "source": [
    "RR = np.array(RR).reshape(MM[0].shape)"
   ]
  },
  {
   "cell_type": "code",
   "execution_count": 71,
   "id": "2903b594-4298-404a-879c-08747efefe77",
   "metadata": {},
   "outputs": [
    {
     "data": {
      "text/plain": [
       "array([[0.0000e+00, 1.0000e-02, 4.0000e-02, ..., 2.2090e+01, 2.3040e+01,\n",
       "        2.4010e+01],\n",
       "       [1.0000e-02, 2.0000e-02, 5.0000e-02, ..., 2.2100e+01, 2.3050e+01,\n",
       "        2.4020e+01],\n",
       "       [4.0000e-02, 5.0000e-02, 8.0000e-02, ..., 2.2130e+01, 2.3080e+01,\n",
       "        2.4050e+01],\n",
       "       ...,\n",
       "       [9.4090e+01, 9.4100e+01, 9.4130e+01, ..., 1.1618e+02, 1.1713e+02,\n",
       "        1.1810e+02],\n",
       "       [9.6040e+01, 9.6050e+01, 9.6080e+01, ..., 1.1813e+02, 1.1908e+02,\n",
       "        1.2005e+02],\n",
       "       [9.8010e+01, 9.8020e+01, 9.8050e+01, ..., 1.2010e+02, 1.2105e+02,\n",
       "        1.2202e+02]])"
      ]
     },
     "execution_count": 71,
     "metadata": {},
     "output_type": "execute_result"
    }
   ],
   "source": [
    "RR"
   ]
  },
  {
   "cell_type": "code",
   "execution_count": 72,
   "id": "064fcd13-c1d7-4800-a556-8af302728a07",
   "metadata": {},
   "outputs": [
    {
     "data": {
      "text/plain": [
       "(100, 50)"
      ]
     },
     "execution_count": 72,
     "metadata": {},
     "output_type": "execute_result"
    }
   ],
   "source": [
    "RR.shape"
   ]
  },
  {
   "cell_type": "code",
   "execution_count": 73,
   "id": "f21fc468-a39d-4a11-9abd-98166cac59e4",
   "metadata": {},
   "outputs": [
    {
     "data": {
      "text/plain": [
       "<mpl_toolkits.mplot3d.art3d.Poly3DCollection at 0x2aab07c25280>"
      ]
     },
     "execution_count": 73,
     "metadata": {},
     "output_type": "execute_result"
    },
    {
     "data": {
      "image/png": "[encoded data removed]",
      "text/plain": [
       "<Figure size 432x288 with 1 Axes>"
      ]
     },
     "metadata": {
      "needs_background": "light"
     },
     "output_type": "display_data"
    }
   ],
   "source": [
    "fig, ax = plt.subplots(subplot_kw={\"projection\": \"3d\"})\n",
    "ax.plot_surface(MM[0],MM[1], RR)\n"
   ]
  },
  {
   "cell_type": "code",
   "execution_count": 75,
   "id": "44b01ab7-30a5-4615-8ff7-d05f88405df5",
   "metadata": {},
   "outputs": [
    {
     "data": {
      "text/plain": [
       "<mpl_toolkits.mplot3d.art3d.Poly3DCollection at 0x2aab16199c10>"
      ]
     },
     "execution_count": 75,
     "metadata": {},
     "output_type": "execute_result"
    },
    {
     "data": {
      "image/png": "[encoded data removed]",
      "text/plain": [
       "<Figure size 432x288 with 1 Axes>"
      ]
     },
     "metadata": {
      "needs_background": "light"
     },
     "output_type": "display_data"
    }
   ],
   "source": [
    "fig, ax = plt.subplots(subplot_kw={\"projection\": \"3d\"})\n",
    "ax.plot_surface(MM[0],MM[1], MM[0]**2+MM[1]**2)\n"
   ]
  },
  {
   "cell_type": "code",
   "execution_count": null,
   "id": "00655c57-6737-4c9d-a741-d965f4d103da",
   "metadata": {},
   "outputs": [],
   "source": []
  },
  {
   "cell_type": "code",
   "execution_count": null,
   "id": "c4c5edab-23be-46a7-923d-6e961df96924",
   "metadata": {},
   "outputs": [],
   "source": []
  },
  {
   "cell_type": "code",
   "execution_count": 57,
   "id": "deb7c9bf-802d-4a0a-a483-92cc5ada34e8",
   "metadata": {},
   "outputs": [],
   "source": [
    "from matplotlib import cm\n",
    "from matplotlib.ticker import LinearLocator\n"
   ]
  },
  {
   "cell_type": "code",
   "execution_count": 58,
   "id": "9f6dbec8-3df6-4193-93f6-dff649b58f68",
   "metadata": {},
   "outputs": [
    {
     "data": {
      "image/png": "[encoded data removed]",
      "text/plain": [
       "<Figure size 432x288 with 2 Axes>"
      ]
     },
     "metadata": {
      "needs_background": "light"
     },
     "output_type": "display_data"
    }
   ],
   "source": [
    "fig, ax = plt.subplots(subplot_kw={\"projection\": \"3d\"})\n",
    "\n",
    "# Make data.\n",
    "X = np.arange(-5, 5, 0.25)\n",
    "Y = np.arange(-5, 5, 0.25)\n",
    "X, Y = np.meshgrid(X, Y)\n",
    "R = np.sqrt(X**2 + Y**2)\n",
    "Z = np.sin(R)\n",
    "\n",
    "# Plot the surface.\n",
    "surf = ax.plot_surface(X, Y, Z, cmap=cm.coolwarm,\n",
    "                       linewidth=0, antialiased=False)\n",
    "\n",
    "# Customize the z axis.\n",
    "ax.set_zlim(-1.01, 1.01)\n",
    "ax.zaxis.set_major_locator(LinearLocator(10))\n",
    "# A StrMethodFormatter is used automatically\n",
    "ax.zaxis.set_major_formatter('{x:.02f}')\n",
    "\n",
    "# Add a color bar which maps values to colors.\n",
    "fig.colorbar(surf, shrink=0.5, aspect=5)\n",
    "\n",
    "plt.show()"
   ]
  },
  {
   "cell_type": "code",
   "execution_count": 60,
   "id": "c1730fec-4583-4775-87bb-70b0c34ddf4f",
   "metadata": {},
   "outputs": [
    {
     "data": {
      "text/plain": [
       "(40, 40)"
      ]
     },
     "execution_count": 60,
     "metadata": {},
     "output_type": "execute_result"
    }
   ],
   "source": [
    "X.shape"
   ]
  },
  {
   "cell_type": "code",
   "execution_count": null,
   "id": "1adc42cc-5f39-46c9-820c-cd71e0c7e383",
   "metadata": {},
   "outputs": [],
   "source": []
  },
  {
   "cell_type": "code",
   "execution_count": null,
   "id": "4a9fbb12-00a2-4183-b35e-39fa36288b24",
   "metadata": {},
   "outputs": [],
   "source": []
  },
  {
   "cell_type": "code",
   "execution_count": null,
   "id": "c9c7283b-0ed6-49b9-befa-7563919cc75f",
   "metadata": {},
   "outputs": [],
   "source": []
  },
  {
   "cell_type": "code",
   "execution_count": null,
   "id": "3af2b058-2c8d-4983-ace1-3c86e04502e1",
   "metadata": {},
   "outputs": [],
   "source": []
  },
  {
   "cell_type": "code",
   "execution_count": null,
   "id": "790ca3aa-7e08-4f0c-890f-753f001edf21",
   "metadata": {},
   "outputs": [],
   "source": []
  },
  {
   "cell_type": "code",
   "execution_count": null,
   "id": "66f5c54e-21ef-4e75-a920-0b6d46302061",
   "metadata": {},
   "outputs": [],
   "source": []
  },
  {
   "cell_type": "code",
   "execution_count": null,
   "id": "2689fed9-d51b-46c2-9370-4784f8adda82",
   "metadata": {},
   "outputs": [],
   "source": []
  },
  {
   "cell_type": "code",
   "execution_count": null,
   "id": "c71016df-f8c0-458c-a7fe-165920dceba8",
   "metadata": {},
   "outputs": [],
   "source": []
  },
  {
   "cell_type": "code",
   "execution_count": null,
   "id": "ed29ea86-7c92-49cd-bb49-0cc12009f177",
   "metadata": {},
   "outputs": [],
   "source": []
  },
  {
   "cell_type": "code",
   "execution_count": null,
   "id": "072729d6-f3a8-4863-8b2c-7c7f6d5a8498",
   "metadata": {},
   "outputs": [],
   "source": []
  },
  {
   "cell_type": "code",
   "execution_count": 16,
   "id": "9118d512-f20a-4621-9a32-7e920f95753d",
   "metadata": {},
   "outputs": [],
   "source": [
    "import time\n",
    "import random\n",
    "\n",
    "def costly_simulation(list_param):\n",
    "    time.sleep(random.random())\n",
    "    return sum(list_param)"
   ]
  },
  {
   "cell_type": "code",
   "execution_count": null,
   "id": "ac5bc08d-d481-4021-92b1-8a8ed12fce2a",
   "metadata": {},
   "outputs": [],
   "source": []
  },
  {
   "cell_type": "code",
   "execution_count": 17,
   "id": "4fc353b7-32b7-4bb1-8c74-56a42ebc2fc7",
   "metadata": {},
   "outputs": [],
   "source": [
    "import dask\n",
    "lazy_results = []"
   ]
  },
  {
   "cell_type": "code",
   "execution_count": 19,
   "id": "0f5a4aca-1aaa-4b2d-970f-0033d2fe0077",
   "metadata": {},
   "outputs": [
    {
     "data": {
      "text/html": [
       "<div>\n",
       "<style scoped>\n",
       "    .dataframe tbody tr th:only-of-type {\n",
       "        vertical-align: middle;\n",
       "    }\n",
       "\n",
       "    .dataframe tbody tr th {\n",
       "        vertical-align: top;\n",
       "    }\n",
       "\n",
       "    .dataframe thead th {\n",
       "        text-align: right;\n",
       "    }\n",
       "</style>\n",
       "<table border=\"1\" class=\"dataframe\">\n",
       "  <thead>\n",
       "    <tr style=\"text-align: right;\">\n",
       "      <th></th>\n",
       "      <th>param_a</th>\n",
       "      <th>param_b</th>\n",
       "      <th>param_c</th>\n",
       "      <th>param_d</th>\n",
       "    </tr>\n",
       "  </thead>\n",
       "  <tbody>\n",
       "    <tr>\n",
       "      <th>0</th>\n",
       "      <td>0.727540</td>\n",
       "      <td>0.533437</td>\n",
       "      <td>0.489232</td>\n",
       "      <td>0.948024</td>\n",
       "    </tr>\n",
       "    <tr>\n",
       "      <th>1</th>\n",
       "      <td>0.958734</td>\n",
       "      <td>0.585661</td>\n",
       "      <td>0.085179</td>\n",
       "      <td>0.621185</td>\n",
       "    </tr>\n",
       "    <tr>\n",
       "      <th>2</th>\n",
       "      <td>0.615474</td>\n",
       "      <td>0.637609</td>\n",
       "      <td>0.425324</td>\n",
       "      <td>0.208987</td>\n",
       "    </tr>\n",
       "    <tr>\n",
       "      <th>3</th>\n",
       "      <td>0.057558</td>\n",
       "      <td>0.692922</td>\n",
       "      <td>0.048415</td>\n",
       "      <td>0.966129</td>\n",
       "    </tr>\n",
       "    <tr>\n",
       "      <th>4</th>\n",
       "      <td>0.070456</td>\n",
       "      <td>0.440332</td>\n",
       "      <td>0.946259</td>\n",
       "      <td>0.823255</td>\n",
       "    </tr>\n",
       "  </tbody>\n",
       "</table>\n",
       "</div>"
      ],
      "text/plain": [
       "    param_a   param_b   param_c   param_d\n",
       "0  0.727540  0.533437  0.489232  0.948024\n",
       "1  0.958734  0.585661  0.085179  0.621185\n",
       "2  0.615474  0.637609  0.425324  0.208987\n",
       "3  0.057558  0.692922  0.048415  0.966129\n",
       "4  0.070456  0.440332  0.946259  0.823255"
      ]
     },
     "execution_count": 19,
     "metadata": {},
     "output_type": "execute_result"
    }
   ],
   "source": [
    "import pandas as pd\n",
    "import numpy as np\n",
    "\n",
    "input_params = pd.DataFrame(np.random.random(size=(500, 4)),\n",
    "                            columns=['param_a', 'param_b', 'param_c', 'param_d'])\n",
    "input_params.head()"
   ]
  },
  {
   "cell_type": "code",
   "execution_count": 20,
   "id": "8ae7c92b-255e-4a4c-8971-d363351c7418",
   "metadata": {},
   "outputs": [
    {
     "name": "stdout",
     "output_type": "stream",
     "text": [
      "CPU times: user 3.16 ms, sys: 29 µs, total: 3.18 ms\n",
      "Wall time: 2.16 ms\n"
     ]
    }
   ],
   "source": [
    "%%time\n",
    "\n",
    "for parameters in input_params.values[:10]:\n",
    "    lazy_result = dask.delayed(costly_simulation)(parameters)\n",
    "    lazy_results.append(lazy_result)"
   ]
  },
  {
   "cell_type": "code",
   "execution_count": 22,
   "id": "16d69753-797b-4f0e-92a4-3c0a8b879dbe",
   "metadata": {},
   "outputs": [
    {
     "data": {
      "text/plain": [
       "Delayed('costly_simulation-72b8aba5-f078-4a24-bee9-9c3b3efc45ae')"
      ]
     },
     "execution_count": 22,
     "metadata": {},
     "output_type": "execute_result"
    }
   ],
   "source": [
    "lazy_results[0]"
   ]
  },
  {
   "cell_type": "code",
   "execution_count": 21,
   "id": "ee2e621b-a625-4e28-a1a1-c7aaaf1a35f5",
   "metadata": {},
   "outputs": [
    {
     "ename": "ImportError",
     "evalue": "cannot import name 'dumps_msgpack' from 'distributed.protocol.core' (/usr/common/software/python/3.8-anaconda-2021.05/lib/python3.8/site-packages/distributed/protocol/core.py)",
     "output_type": "error",
     "traceback": [
      "\u001b[0;31m---------------------------------------------------------------------------\u001b[0m",
      "\u001b[0;31mImportError\u001b[0m                               Traceback (most recent call last)",
      "\u001b[0;32m<timed eval>\u001b[0m in \u001b[0;36m<module>\u001b[0;34m\u001b[0m\n",
      "\u001b[0;32m/usr/common/software/python/3.8-anaconda-2021.05/lib/python3.8/site-packages/dask/base.py\u001b[0m in \u001b[0;36mcompute\u001b[0;34m(*args, **kwargs)\u001b[0m\n\u001b[1;32m    564\u001b[0m         \u001b[0mpostcomputes\u001b[0m\u001b[0;34m.\u001b[0m\u001b[0mappend\u001b[0m\u001b[0;34m(\u001b[0m\u001b[0mx\u001b[0m\u001b[0;34m.\u001b[0m\u001b[0m__dask_postcompute__\u001b[0m\u001b[0;34m(\u001b[0m\u001b[0;34m)\u001b[0m\u001b[0;34m)\u001b[0m\u001b[0;34m\u001b[0m\u001b[0;34m\u001b[0m\u001b[0m\n\u001b[1;32m    565\u001b[0m \u001b[0;34m\u001b[0m\u001b[0m\n\u001b[0;32m--> 566\u001b[0;31m     \u001b[0mresults\u001b[0m \u001b[0;34m=\u001b[0m \u001b[0mschedule\u001b[0m\u001b[0;34m(\u001b[0m\u001b[0mdsk\u001b[0m\u001b[0;34m,\u001b[0m \u001b[0mkeys\u001b[0m\u001b[0;34m,\u001b[0m \u001b[0;34m**\u001b[0m\u001b[0mkwargs\u001b[0m\u001b[0;34m)\u001b[0m\u001b[0;34m\u001b[0m\u001b[0;34m\u001b[0m\u001b[0m\n\u001b[0m\u001b[1;32m    567\u001b[0m     \u001b[0;32mreturn\u001b[0m \u001b[0mrepack\u001b[0m\u001b[0;34m(\u001b[0m\u001b[0;34m[\u001b[0m\u001b[0mf\u001b[0m\u001b[0;34m(\u001b[0m\u001b[0mr\u001b[0m\u001b[0;34m,\u001b[0m \u001b[0;34m*\u001b[0m\u001b[0ma\u001b[0m\u001b[0;34m)\u001b[0m \u001b[0;32mfor\u001b[0m \u001b[0mr\u001b[0m\u001b[0;34m,\u001b[0m \u001b[0;34m(\u001b[0m\u001b[0mf\u001b[0m\u001b[0;34m,\u001b[0m \u001b[0ma\u001b[0m\u001b[0;34m)\u001b[0m \u001b[0;32min\u001b[0m \u001b[0mzip\u001b[0m\u001b[0;34m(\u001b[0m\u001b[0mresults\u001b[0m\u001b[0;34m,\u001b[0m \u001b[0mpostcomputes\u001b[0m\u001b[0;34m)\u001b[0m\u001b[0;34m]\u001b[0m\u001b[0;34m)\u001b[0m\u001b[0;34m\u001b[0m\u001b[0;34m\u001b[0m\u001b[0m\n\u001b[1;32m    568\u001b[0m \u001b[0;34m\u001b[0m\u001b[0m\n",
      "\u001b[0;32m/usr/common/software/python/3.8-anaconda-2021.05/lib/python3.8/site-packages/distributed/client.py\u001b[0m in \u001b[0;36mget\u001b[0;34m(self, dsk, keys, workers, allow_other_workers, resources, sync, asynchronous, direct, retries, priority, fifo_timeout, actors, **kwargs)\u001b[0m\n\u001b[1;32m   2644\u001b[0m         \u001b[0mClient\u001b[0m\u001b[0;34m.\u001b[0m\u001b[0mcompute\u001b[0m \u001b[0;34m:\u001b[0m \u001b[0mCompute\u001b[0m \u001b[0masynchronous\u001b[0m \u001b[0mcollections\u001b[0m\u001b[0;34m\u001b[0m\u001b[0;34m\u001b[0m\u001b[0m\n\u001b[1;32m   2645\u001b[0m         \"\"\"\n\u001b[0;32m-> 2646\u001b[0;31m         futures = self._graph_to_futures(\n\u001b[0m\u001b[1;32m   2647\u001b[0m             \u001b[0mdsk\u001b[0m\u001b[0;34m,\u001b[0m\u001b[0;34m\u001b[0m\u001b[0;34m\u001b[0m\u001b[0m\n\u001b[1;32m   2648\u001b[0m             \u001b[0mkeys\u001b[0m\u001b[0;34m=\u001b[0m\u001b[0mset\u001b[0m\u001b[0;34m(\u001b[0m\u001b[0mflatten\u001b[0m\u001b[0;34m(\u001b[0m\u001b[0;34m[\u001b[0m\u001b[0mkeys\u001b[0m\u001b[0;34m]\u001b[0m\u001b[0;34m)\u001b[0m\u001b[0;34m)\u001b[0m\u001b[0;34m,\u001b[0m\u001b[0;34m\u001b[0m\u001b[0;34m\u001b[0m\u001b[0m\n",
      "\u001b[0;32m/usr/common/software/python/3.8-anaconda-2021.05/lib/python3.8/site-packages/distributed/client.py\u001b[0m in \u001b[0;36m_graph_to_futures\u001b[0;34m(self, dsk, keys, workers, allow_other_workers, priority, user_priority, resources, retries, fifo_timeout, actors)\u001b[0m\n\u001b[1;32m   2552\u001b[0m                 \u001b[0mdsk\u001b[0m \u001b[0;34m=\u001b[0m \u001b[0mHighLevelGraph\u001b[0m\u001b[0;34m.\u001b[0m\u001b[0mfrom_collections\u001b[0m\u001b[0;34m(\u001b[0m\u001b[0mid\u001b[0m\u001b[0;34m(\u001b[0m\u001b[0mdsk\u001b[0m\u001b[0;34m)\u001b[0m\u001b[0;34m,\u001b[0m \u001b[0mdsk\u001b[0m\u001b[0;34m,\u001b[0m \u001b[0mdependencies\u001b[0m\u001b[0;34m=\u001b[0m\u001b[0;34m(\u001b[0m\u001b[0;34m)\u001b[0m\u001b[0;34m)\u001b[0m\u001b[0;34m\u001b[0m\u001b[0;34m\u001b[0m\u001b[0m\n\u001b[1;32m   2553\u001b[0m \u001b[0;34m\u001b[0m\u001b[0m\n\u001b[0;32m-> 2554\u001b[0;31m             \u001b[0mdsk\u001b[0m \u001b[0;34m=\u001b[0m \u001b[0mdsk\u001b[0m\u001b[0;34m.\u001b[0m\u001b[0m__dask_distributed_pack__\u001b[0m\u001b[0;34m(\u001b[0m\u001b[0mself\u001b[0m\u001b[0;34m,\u001b[0m \u001b[0mkeyset\u001b[0m\u001b[0;34m)\u001b[0m\u001b[0;34m\u001b[0m\u001b[0;34m\u001b[0m\u001b[0m\n\u001b[0m\u001b[1;32m   2555\u001b[0m \u001b[0;34m\u001b[0m\u001b[0m\n\u001b[1;32m   2556\u001b[0m             \u001b[0mannotations\u001b[0m \u001b[0;34m=\u001b[0m \u001b[0;34m{\u001b[0m\u001b[0;34m}\u001b[0m\u001b[0;34m\u001b[0m\u001b[0;34m\u001b[0m\u001b[0m\n",
      "\u001b[0;32m/usr/common/software/python/3.8-anaconda-2021.05/lib/python3.8/site-packages/dask/highlevelgraph.py\u001b[0m in \u001b[0;36m__dask_distributed_pack__\u001b[0;34m(self, client, client_keys)\u001b[0m\n\u001b[1;32m    944\u001b[0m             \u001b[0mPacked\u001b[0m \u001b[0mhigh\u001b[0m \u001b[0mlevel\u001b[0m \u001b[0mgraph\u001b[0m \u001b[0mserialized\u001b[0m \u001b[0mby\u001b[0m \u001b[0mdumps_msgpack\u001b[0m\u001b[0;34m\u001b[0m\u001b[0;34m\u001b[0m\u001b[0m\n\u001b[1;32m    945\u001b[0m         \"\"\"\n\u001b[0;32m--> 946\u001b[0;31m         \u001b[0;32mfrom\u001b[0m \u001b[0mdistributed\u001b[0m\u001b[0;34m.\u001b[0m\u001b[0mprotocol\u001b[0m\u001b[0;34m.\u001b[0m\u001b[0mcore\u001b[0m \u001b[0;32mimport\u001b[0m \u001b[0mdumps_msgpack\u001b[0m\u001b[0;34m\u001b[0m\u001b[0;34m\u001b[0m\u001b[0m\n\u001b[0m\u001b[1;32m    947\u001b[0m \u001b[0;34m\u001b[0m\u001b[0m\n\u001b[1;32m    948\u001b[0m         \u001b[0;31m# Dump each layer (in topological order)\u001b[0m\u001b[0;34m\u001b[0m\u001b[0;34m\u001b[0m\u001b[0;34m\u001b[0m\u001b[0m\n",
      "\u001b[0;31mImportError\u001b[0m: cannot import name 'dumps_msgpack' from 'distributed.protocol.core' (/usr/common/software/python/3.8-anaconda-2021.05/lib/python3.8/site-packages/distributed/protocol/core.py)"
     ]
    }
   ],
   "source": [
    "%time dask.compute(*lazy_results)"
   ]
  },
  {
   "cell_type": "code",
   "execution_count": null,
   "id": "f8bf79a3-a1d3-474d-8ecb-6d62510eea11",
   "metadata": {},
   "outputs": [],
   "source": []
  },
  {
   "cell_type": "code",
   "execution_count": null,
   "id": "c89e00a2-c353-4cff-9e84-469f4980cf18",
   "metadata": {},
   "outputs": [],
   "source": []
  },
  {
   "cell_type": "code",
   "execution_count": null,
   "id": "f1f6be6f-80f2-4635-82b6-7c302fab97eb",
   "metadata": {},
   "outputs": [],
   "source": []
  },
  {
   "cell_type": "code",
   "execution_count": null,
   "id": "e9fa790d-936f-4264-9480-4656a6d38c74",
   "metadata": {},
   "outputs": [],
   "source": []
  },
  {
   "cell_type": "code",
   "execution_count": null,
   "id": "8417f21f-b3a2-417f-8f7f-50fee0196950",
   "metadata": {},
   "outputs": [],
   "source": []
  },
  {
   "cell_type": "code",
   "execution_count": null,
   "id": "946420ab-69c2-4961-919e-42c3fc337f13",
   "metadata": {},
   "outputs": [],
   "source": []
  },
  {
   "cell_type": "code",
   "execution_count": null,
   "id": "e7b70c42-b8b8-43a9-b660-939e47856111",
   "metadata": {},
   "outputs": [],
   "source": []
  },
  {
   "cell_type": "code",
   "execution_count": null,
   "id": "350b5cc4-9092-420e-b7ae-b442649f0f5d",
   "metadata": {},
   "outputs": [],
   "source": []
  },
  {
   "cell_type": "code",
   "execution_count": null,
   "id": "badf46ea-cd9f-4ce4-81e8-751eb79589d1",
   "metadata": {},
   "outputs": [],
   "source": []
  },
  {
   "cell_type": "code",
   "execution_count": null,
   "id": "34966811-8dea-4abc-839c-2e2e85607778",
   "metadata": {},
   "outputs": [],
   "source": []
  },
  {
   "cell_type": "code",
   "execution_count": null,
   "id": "c8ed1a0f-d558-4406-8251-83fb91077fdc",
   "metadata": {},
   "outputs": [],
   "source": []
  },
  {
   "cell_type": "code",
   "execution_count": null,
   "id": "1d45f116-42df-4c9d-8d7e-7a41de2428ba",
   "metadata": {},
   "outputs": [],
   "source": []
  },
  {
   "cell_type": "code",
   "execution_count": null,
   "id": "d4e0be2b-0a25-4d04-a235-7daff93f2859",
   "metadata": {},
   "outputs": [],
   "source": []
  },
  {
   "cell_type": "code",
   "execution_count": null,
   "id": "0c5631d5-eb17-40e1-97d1-e432b951e28b",
   "metadata": {},
   "outputs": [],
   "source": []
  },
  {
   "cell_type": "code",
   "execution_count": null,
   "id": "7fa90432-206f-4f8c-9785-68a00a3e48ee",
   "metadata": {},
   "outputs": [],
   "source": []
  },
  {
   "cell_type": "code",
   "execution_count": null,
   "id": "19e5f08e-22f4-4399-a501-a4be4e04cb32",
   "metadata": {},
   "outputs": [],
   "source": []
  },
  {
   "cell_type": "code",
   "execution_count": 11,
   "id": "e395e9ba-42ab-481f-8c07-70c130648227",
   "metadata": {},
   "outputs": [],
   "source": [
    "#Read in raw data Interp_load and TimeRange_load.\n",
    "#Interp_load is a dictionary with 6 keys (bands in our case), \n",
    "#the item of each of them is a list that contains 40000 functions interpolated with scipy interp1d.\n",
    "#TimeRange_load tells their domains of definition.\n",
    "\n",
    "FilePath = '/global/homes/l/lianming/Presto-Color-2/data/2Day_Interp/SNIa-SALT2_Interp.pkl'\n",
    "\n",
    "with open(FilePath, 'rb') as f:\n",
    "    Interp_load = pickle.load(f)\n",
    "    TimeRange_load = pickle.load(f)  "
   ]
  },
  {
   "cell_type": "code",
   "execution_count": 12,
   "id": "d3bf30c6-850e-4ac3-aba6-23883792324b",
   "metadata": {},
   "outputs": [
    {
     "data": {
      "text/plain": [
       "<scipy.interpolate.interpolate.interp1d at 0x2aaaff6f0f90>"
      ]
     },
     "execution_count": 12,
     "metadata": {},
     "output_type": "execute_result"
    }
   ],
   "source": [
    "Interp_load['u'][0]"
   ]
  },
  {
   "cell_type": "code",
   "execution_count": 13,
   "id": "977a142c-8345-4ec0-92a6-03c42365facf",
   "metadata": {},
   "outputs": [],
   "source": [
    "Interp_load = {key: Interp_load[key][0:10] for key in Interp_load.keys()}\n",
    "TimeRange_load = {key: TimeRange_load[key][0:10] for key in TimeRange_load.keys()}"
   ]
  },
  {
   "cell_type": "code",
   "execution_count": null,
   "id": "b880cd99-b0cf-4e1e-b4d1-47dfd0fa2880",
   "metadata": {},
   "outputs": [],
   "source": []
  },
  {
   "cell_type": "code",
   "execution_count": 9,
   "id": "335cb113-269d-472a-8cd8-1f34a8e3d195",
   "metadata": {},
   "outputs": [
    {
     "ename": "NameError",
     "evalue": "name 'Interp_load' is not defined",
     "output_type": "error",
     "traceback": [
      "\u001b[0;31m---------------------------------------------------------------------------\u001b[0m",
      "\u001b[0;31mNameError\u001b[0m                                 Traceback (most recent call last)",
      "\u001b[0;32m<ipython-input-9-da1df3376e11>\u001b[0m in \u001b[0;36m<module>\u001b[0;34m\u001b[0m\n\u001b[1;32m      1\u001b[0m def CalculateMap(dT1, dT2=300, \n\u001b[0;32m----> 2\u001b[0;31m                  \u001b[0mInterp_load\u001b[0m\u001b[0;34m=\u001b[0m\u001b[0mInterp_load\u001b[0m\u001b[0;34m,\u001b[0m \u001b[0mTimeRange_load\u001b[0m\u001b[0;34m=\u001b[0m\u001b[0mTimeRange_load\u001b[0m\u001b[0;34m,\u001b[0m\u001b[0;34m\u001b[0m\u001b[0;34m\u001b[0m\u001b[0m\n\u001b[0m\u001b[1;32m      3\u001b[0m                  \u001b[0mBand1\u001b[0m\u001b[0;34m=\u001b[0m\u001b[0;34m'g'\u001b[0m\u001b[0;34m,\u001b[0m \u001b[0mBand2\u001b[0m\u001b[0;34m=\u001b[0m\u001b[0;34m'i'\u001b[0m\u001b[0;34m,\u001b[0m\u001b[0;34m\u001b[0m\u001b[0;34m\u001b[0m\u001b[0m\n\u001b[1;32m      4\u001b[0m                  PointsPDay = 1, Thr=27.5, ObjNo=10):\n\u001b[1;32m      5\u001b[0m \u001b[0;34m\u001b[0m\u001b[0m\n",
      "\u001b[0;31mNameError\u001b[0m: name 'Interp_load' is not defined"
     ]
    }
   ],
   "source": [
    "def CalculateMap(dT1, dT2=300, \n",
    "                 Interp_load=Interp_load, TimeRange_load=TimeRange_load, \n",
    "                 Band1='g', Band2='i',  \n",
    "                 PointsPDay = 1, Thr=27.5, ObjNo=10):\n",
    "        \n",
    "    dMag = []\n",
    "    Color = []\n",
    "    \n",
    "    if ObjNo == None:\n",
    "        ObjNo = len(Interp_load[Band1])\n",
    "\n",
    "    for II in range(ObjNo):\n",
    "        \n",
    "        if Interp_load[Band1][II]==[] or Interp_load[Band2][II]==[]:\n",
    "            continue\n",
    "            \n",
    "        TimeRangeStart = max( TimeRange_load[Band1][II][0], TimeRange_load[Band2][II][0] - dT1/1440 )\n",
    "        TimeRangeEnd = min( TimeRange_load[Band1][II][1] - dT2/1440, TimeRange_load[Band2][II][1] - dT1/1440 )\n",
    "\n",
    "        TimeRange = TimeRangeEnd - TimeRangeStart\n",
    "        SampleNo = np.int(PointsPDay*TimeRange)\n",
    "        \n",
    "        XX = np.random.rand(SampleNo)*TimeRange + TimeRangeStart\n",
    "\n",
    "        Mag1 = Interp_load[Band1][II](XX)\n",
    "        Mag2 = Interp_load[Band2][II](XX+dT1/1440)\n",
    "        Mag12 = Interp_load[Band1][II](XX+dT2/1440)\n",
    "\n",
    "        Mask = (Mag1<Thr) * (Mag2<Thr) *(Mag12<Thr)\n",
    "\n",
    "        dMag.extend(Mag1[Mask] - Mag12[Mask])\n",
    "        Color.extend(Mag1[Mask] - Mag2[Mask])\n",
    "        \n",
    "    data = np.array([dMag, Color])\n",
    "    \n",
    "    return data"
   ]
  },
  {
   "cell_type": "code",
   "execution_count": 15,
   "id": "c5082ce2-816d-4140-acf6-02516c14112e",
   "metadata": {},
   "outputs": [],
   "source": [
    "def reduce(results):\n",
    "    \n",
    "    dMags = []\n",
    "    Colors = []\n",
    "    \n",
    "    for dMag, Color in results:\n",
    "        \n",
    "#         print(len(dMag), len(Color))\n",
    "        dMags.extend(dMag)\n",
    "        Colors.extend(Color)\n",
    "    print(len(dMags), len(Colors))\n",
    "    return np.array([dMags, Colors])"
   ]
  },
  {
   "cell_type": "code",
   "execution_count": null,
   "id": "ee4e45e2-7817-4a98-8ab0-c4deea7f99fc",
   "metadata": {},
   "outputs": [],
   "source": []
  },
  {
   "cell_type": "code",
   "execution_count": null,
   "id": "847dd578-020a-4235-9fbe-9e769f58e194",
   "metadata": {},
   "outputs": [],
   "source": []
  },
  {
   "cell_type": "code",
   "execution_count": 16,
   "id": "1565bb1d-7467-427b-b474-9fbdfe20eca2",
   "metadata": {},
   "outputs": [],
   "source": [
    "dT1s = np.arange(0,60, 15)"
   ]
  },
  {
   "cell_type": "code",
   "execution_count": 17,
   "id": "5ef6d9d7-73a9-46fc-b2a1-0fd5f4f556a7",
   "metadata": {},
   "outputs": [
    {
     "data": {
      "text/plain": [
       "array([ 0, 15, 30, 45])"
      ]
     },
     "execution_count": 17,
     "metadata": {},
     "output_type": "execute_result"
    }
   ],
   "source": [
    "dT1s"
   ]
  },
  {
   "cell_type": "code",
   "execution_count": null,
   "id": "728d5f35-4f8e-4fc8-ba40-6a7d46838661",
   "metadata": {},
   "outputs": [],
   "source": []
  },
  {
   "cell_type": "markdown",
   "id": "8259a447-52c8-4689-ba07-01bc62481ad3",
   "metadata": {},
   "source": [
    "---\n",
    "When run directly."
   ]
  },
  {
   "cell_type": "code",
   "execution_count": 22,
   "id": "755d4032-c5a6-423d-b257-a3b08d7568be",
   "metadata": {},
   "outputs": [
    {
     "name": "stdout",
     "output_type": "stream",
     "text": [
      "CPU times: user 7.24 ms, sys: 0 ns, total: 7.24 ms\n",
      "Wall time: 5.63 ms\n"
     ]
    }
   ],
   "source": [
    "%%time\n",
    "map = CalculateMap(dT1=30, dT2=300, Interp_load=Interp_load, TimeRange_load=TimeRange_load, Band1='g', Band2='i', PointsPDay=0.1)"
   ]
  },
  {
   "cell_type": "markdown",
   "id": "743a5610-0bbe-45ad-8c9a-221cef15e895",
   "metadata": {
    "tags": []
   },
   "source": [
    "---\n",
    "Try with delayed and compute"
   ]
  },
  {
   "cell_type": "code",
   "execution_count": null,
   "id": "84659e09-afca-4c8c-b418-02a06ad4a451",
   "metadata": {},
   "outputs": [],
   "source": []
  },
  {
   "cell_type": "code",
   "execution_count": null,
   "id": "8b04f332-b027-4142-b608-8d9c30b3bb7f",
   "metadata": {},
   "outputs": [],
   "source": []
  },
  {
   "cell_type": "code",
   "execution_count": null,
   "id": "c9954d53-6446-4859-a9c6-5bad55687c6d",
   "metadata": {},
   "outputs": [],
   "source": []
  },
  {
   "cell_type": "code",
   "execution_count": 36,
   "id": "47201e43-dd92-4211-8dc3-cb1872c4a5ad",
   "metadata": {},
   "outputs": [],
   "source": [
    "Path1 = '/global/cscratch1/'\n",
    "Path2 = '/global/homes/l/lianming/Presto-Color-2/data/2Day_Interp'\n",
    "\n",
    "########################################################\n",
    "#Parameter setting\n",
    "\n",
    "PathInterp = Path1\n",
    "\n",
    "# EventNames = np.load(os.path.join(PathInterp, 'EventName.npy'))\n",
    "# EventNames = ['AGN', 'CART', 'EB', 'ILOT', 'KN_B19', 'KN_K17', 'MIRA', 'Mdwarf',\n",
    "#               'PISN', 'RRL', 'SLSN-I', 'SNII-NMF', 'SNII-Templates', 'SNIIn',\n",
    "#               'SNIa-91bg', 'SNIa-SALT2', 'SNIax', 'SNIbc-MOSFIT',\n",
    "#               'SNIbc-Templates', 'TDE', 'V19_CC+HostXT', 'uLens-Binary',\n",
    "#               'uLens-Single-GenLens', 'uLens-Single_PyLIMA']\n",
    "\n",
    "# EventNames = [EventNames[23]]\n",
    "EventNames = [ 'SNIa-SALT2', 'AGN']\n",
    "\n",
    "PointsPerDay = 1\n",
    "Objects = np.arange(0, 40000, 4)\n",
    "\n",
    "# Bands = ['u', 'g', 'r', 'i', 'z', 'Y']\n",
    "Bands = ['g', 'r', 'i']\n",
    "\n",
    "# PointsPerDay = 1\n",
    "# ObjNo = 10000\n",
    "\n",
    "Thrs = {'u': 23.9, 'g': 25.0, 'r': 24.7, 'i': 24.0, 'z': 23.3, 'Y': 22.1}\n",
    "\n",
    "#########################################################\n",
    "#Generating file paths, filter pairs\n",
    "\n",
    "Paths = [os.path.join(PathInterp, ii+'_Interp.pkl') for ii in EventNames]\n",
    "BandPairs = [B1+B2 for B1 in Bands for B2 in Bands if B1!=B2 and B1+B2!='uz' and B1+B2!='zu']\n",
    "\n",
    "FilePath_BandPair = [ [ii, jj] for ii in Paths for jj in BandPairs]\n"
   ]
  },
  {
   "cell_type": "code",
   "execution_count": null,
   "id": "564b5ba2-5c04-47d4-afeb-a79f9c980688",
   "metadata": {},
   "outputs": [],
   "source": []
  },
  {
   "cell_type": "code",
   "execution_count": 41,
   "id": "e7fcc52d-611e-44b9-8de9-8fb2a20099ba",
   "metadata": {},
   "outputs": [],
   "source": [
    "def GeneratePath(EventName, PathInterp=PathInterp):\n",
    "    return os.path.join(PathInterp, EventName+'_Interp.pkl')\n",
    "\n",
    "def Path_BandPare(BandPairs, Path):\n",
    "    return [Path, BandPairs]\n"
   ]
  },
  {
   "cell_type": "code",
   "execution_count": 18,
   "id": "7517ad66-379d-4f7c-9a82-a9175d68a0cd",
   "metadata": {},
   "outputs": [
    {
     "data": {
      "text/plain": [
       "'/global/cscratch1/sd/lianming/data/2Day_Interp/AGN_Interp.pkl'"
      ]
     },
     "execution_count": 18,
     "metadata": {},
     "output_type": "execute_result"
    }
   ],
   "source": [
    "GeneratePath('AGN')"
   ]
  },
  {
   "cell_type": "code",
   "execution_count": 19,
   "id": "87872a1c-902e-49e6-8924-5fb11e5cd5d1",
   "metadata": {},
   "outputs": [],
   "source": [
    "Pathfuture = client.map(GeneratePath, EventNames)"
   ]
  },
  {
   "cell_type": "code",
   "execution_count": 21,
   "id": "e2d0cd3d-c3b6-4e1a-874b-105c6c25f10c",
   "metadata": {},
   "outputs": [
    {
     "data": {
      "text/plain": [
       "['/global/cscratch1/sd/lianming/data/2Day_Interp/SNIa-SALT2_Interp.pkl',\n",
       " '/global/cscratch1/sd/lianming/data/2Day_Interp/AGN_Interp.pkl']"
      ]
     },
     "execution_count": 21,
     "metadata": {},
     "output_type": "execute_result"
    }
   ],
   "source": [
    "client.gather(Pathfuture)"
   ]
  },
  {
   "cell_type": "code",
   "execution_count": 22,
   "id": "9b45a7be-facb-47fd-b440-582eadf51370",
   "metadata": {},
   "outputs": [
    {
     "data": {
      "text/plain": [
       "['gr', 'gi', 'rg', 'ri', 'ig', 'ir']"
      ]
     },
     "execution_count": 22,
     "metadata": {},
     "output_type": "execute_result"
    }
   ],
   "source": [
    "BandPairs"
   ]
  },
  {
   "cell_type": "code",
   "execution_count": 23,
   "id": "99320843-b93f-4684-a199-aa9e6d4622cd",
   "metadata": {},
   "outputs": [
    {
     "data": {
      "text/plain": [
       "[<Future: pending, key: Path_BandPare-e102c6a62a468f89f2b03ae0a83ef033>,\n",
       " <Future: pending, key: Path_BandPare-04fd069c08b0a82e43dfa55f9fba9840>]"
      ]
     },
     "execution_count": 23,
     "metadata": {},
     "output_type": "execute_result"
    }
   ],
   "source": [
    "client.map(Path_BandPare, EventNames, BandPairs)"
   ]
  },
  {
   "cell_type": "code",
   "execution_count": 32,
   "id": "7460b99d-3cb3-47a4-b352-472e40d61de2",
   "metadata": {},
   "outputs": [
    {
     "data": {
      "text/plain": [
       "[[['agn'], 'gr'],\n",
       " [['agn'], 'gi'],\n",
       " [['agn'], 'rg'],\n",
       " [['agn'], 'ri'],\n",
       " [['agn'], 'ig'],\n",
       " [['agn'], 'ir']]"
      ]
     },
     "execution_count": 32,
     "metadata": {},
     "output_type": "execute_result"
    }
   ],
   "source": [
    "client.gather(client.map(Path_BandPare, BandPairs, Path=['agn']))"
   ]
  },
  {
   "cell_type": "code",
   "execution_count": 25,
   "id": "580b8dea-8435-4ab5-a3e1-3b3a539fe11b",
   "metadata": {},
   "outputs": [
    {
     "data": {
      "text/plain": [
       "['gr', 'gi', 'rg', 'ri', 'ig', 'ir']"
      ]
     },
     "execution_count": 25,
     "metadata": {},
     "output_type": "execute_result"
    }
   ],
   "source": [
    "BandPairs"
   ]
  },
  {
   "cell_type": "code",
   "execution_count": 42,
   "id": "40bb6810-5974-495d-b1b7-36845fc7b16e",
   "metadata": {},
   "outputs": [],
   "source": [
    "lazy_results = []\n",
    "\n",
    "for Event in EventNames:\n",
    "    \n",
    "    PathDelayed = dask.delayed(GeneratePath)(Event)\n",
    "    \n",
    "    lazy_results.append(client.map(Path_BandPare, BandPairs, Path=PathDelayed))"
   ]
  },
  {
   "cell_type": "code",
   "execution_count": 78,
   "id": "28537d23-6551-4f11-8f50-6e6560373c9e",
   "metadata": {},
   "outputs": [
    {
     "data": {
      "text/plain": [
       "(['/global/cscratch1/SNIa-SALT2_Interp.pkl', 'gr'],\n",
       " ['/global/cscratch1/SNIa-SALT2_Interp.pkl', 'gi'],\n",
       " ['/global/cscratch1/SNIa-SALT2_Interp.pkl', 'rg'],\n",
       " ['/global/cscratch1/SNIa-SALT2_Interp.pkl', 'ri'],\n",
       " ['/global/cscratch1/SNIa-SALT2_Interp.pkl', 'ig'],\n",
       " ['/global/cscratch1/SNIa-SALT2_Interp.pkl', 'ir'],\n",
       " ['/global/cscratch1/AGN_Interp.pkl', 'gr'],\n",
       " ['/global/cscratch1/AGN_Interp.pkl', 'gi'],\n",
       " ['/global/cscratch1/AGN_Interp.pkl', 'rg'],\n",
       " ['/global/cscratch1/AGN_Interp.pkl', 'ri'],\n",
       " ['/global/cscratch1/AGN_Interp.pkl', 'ig'],\n",
       " ['/global/cscratch1/AGN_Interp.pkl', 'ir'])"
      ]
     },
     "execution_count": 78,
     "metadata": {},
     "output_type": "execute_result"
    }
   ],
   "source": [
    "dask.compute(*client.gather(lazy_results))"
   ]
  },
  {
   "cell_type": "code",
   "execution_count": null,
   "id": "9c603ced-4e4c-4e0b-8828-ffb96e6ae2df",
   "metadata": {},
   "outputs": [],
   "source": []
  },
  {
   "cell_type": "code",
   "execution_count": 79,
   "id": "53f7d354-7bd3-4453-a90d-7f39fd7bb1fe",
   "metadata": {},
   "outputs": [],
   "source": [
    "lazy_results_T = []\n",
    "\n",
    "for Event in EventNames:\n",
    "    \n",
    "    lazy_results = []\n",
    "    \n",
    "    PathDelayed = dask.delayed(GeneratePath)(Event)\n",
    "    \n",
    "    for BandPair in BandPairs:\n",
    "        lazy_results.append(dask.delayed(Path_BandPare)(BandPair, PathDelayed))\n",
    "        \n",
    "    lazy_results_T.append(lazy_results)\n",
    "    "
   ]
  },
  {
   "cell_type": "code",
   "execution_count": 89,
   "id": "9ff6ff31-676b-4e94-9a61-12fe30d5c1a9",
   "metadata": {},
   "outputs": [
    {
     "data": {
      "text/plain": [
       "([['/global/cscratch1/SNIa-SALT2_Interp.pkl', 'gr'],\n",
       "  ['/global/cscratch1/SNIa-SALT2_Interp.pkl', 'gi'],\n",
       "  ['/global/cscratch1/SNIa-SALT2_Interp.pkl', 'rg'],\n",
       "  ['/global/cscratch1/SNIa-SALT2_Interp.pkl', 'ri'],\n",
       "  ['/global/cscratch1/SNIa-SALT2_Interp.pkl', 'ig'],\n",
       "  ['/global/cscratch1/SNIa-SALT2_Interp.pkl', 'ir']],\n",
       " [['/global/cscratch1/AGN_Interp.pkl', 'gr'],\n",
       "  ['/global/cscratch1/AGN_Interp.pkl', 'gi'],\n",
       "  ['/global/cscratch1/AGN_Interp.pkl', 'rg'],\n",
       "  ['/global/cscratch1/AGN_Interp.pkl', 'ri'],\n",
       "  ['/global/cscratch1/AGN_Interp.pkl', 'ig'],\n",
       "  ['/global/cscratch1/AGN_Interp.pkl', 'ir']])"
      ]
     },
     "execution_count": 89,
     "metadata": {},
     "output_type": "execute_result"
    }
   ],
   "source": [
    "dask.compute(*lazy_results_T)"
   ]
  },
  {
   "cell_type": "code",
   "execution_count": 90,
   "id": "8e2a1a4a-1101-41f9-aec8-62d667810bae",
   "metadata": {},
   "outputs": [
    {
     "data": {
      "text/plain": [
       "([[['/global/cscratch1/SNIa-SALT2_Interp.pkl', 'gr'],\n",
       "   ['/global/cscratch1/SNIa-SALT2_Interp.pkl', 'gi'],\n",
       "   ['/global/cscratch1/SNIa-SALT2_Interp.pkl', 'rg'],\n",
       "   ['/global/cscratch1/SNIa-SALT2_Interp.pkl', 'ri'],\n",
       "   ['/global/cscratch1/SNIa-SALT2_Interp.pkl', 'ig'],\n",
       "   ['/global/cscratch1/SNIa-SALT2_Interp.pkl', 'ir']],\n",
       "  [['/global/cscratch1/AGN_Interp.pkl', 'gr'],\n",
       "   ['/global/cscratch1/AGN_Interp.pkl', 'gi'],\n",
       "   ['/global/cscratch1/AGN_Interp.pkl', 'rg'],\n",
       "   ['/global/cscratch1/AGN_Interp.pkl', 'ri'],\n",
       "   ['/global/cscratch1/AGN_Interp.pkl', 'ig'],\n",
       "   ['/global/cscratch1/AGN_Interp.pkl', 'ir']]],)"
      ]
     },
     "execution_count": 90,
     "metadata": {},
     "output_type": "execute_result"
    }
   ],
   "source": [
    "dask.compute(lazy_results_T)"
   ]
  },
  {
   "cell_type": "code",
   "execution_count": 91,
   "id": "b54b71e3-0b2f-4420-a7e8-2a8835ecd60f",
   "metadata": {},
   "outputs": [],
   "source": [
    "cc = dask.persist(*lazy_results_T)"
   ]
  },
  {
   "cell_type": "code",
   "execution_count": 93,
   "id": "f86019d1-7fe5-423b-910b-7188853677a6",
   "metadata": {},
   "outputs": [
    {
     "data": {
      "text/plain": [
       "([Delayed('Path_BandPare-c436e0ab-683e-4f21-81e4-95a5326d66be'),\n",
       "  Delayed('Path_BandPare-014597d4-d5d6-4f39-be73-43c98bfe780d'),\n",
       "  Delayed('Path_BandPare-bc9f1697-be63-4e48-9b5b-aa85b39acb70'),\n",
       "  Delayed('Path_BandPare-104ea32e-ff6d-4d9b-99e9-6e4a95a3c723'),\n",
       "  Delayed('Path_BandPare-a0bad528-780f-4e56-9c5e-87c8f247cf69'),\n",
       "  Delayed('Path_BandPare-16eca81c-4956-4b19-84c5-1bc5e4a6565f')],\n",
       " [Delayed('Path_BandPare-e4e34e5d-742d-4a7f-8864-43f47bc59a57'),\n",
       "  Delayed('Path_BandPare-36ca3f9b-c98e-4008-ad35-5ae3a6fe6f95'),\n",
       "  Delayed('Path_BandPare-461c9c76-40ba-4a42-937c-dcafb657ec9a'),\n",
       "  Delayed('Path_BandPare-61b1192a-bda2-4881-96e0-8f233b7eddf4'),\n",
       "  Delayed('Path_BandPare-80065d6a-a90e-4117-accd-b3f0082bc279'),\n",
       "  Delayed('Path_BandPare-a576cf6a-dc7f-45fa-b07b-6ab3970d5a5a')])"
      ]
     },
     "execution_count": 93,
     "metadata": {},
     "output_type": "execute_result"
    }
   ],
   "source": [
    "cc"
   ]
  },
  {
   "cell_type": "code",
   "execution_count": 94,
   "id": "9674939b-1c02-4fb6-ad19-1a6de899b840",
   "metadata": {},
   "outputs": [
    {
     "data": {
      "text/plain": [
       "([Delayed('Path_BandPare-c436e0ab-683e-4f21-81e4-95a5326d66be'),\n",
       "  Delayed('Path_BandPare-014597d4-d5d6-4f39-be73-43c98bfe780d'),\n",
       "  Delayed('Path_BandPare-bc9f1697-be63-4e48-9b5b-aa85b39acb70'),\n",
       "  Delayed('Path_BandPare-104ea32e-ff6d-4d9b-99e9-6e4a95a3c723'),\n",
       "  Delayed('Path_BandPare-a0bad528-780f-4e56-9c5e-87c8f247cf69'),\n",
       "  Delayed('Path_BandPare-16eca81c-4956-4b19-84c5-1bc5e4a6565f')],\n",
       " [Delayed('Path_BandPare-e4e34e5d-742d-4a7f-8864-43f47bc59a57'),\n",
       "  Delayed('Path_BandPare-36ca3f9b-c98e-4008-ad35-5ae3a6fe6f95'),\n",
       "  Delayed('Path_BandPare-461c9c76-40ba-4a42-937c-dcafb657ec9a'),\n",
       "  Delayed('Path_BandPare-61b1192a-bda2-4881-96e0-8f233b7eddf4'),\n",
       "  Delayed('Path_BandPare-80065d6a-a90e-4117-accd-b3f0082bc279'),\n",
       "  Delayed('Path_BandPare-a576cf6a-dc7f-45fa-b07b-6ab3970d5a5a')])"
      ]
     },
     "execution_count": 94,
     "metadata": {},
     "output_type": "execute_result"
    }
   ],
   "source": [
    "dask.persist(*lazy_results_T)"
   ]
  },
  {
   "cell_type": "code",
   "execution_count": 96,
   "id": "5ccbedf3-e5f2-4d50-95a3-1461f71640c5",
   "metadata": {},
   "outputs": [
    {
     "data": {
      "text/plain": [
       "(([['/global/cscratch1/SNIa-SALT2_Interp.pkl', 'gr'],\n",
       "   ['/global/cscratch1/SNIa-SALT2_Interp.pkl', 'gi'],\n",
       "   ['/global/cscratch1/SNIa-SALT2_Interp.pkl', 'rg'],\n",
       "   ['/global/cscratch1/SNIa-SALT2_Interp.pkl', 'ri'],\n",
       "   ['/global/cscratch1/SNIa-SALT2_Interp.pkl', 'ig'],\n",
       "   ['/global/cscratch1/SNIa-SALT2_Interp.pkl', 'ir']],\n",
       "  [['/global/cscratch1/AGN_Interp.pkl', 'gr'],\n",
       "   ['/global/cscratch1/AGN_Interp.pkl', 'gi'],\n",
       "   ['/global/cscratch1/AGN_Interp.pkl', 'rg'],\n",
       "   ['/global/cscratch1/AGN_Interp.pkl', 'ri'],\n",
       "   ['/global/cscratch1/AGN_Interp.pkl', 'ig'],\n",
       "   ['/global/cscratch1/AGN_Interp.pkl', 'ir']]),)"
      ]
     },
     "execution_count": 96,
     "metadata": {},
     "output_type": "execute_result"
    }
   ],
   "source": [
    "dask.compute(dask.persist(*lazy_results_T))"
   ]
  },
  {
   "cell_type": "code",
   "execution_count": 103,
   "id": "80d85e60-9739-44f7-84ad-af274387fadb",
   "metadata": {},
   "outputs": [
    {
     "data": {
      "text/plain": [
       "([['/global/cscratch1/SNIa-SALT2_Interp.pkl', 'gr'],\n",
       "  ['/global/cscratch1/SNIa-SALT2_Interp.pkl', 'gi'],\n",
       "  ['/global/cscratch1/SNIa-SALT2_Interp.pkl', 'rg'],\n",
       "  ['/global/cscratch1/SNIa-SALT2_Interp.pkl', 'ri'],\n",
       "  ['/global/cscratch1/SNIa-SALT2_Interp.pkl', 'ig'],\n",
       "  ['/global/cscratch1/SNIa-SALT2_Interp.pkl', 'ir']],\n",
       " [['/global/cscratch1/AGN_Interp.pkl', 'gr'],\n",
       "  ['/global/cscratch1/AGN_Interp.pkl', 'gi'],\n",
       "  ['/global/cscratch1/AGN_Interp.pkl', 'rg'],\n",
       "  ['/global/cscratch1/AGN_Interp.pkl', 'ri'],\n",
       "  ['/global/cscratch1/AGN_Interp.pkl', 'ig'],\n",
       "  ['/global/cscratch1/AGN_Interp.pkl', 'ir']])"
      ]
     },
     "execution_count": 103,
     "metadata": {},
     "output_type": "execute_result"
    }
   ],
   "source": [
    "dask.compute(*lazy_results_T)"
   ]
  },
  {
   "cell_type": "code",
   "execution_count": 116,
   "id": "61e98d16-b6ff-4321-b148-6e56960a6d09",
   "metadata": {},
   "outputs": [
    {
     "data": {
      "text/plain": [
       "['/global/cscratch1/SNIa-SALT2_Interp.pkl', 'gr']"
      ]
     },
     "execution_count": 116,
     "metadata": {},
     "output_type": "execute_result"
    }
   ],
   "source": [
    "lazy_results_T[0][0].compute()"
   ]
  },
  {
   "cell_type": "code",
   "execution_count": null,
   "id": "3bb0ddaa-da4e-4611-b89c-9a1e486abb24",
   "metadata": {},
   "outputs": [],
   "source": []
  },
  {
   "cell_type": "code",
   "execution_count": null,
   "id": "e35fa6f0-5030-4f98-9bd9-9e26f61fb684",
   "metadata": {},
   "outputs": [],
   "source": []
  },
  {
   "cell_type": "code",
   "execution_count": 113,
   "id": "04708264-7cc8-4726-b291-5458bbf7224d",
   "metadata": {},
   "outputs": [
    {
     "ename": "TypeError",
     "evalue": "compute() missing 1 required positional argument: 'collections'",
     "output_type": "error",
     "traceback": [
      "\u001b[0;31m---------------------------------------------------------------------------\u001b[0m",
      "\u001b[0;31mTypeError\u001b[0m                                 Traceback (most recent call last)",
      "\u001b[0;32m<ipython-input-113-feee146030ef>\u001b[0m in \u001b[0;36m<module>\u001b[0;34m\u001b[0m\n\u001b[0;32m----> 1\u001b[0;31m \u001b[0mClient\u001b[0m\u001b[0;34m.\u001b[0m\u001b[0mcompute\u001b[0m\u001b[0;34m(\u001b[0m\u001b[0mlazy_results_T\u001b[0m\u001b[0;34m[\u001b[0m\u001b[0;36m1\u001b[0m\u001b[0;34m]\u001b[0m\u001b[0;34m)\u001b[0m\u001b[0;34m\u001b[0m\u001b[0;34m\u001b[0m\u001b[0m\n\u001b[0m",
      "\u001b[0;31mTypeError\u001b[0m: compute() missing 1 required positional argument: 'collections'"
     ]
    }
   ],
   "source": [
    "Client.compute(lazy_results_T[1])"
   ]
  },
  {
   "cell_type": "code",
   "execution_count": 112,
   "id": "0682f609-673c-46dc-b7b2-39fc54ec283b",
   "metadata": {},
   "outputs": [
    {
     "data": {
      "text/plain": [
       "\u001b[0;31mSignature:\u001b[0m \u001b[0mdask\u001b[0m\u001b[0;34m.\u001b[0m\u001b[0mcompute\u001b[0m\u001b[0;34m(\u001b[0m\u001b[0;34m*\u001b[0m\u001b[0margs\u001b[0m\u001b[0;34m,\u001b[0m \u001b[0;34m**\u001b[0m\u001b[0mkwargs\u001b[0m\u001b[0;34m)\u001b[0m\u001b[0;34m\u001b[0m\u001b[0;34m\u001b[0m\u001b[0m\n",
       "\u001b[0;31mDocstring:\u001b[0m\n",
       "Compute several dask collections at once.\n",
       "\n",
       "Parameters\n",
       "----------\n",
       "args : object\n",
       "    Any number of objects. If it is a dask object, it's computed and the\n",
       "    result is returned. By default, python builtin collections are also\n",
       "    traversed to look for dask objects (for more information see the\n",
       "    ``traverse`` keyword). Non-dask arguments are passed through unchanged.\n",
       "traverse : bool, optional\n",
       "    By default dask traverses builtin python collections looking for dask\n",
       "    objects passed to ``compute``. For large collections this can be\n",
       "    expensive. If none of the arguments contain any dask objects, set\n",
       "    ``traverse=False`` to avoid doing this traversal.\n",
       "scheduler : string, optional\n",
       "    Which scheduler to use like \"threads\", \"synchronous\" or \"processes\".\n",
       "    If not provided, the default is to check the global settings first,\n",
       "    and then fall back to the collection defaults.\n",
       "optimize_graph : bool, optional\n",
       "    If True [default], the optimizations for each collection are applied\n",
       "    before computation. Otherwise the graph is run as is. This can be\n",
       "    useful for debugging.\n",
       "kwargs\n",
       "    Extra keywords to forward to the scheduler function.\n",
       "\n",
       "Examples\n",
       "--------\n",
       ">>> import dask as d\n",
       ">>> import dask.array as da\n",
       ">>> a = da.arange(10, chunks=2).sum()\n",
       ">>> b = da.arange(10, chunks=2).mean()\n",
       ">>> d.compute(a, b)\n",
       "(45, 4.5)\n",
       "\n",
       "By default, dask objects inside python collections will also be computed:\n",
       "\n",
       ">>> d.compute({'a': a, 'b': b, 'c': 1})\n",
       "({'a': 45, 'b': 4.5, 'c': 1},)\n",
       "\u001b[0;31mFile:\u001b[0m      /opt/miniconda3/lib/python3.8/site-packages/dask/base.py\n",
       "\u001b[0;31mType:\u001b[0m      function\n"
      ]
     },
     "metadata": {},
     "output_type": "display_data"
    }
   ],
   "source": [
    "dask.compute?"
   ]
  },
  {
   "cell_type": "code",
   "execution_count": 110,
   "id": "c5154e56-0311-4976-b2e8-eb3dc5f95ed3",
   "metadata": {},
   "outputs": [
    {
     "data": {
      "text/plain": [
       "\u001b[0;31mSignature:\u001b[0m\n",
       "\u001b[0mclient\u001b[0m\u001b[0;34m.\u001b[0m\u001b[0mcompute\u001b[0m\u001b[0;34m(\u001b[0m\u001b[0;34m\u001b[0m\n",
       "\u001b[0;34m\u001b[0m    \u001b[0mcollections\u001b[0m\u001b[0;34m,\u001b[0m\u001b[0;34m\u001b[0m\n",
       "\u001b[0;34m\u001b[0m    \u001b[0msync\u001b[0m\u001b[0;34m=\u001b[0m\u001b[0;32mFalse\u001b[0m\u001b[0;34m,\u001b[0m\u001b[0;34m\u001b[0m\n",
       "\u001b[0;34m\u001b[0m    \u001b[0moptimize_graph\u001b[0m\u001b[0;34m=\u001b[0m\u001b[0;32mTrue\u001b[0m\u001b[0;34m,\u001b[0m\u001b[0;34m\u001b[0m\n",
       "\u001b[0;34m\u001b[0m    \u001b[0mworkers\u001b[0m\u001b[0;34m=\u001b[0m\u001b[0;32mNone\u001b[0m\u001b[0;34m,\u001b[0m\u001b[0;34m\u001b[0m\n",
       "\u001b[0;34m\u001b[0m    \u001b[0mallow_other_workers\u001b[0m\u001b[0;34m=\u001b[0m\u001b[0;32mFalse\u001b[0m\u001b[0;34m,\u001b[0m\u001b[0;34m\u001b[0m\n",
       "\u001b[0;34m\u001b[0m    \u001b[0mresources\u001b[0m\u001b[0;34m=\u001b[0m\u001b[0;32mNone\u001b[0m\u001b[0;34m,\u001b[0m\u001b[0;34m\u001b[0m\n",
       "\u001b[0;34m\u001b[0m    \u001b[0mretries\u001b[0m\u001b[0;34m=\u001b[0m\u001b[0;36m0\u001b[0m\u001b[0;34m,\u001b[0m\u001b[0;34m\u001b[0m\n",
       "\u001b[0;34m\u001b[0m    \u001b[0mpriority\u001b[0m\u001b[0;34m=\u001b[0m\u001b[0;36m0\u001b[0m\u001b[0;34m,\u001b[0m\u001b[0;34m\u001b[0m\n",
       "\u001b[0;34m\u001b[0m    \u001b[0mfifo_timeout\u001b[0m\u001b[0;34m=\u001b[0m\u001b[0;34m'60s'\u001b[0m\u001b[0;34m,\u001b[0m\u001b[0;34m\u001b[0m\n",
       "\u001b[0;34m\u001b[0m    \u001b[0mactors\u001b[0m\u001b[0;34m=\u001b[0m\u001b[0;32mNone\u001b[0m\u001b[0;34m,\u001b[0m\u001b[0;34m\u001b[0m\n",
       "\u001b[0;34m\u001b[0m    \u001b[0mtraverse\u001b[0m\u001b[0;34m=\u001b[0m\u001b[0;32mTrue\u001b[0m\u001b[0;34m,\u001b[0m\u001b[0;34m\u001b[0m\n",
       "\u001b[0;34m\u001b[0m    \u001b[0;34m**\u001b[0m\u001b[0mkwargs\u001b[0m\u001b[0;34m,\u001b[0m\u001b[0;34m\u001b[0m\n",
       "\u001b[0;34m\u001b[0m\u001b[0;34m)\u001b[0m\u001b[0;34m\u001b[0m\u001b[0;34m\u001b[0m\u001b[0m\n",
       "\u001b[0;31mDocstring:\u001b[0m\n",
       "Compute dask collections on cluster\n",
       "\n",
       "Parameters\n",
       "----------\n",
       "collections : iterable of dask objects or single dask object\n",
       "    Collections like dask.array or dataframe or dask.value objects\n",
       "sync : bool (optional)\n",
       "    Returns Futures if False (default) or concrete values if True\n",
       "optimize_graph : bool\n",
       "    Whether or not to optimize the underlying graphs\n",
       "workers : string or iterable of strings\n",
       "    A set of worker hostnames on which computations may be performed.\n",
       "    Leave empty to default to all workers (common case)\n",
       "allow_other_workers : bool (defaults to False)\n",
       "    Used with `workers`. Indicates whether or not the computations\n",
       "    may be performed on workers that are not in the `workers` set(s).\n",
       "retries : int (default to 0)\n",
       "    Number of allowed automatic retries if computing a result fails\n",
       "priority : Number\n",
       "    Optional prioritization of task.  Zero is default.\n",
       "    Higher priorities take precedence\n",
       "fifo_timeout : timedelta str (defaults to '60s')\n",
       "    Allowed amount of time between calls to consider the same priority\n",
       "traverse : bool (defaults to True)\n",
       "    By default dask traverses builtin python collections looking for\n",
       "    dask objects passed to ``compute``. For large collections this can\n",
       "    be expensive. If none of the arguments contain any dask objects,\n",
       "    set ``traverse=False`` to avoid doing this traversal.\n",
       "resources : dict (defaults to {})\n",
       "    Defines the `resources` each instance of this mapped task requires\n",
       "    on the worker; e.g. ``{'GPU': 2}``.\n",
       "    See :doc:`worker resources <resources>` for details on defining\n",
       "    resources.\n",
       "actors : bool or dict (default None)\n",
       "    Whether these tasks should exist on the worker as stateful actors.\n",
       "    Specified on a global (True/False) or per-task (``{'x': True,\n",
       "    'y': False}``) basis. See :doc:`actors` for additional details.\n",
       "**kwargs\n",
       "    Options to pass to the graph optimize calls\n",
       "\n",
       "Returns\n",
       "-------\n",
       "List of Futures if input is a sequence, or a single future otherwise\n",
       "\n",
       "Examples\n",
       "--------\n",
       ">>> from dask import delayed\n",
       ">>> from operator import add\n",
       ">>> x = delayed(add)(1, 2)\n",
       ">>> y = delayed(add)(x, x)\n",
       ">>> xx, yy = client.compute([x, y])  # doctest: +SKIP\n",
       ">>> xx  # doctest: +SKIP\n",
       "<Future: status: finished, key: add-8f6e709446674bad78ea8aeecfee188e>\n",
       ">>> xx.result()  # doctest: +SKIP\n",
       "3\n",
       ">>> yy.result()  # doctest: +SKIP\n",
       "6\n",
       "\n",
       "Also support single arguments\n",
       "\n",
       ">>> xx = client.compute(x)  # doctest: +SKIP\n",
       "\n",
       "See Also\n",
       "--------\n",
       "Client.get : Normal synchronous dask.get function\n",
       "\u001b[0;31mFile:\u001b[0m      /opt/miniconda3/lib/python3.8/site-packages/distributed/client.py\n",
       "\u001b[0;31mType:\u001b[0m      method\n"
      ]
     },
     "metadata": {},
     "output_type": "display_data"
    }
   ],
   "source": [
    "client.compute?"
   ]
  },
  {
   "cell_type": "code",
   "execution_count": 111,
   "id": "d4666229-db8c-4ec8-a608-cb30ca6de13b",
   "metadata": {},
   "outputs": [
    {
     "data": {
      "text/plain": [
       "\u001b[0;31mSignature:\u001b[0m\n",
       "\u001b[0mClient\u001b[0m\u001b[0;34m.\u001b[0m\u001b[0mcompute\u001b[0m\u001b[0;34m(\u001b[0m\u001b[0;34m\u001b[0m\n",
       "\u001b[0;34m\u001b[0m    \u001b[0mself\u001b[0m\u001b[0;34m,\u001b[0m\u001b[0;34m\u001b[0m\n",
       "\u001b[0;34m\u001b[0m    \u001b[0mcollections\u001b[0m\u001b[0;34m,\u001b[0m\u001b[0;34m\u001b[0m\n",
       "\u001b[0;34m\u001b[0m    \u001b[0msync\u001b[0m\u001b[0;34m=\u001b[0m\u001b[0;32mFalse\u001b[0m\u001b[0;34m,\u001b[0m\u001b[0;34m\u001b[0m\n",
       "\u001b[0;34m\u001b[0m    \u001b[0moptimize_graph\u001b[0m\u001b[0;34m=\u001b[0m\u001b[0;32mTrue\u001b[0m\u001b[0;34m,\u001b[0m\u001b[0;34m\u001b[0m\n",
       "\u001b[0;34m\u001b[0m    \u001b[0mworkers\u001b[0m\u001b[0;34m=\u001b[0m\u001b[0;32mNone\u001b[0m\u001b[0;34m,\u001b[0m\u001b[0;34m\u001b[0m\n",
       "\u001b[0;34m\u001b[0m    \u001b[0mallow_other_workers\u001b[0m\u001b[0;34m=\u001b[0m\u001b[0;32mFalse\u001b[0m\u001b[0;34m,\u001b[0m\u001b[0;34m\u001b[0m\n",
       "\u001b[0;34m\u001b[0m    \u001b[0mresources\u001b[0m\u001b[0;34m=\u001b[0m\u001b[0;32mNone\u001b[0m\u001b[0;34m,\u001b[0m\u001b[0;34m\u001b[0m\n",
       "\u001b[0;34m\u001b[0m    \u001b[0mretries\u001b[0m\u001b[0;34m=\u001b[0m\u001b[0;36m0\u001b[0m\u001b[0;34m,\u001b[0m\u001b[0;34m\u001b[0m\n",
       "\u001b[0;34m\u001b[0m    \u001b[0mpriority\u001b[0m\u001b[0;34m=\u001b[0m\u001b[0;36m0\u001b[0m\u001b[0;34m,\u001b[0m\u001b[0;34m\u001b[0m\n",
       "\u001b[0;34m\u001b[0m    \u001b[0mfifo_timeout\u001b[0m\u001b[0;34m=\u001b[0m\u001b[0;34m'60s'\u001b[0m\u001b[0;34m,\u001b[0m\u001b[0;34m\u001b[0m\n",
       "\u001b[0;34m\u001b[0m    \u001b[0mactors\u001b[0m\u001b[0;34m=\u001b[0m\u001b[0;32mNone\u001b[0m\u001b[0;34m,\u001b[0m\u001b[0;34m\u001b[0m\n",
       "\u001b[0;34m\u001b[0m    \u001b[0mtraverse\u001b[0m\u001b[0;34m=\u001b[0m\u001b[0;32mTrue\u001b[0m\u001b[0;34m,\u001b[0m\u001b[0;34m\u001b[0m\n",
       "\u001b[0;34m\u001b[0m    \u001b[0;34m**\u001b[0m\u001b[0mkwargs\u001b[0m\u001b[0;34m,\u001b[0m\u001b[0;34m\u001b[0m\n",
       "\u001b[0;34m\u001b[0m\u001b[0;34m)\u001b[0m\u001b[0;34m\u001b[0m\u001b[0;34m\u001b[0m\u001b[0m\n",
       "\u001b[0;31mDocstring:\u001b[0m\n",
       "Compute dask collections on cluster\n",
       "\n",
       "Parameters\n",
       "----------\n",
       "collections : iterable of dask objects or single dask object\n",
       "    Collections like dask.array or dataframe or dask.value objects\n",
       "sync : bool (optional)\n",
       "    Returns Futures if False (default) or concrete values if True\n",
       "optimize_graph : bool\n",
       "    Whether or not to optimize the underlying graphs\n",
       "workers : string or iterable of strings\n",
       "    A set of worker hostnames on which computations may be performed.\n",
       "    Leave empty to default to all workers (common case)\n",
       "allow_other_workers : bool (defaults to False)\n",
       "    Used with `workers`. Indicates whether or not the computations\n",
       "    may be performed on workers that are not in the `workers` set(s).\n",
       "retries : int (default to 0)\n",
       "    Number of allowed automatic retries if computing a result fails\n",
       "priority : Number\n",
       "    Optional prioritization of task.  Zero is default.\n",
       "    Higher priorities take precedence\n",
       "fifo_timeout : timedelta str (defaults to '60s')\n",
       "    Allowed amount of time between calls to consider the same priority\n",
       "traverse : bool (defaults to True)\n",
       "    By default dask traverses builtin python collections looking for\n",
       "    dask objects passed to ``compute``. For large collections this can\n",
       "    be expensive. If none of the arguments contain any dask objects,\n",
       "    set ``traverse=False`` to avoid doing this traversal.\n",
       "resources : dict (defaults to {})\n",
       "    Defines the `resources` each instance of this mapped task requires\n",
       "    on the worker; e.g. ``{'GPU': 2}``.\n",
       "    See :doc:`worker resources <resources>` for details on defining\n",
       "    resources.\n",
       "actors : bool or dict (default None)\n",
       "    Whether these tasks should exist on the worker as stateful actors.\n",
       "    Specified on a global (True/False) or per-task (``{'x': True,\n",
       "    'y': False}``) basis. See :doc:`actors` for additional details.\n",
       "**kwargs\n",
       "    Options to pass to the graph optimize calls\n",
       "\n",
       "Returns\n",
       "-------\n",
       "List of Futures if input is a sequence, or a single future otherwise\n",
       "\n",
       "Examples\n",
       "--------\n",
       ">>> from dask import delayed\n",
       ">>> from operator import add\n",
       ">>> x = delayed(add)(1, 2)\n",
       ">>> y = delayed(add)(x, x)\n",
       ">>> xx, yy = client.compute([x, y])  # doctest: +SKIP\n",
       ">>> xx  # doctest: +SKIP\n",
       "<Future: status: finished, key: add-8f6e709446674bad78ea8aeecfee188e>\n",
       ">>> xx.result()  # doctest: +SKIP\n",
       "3\n",
       ">>> yy.result()  # doctest: +SKIP\n",
       "6\n",
       "\n",
       "Also support single arguments\n",
       "\n",
       ">>> xx = client.compute(x)  # doctest: +SKIP\n",
       "\n",
       "See Also\n",
       "--------\n",
       "Client.get : Normal synchronous dask.get function\n",
       "\u001b[0;31mFile:\u001b[0m      /opt/miniconda3/lib/python3.8/site-packages/distributed/client.py\n",
       "\u001b[0;31mType:\u001b[0m      function\n"
      ]
     },
     "metadata": {},
     "output_type": "display_data"
    }
   ],
   "source": [
    "Client.compute?"
   ]
  },
  {
   "cell_type": "code",
   "execution_count": null,
   "id": "a7485a8e-9d44-4a5a-b9dd-60a5c089b1d1",
   "metadata": {},
   "outputs": [],
   "source": []
  },
  {
   "cell_type": "code",
   "execution_count": null,
   "id": "67f630dd-1881-44a2-a45c-f81be8b7b835",
   "metadata": {},
   "outputs": [],
   "source": []
  },
  {
   "cell_type": "code",
   "execution_count": 48,
   "id": "c20d149b-2419-421f-95a6-70eaeb19e699",
   "metadata": {},
   "outputs": [],
   "source": [
    "Pathsfuture = client.map(GeneratePath, EventNames)\n",
    "PathBandFuture = client.map(Path_BandPare, BandPairs, Pathsfuture)"
   ]
  },
  {
   "cell_type": "code",
   "execution_count": 49,
   "id": "1e3e5cee-7009-40fe-9cc6-4e9b7bee56e1",
   "metadata": {},
   "outputs": [
    {
     "data": {
      "text/plain": [
       "[['/global/cscratch1/SNIa-SALT2_Interp.pkl', 'gr'],\n",
       " ['/global/cscratch1/AGN_Interp.pkl', 'gi']]"
      ]
     },
     "execution_count": 49,
     "metadata": {},
     "output_type": "execute_result"
    }
   ],
   "source": [
    "client.gather(PathBandFuture)"
   ]
  },
  {
   "cell_type": "code",
   "execution_count": 84,
   "id": "f1840c08-6a13-4965-8a76-c825547d1102",
   "metadata": {},
   "outputs": [],
   "source": [
    "aa = np.arange(0, 40000, 8)"
   ]
  },
  {
   "cell_type": "code",
   "execution_count": 85,
   "id": "47c70aef-a520-421c-a063-d93193deacce",
   "metadata": {},
   "outputs": [
    {
     "data": {
      "text/plain": [
       "39992"
      ]
     },
     "execution_count": 85,
     "metadata": {},
     "output_type": "execute_result"
    }
   ],
   "source": [
    "max(aa)"
   ]
  },
  {
   "cell_type": "code",
   "execution_count": 86,
   "id": "ae87fb44-a0f1-42c4-a40c-081c33f996b2",
   "metadata": {},
   "outputs": [
    {
     "data": {
      "text/plain": [
       "39992"
      ]
     },
     "execution_count": 86,
     "metadata": {},
     "output_type": "execute_result"
    }
   ],
   "source": [
    "aa.max()"
   ]
  },
  {
   "cell_type": "code",
   "execution_count": null,
   "id": "d833f5a5-ccfa-4d76-a216-06b38d0fcb9a",
   "metadata": {},
   "outputs": [],
   "source": []
  },
  {
   "cell_type": "markdown",
   "id": "a628512f-bb5b-46f5-9f96-7511d8a56c3c",
   "metadata": {},
   "source": [
    "# From https://tutorial.dask.org/01_dask.delayed.html"
   ]
  },
  {
   "cell_type": "code",
   "execution_count": 1,
   "id": "f4f273b7-47a2-4597-b0b0-2c2cce305968",
   "metadata": {},
   "outputs": [],
   "source": [
    "from dask.distributed import Client\n",
    "\n",
    "client = Client(n_workers=4)"
   ]
  },
  {
   "cell_type": "code",
   "execution_count": 3,
   "id": "916303bc-e183-4523-9544-879abca1dabd",
   "metadata": {},
   "outputs": [],
   "source": [
    "from dask import delayed\n"
   ]
  },
  {
   "cell_type": "code",
   "execution_count": 2,
   "id": "6baac7a6-c4d1-4c33-88fc-50617648284c",
   "metadata": {},
   "outputs": [],
   "source": [
    "from time import sleep\n",
    "\n",
    "def inc(x):\n",
    "    sleep(1)\n",
    "    return x + 1\n",
    "\n",
    "def add(x, y):\n",
    "    sleep(1)\n",
    "    return x + y"
   ]
  },
  {
   "cell_type": "code",
   "execution_count": 4,
   "id": "c5482d14-2218-4e86-8077-16421899c695",
   "metadata": {},
   "outputs": [],
   "source": [
    "def double(x):\n",
    "    sleep(1)\n",
    "    return 2 * x\n",
    "\n",
    "def is_even(x):\n",
    "    return not x % 2\n",
    "\n",
    "data = [1, 2, 3, 4, 5, 6, 7, 8, 9, 10]"
   ]
  },
  {
   "cell_type": "code",
   "execution_count": 5,
   "id": "ae5000a7-357c-4516-8d0f-5d5544b1b7ca",
   "metadata": {},
   "outputs": [
    {
     "name": "stdout",
     "output_type": "stream",
     "text": [
      "90\n",
      "CPU times: user 309 ms, sys: 29.8 ms, total: 339 ms\n",
      "Wall time: 10 s\n"
     ]
    }
   ],
   "source": [
    "%%time\n",
    "# Sequential code\n",
    "\n",
    "results = []\n",
    "for x in data:\n",
    "    if is_even(x):\n",
    "        y = double(x)\n",
    "    else:\n",
    "        y = inc(x)\n",
    "    results.append(y)\n",
    "\n",
    "total = sum(results)\n",
    "print(total)"
   ]
  },
  {
   "cell_type": "code",
   "execution_count": 6,
   "id": "d5178601-945a-4d11-96d8-4397292f3c83",
   "metadata": {},
   "outputs": [
    {
     "name": "stdout",
     "output_type": "stream",
     "text": [
      "CPU times: user 1.64 ms, sys: 3.33 ms, total: 4.96 ms\n",
      "Wall time: 3.78 ms\n"
     ]
    }
   ],
   "source": [
    "%%time\n",
    "results = []\n",
    "for x in data:\n",
    "    if is_even(x):  # even\n",
    "        y = delayed(double)(x)\n",
    "    else:          # odd\n",
    "        y = delayed(inc)(x)\n",
    "    results.append(y)\n",
    "\n",
    "total = delayed(sum)(results)"
   ]
  },
  {
   "cell_type": "code",
   "execution_count": 8,
   "id": "5595a389-22ec-47b9-a6d5-2023143fa879",
   "metadata": {},
   "outputs": [
    {
     "name": "stdout",
     "output_type": "stream",
     "text": [
      "CPU times: user 128 ms, sys: 14.4 ms, total: 143 ms\n",
      "Wall time: 1.12 s\n"
     ]
    },
    {
     "data": {
      "text/plain": [
       "90"
      ]
     },
     "execution_count": 8,
     "metadata": {},
     "output_type": "execute_result"
    }
   ],
   "source": [
    "%time total.compute()"
   ]
  },
  {
   "cell_type": "code",
   "execution_count": null,
   "id": "4c0f5824-c223-4d4a-8752-54566242694c",
   "metadata": {},
   "outputs": [],
   "source": []
  }
 ],
 "metadata": {
  "kernelspec": {
   "display_name": "nersc-dask-example",
   "language": "python",
   "name": "nersc-dask-example"
  },
  "language_info": {
   "codemirror_mode": {
    "name": "ipython",
    "version": 3
   },
   "file_extension": ".py",
   "mimetype": "text/x-python",
   "name": "python",
   "nbconvert_exporter": "python",
   "pygments_lexer": "ipython3",
   "version": "3.8.5"
  }
 },
 "nbformat": 4,
 "nbformat_minor": 5
}
