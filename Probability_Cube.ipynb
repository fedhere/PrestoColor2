{
 "cells": [
  {
   "cell_type": "code",
   "execution_count": 1,
   "id": "0818c696-e37a-4fe7-80e8-ec4b84cc2cfa",
   "metadata": {},
   "outputs": [],
   "source": [
    "%load_ext autoreload"
   ]
  },
  {
   "cell_type": "code",
   "execution_count": 2,
   "id": "63e25410-ccb3-4259-a0a3-bae4b1a99231",
   "metadata": {},
   "outputs": [],
   "source": [
    "%autoreload 2"
   ]
  },
  {
   "cell_type": "code",
   "execution_count": 1,
   "id": "60d1fd6c-eb69-4eb4-a1f0-5822ef62cfc1",
   "metadata": {
    "executionInfo": {
     "elapsed": 1444,
     "status": "ok",
     "timestamp": 1624840157559,
     "user": {
      "displayName": "Ming Lian",
      "photoUrl": "https://lh3.googleusercontent.com/a-/AOh14GjQ8HAUIvym1HvoVv0O1BcUOHYHSCRnHGpB6gN2=s64",
      "userId": "12705220457356801018"
     },
     "user_tz": 240
    },
    "id": "B8pritzK3y9C"
   },
   "outputs": [],
   "source": [
    "import os\n",
    "import numpy as np\n",
    "import matplotlib.pyplot as plt\n",
    "import math\n",
    "import time\n",
    "from scipy import interpolate\n",
    "import pickle\n",
    "from matplotlib.colors import LogNorm\n",
    "\n",
    "import Functions"
   ]
  },
  {
   "cell_type": "code",
   "execution_count": 2,
   "id": "c9423f52-5381-4980-ab86-b01a973b63ff",
   "metadata": {
    "executionInfo": {
     "elapsed": 360,
     "status": "ok",
     "timestamp": 1624840160209,
     "user": {
      "displayName": "Ming Lian",
      "photoUrl": "https://lh3.googleusercontent.com/a-/AOh14GjQ8HAUIvym1HvoVv0O1BcUOHYHSCRnHGpB6gN2=s64",
      "userId": "12705220457356801018"
     },
     "user_tz": 240
    },
    "id": "nmdUm3NY31OJ"
   },
   "outputs": [],
   "source": [
    "Path0 = '/global/homes/l/lianming/data/'\n",
    "Path1 = '/global/homes/l/lianming/data/Test_Interp'\n",
    "Path2 = '/global/homes/l/lianming/data/2Day_Interp'"
   ]
  },
  {
   "cell_type": "code",
   "execution_count": null,
   "id": "f9eb1ad5-23c6-49d2-84ce-78c087a98f4c",
   "metadata": {},
   "outputs": [],
   "source": []
  },
  {
   "cell_type": "code",
   "execution_count": 3,
   "id": "63a988f5-fc94-4d45-81fd-1120e05cedf0",
   "metadata": {},
   "outputs": [],
   "source": [
    "PathInterp = Path2\n",
    "\n",
    "EventNames = np.load(os.path.join(PathInterp, 'EventName.npy'))\n",
    "RateDict = {key:1 for key in EventNames}"
   ]
  },
  {
   "cell_type": "code",
   "execution_count": 8,
   "id": "75005ceb-a847-4da6-a0a9-81836dcdb1bb",
   "metadata": {},
   "outputs": [
    {
     "data": {
      "text/plain": [
       "{'AGN': 1,\n",
       " 'CART': 1,\n",
       " 'EB': 1,\n",
       " 'ILOT': 1,\n",
       " 'KN_B19': 1,\n",
       " 'KN_K17': 1,\n",
       " 'MIRA': 1,\n",
       " 'Mdwarf': 1,\n",
       " 'PISN': 1,\n",
       " 'RRL': 1,\n",
       " 'SLSN-I': 1,\n",
       " 'SNII-NMF': 1,\n",
       " 'SNII-Templates': 1,\n",
       " 'SNIIn': 1,\n",
       " 'SNIa-91bg': 1,\n",
       " 'SNIa-SALT2': 1,\n",
       " 'SNIax': 1,\n",
       " 'SNIbc-MOSFIT': 1,\n",
       " 'SNIbc-Templates': 1,\n",
       " 'TDE': 1,\n",
       " 'V19_CC+HostXT': 1,\n",
       " 'uLens-Binary': 1,\n",
       " 'uLens-Single-GenLens': 1,\n",
       " 'uLens-Single_PyLIMA': 1}"
      ]
     },
     "execution_count": 8,
     "metadata": {},
     "output_type": "execute_result"
    }
   ],
   "source": [
    "RateDict"
   ]
  },
  {
   "cell_type": "code",
   "execution_count": 9,
   "id": "79456473-dd90-4e42-a38e-714998f789fd",
   "metadata": {},
   "outputs": [],
   "source": [
    "#Coordinates\n",
    "\n",
    "CoordinateDict = {}\n",
    "\n",
    "# CoordinateDict['Bands'] = ['u', 'g', 'r', 'i', 'z', 'Y']\n",
    "CoordinateDict['Bands'] = ['g', 'i']\n",
    "CoordinateDict['dT1s'] = np.arange(30, 35, 30)\n",
    "CoordinateDict['dT2s'] =  np.arange(300, 320, 60)\n",
    "\n",
    "CoordinateDict['BinMag'] = np.arange(-1.25, 3.84, 0.1)\n",
    "CoordinateDict['BinColor'] = np.arange(-9.25, 9.8, 0.5)"
   ]
  },
  {
   "cell_type": "code",
   "execution_count": 10,
   "id": "cd95200a-6969-4beb-b86d-2c95ce8deba9",
   "metadata": {},
   "outputs": [],
   "source": [
    "HashTable = np.zeros([len(CoordinateDict['Bands']), len(CoordinateDict['Bands']), len(CoordinateDict['dT1s']), len(CoordinateDict['dT2s']), \n",
    "                      len(CoordinateDict['BinMag'])-1, len(CoordinateDict['BinColor'])-1], dtype='int32')"
   ]
  },
  {
   "cell_type": "code",
   "execution_count": 11,
   "id": "01ed063a-0a82-43a7-928b-dd8b58c2e5bd",
   "metadata": {},
   "outputs": [
    {
     "data": {
      "text/plain": [
       "array([30])"
      ]
     },
     "execution_count": 11,
     "metadata": {},
     "output_type": "execute_result"
    }
   ],
   "source": [
    "CoordinateDict['dT1s']"
   ]
  },
  {
   "cell_type": "code",
   "execution_count": 12,
   "id": "5c45fd94-5ca2-48fa-83d6-557d94cf0e8e",
   "metadata": {},
   "outputs": [
    {
     "data": {
      "text/plain": [
       "(2, 2, 1, 1, 50, 38)"
      ]
     },
     "execution_count": 12,
     "metadata": {},
     "output_type": "execute_result"
    }
   ],
   "source": [
    "HashTable.shape"
   ]
  },
  {
   "cell_type": "code",
   "execution_count": 13,
   "id": "fc32380b-1c4d-4c07-aaaf-949b4b22f575",
   "metadata": {},
   "outputs": [],
   "source": [
    "EventNames = [ 'SNII-NMF',\n",
    "              'SNIa-SALT2', \n",
    "              'uLens-Binary']"
   ]
  },
  {
   "cell_type": "code",
   "execution_count": 14,
   "id": "6e77277a-7558-4436-9585-df5df568074a",
   "metadata": {},
   "outputs": [],
   "source": [
    "EventNames = [ 'SNIa-SALT2']"
   ]
  },
  {
   "cell_type": "code",
   "execution_count": null,
   "id": "33f78e32-1762-4622-845b-409f67fe5ed9",
   "metadata": {},
   "outputs": [],
   "source": []
  },
  {
   "cell_type": "code",
   "execution_count": 35,
   "id": "602467b2-bfad-4f22-a2f3-a26fb7affcee",
   "metadata": {},
   "outputs": [
    {
     "name": "stdout",
     "output_type": "stream",
     "text": [
      "||\n",
      "||\n",
      "Finish!\n",
      "The range of dMag is [-0.034088492393891556, 1.5270173549829877].\n",
      "The range of Color is [-7.604756255950367, 7.66248983173152].\n",
      "7.473694241046905 min spent.\n"
     ]
    }
   ],
   "source": [
    "time1 = time.time()\n",
    "\n",
    "dMagRange = [[], []]\n",
    "ColorRange = [[], []]\n",
    "\n",
    "for EventName in EventNames:\n",
    "    \n",
    "    FilePath = os.path.join(PathInterp, EventName+'_Interp.pkl')\n",
    "    with open(FilePath, 'rb') as f:\n",
    "        Interp_load = pickle.load(f)\n",
    "        TimeRange_load = pickle.load(f)  \n",
    "\n",
    "    for ii, Band1 in enumerate(CoordinateDict['Bands']):\n",
    "        for jj, Band2 in enumerate(CoordinateDict['Bands']):\n",
    "            if jj==ii:\n",
    "                continue\n",
    "            else:\n",
    "                for kk, dT1 in enumerate(CoordinateDict['dT1s']):\n",
    "                    for ll, dT2 in enumerate(CoordinateDict['dT2s']):\n",
    "\n",
    "                        data = Functions.CalculateMap(Interp_load, TimeRange_load, \n",
    "                                     Band1, Band2, dT1, dT2, PointsPDay=12);\n",
    "\n",
    "                        histdata,_,_ = np.histogram2d(data[0], data[1], bins=[CoordinateDict['BinMag'], CoordinateDict['BinColor']])\n",
    "\n",
    "                        dMagRange[0].append(data[0].min())\n",
    "                        dMagRange[1].append(data[0].max())\n",
    "                        ColorRange[0].append(data[1].min())\n",
    "                        ColorRange[1].append(data[1].max())\n",
    "                        \n",
    "                        outliersNo = len(data[0]) - np.sum(histdata)\n",
    "                        if outliersNo != 0:\n",
    "                            print('{:.0f} outliers found!'.format(outliersNo), end='')\n",
    "\n",
    "#                         HashTable[ii, jj, kk, ll] = histdata*RateDict[EventName] + HashTable[ii, jj, kk, ll]\n",
    "                        HashTable[ii, jj, kk, ll] = histdata + HashTable[ii, jj, kk, ll]\n",
    "\n",
    "\n",
    "                        print('|', end='')\n",
    "                    \n",
    "        print('')\n",
    "            \n",
    "print('Finish!')\n",
    "\n",
    "print( 'The range of dMag is [{}, {}].'.format( min(dMagRange[0]), max(dMagRange[1])) ) \n",
    "print( 'The range of Color is [{}, {}].'.format( min(ColorRange[0]), max(ColorRange[1])) )\n",
    "\n",
    "print( '{} min spent.'.format( (time.time() - time1)/60 ))"
   ]
  },
  {
   "cell_type": "code",
   "execution_count": null,
   "id": "a0244f82-399e-4f54-a896-f55baf7a1ed8",
   "metadata": {},
   "outputs": [],
   "source": []
  },
  {
   "cell_type": "code",
   "execution_count": 170,
   "id": "2c339c86-be5d-49af-b537-e321449e6546",
   "metadata": {},
   "outputs": [],
   "source": [
    "with open('ProbabilityCube_SNIa_1Slice0.1.pkl', 'wb') as f:\n",
    "    pickle.dump(EventNames, f)\n",
    "    pickle.dump(CoordinateDict, f)\n",
    "    pickle.dump(HashTable, f ) "
   ]
  },
  {
   "cell_type": "code",
   "execution_count": null,
   "id": "042991f2-ab33-4688-a00b-2d11fd903a42",
   "metadata": {},
   "outputs": [],
   "source": []
  },
  {
   "cell_type": "code",
   "execution_count": null,
   "id": "8ecc1314-8e54-400b-affd-a4f68841131e",
   "metadata": {},
   "outputs": [],
   "source": []
  },
  {
   "cell_type": "code",
   "execution_count": 36,
   "id": "83fc3a62-0464-4db7-a674-a414e6be5598",
   "metadata": {},
   "outputs": [
    {
     "data": {
      "text/plain": [
       "900"
      ]
     },
     "execution_count": 36,
     "metadata": {},
     "output_type": "execute_result"
    }
   ],
   "source": [
    "len(dMagRange[0])"
   ]
  },
  {
   "cell_type": "code",
   "execution_count": 74,
   "id": "e8676094-c450-4b14-8cbf-a23f664ae967",
   "metadata": {},
   "outputs": [
    {
     "data": {
      "text/plain": [
       "[<matplotlib.lines.Line2D at 0x2aaad5000890>,\n",
       " <matplotlib.lines.Line2D at 0x2aab0890d910>]"
      ]
     },
     "execution_count": 74,
     "metadata": {},
     "output_type": "execute_result"
    },
    {
     "data": {
      "image/png": "[encoded data removed]",
      "text/plain": [
       "<Figure size 432x288 with 1 Axes>"
      ]
     },
     "metadata": {
      "needs_background": "light"
     },
     "output_type": "display_data"
    }
   ],
   "source": [
    "plt.plot(dMagRange[0], ColorRange[0], '.', dMagRange[1], ColorRange[1], '.')"
   ]
  },
  {
   "cell_type": "code",
   "execution_count": 66,
   "id": "30bb5801-8ed2-4521-b07f-98413617d3e1",
   "metadata": {},
   "outputs": [
    {
     "name": "stdout",
     "output_type": "stream",
     "text": [
      "The range of dMag is [-0.14117995898093127, 0.3533891836843317].\n",
      "The range of Color is [-8.942305388341218, 8.931305717655285].\n"
     ]
    }
   ],
   "source": [
    "print( 'The range of dMag is [{}, {}].'.format( min(dMagRange[0]), max(dMagRange[1])) ) \n",
    "print( 'The range of Color is [{}, {}].'.format( min(ColorRange[0]), max(ColorRange[1])) )"
   ]
  },
  {
   "cell_type": "code",
   "execution_count": 64,
   "id": "c568f741-2ab0-4cd0-97d0-9b10eb984449",
   "metadata": {},
   "outputs": [
    {
     "data": {
      "text/plain": [
       "-0.14117995898093127"
      ]
     },
     "execution_count": 64,
     "metadata": {},
     "output_type": "execute_result"
    }
   ],
   "source": [
    "min(dMagRange[0])"
   ]
  },
  {
   "cell_type": "code",
   "execution_count": null,
   "id": "01bdb9ee-f6d7-4d96-be44-f07622b07cfe",
   "metadata": {},
   "outputs": [],
   "source": []
  },
  {
   "cell_type": "code",
   "execution_count": null,
   "id": "baa7fe09-af39-4edc-9b69-45890453e286",
   "metadata": {},
   "outputs": [],
   "source": []
  },
  {
   "cell_type": "code",
   "execution_count": 4,
   "id": "71a312fc-984b-4aee-adb4-bdfc4ea425ac",
   "metadata": {},
   "outputs": [],
   "source": [
    "FilePath = '/global/homes/l/lianming/data/2Day_Interp/SNIa-SALT2_Interp.pkl'"
   ]
  },
  {
   "cell_type": "code",
   "execution_count": 5,
   "id": "5aa652f7-f0d5-46d8-a924-8c32cfeb9119",
   "metadata": {},
   "outputs": [],
   "source": [
    "with open(FilePath, 'rb') as f:\n",
    "        Interp_load = pickle.load(f)\n",
    "        TimeRange_load = pickle.load(f)  "
   ]
  },
  {
   "cell_type": "code",
   "execution_count": 6,
   "id": "0e7a0b80-3e2f-46a7-9cc9-764fe6838176",
   "metadata": {},
   "outputs": [
    {
     "name": "stdout",
     "output_type": "stream",
     "text": [
      "11.4 s ± 366 ms per loop (mean ± std. dev. of 7 runs, 1 loop each)\n"
     ]
    }
   ],
   "source": [
    "%timeit data = Functions.CalculateMap(Interp_load, TimeRange_load, 'g', 'i', 30, 300, PointsPDay=0.1);"
   ]
  },
  {
   "cell_type": "code",
   "execution_count": 23,
   "id": "80e5c684-a3b4-4bed-96be-471c54d65647",
   "metadata": {},
   "outputs": [
    {
     "name": "stdout",
     "output_type": "stream",
     "text": [
      "35.1 s ± 793 ms per loop (mean ± std. dev. of 7 runs, 1 loop each)\n"
     ]
    }
   ],
   "source": [
    "%timeit data = Functions.CalculateMap(Interp_load, TimeRange_load, 'g', 'i', 30, 300, PointsPDay=1);"
   ]
  },
  {
   "cell_type": "code",
   "execution_count": 24,
   "id": "be0a21ee-eaeb-4618-944e-4e927fc430f9",
   "metadata": {},
   "outputs": [
    {
     "name": "stdout",
     "output_type": "stream",
     "text": [
      "1min 2s ± 736 ms per loop (mean ± std. dev. of 7 runs, 1 loop each)\n"
     ]
    }
   ],
   "source": [
    "%timeit data = Functions.CalculateMap(Interp_load, TimeRange_load, 'g', 'i', 30, 300, PointsPDay=3);"
   ]
  },
  {
   "cell_type": "code",
   "execution_count": 25,
   "id": "946d73de-5d5e-499c-a643-d385e73d9a32",
   "metadata": {},
   "outputs": [
    {
     "name": "stdout",
     "output_type": "stream",
     "text": [
      "1min 46s ± 2.92 s per loop (mean ± std. dev. of 7 runs, 1 loop each)\n"
     ]
    }
   ],
   "source": [
    "%timeit data = Functions.CalculateMap(Interp_load, TimeRange_load, 'g', 'i', 30, 300, PointsPDay=6);"
   ]
  },
  {
   "cell_type": "code",
   "execution_count": null,
   "id": "e6d919ac-8277-49fa-be4e-c7578cd9402e",
   "metadata": {},
   "outputs": [],
   "source": []
  },
  {
   "cell_type": "code",
   "execution_count": 26,
   "id": "e1a9f525-a3a3-40da-8255-e375c45f0675",
   "metadata": {},
   "outputs": [
    {
     "name": "stdout",
     "output_type": "stream",
     "text": [
      "35.3 s ± 893 ms per loop (mean ± std. dev. of 7 runs, 1 loop each)\n"
     ]
    }
   ],
   "source": [
    "%timeit data = Functions.CalculateMap(Interp_load, TimeRange_load, 'g', 'i', 30, 300, PointsPDay=1);"
   ]
  },
  {
   "cell_type": "code",
   "execution_count": 27,
   "id": "a0c03f4d-9fae-4bde-a29a-2ee6d64e8330",
   "metadata": {},
   "outputs": [
    {
     "name": "stdout",
     "output_type": "stream",
     "text": [
      "1min 11s ± 6.14 s per loop (mean ± std. dev. of 7 runs, 1 loop each)\n"
     ]
    }
   ],
   "source": [
    "%timeit data = Functions.CalculateMap(Interp_load, TimeRange_load, 'g', 'i', 30, 300, PointsPDay=3);"
   ]
  },
  {
   "cell_type": "code",
   "execution_count": 28,
   "id": "fb5a4487-10c1-4a16-ab63-f339861ab50a",
   "metadata": {},
   "outputs": [
    {
     "name": "stdout",
     "output_type": "stream",
     "text": [
      "1min 57s ± 11.7 s per loop (mean ± std. dev. of 7 runs, 1 loop each)\n"
     ]
    }
   ],
   "source": [
    "%timeit data = Functions.CalculateMap(Interp_load, TimeRange_load, 'g', 'i', 30, 300, PointsPDay=6);"
   ]
  },
  {
   "cell_type": "code",
   "execution_count": null,
   "id": "4ad49c94-911a-4e66-88d1-c011f1e9e1c4",
   "metadata": {},
   "outputs": [],
   "source": []
  },
  {
   "cell_type": "code",
   "execution_count": null,
   "id": "4fb13b2e-0833-459a-ba76-de20f93375de",
   "metadata": {},
   "outputs": [],
   "source": []
  },
  {
   "cell_type": "code",
   "execution_count": 52,
   "id": "cb8c4646-5f4b-4950-a9bc-d3c7090decad",
   "metadata": {},
   "outputs": [
    {
     "name": "stdout",
     "output_type": "stream",
     "text": [
      "48.4 s ± 686 ms per loop (mean ± std. dev. of 7 runs, 1 loop each)\n"
     ]
    }
   ],
   "source": [
    "%timeit data = Functions.CalculateMap1(Interp_load, TimeRange_load, 'g', 'i', 30, 300, PointsPDay=1);"
   ]
  },
  {
   "cell_type": "code",
   "execution_count": 54,
   "id": "85d61d15-f912-4b75-a1ad-c82f25115736",
   "metadata": {},
   "outputs": [
    {
     "name": "stdout",
     "output_type": "stream",
     "text": [
      "6min 56s ± 14.3 s per loop (mean ± std. dev. of 7 runs, 1 loop each)\n"
     ]
    }
   ],
   "source": [
    "%timeit data = Functions.CalculateMap1(Interp_load, TimeRange_load, 'g', 'i', 30, 300, PointsPDay=12);"
   ]
  },
  {
   "cell_type": "code",
   "execution_count": null,
   "id": "06f44441-e675-449e-adef-7d7f81b52267",
   "metadata": {},
   "outputs": [],
   "source": []
  },
  {
   "cell_type": "code",
   "execution_count": 14,
   "id": "7eac793b-36a1-4a98-883c-08f013f21fc7",
   "metadata": {},
   "outputs": [],
   "source": [
    "with open('/global/homes/l/lianming/data/Test_Interp/KN_B19_Interp.pkl', 'rb') as f:\n",
    "    Interp = pickle.load(f)\n",
    "    Time = pickle.load(f)"
   ]
  },
  {
   "cell_type": "code",
   "execution_count": 38,
   "id": "42103b36-1ffe-4813-8387-5d4db0a01431",
   "metadata": {},
   "outputs": [
    {
     "data": {
      "text/plain": [
       "-1.313423008342653"
      ]
     },
     "execution_count": 38,
     "metadata": {},
     "output_type": "execute_result"
    }
   ],
   "source": [
    "min(dMagRange[0])"
   ]
  },
  {
   "cell_type": "code",
   "execution_count": null,
   "id": "42438714-953f-4fee-a2f1-b2d6a229f67f",
   "metadata": {},
   "outputs": [],
   "source": []
  },
  {
   "cell_type": "code",
   "execution_count": 134,
   "id": "ca97da8d-9f3c-47f1-b426-63983e7a8ad1",
   "metadata": {},
   "outputs": [],
   "source": [
    "with open('/global/homes/l/lianming/ProbabilityCube_Sep20_15:15_SNIa-SALT2', 'rb') as f:\n",
    "    EventNames = pickle.load(f)\n",
    "    InfoDict = pickle.load(f)\n",
    "    HashTable = pickle.load(f)"
   ]
  },
  {
   "cell_type": "code",
   "execution_count": 135,
   "id": "d525cdb1-e3d0-4588-821f-39410d57171e",
   "metadata": {},
   "outputs": [
    {
     "data": {
      "text/plain": [
       "{'EventNames': ['SNIa-SALT2'],\n",
       " 'Bands': ['g', 'i'],\n",
       " 'dT1s': array([120]),\n",
       " 'dT2s': array([0]),\n",
       " 'BinMag': array([-1.25, -1.15, -1.05, -0.95, -0.85, -0.75, -0.65, -0.55, -0.45,\n",
       "        -0.35, -0.25, -0.15, -0.05,  0.05,  0.15,  0.25,  0.35,  0.45,\n",
       "         0.55,  0.65,  0.75,  0.85,  0.95,  1.05,  1.15,  1.25,  1.35,\n",
       "         1.45,  1.55,  1.65,  1.75,  1.85,  1.95,  2.05,  2.15,  2.25,\n",
       "         2.35,  2.45,  2.55,  2.65,  2.75,  2.85,  2.95,  3.05,  3.15,\n",
       "         3.25,  3.35,  3.45,  3.55,  3.65,  3.75]),\n",
       " 'BinColor': array([-9.25, -8.75, -8.25, -7.75, -7.25, -6.75, -6.25, -5.75, -5.25,\n",
       "        -4.75, -4.25, -3.75, -3.25, -2.75, -2.25, -1.75, -1.25, -0.75,\n",
       "        -0.25,  0.25,  0.75,  1.25,  1.75,  2.25,  2.75,  3.25,  3.75,\n",
       "         4.25,  4.75,  5.25,  5.75,  6.25,  6.75,  7.25,  7.75,  8.25,\n",
       "         8.75,  9.25,  9.75])}"
      ]
     },
     "execution_count": 135,
     "metadata": {},
     "output_type": "execute_result"
    }
   ],
   "source": [
    "InfoDict"
   ]
  },
  {
   "cell_type": "code",
   "execution_count": 136,
   "id": "a76bbd1b-fb9f-4383-a4cf-56181f26738f",
   "metadata": {},
   "outputs": [
    {
     "data": {
      "text/plain": [
       "(2, 2, 1, 1, 50, 38)"
      ]
     },
     "execution_count": 136,
     "metadata": {},
     "output_type": "execute_result"
    }
   ],
   "source": [
    "HashTable.shape"
   ]
  },
  {
   "cell_type": "code",
   "execution_count": 138,
   "id": "b739ae39-b4cb-4249-ae88-69bddd2f84ae",
   "metadata": {},
   "outputs": [
    {
     "data": {
      "text/plain": [
       "<matplotlib.collections.PolyCollection at 0x2aaadac3c310>"
      ]
     },
     "execution_count": 138,
     "metadata": {},
     "output_type": "execute_result"
    },
    {
     "data": {
      "image/png": "[encoded data removed]",
      "text/plain": [
       "<Figure size 1080x720 with 1 Axes>"
      ]
     },
     "metadata": {
      "needs_background": "light"
     },
     "output_type": "display_data"
    }
   ],
   "source": [
    "#If dMag and Color are not given, a 2-D array will be returned.\n",
    "fig, ax = plt.subplots(1, 1, figsize=(15, 10))\n",
    "\n",
    "Map = Enquiry(HashTable, InfoDict, 'i', 'i', 120, 0)\n",
    "plt.pcolor(InfoDict['BinMag'], InfoDict['BinColor'], np.transpose(Map)+1, edgecolors='face',\n",
    "           norm=LogNorm(1, vmax=Map.max()+1), cmap='gist_gray')\n",
    "# plt.xlim([-0.5, 2.5])\n",
    "# plt.ylim([-7.5, 4])\n",
    "# plt.axis('equal')\n",
    "\n",
    "# plt.legend()"
   ]
  },
  {
   "cell_type": "code",
   "execution_count": 123,
   "id": "cc72979c-2743-4058-bd91-2e3549493cbf",
   "metadata": {},
   "outputs": [],
   "source": [
    "Map"
   ]
  },
  {
   "cell_type": "code",
   "execution_count": null,
   "id": "1f275455-1e2b-42c5-a1f2-c4eae1da3a71",
   "metadata": {},
   "outputs": [],
   "source": []
  },
  {
   "cell_type": "code",
   "execution_count": 125,
   "id": "a9c56498-2b6e-4caa-a5c4-783c9877dcec",
   "metadata": {},
   "outputs": [
    {
     "name": "stdout",
     "output_type": "stream",
     "text": [
      "The value of dT1 is out of boundary, the available interval is [120.00, 120.00).\n"
     ]
    }
   ],
   "source": [
    "Map = Enquiry(HashTable, InfoDict, 'g', 'i', 60, 450)"
   ]
  },
  {
   "cell_type": "code",
   "execution_count": null,
   "id": "28214052-3513-438b-92e4-c0e6e56b2d02",
   "metadata": {},
   "outputs": [],
   "source": []
  },
  {
   "cell_type": "code",
   "execution_count": 131,
   "id": "ddeb2bf6-066e-49b2-9316-fa3eef398772",
   "metadata": {},
   "outputs": [],
   "source": [
    "def Enquiry(HashTable, InfoDict, Band1, Band2, dT1, dT2, dMag=None, Color=None):\n",
    "\n",
    "    Ind1 = InfoDict['Bands'].index(Band1)\n",
    "    Ind2 = InfoDict['Bands'].index(Band2)\n",
    "\n",
    "    if dT1<InfoDict['dT1s'][0] or dT1>InfoDict['dT1s'][-1]:\n",
    "        raise ValueError('The value of dT1 is out of boundary, the available interval is [{:.2f}, {:.2f}].'.format(InfoDict['dT1s'][0], InfoDict['dT1s'][-1]))\n",
    "        \n",
    "    else:\n",
    "        Ind3 = np.where( dT1 >= InfoDict['dT1s'] )[0][-1]\n",
    "\n",
    "    if dT2<InfoDict['dT2s'][0] or dT2>InfoDict['dT2s'][-1]:\n",
    "        raise ValueError('The value of dT2 is out of boundary, the available interval is [{:.2f}, {:.2f}].'.format(InfoDict['dT2s'][0], InfoDict['dT2s'][-1]))\n",
    "    else:\n",
    "        Ind4 = np.where( dT2 >= InfoDict['dT2s'] )[0][-1]\n",
    "\n",
    "    Results = HashTable[Ind1, Ind2, Ind3, Ind4]\n",
    "\n",
    "    if dMag == None:\n",
    "        pass        \n",
    "    elif dMag<InfoDict['BinMag'][0] or dMag>=InfoDict['BinMag'][-1]:\n",
    "        raise ValueError('The value of dMag is out of boundary, the available interval is [{:.2f}, {:.2f}).'.format(InfoDict['BinMag'][0], InfoDict['BinMag'][-1]))\n",
    "        \n",
    "    else:\n",
    "        Results = Results[np.where( dMag >= InfoDict['BinMag'] )[0][-1]]       \n",
    "\n",
    "    if Color == None:\n",
    "        pass        \n",
    "    elif Color<InfoDict['BinColor'][0] or Color>=InfoDict['BinColor'][-1]:\n",
    "        raise ValueError('The value of Color is out of boundary, the available interval is [{:.2f}, {:.2f}).'.format(InfoDict['BinColor'][0], InfoDict['BinColor'][-1]))\n",
    "        \n",
    "    else:\n",
    "        Results = Results[..., np.where( Color >= InfoDict['BinColor'] )[0][-1] ]\n",
    "\n",
    "    return Results"
   ]
  },
  {
   "cell_type": "code",
   "execution_count": null,
   "id": "889f491e-871b-4fd0-8bf5-916e9aca97ee",
   "metadata": {},
   "outputs": [],
   "source": []
  }
 ],
 "metadata": {
  "kernelspec": {
   "display_name": "Python 3",
   "language": "python",
   "name": "python3"
  },
  "language_info": {
   "codemirror_mode": {
    "name": "ipython",
    "version": 3
   },
   "file_extension": ".py",
   "mimetype": "text/x-python",
   "name": "python",
   "nbconvert_exporter": "python",
   "pygments_lexer": "ipython3",
   "version": "3.7.4"
  }
 },
 "nbformat": 4,
 "nbformat_minor": 5
}
