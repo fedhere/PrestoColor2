{
 "cells": [
  {
   "cell_type": "code",
   "execution_count": 1,
   "id": "0818c696-e37a-4fe7-80e8-ec4b84cc2cfa",
   "metadata": {},
   "outputs": [],
   "source": [
    "%load_ext autoreload"
   ]
  },
  {
   "cell_type": "code",
   "execution_count": 2,
   "id": "63e25410-ccb3-4259-a0a3-bae4b1a99231",
   "metadata": {},
   "outputs": [],
   "source": [
    "%autoreload 2"
   ]
  },
  {
   "cell_type": "code",
   "execution_count": 3,
   "id": "60d1fd6c-eb69-4eb4-a1f0-5822ef62cfc1",
   "metadata": {
    "executionInfo": {
     "elapsed": 1444,
     "status": "ok",
     "timestamp": 1624840157559,
     "user": {
      "displayName": "Ming Lian",
      "photoUrl": "https://lh3.googleusercontent.com/a-/AOh14GjQ8HAUIvym1HvoVv0O1BcUOHYHSCRnHGpB6gN2=s64",
      "userId": "12705220457356801018"
     },
     "user_tz": 240
    },
    "id": "B8pritzK3y9C"
   },
   "outputs": [],
   "source": [
    "import os\n",
    "import numpy as np\n",
    "import matplotlib.pyplot as plt\n",
    "import math\n",
    "import time\n",
    "from scipy import interpolate\n",
    "import pickle\n",
    "from matplotlib.colors import LogNorm\n",
    "\n",
    "import Functions"
   ]
  },
  {
   "cell_type": "code",
   "execution_count": 4,
   "id": "c9423f52-5381-4980-ab86-b01a973b63ff",
   "metadata": {
    "executionInfo": {
     "elapsed": 360,
     "status": "ok",
     "timestamp": 1624840160209,
     "user": {
      "displayName": "Ming Lian",
      "photoUrl": "https://lh3.googleusercontent.com/a-/AOh14GjQ8HAUIvym1HvoVv0O1BcUOHYHSCRnHGpB6gN2=s64",
      "userId": "12705220457356801018"
     },
     "user_tz": 240
    },
    "id": "nmdUm3NY31OJ"
   },
   "outputs": [],
   "source": [
    "Path0 = '/global/homes/l/lianming/Presto-Color-2/data/'\n",
    "Path1 = '/global/homes/l/lianming/Presto-Color-2/data/Test_Interp'\n",
    "Path2 = '/global/homes/l/lianming/Presto-Color-2/data/2Day_Interp'"
   ]
  },
  {
   "cell_type": "code",
   "execution_count": 5,
   "id": "4e514667-edb7-4dc9-8452-e8d2b73e79bb",
   "metadata": {},
   "outputs": [],
   "source": [
    "Path0 = '/global/homes/l/lianming/Presto-Color-2/data'\n",
    "Path1 = '/global/homes/l/lianming/Presto-Color-2/data/Test_Interp'\n",
    "Path2 = '/global/homes/l/lianming/Presto-Color-2/data/2Day_Interp'\n",
    "\n",
    "PathInterp = Path2\n",
    "\n",
    "####### Parameter setting\n",
    "\n",
    "EventNames = np.load(os.path.join(PathInterp, 'EventName.npy'))"
   ]
  },
  {
   "cell_type": "code",
   "execution_count": 6,
   "id": "2a114e28-298b-43b1-b1ab-ca642ae0c2d8",
   "metadata": {},
   "outputs": [
    {
     "data": {
      "text/plain": [
       "array(['AGN', 'CART', 'EB', 'ILOT', 'KN_B19', 'KN_K17', 'MIRA', 'Mdwarf',\n",
       "       'PISN', 'RRL', 'SLSN-I', 'SNII-NMF', 'SNII-Templates', 'SNIIn',\n",
       "       'SNIa-91bg', 'SNIa-SALT2', 'SNIax', 'SNIbc-MOSFIT',\n",
       "       'SNIbc-Templates', 'TDE', 'V19_CC+HostXT', 'uLens-Binary',\n",
       "       'uLens-Single-GenLens', 'uLens-Single_PyLIMA'], dtype='<U20')"
      ]
     },
     "execution_count": 6,
     "metadata": {},
     "output_type": "execute_result"
    }
   ],
   "source": [
    "EventNames"
   ]
  },
  {
   "cell_type": "code",
   "execution_count": 7,
   "id": "3440e435-269c-40f2-9f97-44870204e9e6",
   "metadata": {},
   "outputs": [
    {
     "data": {
      "text/plain": [
       "24"
      ]
     },
     "execution_count": 7,
     "metadata": {},
     "output_type": "execute_result"
    }
   ],
   "source": [
    "len(EventNames)"
   ]
  },
  {
   "cell_type": "code",
   "execution_count": 8,
   "id": "63a988f5-fc94-4d45-81fd-1120e05cedf0",
   "metadata": {},
   "outputs": [],
   "source": [
    "PathInterp = Path2\n",
    "\n",
    "EventNames = np.load(os.path.join(PathInterp, 'EventName.npy'))\n",
    "RateDict = {key:1 for key in EventNames}"
   ]
  },
  {
   "cell_type": "code",
   "execution_count": 9,
   "id": "75005ceb-a847-4da6-a0a9-81836dcdb1bb",
   "metadata": {},
   "outputs": [
    {
     "data": {
      "text/plain": [
       "{'AGN': 1,\n",
       " 'CART': 1,\n",
       " 'EB': 1,\n",
       " 'ILOT': 1,\n",
       " 'KN_B19': 1,\n",
       " 'KN_K17': 1,\n",
       " 'MIRA': 1,\n",
       " 'Mdwarf': 1,\n",
       " 'PISN': 1,\n",
       " 'RRL': 1,\n",
       " 'SLSN-I': 1,\n",
       " 'SNII-NMF': 1,\n",
       " 'SNII-Templates': 1,\n",
       " 'SNIIn': 1,\n",
       " 'SNIa-91bg': 1,\n",
       " 'SNIa-SALT2': 1,\n",
       " 'SNIax': 1,\n",
       " 'SNIbc-MOSFIT': 1,\n",
       " 'SNIbc-Templates': 1,\n",
       " 'TDE': 1,\n",
       " 'V19_CC+HostXT': 1,\n",
       " 'uLens-Binary': 1,\n",
       " 'uLens-Single-GenLens': 1,\n",
       " 'uLens-Single_PyLIMA': 1}"
      ]
     },
     "execution_count": 9,
     "metadata": {},
     "output_type": "execute_result"
    }
   ],
   "source": [
    "RateDict"
   ]
  },
  {
   "cell_type": "code",
   "execution_count": 9,
   "id": "79456473-dd90-4e42-a38e-714998f789fd",
   "metadata": {},
   "outputs": [],
   "source": [
    "#Coordinates\n",
    "\n",
    "CoordinateDict = {}\n",
    "\n",
    "# CoordinateDict['Bands'] = ['u', 'g', 'r', 'i', 'z', 'Y']\n",
    "CoordinateDict['Bands'] = ['g', 'i']\n",
    "CoordinateDict['dT1s'] = np.arange(60, 65, 30)\n",
    "CoordinateDict['dT2s'] =  np.arange(450, 460, 60)\n",
    "\n",
    "CoordinateDict['BinMag'] = np.arange(-1.25, 3.84, 0.1)\n",
    "CoordinateDict['BinColor'] = np.arange(-9.25, 9.8, 0.5)"
   ]
  },
  {
   "cell_type": "code",
   "execution_count": 10,
   "id": "cd95200a-6969-4beb-b86d-2c95ce8deba9",
   "metadata": {},
   "outputs": [],
   "source": [
    "HashTable = np.zeros([len(CoordinateDict['Bands']), len(CoordinateDict['Bands']), len(CoordinateDict['dT1s']), len(CoordinateDict['dT2s']), \n",
    "                      len(CoordinateDict['BinMag'])-1, len(CoordinateDict['BinColor'])-1], dtype='int32')"
   ]
  },
  {
   "cell_type": "code",
   "execution_count": 13,
   "id": "01ed063a-0a82-43a7-928b-dd8b58c2e5bd",
   "metadata": {},
   "outputs": [
    {
     "data": {
      "text/plain": [
       "{'Bands': ['g', 'i'],\n",
       " 'dT1s': array([60]),\n",
       " 'dT2s': array([450]),\n",
       " 'BinMag': array([-1.25, -1.15, -1.05, -0.95, -0.85, -0.75, -0.65, -0.55, -0.45,\n",
       "        -0.35, -0.25, -0.15, -0.05,  0.05,  0.15,  0.25,  0.35,  0.45,\n",
       "         0.55,  0.65,  0.75,  0.85,  0.95,  1.05,  1.15,  1.25,  1.35,\n",
       "         1.45,  1.55,  1.65,  1.75,  1.85,  1.95,  2.05,  2.15,  2.25,\n",
       "         2.35,  2.45,  2.55,  2.65,  2.75,  2.85,  2.95,  3.05,  3.15,\n",
       "         3.25,  3.35,  3.45,  3.55,  3.65,  3.75]),\n",
       " 'BinColor': array([-9.25, -8.75, -8.25, -7.75, -7.25, -6.75, -6.25, -5.75, -5.25,\n",
       "        -4.75, -4.25, -3.75, -3.25, -2.75, -2.25, -1.75, -1.25, -0.75,\n",
       "        -0.25,  0.25,  0.75,  1.25,  1.75,  2.25,  2.75,  3.25,  3.75,\n",
       "         4.25,  4.75,  5.25,  5.75,  6.25,  6.75,  7.25,  7.75,  8.25,\n",
       "         8.75,  9.25,  9.75])}"
      ]
     },
     "execution_count": 13,
     "metadata": {},
     "output_type": "execute_result"
    }
   ],
   "source": [
    "CoordinateDict"
   ]
  },
  {
   "cell_type": "code",
   "execution_count": 12,
   "id": "5c45fd94-5ca2-48fa-83d6-557d94cf0e8e",
   "metadata": {},
   "outputs": [
    {
     "data": {
      "text/plain": [
       "(2, 2, 1, 1, 50, 38)"
      ]
     },
     "execution_count": 12,
     "metadata": {},
     "output_type": "execute_result"
    }
   ],
   "source": [
    "HashTable.shape"
   ]
  },
  {
   "cell_type": "code",
   "execution_count": 11,
   "id": "fc32380b-1c4d-4c07-aaaf-949b4b22f575",
   "metadata": {},
   "outputs": [],
   "source": [
    "EventNames = [ 'SNII-NMF',\n",
    "              'SNIa-SALT2', \n",
    "              'uLens-Binary']"
   ]
  },
  {
   "cell_type": "code",
   "execution_count": 14,
   "id": "6e77277a-7558-4436-9585-df5df568074a",
   "metadata": {},
   "outputs": [],
   "source": [
    "EventNames = [ 'SNIa-SALT2']"
   ]
  },
  {
   "cell_type": "code",
   "execution_count": null,
   "id": "33f78e32-1762-4622-845b-409f67fe5ed9",
   "metadata": {},
   "outputs": [],
   "source": []
  },
  {
   "cell_type": "code",
   "execution_count": 15,
   "id": "602467b2-bfad-4f22-a2f3-a26fb7affcee",
   "metadata": {},
   "outputs": [
    {
     "name": "stdout",
     "output_type": "stream",
     "text": [
      "|\n",
      "|\n",
      "Finish!\n",
      "The range of dMag is [-0.05113273859024048, 2.057286500930786].\n",
      "The range of Color is [-5.542726860688493, 5.629779853974355].\n",
      "10.151674171288809 min spent.\n"
     ]
    }
   ],
   "source": [
    "time1 = time.time()\n",
    "\n",
    "dMagRange = [[], []]\n",
    "ColorRange = [[], []]\n",
    "\n",
    "for EventName in EventNames:\n",
    "    \n",
    "    FilePath = os.path.join(PathInterp, EventName+'_Interp.pkl')\n",
    "    with open(FilePath, 'rb') as f:\n",
    "        Interp_load = pickle.load(f)\n",
    "        TimeRange_load = pickle.load(f)  \n",
    "\n",
    "    for ii, Band1 in enumerate(CoordinateDict['Bands']):\n",
    "        for jj, Band2 in enumerate(CoordinateDict['Bands']):\n",
    "            if jj==ii:\n",
    "                continue\n",
    "            else:\n",
    "                for kk, dT1 in enumerate(CoordinateDict['dT1s']):\n",
    "                    for ll, dT2 in enumerate(CoordinateDict['dT2s']):\n",
    "\n",
    "                        data = Functions.CalculateMap(Interp_load, TimeRange_load, \n",
    "                                     Band1, Band2, dT1, dT2, PointsPDay=12);\n",
    "\n",
    "                        histdata,_,_ = np.histogram2d(data[0], data[1], bins=[CoordinateDict['BinMag'], CoordinateDict['BinColor']])\n",
    "\n",
    "                        dMagRange[0].append(data[0].min())\n",
    "                        dMagRange[1].append(data[0].max())\n",
    "                        ColorRange[0].append(data[1].min())\n",
    "                        ColorRange[1].append(data[1].max())\n",
    "                        \n",
    "                        outliersNo = len(data[0]) - np.sum(histdata)\n",
    "                        if outliersNo != 0:\n",
    "                            print('{:.0f} outliers found!'.format(outliersNo), end='')\n",
    "\n",
    "#                         HashTable[ii, jj, kk, ll] = histdata*RateDict[EventName] + HashTable[ii, jj, kk, ll]\n",
    "                        HashTable[ii, jj, kk, ll] = histdata + HashTable[ii, jj, kk, ll]\n",
    "\n",
    "\n",
    "                        print('|', end='')\n",
    "                    \n",
    "        print('')\n",
    "            \n",
    "print('Finish!')\n",
    "\n",
    "print( 'The range of dMag is [{}, {}].'.format( min(dMagRange[0]), max(dMagRange[1])) ) \n",
    "print( 'The range of Color is [{}, {}].'.format( min(ColorRange[0]), max(ColorRange[1])) )\n",
    "\n",
    "print( '{} min spent.'.format( (time.time() - time1)/60 ))"
   ]
  },
  {
   "cell_type": "code",
   "execution_count": null,
   "id": "71a87644-d944-4dc9-81be-1e5e99e3665e",
   "metadata": {},
   "outputs": [],
   "source": []
  },
  {
   "cell_type": "code",
   "execution_count": null,
   "id": "a0244f82-399e-4f54-a896-f55baf7a1ed8",
   "metadata": {},
   "outputs": [],
   "source": []
  },
  {
   "cell_type": "code",
   "execution_count": 170,
   "id": "2c339c86-be5d-49af-b537-e321449e6546",
   "metadata": {},
   "outputs": [],
   "source": [
    "with open('ProbabilityCube_SNIa_1Slice0.1.pkl', 'wb') as f:\n",
    "    pickle.dump(EventNames, f)\n",
    "    pickle.dump(CoordinateDict, f)\n",
    "    pickle.dump(HashTable, f ) "
   ]
  },
  {
   "cell_type": "code",
   "execution_count": null,
   "id": "8ecc1314-8e54-400b-affd-a4f68841131e",
   "metadata": {},
   "outputs": [],
   "source": []
  },
  {
   "cell_type": "code",
   "execution_count": 74,
   "id": "e8676094-c450-4b14-8cbf-a23f664ae967",
   "metadata": {},
   "outputs": [
    {
     "data": {
      "text/plain": [
       "[<matplotlib.lines.Line2D at 0x2aaad5000890>,\n",
       " <matplotlib.lines.Line2D at 0x2aab0890d910>]"
      ]
     },
     "execution_count": 74,
     "metadata": {},
     "output_type": "execute_result"
    },
    {
     "data": {
      "image/png": "[encoded data removed]",
      "text/plain": [
       "<Figure size 432x288 with 1 Axes>"
      ]
     },
     "metadata": {
      "needs_background": "light"
     },
     "output_type": "display_data"
    }
   ],
   "source": [
    "plt.plot(dMagRange[0], ColorRange[0], '.', dMagRange[1], ColorRange[1], '.')"
   ]
  },
  {
   "cell_type": "code",
   "execution_count": 66,
   "id": "30bb5801-8ed2-4521-b07f-98413617d3e1",
   "metadata": {},
   "outputs": [
    {
     "name": "stdout",
     "output_type": "stream",
     "text": [
      "The range of dMag is [-0.14117995898093127, 0.3533891836843317].\n",
      "The range of Color is [-8.942305388341218, 8.931305717655285].\n"
     ]
    }
   ],
   "source": [
    "print( 'The range of dMag is [{}, {}].'.format( min(dMagRange[0]), max(dMagRange[1])) ) \n",
    "print( 'The range of Color is [{}, {}].'.format( min(ColorRange[0]), max(ColorRange[1])) )"
   ]
  },
  {
   "cell_type": "code",
   "execution_count": 64,
   "id": "c568f741-2ab0-4cd0-97d0-9b10eb984449",
   "metadata": {},
   "outputs": [
    {
     "data": {
      "text/plain": [
       "-0.14117995898093127"
      ]
     },
     "execution_count": 64,
     "metadata": {},
     "output_type": "execute_result"
    }
   ],
   "source": [
    "min(dMagRange[0])"
   ]
  },
  {
   "cell_type": "code",
   "execution_count": null,
   "id": "01bdb9ee-f6d7-4d96-be44-f07622b07cfe",
   "metadata": {},
   "outputs": [],
   "source": []
  },
  {
   "cell_type": "markdown",
   "id": "c5d1724a-2459-4678-8099-139b531354a7",
   "metadata": {
    "tags": []
   },
   "source": [
    "# Test running times"
   ]
  },
  {
   "cell_type": "code",
   "execution_count": 18,
   "id": "71a312fc-984b-4aee-adb4-bdfc4ea425ac",
   "metadata": {},
   "outputs": [],
   "source": [
    "FilePath = '/global/homes/l/lianming/Presto-Color-2/data/2Day_Interp/EB_Interp.pkl'"
   ]
  },
  {
   "cell_type": "code",
   "execution_count": 11,
   "id": "a25b0bb3-6ca2-49b7-8f38-f937a16d6dd0",
   "metadata": {},
   "outputs": [],
   "source": [
    "FilePath = '/global/homes/l/lianming/Presto-Color-2/data/2Day_Interp/uLens-Binary_Interp.pkl'"
   ]
  },
  {
   "cell_type": "code",
   "execution_count": 19,
   "id": "5aa652f7-f0d5-46d8-a924-8c32cfeb9119",
   "metadata": {},
   "outputs": [],
   "source": [
    "with open(FilePath, 'rb') as f:\n",
    "        Interp_load = pickle.load(f)\n",
    "        TimeRange_load = pickle.load(f)  "
   ]
  },
  {
   "cell_type": "code",
   "execution_count": 20,
   "id": "ddeae2da-6000-4547-95c6-6bbc89eedd67",
   "metadata": {},
   "outputs": [
    {
     "data": {
      "text/plain": [
       "40000"
      ]
     },
     "execution_count": 20,
     "metadata": {},
     "output_type": "execute_result"
    }
   ],
   "source": [
    "len(Interp_load['u'])"
   ]
  },
  {
   "cell_type": "code",
   "execution_count": null,
   "id": "1f511f19-1a4c-4b4b-a09d-c6bba85afc78",
   "metadata": {},
   "outputs": [],
   "source": []
  },
  {
   "cell_type": "code",
   "execution_count": 15,
   "id": "8b936469-fdf8-4570-aabf-c8638308a948",
   "metadata": {},
   "outputs": [
    {
     "name": "stdout",
     "output_type": "stream",
     "text": [
      "10.2 s ± 202 ms per loop (mean ± std. dev. of 7 runs, 1 loop each)\n"
     ]
    }
   ],
   "source": [
    "%timeit data = Functions.CalculateMap(Interp_load, TimeRange_load, 'g', 'i', 30, 300, PointsPDay=0.1);"
   ]
  },
  {
   "cell_type": "code",
   "execution_count": 16,
   "id": "357d719a-d4ad-41e4-b3c0-7147897a63e1",
   "metadata": {},
   "outputs": [
    {
     "name": "stdout",
     "output_type": "stream",
     "text": [
      "CPU times: user 10.9 s, sys: 140 ms, total: 11 s\n",
      "Wall time: 11 s\n"
     ]
    }
   ],
   "source": [
    "%%time\n",
    "data = Functions.CalculateMap(Interp_load, TimeRange_load, 'g', 'i', 30, 300, PointsPDay=0.1);"
   ]
  },
  {
   "cell_type": "code",
   "execution_count": null,
   "id": "7d9ae33b-b3b0-4d95-ab6f-7ce5826b4822",
   "metadata": {},
   "outputs": [],
   "source": []
  },
  {
   "cell_type": "code",
   "execution_count": null,
   "id": "9044c0a7-ef80-4b1a-846e-3ae79b597a87",
   "metadata": {},
   "outputs": [],
   "source": []
  },
  {
   "cell_type": "code",
   "execution_count": 7,
   "id": "80e5c684-a3b4-4bed-96be-471c54d65647",
   "metadata": {},
   "outputs": [
    {
     "name": "stdout",
     "output_type": "stream",
     "text": [
      "21.8 s ± 325 ms per loop (mean ± std. dev. of 7 runs, 1 loop each)\n"
     ]
    }
   ],
   "source": [
    "%timeit data = Functions.CalculateMap(Interp_load, TimeRange_load, 'g', 'i', 30, 300, PointsPDay=1);"
   ]
  },
  {
   "cell_type": "code",
   "execution_count": 5,
   "id": "33c959cc-6869-4a8c-95fd-4a52f467deee",
   "metadata": {},
   "outputs": [
    {
     "name": "stdout",
     "output_type": "stream",
     "text": [
      "5.66 s ± 202 ms per loop (mean ± std. dev. of 7 runs, 1 loop each)\n"
     ]
    }
   ],
   "source": [
    "%timeit data = Functions.CalculateMap(Interp_load, TimeRange_load, 'g', 'i', 30, 300, PointsPDay=1, ObjNo=10000);"
   ]
  },
  {
   "cell_type": "code",
   "execution_count": 6,
   "id": "27e3978d-c82e-4a34-86ee-92f1f4fbef49",
   "metadata": {},
   "outputs": [
    {
     "name": "stdout",
     "output_type": "stream",
     "text": [
      "10.7 s ± 217 ms per loop (mean ± std. dev. of 7 runs, 1 loop each)\n"
     ]
    }
   ],
   "source": [
    "%timeit data = Functions.CalculateMap(Interp_load, TimeRange_load, 'g', 'i', 30, 300, PointsPDay=1, ObjNo=20000);"
   ]
  },
  {
   "cell_type": "code",
   "execution_count": null,
   "id": "236442c6-5760-4e8a-80fa-1540b521042a",
   "metadata": {},
   "outputs": [],
   "source": []
  },
  {
   "cell_type": "code",
   "execution_count": 10,
   "id": "be0a21ee-eaeb-4618-944e-4e927fc430f9",
   "metadata": {},
   "outputs": [
    {
     "name": "stdout",
     "output_type": "stream",
     "text": [
      "41.3 s ± 347 ms per loop (mean ± std. dev. of 7 runs, 1 loop each)\n"
     ]
    }
   ],
   "source": [
    "%timeit data = Functions.CalculateMap(Interp_load, TimeRange_load, 'g', 'i', 30, 300, PointsPDay=3);"
   ]
  },
  {
   "cell_type": "code",
   "execution_count": 11,
   "id": "946d73de-5d5e-499c-a643-d385e73d9a32",
   "metadata": {},
   "outputs": [
    {
     "name": "stdout",
     "output_type": "stream",
     "text": [
      "1min 8s ± 423 ms per loop (mean ± std. dev. of 7 runs, 1 loop each)\n"
     ]
    }
   ],
   "source": [
    "%timeit data = Functions.CalculateMap(Interp_load, TimeRange_load, 'g', 'i', 30, 300, PointsPDay=6);"
   ]
  },
  {
   "cell_type": "code",
   "execution_count": 12,
   "id": "041d9a18-9e61-4e27-aae5-dfa06e0f0bb1",
   "metadata": {},
   "outputs": [
    {
     "name": "stdout",
     "output_type": "stream",
     "text": [
      "2min 3s ± 554 ms per loop (mean ± std. dev. of 7 runs, 1 loop each)\n"
     ]
    }
   ],
   "source": [
    "%timeit data = Functions.CalculateMap(Interp_load, TimeRange_load, 'g', 'i', 30, 300, PointsPDay=12);"
   ]
  },
  {
   "cell_type": "code",
   "execution_count": 14,
   "id": "2936e275-3fe8-42cd-bdae-d3f47896a114",
   "metadata": {},
   "outputs": [],
   "source": [
    "tempx = np.array([0.1, 1, 3, 6, 12])\n",
    "tempy = np.array([11.4, 35.1, 62, 106, 165])"
   ]
  },
  {
   "cell_type": "code",
   "execution_count": 16,
   "id": "ade006bb-ff1f-4e24-9cf6-8d7d5562f4d6",
   "metadata": {},
   "outputs": [
    {
     "data": {
      "text/plain": [
       "[<matplotlib.lines.Line2D at 0x2aaaff51e7d0>]"
      ]
     },
     "execution_count": 16,
     "metadata": {},
     "output_type": "execute_result"
    },
    {
     "data": {
      "image/png": "[encoded data removed]",
      "text/plain": [
       "<Figure size 432x288 with 1 Axes>"
      ]
     },
     "metadata": {
      "needs_background": "light"
     },
     "output_type": "display_data"
    }
   ],
   "source": [
    "plt.plot(tempx, tempy/10)\n",
    "plt.plot(tempx, tempx)\n",
    "plt.plot(tempx, np.log10(tempx))"
   ]
  },
  {
   "cell_type": "code",
   "execution_count": 15,
   "id": "7d93c866-0b90-4921-8d1c-0d3c65f53e80",
   "metadata": {},
   "outputs": [
    {
     "data": {
      "text/plain": [
       "[<matplotlib.lines.Line2D at 0x2aaafca64190>]"
      ]
     },
     "execution_count": 15,
     "metadata": {},
     "output_type": "execute_result"
    },
    {
     "data": {
      "image/png": "[encoded data removed]",
      "text/plain": [
       "<Figure size 432x288 with 1 Axes>"
      ]
     },
     "metadata": {
      "needs_background": "light"
     },
     "output_type": "display_data"
    }
   ],
   "source": [
    "plt.plot(tempy/np.sqrt(tempx))"
   ]
  },
  {
   "cell_type": "code",
   "execution_count": 19,
   "id": "e6d919ac-8277-49fa-be4e-c7578cd9402e",
   "metadata": {},
   "outputs": [
    {
     "data": {
      "text/plain": [
       "[<matplotlib.lines.Line2D at 0x2aaaf7d433d0>]"
      ]
     },
     "execution_count": 19,
     "metadata": {},
     "output_type": "execute_result"
    },
    {
     "data": {
      "image/png": "[encoded data removed]",
      "text/plain": [
       "<Figure size 432x288 with 1 Axes>"
      ]
     },
     "metadata": {
      "needs_background": "light"
     },
     "output_type": "display_data"
    }
   ],
   "source": [
    "plt.plot(tempy/np.sqrt(tempx))"
   ]
  },
  {
   "cell_type": "code",
   "execution_count": null,
   "id": "7fe93ea3-57c7-44d8-a04b-e502fc35a4c0",
   "metadata": {},
   "outputs": [],
   "source": []
  },
  {
   "cell_type": "code",
   "execution_count": 26,
   "id": "e1a9f525-a3a3-40da-8255-e375c45f0675",
   "metadata": {},
   "outputs": [
    {
     "name": "stdout",
     "output_type": "stream",
     "text": [
      "35.3 s ± 893 ms per loop (mean ± std. dev. of 7 runs, 1 loop each)\n"
     ]
    }
   ],
   "source": [
    "%timeit data = Functions.CalculateMap(Interp_load, TimeRange_load, 'g', 'i', 30, 300, PointsPDay=1);"
   ]
  },
  {
   "cell_type": "code",
   "execution_count": 27,
   "id": "a0c03f4d-9fae-4bde-a29a-2ee6d64e8330",
   "metadata": {},
   "outputs": [
    {
     "name": "stdout",
     "output_type": "stream",
     "text": [
      "1min 11s ± 6.14 s per loop (mean ± std. dev. of 7 runs, 1 loop each)\n"
     ]
    }
   ],
   "source": [
    "%timeit data = Functions.CalculateMap(Interp_load, TimeRange_load, 'g', 'i', 30, 300, PointsPDay=3);"
   ]
  },
  {
   "cell_type": "code",
   "execution_count": 28,
   "id": "fb5a4487-10c1-4a16-ab63-f339861ab50a",
   "metadata": {},
   "outputs": [
    {
     "name": "stdout",
     "output_type": "stream",
     "text": [
      "1min 57s ± 11.7 s per loop (mean ± std. dev. of 7 runs, 1 loop each)\n"
     ]
    }
   ],
   "source": [
    "%timeit data = Functions.CalculateMap(Interp_load, TimeRange_load, 'g', 'i', 30, 300, PointsPDay=6);"
   ]
  },
  {
   "cell_type": "code",
   "execution_count": null,
   "id": "4ad49c94-911a-4e66-88d1-c011f1e9e1c4",
   "metadata": {},
   "outputs": [],
   "source": []
  },
  {
   "cell_type": "code",
   "execution_count": null,
   "id": "4fb13b2e-0833-459a-ba76-de20f93375de",
   "metadata": {},
   "outputs": [],
   "source": []
  },
  {
   "cell_type": "code",
   "execution_count": 52,
   "id": "cb8c4646-5f4b-4950-a9bc-d3c7090decad",
   "metadata": {},
   "outputs": [
    {
     "name": "stdout",
     "output_type": "stream",
     "text": [
      "48.4 s ± 686 ms per loop (mean ± std. dev. of 7 runs, 1 loop each)\n"
     ]
    }
   ],
   "source": [
    "%timeit data = Functions.CalculateMap1(Interp_load, TimeRange_load, 'g', 'i', 30, 300, PointsPDay=1);"
   ]
  },
  {
   "cell_type": "code",
   "execution_count": 54,
   "id": "85d61d15-f912-4b75-a1ad-c82f25115736",
   "metadata": {},
   "outputs": [
    {
     "name": "stdout",
     "output_type": "stream",
     "text": [
      "6min 56s ± 14.3 s per loop (mean ± std. dev. of 7 runs, 1 loop each)\n"
     ]
    }
   ],
   "source": [
    "%timeit data = Functions.CalculateMap1(Interp_load, TimeRange_load, 'g', 'i', 30, 300, PointsPDay=12);"
   ]
  },
  {
   "cell_type": "code",
   "execution_count": null,
   "id": "1af5b349-ee19-45ed-b956-a0e1e68f078f",
   "metadata": {},
   "outputs": [],
   "source": []
  },
  {
   "cell_type": "markdown",
   "id": "93dc0a7d-82aa-4617-ac50-cb4482e0ae1d",
   "metadata": {},
   "source": [
    "# Plot results"
   ]
  },
  {
   "cell_type": "code",
   "execution_count": 14,
   "id": "7eac793b-36a1-4a98-883c-08f013f21fc7",
   "metadata": {},
   "outputs": [],
   "source": [
    "with open('/global/homes/l/lianming/data/Test_Interp/KN_B19_Interp.pkl', 'rb') as f:\n",
    "    Interp = pickle.load(f)\n",
    "    Time = pickle.load(f)"
   ]
  },
  {
   "cell_type": "code",
   "execution_count": 38,
   "id": "42103b36-1ffe-4813-8387-5d4db0a01431",
   "metadata": {},
   "outputs": [
    {
     "data": {
      "text/plain": [
       "-1.313423008342653"
      ]
     },
     "execution_count": 38,
     "metadata": {},
     "output_type": "execute_result"
    }
   ],
   "source": [
    "min(dMagRange[0])"
   ]
  },
  {
   "cell_type": "code",
   "execution_count": null,
   "id": "42438714-953f-4fee-a2f1-b2d6a229f67f",
   "metadata": {},
   "outputs": [],
   "source": []
  },
  {
   "cell_type": "code",
   "execution_count": 134,
   "id": "ca97da8d-9f3c-47f1-b426-63983e7a8ad1",
   "metadata": {},
   "outputs": [],
   "source": [
    "with open('/global/homes/l/lianming/ProbabilityCube_Sep20_15:15_SNIa-SALT2', 'rb') as f:\n",
    "    EventNames = pickle.load(f)\n",
    "    InfoDict = pickle.load(f)\n",
    "    HashTable = pickle.load(f)"
   ]
  },
  {
   "cell_type": "code",
   "execution_count": 135,
   "id": "d525cdb1-e3d0-4588-821f-39410d57171e",
   "metadata": {},
   "outputs": [
    {
     "data": {
      "text/plain": [
       "{'EventNames': ['SNIa-SALT2'],\n",
       " 'Bands': ['g', 'i'],\n",
       " 'dT1s': array([120]),\n",
       " 'dT2s': array([0]),\n",
       " 'BinMag': array([-1.25, -1.15, -1.05, -0.95, -0.85, -0.75, -0.65, -0.55, -0.45,\n",
       "        -0.35, -0.25, -0.15, -0.05,  0.05,  0.15,  0.25,  0.35,  0.45,\n",
       "         0.55,  0.65,  0.75,  0.85,  0.95,  1.05,  1.15,  1.25,  1.35,\n",
       "         1.45,  1.55,  1.65,  1.75,  1.85,  1.95,  2.05,  2.15,  2.25,\n",
       "         2.35,  2.45,  2.55,  2.65,  2.75,  2.85,  2.95,  3.05,  3.15,\n",
       "         3.25,  3.35,  3.45,  3.55,  3.65,  3.75]),\n",
       " 'BinColor': array([-9.25, -8.75, -8.25, -7.75, -7.25, -6.75, -6.25, -5.75, -5.25,\n",
       "        -4.75, -4.25, -3.75, -3.25, -2.75, -2.25, -1.75, -1.25, -0.75,\n",
       "        -0.25,  0.25,  0.75,  1.25,  1.75,  2.25,  2.75,  3.25,  3.75,\n",
       "         4.25,  4.75,  5.25,  5.75,  6.25,  6.75,  7.25,  7.75,  8.25,\n",
       "         8.75,  9.25,  9.75])}"
      ]
     },
     "execution_count": 135,
     "metadata": {},
     "output_type": "execute_result"
    }
   ],
   "source": [
    "InfoDict"
   ]
  },
  {
   "cell_type": "code",
   "execution_count": 16,
   "id": "a76bbd1b-fb9f-4383-a4cf-56181f26738f",
   "metadata": {},
   "outputs": [
    {
     "data": {
      "text/plain": [
       "(2, 2, 1, 1, 50, 38)"
      ]
     },
     "execution_count": 16,
     "metadata": {},
     "output_type": "execute_result"
    }
   ],
   "source": [
    "HashTable.shape"
   ]
  },
  {
   "cell_type": "code",
   "execution_count": 29,
   "id": "b739ae39-b4cb-4249-ae88-69bddd2f84ae",
   "metadata": {},
   "outputs": [
    {
     "data": {
      "text/plain": [
       "<matplotlib.collections.PolyCollection at 0x2aaaf4dded10>"
      ]
     },
     "execution_count": 29,
     "metadata": {},
     "output_type": "execute_result"
    },
    {
     "data": {
      "image/png": "[encoded data removed]",
      "text/plain": [
       "<Figure size 1080x720 with 1 Axes>"
      ]
     },
     "metadata": {
      "needs_background": "light"
     },
     "output_type": "display_data"
    }
   ],
   "source": [
    "#If dMag and Color are not given, a 2-D array will be returned.\n",
    "fig, ax = plt.subplots(1, 1, figsize=(15, 10))\n",
    "\n",
    "Map = HashTable[1, 0 , 0,0]\n",
    "plt.pcolor(CoordinateDict['BinMag'], CoordinateDict['BinColor'], np.transpose(Map)+1, edgecolors='face',\n",
    "           norm=LogNorm(1, vmax=Map.max()+1))\n",
    "# plt.xlim([-0.5, 2.5])\n",
    "# plt.ylim([-7.5, 4])\n",
    "# plt.axis('equal')\n",
    "\n",
    "# plt.legend()"
   ]
  },
  {
   "cell_type": "code",
   "execution_count": 123,
   "id": "cc72979c-2743-4058-bd91-2e3549493cbf",
   "metadata": {},
   "outputs": [],
   "source": [
    "Map"
   ]
  },
  {
   "cell_type": "code",
   "execution_count": null,
   "id": "1f275455-1e2b-42c5-a1f2-c4eae1da3a71",
   "metadata": {},
   "outputs": [],
   "source": []
  },
  {
   "cell_type": "code",
   "execution_count": null,
   "id": "a9c56498-2b6e-4caa-a5c4-783c9877dcec",
   "metadata": {},
   "outputs": [],
   "source": [
    "Map = Enquiry(HashTable, InfoDict, 'g', 'i', 60, 450)"
   ]
  },
  {
   "cell_type": "code",
   "execution_count": null,
   "id": "28214052-3513-438b-92e4-c0e6e56b2d02",
   "metadata": {},
   "outputs": [],
   "source": []
  },
  {
   "cell_type": "code",
   "execution_count": 18,
   "id": "ddeb2bf6-066e-49b2-9316-fa3eef398772",
   "metadata": {},
   "outputs": [],
   "source": [
    "def Enquiry(HashTable, InfoDict, Band1, Band2, dT1, dT2, dMag=None, Color=None):\n",
    "\n",
    "    Ind1 = InfoDict['Bands'].index(Band1)\n",
    "    Ind2 = InfoDict['Bands'].index(Band2)\n",
    "\n",
    "    if dT1<InfoDict['dT1s'][0] or dT1>InfoDict['dT1s'][-1]:\n",
    "        raise ValueError('The value of dT1 is out of boundary, the available interval is [{:.2f}, {:.2f}].'.format(InfoDict['dT1s'][0], InfoDict['dT1s'][-1]))\n",
    "        \n",
    "    else:\n",
    "        Ind3 = np.where( dT1 >= InfoDict['dT1s'] )[0][-1]\n",
    "\n",
    "    if dT2<InfoDict['dT2s'][0] or dT2>InfoDict['dT2s'][-1]:\n",
    "        raise ValueError('The value of dT2 is out of boundary, the available interval is [{:.2f}, {:.2f}].'.format(InfoDict['dT2s'][0], InfoDict['dT2s'][-1]))\n",
    "    else:\n",
    "        Ind4 = np.where( dT2 >= InfoDict['dT2s'] )[0][-1]\n",
    "\n",
    "    Results = HashTable[Ind1, Ind2, Ind3, Ind4]\n",
    "\n",
    "    if dMag == None:\n",
    "        pass        \n",
    "    elif dMag<InfoDict['BinMag'][0] or dMag>=InfoDict['BinMag'][-1]:\n",
    "        raise ValueError('The value of dMag is out of boundary, the available interval is [{:.2f}, {:.2f}).'.format(InfoDict['BinMag'][0], InfoDict['BinMag'][-1]))\n",
    "        \n",
    "    else:\n",
    "        Results = Results[np.where( dMag >= InfoDict['BinMag'] )[0][-1]]       \n",
    "\n",
    "    if Color == None:\n",
    "        pass        \n",
    "    elif Color<InfoDict['BinColor'][0] or Color>=InfoDict['BinColor'][-1]:\n",
    "        raise ValueError('The value of Color is out of boundary, the available interval is [{:.2f}, {:.2f}).'.format(InfoDict['BinColor'][0], InfoDict['BinColor'][-1]))\n",
    "        \n",
    "    else:\n",
    "        Results = Results[..., np.where( Color >= InfoDict['BinColor'] )[0][-1] ]\n",
    "\n",
    "    return Results"
   ]
  },
  {
   "cell_type": "code",
   "execution_count": null,
   "id": "889f491e-871b-4fd0-8bf5-916e9aca97ee",
   "metadata": {},
   "outputs": [],
   "source": []
  },
  {
   "cell_type": "code",
   "execution_count": null,
   "id": "7aa1d702-3ec5-4a96-91aa-e81de237d8a6",
   "metadata": {},
   "outputs": [],
   "source": []
  },
  {
   "cell_type": "code",
   "execution_count": 18,
   "id": "b94e8ba9-6cf5-4327-ac2c-ab5be3ba9cf9",
   "metadata": {},
   "outputs": [],
   "source": [
    "from matplotlib.colors import LogNorm"
   ]
  },
  {
   "cell_type": "code",
   "execution_count": 22,
   "id": "137795aa-9dfb-4133-a88f-208b03605567",
   "metadata": {},
   "outputs": [
    {
     "ename": "TypeError",
     "evalue": "Dimensions of C (50, 38) are incompatible with X (51) and/or Y (39); see help(pcolor)",
     "output_type": "error",
     "traceback": [
      "\u001b[0;31m---------------------------------------------------------------------------\u001b[0m",
      "\u001b[0;31mTypeError\u001b[0m                                 Traceback (most recent call last)",
      "\u001b[0;32m<ipython-input-25-f722ae01a186>\u001b[0m in \u001b[0;36m<module>\u001b[0;34m\u001b[0m\n\u001b[1;32m      5\u001b[0m \u001b[0mMap\u001b[0m \u001b[0;34m=\u001b[0m \u001b[0mHashTable\u001b[0m\u001b[0;34m[\u001b[0m\u001b[0;36m0\u001b[0m\u001b[0;34m,\u001b[0m \u001b[0;36m1\u001b[0m\u001b[0;34m,\u001b[0m \u001b[0;36m0\u001b[0m\u001b[0;34m,\u001b[0m \u001b[0;36m0\u001b[0m\u001b[0;34m]\u001b[0m\u001b[0;34m\u001b[0m\u001b[0;34m\u001b[0m\u001b[0m\n\u001b[1;32m      6\u001b[0m \u001b[0;34m\u001b[0m\u001b[0m\n\u001b[0;32m----> 7\u001b[0;31m \u001b[0mplt\u001b[0m\u001b[0;34m.\u001b[0m\u001b[0mpcolor\u001b[0m\u001b[0;34m(\u001b[0m\u001b[0mCoordinateDict\u001b[0m\u001b[0;34m[\u001b[0m\u001b[0;34m'BinMag'\u001b[0m\u001b[0;34m]\u001b[0m\u001b[0;34m,\u001b[0m \u001b[0mCoordinateDict\u001b[0m\u001b[0;34m[\u001b[0m\u001b[0;34m'BinColor'\u001b[0m\u001b[0;34m]\u001b[0m\u001b[0;34m,\u001b[0m \u001b[0mMap\u001b[0m\u001b[0;34m+\u001b[0m\u001b[0;36m1\u001b[0m\u001b[0;34m)\u001b[0m\u001b[0;34m\u001b[0m\u001b[0;34m\u001b[0m\u001b[0m\n\u001b[0m\u001b[1;32m      8\u001b[0m \u001b[0;31m# plt.xlim([-0.5, 2.5])\u001b[0m\u001b[0;34m\u001b[0m\u001b[0;34m\u001b[0m\u001b[0;34m\u001b[0m\u001b[0m\n\u001b[1;32m      9\u001b[0m \u001b[0;31m# plt.ylim([-7.5, 4])\u001b[0m\u001b[0;34m\u001b[0m\u001b[0;34m\u001b[0m\u001b[0;34m\u001b[0m\u001b[0m\n",
      "\u001b[0;32m/usr/common/software/python/3.7-anaconda-2019.10/lib/python3.7/site-packages/matplotlib/pyplot.py\u001b[0m in \u001b[0;36mpcolor\u001b[0;34m(alpha, norm, cmap, vmin, vmax, data, *args, **kwargs)\u001b[0m\n\u001b[1;32m   2741\u001b[0m         \u001b[0;34m*\u001b[0m\u001b[0margs\u001b[0m\u001b[0;34m,\u001b[0m \u001b[0malpha\u001b[0m\u001b[0;34m=\u001b[0m\u001b[0malpha\u001b[0m\u001b[0;34m,\u001b[0m \u001b[0mnorm\u001b[0m\u001b[0;34m=\u001b[0m\u001b[0mnorm\u001b[0m\u001b[0;34m,\u001b[0m \u001b[0mcmap\u001b[0m\u001b[0;34m=\u001b[0m\u001b[0mcmap\u001b[0m\u001b[0;34m,\u001b[0m \u001b[0mvmin\u001b[0m\u001b[0;34m=\u001b[0m\u001b[0mvmin\u001b[0m\u001b[0;34m,\u001b[0m\u001b[0;34m\u001b[0m\u001b[0;34m\u001b[0m\u001b[0m\n\u001b[1;32m   2742\u001b[0m         \u001b[0mvmax\u001b[0m\u001b[0;34m=\u001b[0m\u001b[0mvmax\u001b[0m\u001b[0;34m,\u001b[0m \u001b[0;34m**\u001b[0m\u001b[0;34m(\u001b[0m\u001b[0;34m{\u001b[0m\u001b[0;34m\"data\"\u001b[0m\u001b[0;34m:\u001b[0m \u001b[0mdata\u001b[0m\u001b[0;34m}\u001b[0m \u001b[0;32mif\u001b[0m \u001b[0mdata\u001b[0m \u001b[0;32mis\u001b[0m \u001b[0;32mnot\u001b[0m \u001b[0;32mNone\u001b[0m \u001b[0;32melse\u001b[0m \u001b[0;34m{\u001b[0m\u001b[0;34m}\u001b[0m\u001b[0;34m)\u001b[0m\u001b[0;34m,\u001b[0m\u001b[0;34m\u001b[0m\u001b[0;34m\u001b[0m\u001b[0m\n\u001b[0;32m-> 2743\u001b[0;31m         **kwargs)\n\u001b[0m\u001b[1;32m   2744\u001b[0m     \u001b[0msci\u001b[0m\u001b[0;34m(\u001b[0m\u001b[0m__ret\u001b[0m\u001b[0;34m)\u001b[0m\u001b[0;34m\u001b[0m\u001b[0;34m\u001b[0m\u001b[0m\n\u001b[1;32m   2745\u001b[0m     \u001b[0;32mreturn\u001b[0m \u001b[0m__ret\u001b[0m\u001b[0;34m\u001b[0m\u001b[0;34m\u001b[0m\u001b[0m\n",
      "\u001b[0;32m/usr/common/software/python/3.7-anaconda-2019.10/lib/python3.7/site-packages/matplotlib/__init__.py\u001b[0m in \u001b[0;36minner\u001b[0;34m(ax, data, *args, **kwargs)\u001b[0m\n\u001b[1;32m   1599\u001b[0m     \u001b[0;32mdef\u001b[0m \u001b[0minner\u001b[0m\u001b[0;34m(\u001b[0m\u001b[0max\u001b[0m\u001b[0;34m,\u001b[0m \u001b[0;34m*\u001b[0m\u001b[0margs\u001b[0m\u001b[0;34m,\u001b[0m \u001b[0mdata\u001b[0m\u001b[0;34m=\u001b[0m\u001b[0;32mNone\u001b[0m\u001b[0;34m,\u001b[0m \u001b[0;34m**\u001b[0m\u001b[0mkwargs\u001b[0m\u001b[0;34m)\u001b[0m\u001b[0;34m:\u001b[0m\u001b[0;34m\u001b[0m\u001b[0;34m\u001b[0m\u001b[0m\n\u001b[1;32m   1600\u001b[0m         \u001b[0;32mif\u001b[0m \u001b[0mdata\u001b[0m \u001b[0;32mis\u001b[0m \u001b[0;32mNone\u001b[0m\u001b[0;34m:\u001b[0m\u001b[0;34m\u001b[0m\u001b[0;34m\u001b[0m\u001b[0m\n\u001b[0;32m-> 1601\u001b[0;31m             \u001b[0;32mreturn\u001b[0m \u001b[0mfunc\u001b[0m\u001b[0;34m(\u001b[0m\u001b[0max\u001b[0m\u001b[0;34m,\u001b[0m \u001b[0;34m*\u001b[0m\u001b[0mmap\u001b[0m\u001b[0;34m(\u001b[0m\u001b[0msanitize_sequence\u001b[0m\u001b[0;34m,\u001b[0m \u001b[0margs\u001b[0m\u001b[0;34m)\u001b[0m\u001b[0;34m,\u001b[0m \u001b[0;34m**\u001b[0m\u001b[0mkwargs\u001b[0m\u001b[0;34m)\u001b[0m\u001b[0;34m\u001b[0m\u001b[0;34m\u001b[0m\u001b[0m\n\u001b[0m\u001b[1;32m   1602\u001b[0m \u001b[0;34m\u001b[0m\u001b[0m\n\u001b[1;32m   1603\u001b[0m         \u001b[0mbound\u001b[0m \u001b[0;34m=\u001b[0m \u001b[0mnew_sig\u001b[0m\u001b[0;34m.\u001b[0m\u001b[0mbind\u001b[0m\u001b[0;34m(\u001b[0m\u001b[0max\u001b[0m\u001b[0;34m,\u001b[0m \u001b[0;34m*\u001b[0m\u001b[0margs\u001b[0m\u001b[0;34m,\u001b[0m \u001b[0;34m**\u001b[0m\u001b[0mkwargs\u001b[0m\u001b[0;34m)\u001b[0m\u001b[0;34m\u001b[0m\u001b[0;34m\u001b[0m\u001b[0m\n",
      "\u001b[0;32m/usr/common/software/python/3.7-anaconda-2019.10/lib/python3.7/site-packages/matplotlib/axes/_axes.py\u001b[0m in \u001b[0;36mpcolor\u001b[0;34m(self, alpha, norm, cmap, vmin, vmax, *args, **kwargs)\u001b[0m\n\u001b[1;32m   5893\u001b[0m         \u001b[0malways\u001b[0m \u001b[0mdiscards\u001b[0m \u001b[0mthe\u001b[0m \u001b[0mlast\u001b[0m \u001b[0mrow\u001b[0m \u001b[0;32mand\u001b[0m \u001b[0mcolumn\u001b[0m \u001b[0mof\u001b[0m \u001b[0;34m*\u001b[0m\u001b[0mC\u001b[0m\u001b[0;34m*\u001b[0m\u001b[0;34m.\u001b[0m\u001b[0;34m\u001b[0m\u001b[0;34m\u001b[0m\u001b[0m\n\u001b[1;32m   5894\u001b[0m         \"\"\"\n\u001b[0;32m-> 5895\u001b[0;31m         \u001b[0mX\u001b[0m\u001b[0;34m,\u001b[0m \u001b[0mY\u001b[0m\u001b[0;34m,\u001b[0m \u001b[0mC\u001b[0m \u001b[0;34m=\u001b[0m \u001b[0mself\u001b[0m\u001b[0;34m.\u001b[0m\u001b[0m_pcolorargs\u001b[0m\u001b[0;34m(\u001b[0m\u001b[0;34m'pcolor'\u001b[0m\u001b[0;34m,\u001b[0m \u001b[0;34m*\u001b[0m\u001b[0margs\u001b[0m\u001b[0;34m,\u001b[0m \u001b[0mallmatch\u001b[0m\u001b[0;34m=\u001b[0m\u001b[0;32mFalse\u001b[0m\u001b[0;34m)\u001b[0m\u001b[0;34m\u001b[0m\u001b[0;34m\u001b[0m\u001b[0m\n\u001b[0m\u001b[1;32m   5896\u001b[0m         \u001b[0mNy\u001b[0m\u001b[0;34m,\u001b[0m \u001b[0mNx\u001b[0m \u001b[0;34m=\u001b[0m \u001b[0mX\u001b[0m\u001b[0;34m.\u001b[0m\u001b[0mshape\u001b[0m\u001b[0;34m\u001b[0m\u001b[0;34m\u001b[0m\u001b[0m\n\u001b[1;32m   5897\u001b[0m \u001b[0;34m\u001b[0m\u001b[0m\n",
      "\u001b[0;32m/usr/common/software/python/3.7-anaconda-2019.10/lib/python3.7/site-packages/matplotlib/axes/_axes.py\u001b[0m in \u001b[0;36m_pcolorargs\u001b[0;34m(funcname, allmatch, *args)\u001b[0m\n\u001b[1;32m   5750\u001b[0m                 raise TypeError('Dimensions of C %s are incompatible with'\n\u001b[1;32m   5751\u001b[0m                                 ' X (%d) and/or Y (%d); see help(%s)' % (\n\u001b[0;32m-> 5752\u001b[0;31m                                     C.shape, Nx, Ny, funcname))\n\u001b[0m\u001b[1;32m   5753\u001b[0m             \u001b[0mC\u001b[0m \u001b[0;34m=\u001b[0m \u001b[0mC\u001b[0m\u001b[0;34m[\u001b[0m\u001b[0;34m:\u001b[0m\u001b[0mNy\u001b[0m \u001b[0;34m-\u001b[0m \u001b[0;36m1\u001b[0m\u001b[0;34m,\u001b[0m \u001b[0;34m:\u001b[0m\u001b[0mNx\u001b[0m \u001b[0;34m-\u001b[0m \u001b[0;36m1\u001b[0m\u001b[0;34m]\u001b[0m\u001b[0;34m\u001b[0m\u001b[0;34m\u001b[0m\u001b[0m\n\u001b[1;32m   5754\u001b[0m         \u001b[0mC\u001b[0m \u001b[0;34m=\u001b[0m \u001b[0mcbook\u001b[0m\u001b[0;34m.\u001b[0m\u001b[0msafe_masked_invalid\u001b[0m\u001b[0;34m(\u001b[0m\u001b[0mC\u001b[0m\u001b[0;34m)\u001b[0m\u001b[0;34m\u001b[0m\u001b[0;34m\u001b[0m\u001b[0m\n",
      "\u001b[0;31mTypeError\u001b[0m: Dimensions of C (50, 38) are incompatible with X (51) and/or Y (39); see help(pcolor)"
     ]
    },
    {
     "data": {
      "image/png": "[encoded data removed]",
      "text/plain": [
       "<Figure size 1080x720 with 1 Axes>"
      ]
     },
     "metadata": {
      "needs_background": "light"
     },
     "output_type": "display_data"
    }
   ],
   "source": [
    "#If dMag and Color are not given, a 2-D array will be returned.\n",
    "fig, ax = plt.subplots(1, 1, figsize=(15, 10))\n",
    "\n",
    "# Map = Enquiry(HashTable, InfoDict, 'g', 'g', 60, 450)\n",
    "Map = HashTable[0, 1, 0, 0]\n",
    "\n",
    "plt.pcolor(CoordinateDict['BinMag'], CoordinateDict['BinColor'], Map+1, edgecolors='face',\n",
    "           norm=LogNorm(1, vmax=Map.max()+1), cmap='gist_gray', alpha=0.5)\n",
    "# plt.xlim([-0.5, 2.5])\n",
    "# plt.ylim([-7.5, 4])\n",
    "# plt.axis('equal')\n",
    "\n",
    "ax.scatter(dataKN[0], dataKN[1], c='salmon', s=10, alpha=0.5, label='Kilonova')\n",
    "\n",
    "plt.legend()"
   ]
  },
  {
   "cell_type": "code",
   "execution_count": null,
   "id": "351da92a-8120-46ee-9302-20ed825dbde2",
   "metadata": {},
   "outputs": [],
   "source": []
  }
 ],
 "metadata": {
  "kernelspec": {
   "display_name": "NERSC Python",
   "language": "python",
   "name": "python3"
  },
  "language_info": {
   "codemirror_mode": {
    "name": "ipython",
    "version": 3
   },
   "file_extension": ".py",
   "mimetype": "text/x-python",
   "name": "python",
   "nbconvert_exporter": "python",
   "pygments_lexer": "ipython3",
   "version": "3.9.7"
  }
 },
 "nbformat": 4,
 "nbformat_minor": 5
}
