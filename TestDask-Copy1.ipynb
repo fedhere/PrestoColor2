{
 "cells": [
  {
   "cell_type": "code",
   "execution_count": 1,
   "id": "afce37be-8796-4100-aa2d-ac068ac9e2e0",
   "metadata": {},
   "outputs": [
    {
     "name": "stderr",
     "output_type": "stream",
     "text": [
      "/usr/common/software/python/3.8-anaconda-2021.05/lib/python3.8/site-packages/distributed/node.py:151: UserWarning: Port 8787 is already in use.\n",
      "Perhaps you already have a cluster running?\n",
      "Hosting the HTTP server on port 42207 instead\n",
      "  warnings.warn(\n"
     ]
    },
    {
     "data": {
      "text/html": [
       "<table style=\"border: 2px solid white;\">\n",
       "<tr>\n",
       "<td style=\"vertical-align: top; border: 0px solid white\">\n",
       "<h3 style=\"text-align: left;\">Client</h3>\n",
       "<ul style=\"text-align: left; list-style: none; margin: 0; padding: 0;\">\n",
       "  <li><b>Scheduler: </b>tcp://127.0.0.1:42613</li>\n",
       "  <li><b>Dashboard: </b><a href='http://127.0.0.1:42207/status' target='_blank'>http://127.0.0.1:42207/status</a></li>\n",
       "</ul>\n",
       "</td>\n",
       "<td style=\"vertical-align: top; border: 0px solid white\">\n",
       "<h3 style=\"text-align: left;\">Cluster</h3>\n",
       "<ul style=\"text-align: left; list-style:none; margin: 0; padding: 0;\">\n",
       "  <li><b>Workers: </b>1</li>\n",
       "  <li><b>Cores: </b>5</li>\n",
       "  <li><b>Memory: </b>503.05 GiB</li>\n",
       "</ul>\n",
       "</td>\n",
       "</tr>\n",
       "</table>"
      ],
      "text/plain": [
       "<Client: 'tcp://127.0.0.1:42613' processes=1 threads=5, memory=503.05 GiB>"
      ]
     },
     "execution_count": 1,
     "metadata": {},
     "output_type": "execute_result"
    }
   ],
   "source": [
    "from dask.distributed import Client, progress\n",
    "client = Client(threads_per_worker=5, n_workers=1)\n",
    "client"
   ]
  },
  {
   "cell_type": "code",
   "execution_count": 2,
   "id": "8a767597-6b93-4a4d-8b11-f433afccbb30",
   "metadata": {},
   "outputs": [
    {
     "name": "stdout",
     "output_type": "stream",
     "text": [
      "<Client: 'tcp://127.0.0.1:42613' processes=1 threads=5, memory=503.05 GiB>\n"
     ]
    }
   ],
   "source": [
    "print(client)"
   ]
  },
  {
   "cell_type": "code",
   "execution_count": null,
   "id": "a2a6630a-f309-423f-ae44-155f92ced474",
   "metadata": {},
   "outputs": [],
   "source": []
  },
  {
   "cell_type": "code",
   "execution_count": 3,
   "id": "dd7269b9-ac8f-4b2d-bf53-64b3c2aecd49",
   "metadata": {},
   "outputs": [],
   "source": [
    "client.cluster.scale(50)"
   ]
  },
  {
   "cell_type": "code",
   "execution_count": 4,
   "id": "28a0ed40-863f-4fbb-bbf0-b51dd5cee0fe",
   "metadata": {},
   "outputs": [
    {
     "data": {
      "text/html": [
       "<table style=\"border: 2px solid white;\">\n",
       "<tr>\n",
       "<td style=\"vertical-align: top; border: 0px solid white\">\n",
       "<h3 style=\"text-align: left;\">Client</h3>\n",
       "<ul style=\"text-align: left; list-style: none; margin: 0; padding: 0;\">\n",
       "  <li><b>Scheduler: </b>tcp://127.0.0.1:42613</li>\n",
       "  <li><b>Dashboard: </b><a href='http://127.0.0.1:42207/status' target='_blank'>http://127.0.0.1:42207/status</a></li>\n",
       "</ul>\n",
       "</td>\n",
       "<td style=\"vertical-align: top; border: 0px solid white\">\n",
       "<h3 style=\"text-align: left;\">Cluster</h3>\n",
       "<ul style=\"text-align: left; list-style:none; margin: 0; padding: 0;\">\n",
       "  <li><b>Workers: </b>1</li>\n",
       "  <li><b>Cores: </b>5</li>\n",
       "  <li><b>Memory: </b>503.05 GiB</li>\n",
       "</ul>\n",
       "</td>\n",
       "</tr>\n",
       "</table>"
      ],
      "text/plain": [
       "<Client: 'tcp://127.0.0.1:42613' processes=1 threads=5, memory=503.05 GiB>"
      ]
     },
     "execution_count": 4,
     "metadata": {},
     "output_type": "execute_result"
    }
   ],
   "source": [
    "client"
   ]
  },
  {
   "cell_type": "code",
   "execution_count": null,
   "id": "08b0f37d-5511-4943-b202-2bf31ef32eb9",
   "metadata": {},
   "outputs": [],
   "source": [
    "pr"
   ]
  },
  {
   "cell_type": "markdown",
   "id": "5aa5f1b8-351c-4dcb-b2ec-1f3a985b6808",
   "metadata": {},
   "source": [
    "___"
   ]
  },
  {
   "cell_type": "markdown",
   "id": "3824a2f8-8c70-48f9-b5ff-b007cf109c16",
   "metadata": {},
   "source": [
    "Open a Jupyter terminal tab (or regular Cori terminal), and run these commands:\n",
    "\n",
    "    cd $SCRATCH\n",
    "    module load nersc-dask\n",
    "    start-dask-mpi --ntasks=256 --image=stephey/nersc-dask-example:v0.6.0"
   ]
  },
  {
   "cell_type": "code",
   "execution_count": 4,
   "id": "6a264de7-1c66-4e61-9fa1-725a6820905a",
   "metadata": {},
   "outputs": [],
   "source": [
    "import os\n",
    "\n",
    "import dask\n",
    "from dask.distributed import Client\n",
    "\n",
    "scheduler_file = os.path.join(os.environ[\"SCRATCH\"], \"scheduler.json\")\n",
    "dask.config.config[\"distributed\"][\"dashboard\"][\"link\"] = \"{JUPYTERHUB_SERVICE_PREFIX}proxy/{host}:{port}/status\""
   ]
  },
  {
   "cell_type": "code",
   "execution_count": null,
   "id": "474e5919-397c-41b1-ba47-c12a0bb9b5e6",
   "metadata": {},
   "outputs": [],
   "source": [
    "client = Client(scheduler_file=scheduler_file)"
   ]
  },
  {
   "cell_type": "code",
   "execution_count": null,
   "id": "af3f36ea-0889-46ec-bc25-32c20ad7604d",
   "metadata": {},
   "outputs": [],
   "source": []
  },
  {
   "cell_type": "code",
   "execution_count": 2,
   "id": "48c8a02e-ab58-46e6-934b-79e023378ade",
   "metadata": {},
   "outputs": [],
   "source": [
    "import os\n",
    "import numpy as np\n",
    "import matplotlib.pyplot as plt\n",
    "import math\n",
    "import time\n",
    "from scipy import interpolate\n",
    "import pickle\n",
    "import dask"
   ]
  },
  {
   "cell_type": "code",
   "execution_count": 3,
   "id": "e395e9ba-42ab-481f-8c07-70c130648227",
   "metadata": {},
   "outputs": [],
   "source": [
    "#Read in raw data Interp_load and TimeRange_load.\n",
    "#Interp_load is a dictionary with 6 keys (bands in our case), \n",
    "#the item of each of them is a list that contains 40000 functions interpolated with scipy interp1d.\n",
    "#TimeRange_load tells their domains of definition.\n",
    "\n",
    "FilePath = '/global/homes/l/lianming/Presto-Color-2/data/2Day_Interp/SNIa-SALT2_Interp.pkl'\n",
    "\n",
    "with open(FilePath, 'rb') as f:\n",
    "    Interp_load = pickle.load(f)\n",
    "    TimeRange_load = pickle.load(f)  "
   ]
  },
  {
   "cell_type": "code",
   "execution_count": 4,
   "id": "d3bf30c6-850e-4ac3-aba6-23883792324b",
   "metadata": {},
   "outputs": [
    {
     "data": {
      "text/plain": [
       "<scipy.interpolate.interpolate.interp1d at 0x2aab39a90470>"
      ]
     },
     "execution_count": 4,
     "metadata": {},
     "output_type": "execute_result"
    }
   ],
   "source": [
    "Interp_load['u'][0]"
   ]
  },
  {
   "cell_type": "code",
   "execution_count": 4,
   "id": "76508a68-867e-4928-994e-47891be1e381",
   "metadata": {},
   "outputs": [],
   "source": [
    "import sys"
   ]
  },
  {
   "cell_type": "code",
   "execution_count": null,
   "id": "d1e38dd8-4afc-4cdc-889d-4e511f049857",
   "metadata": {},
   "outputs": [],
   "source": []
  },
  {
   "cell_type": "code",
   "execution_count": null,
   "id": "99c96286-75a9-4c1a-af62-8629aaa16770",
   "metadata": {},
   "outputs": [],
   "source": []
  },
  {
   "cell_type": "code",
   "execution_count": 21,
   "id": "335cb113-269d-472a-8cd8-1f34a8e3d195",
   "metadata": {},
   "outputs": [],
   "source": [
    "def CalculateMap(ObjNo, \n",
    "                 Interp_load=Interp_load, TimeRange_load=TimeRange_load, \n",
    "                 Band1='g', Band2='i', dT1=30, dT2=300, \n",
    "                 PointsPDay = 1, Thr=27.5):\n",
    "    \n",
    "    dMag = []\n",
    "    Color = []\n",
    "\n",
    "    for II in range(ObjNo):\n",
    "        \n",
    "        if Interp_load[Band1][II]==[] or Interp_load[Band2][II]==[]:\n",
    "            continue\n",
    "            \n",
    "        #Decide the range and the length of XX.\n",
    "        TimeRangeStart = max( TimeRange_load[Band1][II][0], TimeRange_load[Band2][II][0] - dT1/1440 )\n",
    "        TimeRangeEnd = min( TimeRange_load[Band1][II][1] - dT2/1440, TimeRange_load[Band2][II][1] - dT1/1440 )\n",
    "\n",
    "        TimeRange = TimeRangeEnd - TimeRangeStart\n",
    "        SampleNo = np.int(PointsPDay*TimeRange)\n",
    "        \n",
    "        XX = np.random.rand(SampleNo)*TimeRange + TimeRangeStart\n",
    "        \n",
    "        #Calculate the values of the functions with selected x values.  \n",
    "        Mag1 = Interp_load[Band1][II](XX)\n",
    "        Mag2 = Interp_load[Band2][II](XX+dT1/1440)\n",
    "        Mag12 = Interp_load[Band1][II](XX+dT2/1440)\n",
    "        \n",
    "        #Add a threshold for the results and output.\n",
    "        Mask = (Mag1<Thr) * (Mag2<Thr) *(Mag12<Thr)\n",
    "\n",
    "        dMag.extend(Mag1[Mask] - Mag12[Mask])\n",
    "        Color.extend(Mag1[Mask] - Mag2[Mask])\n",
    "        \n",
    "    return dMag, Color"
   ]
  },
  {
   "cell_type": "code",
   "execution_count": 6,
   "id": "c5082ce2-816d-4140-acf6-02516c14112e",
   "metadata": {},
   "outputs": [],
   "source": [
    "def reduce(results):\n",
    "    \n",
    "    dMags = []\n",
    "    Colors = []\n",
    "    \n",
    "    for dMag, Color in results:\n",
    "        \n",
    "#         print(len(dMag), len(Color))\n",
    "        dMags.extend(dMag)\n",
    "        Colors.extend(Color)\n",
    "    print(len(dMags), len(Colors))\n",
    "    return np.array([dMags, Colors])"
   ]
  },
  {
   "cell_type": "code",
   "execution_count": null,
   "id": "ee4e45e2-7817-4a98-8ab0-c4deea7f99fc",
   "metadata": {},
   "outputs": [],
   "source": []
  },
  {
   "cell_type": "code",
   "execution_count": null,
   "id": "847dd578-020a-4235-9fbe-9e769f58e194",
   "metadata": {},
   "outputs": [],
   "source": []
  },
  {
   "cell_type": "code",
   "execution_count": 32,
   "id": "1565bb1d-7467-427b-b474-9fbdfe20eca2",
   "metadata": {},
   "outputs": [
    {
     "name": "stdout",
     "output_type": "stream",
     "text": [
      "(4, 2)\n"
     ]
    }
   ],
   "source": [
    "#Total sets the number of the functions to be calculated.\n",
    "total = 8\n",
    "tasks = 4\n",
    "count = total // tasks\n",
    "\n",
    "Ind = np.arange(total)\n",
    "print(Ind.reshape(tasks, count).shape)\n",
    "Ind = list(Ind.reshape(tasks, count))"
   ]
  },
  {
   "cell_type": "code",
   "execution_count": 33,
   "id": "5ef6d9d7-73a9-46fc-b2a1-0fd5f4f556a7",
   "metadata": {},
   "outputs": [
    {
     "data": {
      "text/plain": [
       "[array([0, 1]), array([2, 3]), array([4, 5]), array([6, 7])]"
      ]
     },
     "execution_count": 33,
     "metadata": {},
     "output_type": "execute_result"
    }
   ],
   "source": [
    "Ind"
   ]
  },
  {
   "cell_type": "code",
   "execution_count": null,
   "id": "728d5f35-4f8e-4fc8-ba40-6a7d46838661",
   "metadata": {},
   "outputs": [],
   "source": []
  },
  {
   "cell_type": "markdown",
   "id": "8259a447-52c8-4689-ba07-01bc62481ad3",
   "metadata": {},
   "source": [
    "---\n",
    "When run directly."
   ]
  },
  {
   "cell_type": "code",
   "execution_count": 34,
   "id": "755d4032-c5a6-423d-b257-a3b08d7568be",
   "metadata": {},
   "outputs": [
    {
     "name": "stdout",
     "output_type": "stream",
     "text": [
      "CPU times: user 5.13 ms, sys: 6.07 ms, total: 11.2 ms\n",
      "Wall time: 8.42 ms\n"
     ]
    }
   ],
   "source": [
    "%%time\n",
    "map = CalculateMap(ObjNo=range(total), Interp_load=Interp_load, TimeRange_load=TimeRange_load, Band1='g', Band2='i', dT1=30, dT2=300, PointsPDay=1)"
   ]
  },
  {
   "cell_type": "markdown",
   "id": "4d4ec43d-d98f-4635-bfeb-856ae56fb391",
   "metadata": {
    "tags": []
   },
   "source": [
    "# Original way"
   ]
  },
  {
   "cell_type": "markdown",
   "id": "743a5610-0bbe-45ad-8c9a-221cef15e895",
   "metadata": {
    "tags": []
   },
   "source": [
    "---\n",
    "Try with delayed and compute"
   ]
  },
  {
   "cell_type": "code",
   "execution_count": 28,
   "id": "0b437348-a1fc-4c1d-a085-01ed8b2e6ef8",
   "metadata": {},
   "outputs": [],
   "source": [
    "ObjNo = 40000"
   ]
  },
  {
   "cell_type": "code",
   "execution_count": 29,
   "id": "1478b4ec-37f1-43e4-9c19-14f5b75da1ef",
   "metadata": {},
   "outputs": [],
   "source": [
    "lazy_results = []\n",
    "\n",
    "lazy_result = dask.delayed(CalculateMap)(ObjNo)\n",
    "lazy_results.append(lazy_result)\n",
    "\n",
    "# futures = dask.persist(*lazy_results)  # trigger computation in the background"
   ]
  },
  {
   "cell_type": "code",
   "execution_count": 27,
   "id": "30571e95-8d8e-4315-86c7-f1160eed3a08",
   "metadata": {},
   "outputs": [
    {
     "name": "stderr",
     "output_type": "stream",
     "text": [
      "distributed.utils_perf - WARNING - full garbage collections took 12% CPU time recently (threshold: 10%)\n",
      "distributed.utils_perf - WARNING - full garbage collections took 11% CPU time recently (threshold: 10%)\n",
      "distributed.utils_perf - WARNING - full garbage collections took 11% CPU time recently (threshold: 10%)\n",
      "distributed.utils_perf - WARNING - full garbage collections took 11% CPU time recently (threshold: 10%)\n",
      "distributed.utils_perf - WARNING - full garbage collections took 11% CPU time recently (threshold: 10%)\n",
      "distributed.utils_perf - WARNING - full garbage collections took 11% CPU time recently (threshold: 10%)\n"
     ]
    },
    {
     "name": "stdout",
     "output_type": "stream",
     "text": [
      "CPU times: user 1min 42s, sys: 11.8 s, total: 1min 54s\n",
      "Wall time: 2min 30s\n"
     ]
    }
   ],
   "source": [
    "%%time\n",
    "results = dask.compute(*lazy_results)"
   ]
  },
  {
   "cell_type": "code",
   "execution_count": null,
   "id": "e1991984-aa3f-4cd2-a4b4-f7fce3485f9a",
   "metadata": {},
   "outputs": [
    {
     "name": "stderr",
     "output_type": "stream",
     "text": [
      "distributed.utils_perf - WARNING - full garbage collections took 11% CPU time recently (threshold: 10%)\n",
      "distributed.utils_perf - WARNING - full garbage collections took 11% CPU time recently (threshold: 10%)\n",
      "distributed.utils_perf - WARNING - full garbage collections took 11% CPU time recently (threshold: 10%)\n",
      "distributed.utils_perf - WARNING - full garbage collections took 11% CPU time recently (threshold: 10%)\n"
     ]
    },
    {
     "name": "stdout",
     "output_type": "stream",
     "text": [
      "CPU times: user 2min 4s, sys: 19 s, total: 2min 23s\n",
      "Wall time: 6min 57s\n"
     ]
    }
   ],
   "source": [
    "%%time\n",
    "results = dask.compute(*lazy_results)"
   ]
  },
  {
   "cell_type": "code",
   "execution_count": 33,
   "id": "4a19c128-7306-4ead-a066-1c093f7a6c51",
   "metadata": {},
   "outputs": [
    {
     "data": {
      "text/plain": [
       "tuple"
      ]
     },
     "execution_count": 33,
     "metadata": {},
     "output_type": "execute_result"
    }
   ],
   "source": [
    "type(results[0])"
   ]
  },
  {
   "cell_type": "code",
   "execution_count": 34,
   "id": "157f60db-802c-4b27-8366-91d607411d00",
   "metadata": {},
   "outputs": [
    {
     "data": {
      "text/plain": [
       "2"
      ]
     },
     "execution_count": 34,
     "metadata": {},
     "output_type": "execute_result"
    }
   ],
   "source": [
    "len(results[0])"
   ]
  },
  {
   "cell_type": "code",
   "execution_count": 37,
   "id": "c2bc7bbe-42bc-4867-bd78-bd6fa9ddb1ec",
   "metadata": {},
   "outputs": [
    {
     "name": "stdout",
     "output_type": "stream",
     "text": [
      "2526 2526\n"
     ]
    },
    {
     "data": {
      "text/plain": [
       "(2, 2526)"
      ]
     },
     "execution_count": 37,
     "metadata": {},
     "output_type": "execute_result"
    }
   ],
   "source": [
    "data = reduce(results)\n",
    "data.shape"
   ]
  },
  {
   "cell_type": "code",
   "execution_count": 38,
   "id": "51c3af4a-ea05-4055-803d-e12540f691fe",
   "metadata": {},
   "outputs": [
    {
     "data": {
      "text/plain": [
       "<matplotlib.collections.PathCollection at 0x2aabca8fcdd0>"
      ]
     },
     "execution_count": 38,
     "metadata": {},
     "output_type": "execute_result"
    },
    {
     "data": {
      "image/png": "[encoded data removed]",
      "text/plain": [
       "<Figure size 432x288 with 1 Axes>"
      ]
     },
     "metadata": {
      "needs_background": "light"
     },
     "output_type": "display_data"
    }
   ],
   "source": [
    "plt.scatter(data[0],data[1])"
   ]
  },
  {
   "cell_type": "code",
   "execution_count": 42,
   "id": "d681ec43-d9e8-4d48-a58f-70118a165437",
   "metadata": {},
   "outputs": [
    {
     "name": "stdout",
     "output_type": "stream",
     "text": [
      "CPU times: user 2min 42s, sys: 14.1 s, total: 2min 57s\n",
      "Wall time: 3min 23s\n"
     ]
    },
    {
     "data": {
      "text/plain": [
       "<matplotlib.collections.PathCollection at 0x2aab82b3f550>"
      ]
     },
     "execution_count": 42,
     "metadata": {},
     "output_type": "execute_result"
    },
    {
     "data": {
      "image/png": "[encoded data removed]",
      "text/plain": [
       "<Figure size 432x288 with 1 Axes>"
      ]
     },
     "metadata": {
      "needs_background": "light"
     },
     "output_type": "display_data"
    }
   ],
   "source": [
    "%%time\n",
    "plt.scatter(results[0][0],results[0][1])"
   ]
  },
  {
   "cell_type": "code",
   "execution_count": 43,
   "id": "ccfb02ac-8cf3-460f-a7b4-c93137d3fea1",
   "metadata": {},
   "outputs": [
    {
     "name": "stdout",
     "output_type": "stream",
     "text": [
      "12653398 12653398\n"
     ]
    },
    {
     "data": {
      "text/plain": [
       "(2, 12653398)"
      ]
     },
     "execution_count": 43,
     "metadata": {},
     "output_type": "execute_result"
    }
   ],
   "source": [
    "data = reduce(results)\n",
    "data.shape"
   ]
  },
  {
   "cell_type": "code",
   "execution_count": 44,
   "id": "b0db9da4-6053-457b-9957-a566aae0d00d",
   "metadata": {},
   "outputs": [
    {
     "name": "stdout",
     "output_type": "stream",
     "text": [
      "CPU times: user 30.8 s, sys: 8.12 s, total: 38.9 s\n",
      "Wall time: 35.6 s\n"
     ]
    },
    {
     "data": {
      "text/plain": [
       "<matplotlib.collections.PathCollection at 0x2aab269b0050>"
      ]
     },
     "execution_count": 44,
     "metadata": {},
     "output_type": "execute_result"
    },
    {
     "data": {
      "image/png": "[encoded data removed]",
      "text/plain": [
       "<Figure size 432x288 with 1 Axes>"
      ]
     },
     "metadata": {
      "needs_background": "light"
     },
     "output_type": "display_data"
    }
   ],
   "source": [
    "%%time\n",
    "plt.scatter(data[0],data[1])"
   ]
  },
  {
   "cell_type": "code",
   "execution_count": null,
   "id": "a4539f2e-fb5f-442c-85f8-36baf14d11dc",
   "metadata": {},
   "outputs": [],
   "source": []
  },
  {
   "cell_type": "code",
   "execution_count": null,
   "id": "9f9f881e-e11a-41da-9093-ed6750a4ee94",
   "metadata": {},
   "outputs": [],
   "source": []
  },
  {
   "cell_type": "markdown",
   "id": "32bec011-f78d-4343-a6e0-692250eb900a",
   "metadata": {
    "tags": []
   },
   "source": [
    "# Let the worker read the data"
   ]
  },
  {
   "cell_type": "code",
   "execution_count": 24,
   "id": "3b2c0fc8-8410-481e-96c8-71540b97a651",
   "metadata": {},
   "outputs": [],
   "source": [
    "def CalculateMap(ObjNo, \n",
    "                 Band1='g', Band2='i', dT1=30, dT2=300, \n",
    "                 PointsPDay = 1, Thr=27.5):\n",
    "    \n",
    "    FilePath = '/global/homes/l/lianming/Presto-Color-2/data/2Day_Interp/SNIa-SALT2_Interp.pkl'\n",
    "\n",
    "    with open(FilePath, 'rb') as f:\n",
    "        Interp_load = pickle.load(f)\n",
    "        TimeRange_load = pickle.load(f)  \n",
    "\n",
    "    dMag = []\n",
    "    Color = []\n",
    "\n",
    "    for II in range(ObjNo):\n",
    "        \n",
    "        if Interp_load[Band1][II]==[] or Interp_load[Band2][II]==[]:\n",
    "            continue\n",
    "            \n",
    "        #Decide the range and the length of XX.\n",
    "        TimeRangeStart = max( TimeRange_load[Band1][II][0], TimeRange_load[Band2][II][0] - dT1/1440 )\n",
    "        TimeRangeEnd = min( TimeRange_load[Band1][II][1] - dT2/1440, TimeRange_load[Band2][II][1] - dT1/1440 )\n",
    "\n",
    "        TimeRange = TimeRangeEnd - TimeRangeStart\n",
    "        SampleNo = np.int(PointsPDay*TimeRange)\n",
    "        \n",
    "        XX = np.random.rand(SampleNo)*TimeRange + TimeRangeStart\n",
    "        \n",
    "        #Calculate the values of the functions with selected x values.  \n",
    "        Mag1 = Interp_load[Band1][II](XX)\n",
    "        Mag2 = Interp_load[Band2][II](XX+dT1/1440)\n",
    "        Mag12 = Interp_load[Band1][II](XX+dT2/1440)\n",
    "        \n",
    "        #Add a threshold for the results and output.\n",
    "        Mask = (Mag1<Thr) * (Mag2<Thr) *(Mag12<Thr)\n",
    "\n",
    "        dMag.extend(Mag1[Mask] - Mag12[Mask])\n",
    "        Color.extend(Mag1[Mask] - Mag2[Mask])\n",
    "        \n",
    "    return dMag, Color"
   ]
  },
  {
   "cell_type": "code",
   "execution_count": null,
   "id": "795c1568-2bf1-4591-8312-f5519e34bf38",
   "metadata": {},
   "outputs": [],
   "source": []
  },
  {
   "cell_type": "code",
   "execution_count": null,
   "id": "d309f0a8-0d20-457e-8905-b5b538d21705",
   "metadata": {},
   "outputs": [],
   "source": []
  },
  {
   "cell_type": "code",
   "execution_count": null,
   "id": "5251f764-5eb1-44f8-af2f-e9d8d3d72c05",
   "metadata": {},
   "outputs": [],
   "source": []
  },
  {
   "cell_type": "code",
   "execution_count": null,
   "id": "758aaf87-ddb0-42c4-a2a8-e4db2b7d1c6b",
   "metadata": {},
   "outputs": [],
   "source": []
  },
  {
   "cell_type": "code",
   "execution_count": null,
   "id": "eb89c72d-8684-44ed-ac81-821f109627cb",
   "metadata": {},
   "outputs": [],
   "source": []
  },
  {
   "cell_type": "code",
   "execution_count": null,
   "id": "d933231e-ede9-47de-9a2b-91ce58bc77b2",
   "metadata": {},
   "outputs": [],
   "source": []
  },
  {
   "cell_type": "code",
   "execution_count": null,
   "id": "a6dd685f-a211-4ff4-b958-62ef2717fb30",
   "metadata": {},
   "outputs": [],
   "source": []
  },
  {
   "cell_type": "code",
   "execution_count": 19,
   "id": "50d680be-2c61-42b0-a9d1-be8d56e205f0",
   "metadata": {},
   "outputs": [],
   "source": [
    "ObjNo = 10000"
   ]
  },
  {
   "cell_type": "code",
   "execution_count": 20,
   "id": "7650caa6-c853-44f8-a8a7-6780c9db355a",
   "metadata": {},
   "outputs": [],
   "source": [
    "lazy_results = []\n",
    "\n",
    "lazy_result = dask.delayed(CalculateMap)(ObjNo)\n",
    "lazy_results.append(lazy_result)\n",
    "\n",
    "# futures = dask.persist(*lazy_results)  # trigger computation in the background"
   ]
  },
  {
   "cell_type": "code",
   "execution_count": 21,
   "id": "cf296d60-2f38-4ab7-991d-ff75943f77f3",
   "metadata": {},
   "outputs": [
    {
     "name": "stdout",
     "output_type": "stream",
     "text": [
      "CPU times: user 7.79 s, sys: 1.39 s, total: 9.18 s\n",
      "Wall time: 1min 34s\n"
     ]
    }
   ],
   "source": [
    "%%time\n",
    "results = dask.compute(*lazy_results)"
   ]
  },
  {
   "cell_type": "code",
   "execution_count": null,
   "id": "06533494-c878-4db5-9349-528186b1a1f4",
   "metadata": {},
   "outputs": [],
   "source": []
  },
  {
   "cell_type": "code",
   "execution_count": 22,
   "id": "0a2633c9-d9e5-432a-9235-78510a6634b8",
   "metadata": {},
   "outputs": [
    {
     "name": "stdout",
     "output_type": "stream",
     "text": [
      "3163493 3163493\n"
     ]
    },
    {
     "data": {
      "text/plain": [
       "(2, 3163493)"
      ]
     },
     "execution_count": 22,
     "metadata": {},
     "output_type": "execute_result"
    }
   ],
   "source": [
    "data = reduce(results)\n",
    "data.shape"
   ]
  },
  {
   "cell_type": "code",
   "execution_count": 50,
   "id": "60fa2c98-612d-4b88-a663-721a82441726",
   "metadata": {},
   "outputs": [
    {
     "name": "stdout",
     "output_type": "stream",
     "text": [
      "CPU times: user 29.4 s, sys: 4.24 s, total: 33.6 s\n",
      "Wall time: 36.1 s\n"
     ]
    },
    {
     "data": {
      "text/plain": [
       "<matplotlib.collections.PathCollection at 0x2aab30dc7210>"
      ]
     },
     "execution_count": 50,
     "metadata": {},
     "output_type": "execute_result"
    },
    {
     "data": {
      "image/png": "[encoded data removed]",
      "text/plain": [
       "<Figure size 432x288 with 1 Axes>"
      ]
     },
     "metadata": {
      "needs_background": "light"
     },
     "output_type": "display_data"
    },
    {
     "name": "stderr",
     "output_type": "stream",
     "text": [
      "distributed.utils_perf - WARNING - full garbage collections took 11% CPU time recently (threshold: 10%)\n"
     ]
    }
   ],
   "source": [
    "%%time\n",
    "plt.scatter(data[0],data[1])"
   ]
  },
  {
   "cell_type": "code",
   "execution_count": null,
   "id": "75508581-3179-4b87-b995-6e5bf0129fb6",
   "metadata": {},
   "outputs": [],
   "source": []
  },
  {
   "cell_type": "code",
   "execution_count": null,
   "id": "089b5ee7-3a2d-4c97-b8ae-a97f10611695",
   "metadata": {},
   "outputs": [],
   "source": []
  },
  {
   "cell_type": "code",
   "execution_count": 10,
   "id": "2430631c-4b1e-443a-bb34-95490ca32d2e",
   "metadata": {},
   "outputs": [],
   "source": [
    "ObjNo = 40000"
   ]
  },
  {
   "cell_type": "code",
   "execution_count": 11,
   "id": "fc251f5b-5f14-492f-b59e-9e2c756af183",
   "metadata": {},
   "outputs": [],
   "source": [
    "lazy_results = []\n",
    "\n",
    "lazy_result = dask.delayed(CalculateMap)(ObjNo)\n",
    "lazy_results.append(lazy_result)\n",
    "\n",
    "# futures = dask.persist(*lazy_results)  # trigger computation in the background"
   ]
  },
  {
   "cell_type": "code",
   "execution_count": 12,
   "id": "e87f8f7b-1dab-47ca-93bf-0cfeadb07beb",
   "metadata": {},
   "outputs": [
    {
     "name": "stdout",
     "output_type": "stream",
     "text": [
      "CPU times: user 20.7 s, sys: 4.34 s, total: 25 s\n",
      "Wall time: 5min 26s\n"
     ]
    }
   ],
   "source": [
    "%%time\n",
    "results = dask.compute(*lazy_results)"
   ]
  },
  {
   "cell_type": "code",
   "execution_count": null,
   "id": "24bc3b4a-9c96-460b-8c57-c7ea4fc81fb1",
   "metadata": {},
   "outputs": [],
   "source": []
  },
  {
   "cell_type": "code",
   "execution_count": 16,
   "id": "ed59c812-a93e-44e5-af9c-b99224e05bc6",
   "metadata": {},
   "outputs": [],
   "source": [
    "lazy_results = []\n",
    "\n",
    "lazy_result = dask.delayed(CalculateMap)(ObjNo)\n",
    "lazy_results.append(lazy_result)\n",
    "\n",
    "# futures = dask.persist(*lazy_results)  # trigger computation in the background"
   ]
  },
  {
   "cell_type": "code",
   "execution_count": 17,
   "id": "4072c912-9877-44d5-b6bb-db1221f12f50",
   "metadata": {},
   "outputs": [
    {
     "name": "stdout",
     "output_type": "stream",
     "text": [
      "CPU times: user 27.3 s, sys: 6.61 s, total: 33.9 s\n",
      "Wall time: 5min 46s\n"
     ]
    }
   ],
   "source": [
    "%%time\n",
    "results = dask.compute(*lazy_results)"
   ]
  },
  {
   "cell_type": "code",
   "execution_count": null,
   "id": "45665d0e-fc95-481d-8280-0b19a018d509",
   "metadata": {},
   "outputs": [],
   "source": []
  },
  {
   "cell_type": "code",
   "execution_count": 13,
   "id": "2f44b481-717f-4c9e-93b3-9f2c275df1eb",
   "metadata": {},
   "outputs": [],
   "source": [
    "ObjNo = 40000"
   ]
  },
  {
   "cell_type": "code",
   "execution_count": 14,
   "id": "45662c26-cfe4-4dc2-bae0-22927a852929",
   "metadata": {},
   "outputs": [],
   "source": [
    "lazy_results = []\n",
    "\n",
    "lazy_result = dask.delayed(CalculateMap)(ObjNo)\n",
    "lazy_results.append(lazy_result)\n",
    "\n",
    "futures = dask.persist(*lazy_results)  # trigger computation in the background"
   ]
  },
  {
   "cell_type": "code",
   "execution_count": 15,
   "id": "a774b482-4ea1-433a-a2de-74cb6cb1693b",
   "metadata": {},
   "outputs": [
    {
     "name": "stdout",
     "output_type": "stream",
     "text": [
      "CPU times: user 19 s, sys: 4.74 s, total: 23.7 s\n",
      "Wall time: 5min 40s\n"
     ]
    }
   ],
   "source": [
    "%%time\n",
    "results = dask.compute(*futures)"
   ]
  },
  {
   "cell_type": "code",
   "execution_count": null,
   "id": "410438da-14c3-47a2-9a14-9c047222d570",
   "metadata": {},
   "outputs": [],
   "source": []
  },
  {
   "cell_type": "code",
   "execution_count": 30,
   "id": "a81d9ae3-2d8d-4292-a4a5-b61e51d1d5ce",
   "metadata": {},
   "outputs": [],
   "source": [
    "ObjNo = 10000"
   ]
  },
  {
   "cell_type": "code",
   "execution_count": 31,
   "id": "22f1ff43-4132-499a-bd77-e965414ae51b",
   "metadata": {},
   "outputs": [],
   "source": [
    "futures = client.submit(CalculateMap, ObjNo)"
   ]
  },
  {
   "cell_type": "code",
   "execution_count": 32,
   "id": "35da850f-1b41-45d6-be14-854736fc0463",
   "metadata": {},
   "outputs": [
    {
     "name": "stdout",
     "output_type": "stream",
     "text": [
      "CPU times: user 6.45 s, sys: 1.19 s, total: 7.65 s\n",
      "Wall time: 2min 7s\n"
     ]
    }
   ],
   "source": [
    "%%time\n",
    "data = futures.result()"
   ]
  },
  {
   "cell_type": "code",
   "execution_count": 34,
   "id": "672c8538-3866-4202-a0f4-24bc3f06775d",
   "metadata": {},
   "outputs": [
    {
     "data": {
      "text/plain": [
       "3163474"
      ]
     },
     "execution_count": 34,
     "metadata": {},
     "output_type": "execute_result"
    }
   ],
   "source": [
    "len(data[0])"
   ]
  },
  {
   "cell_type": "code",
   "execution_count": 35,
   "id": "fd3a15be-6324-4a9d-a2d6-a9aa6db25dc2",
   "metadata": {},
   "outputs": [],
   "source": [
    "import sys"
   ]
  },
  {
   "cell_type": "code",
   "execution_count": 37,
   "id": "8bf9e900-a925-4e36-93a8-0106b9b73ad5",
   "metadata": {},
   "outputs": [
    {
     "data": {
      "text/plain": [
       "27000120"
      ]
     },
     "execution_count": 37,
     "metadata": {},
     "output_type": "execute_result"
    }
   ],
   "source": [
    "sys.getsizeof(data[0])"
   ]
  },
  {
   "cell_type": "code",
   "execution_count": null,
   "id": "d8749173-ce71-424b-97f5-789add7fe3a8",
   "metadata": {},
   "outputs": [],
   "source": []
  },
  {
   "cell_type": "markdown",
   "id": "46bc9b8f-5ee7-4b2e-9361-458482a31bbd",
   "metadata": {},
   "source": [
    "---\n",
    "Try with map and submit"
   ]
  },
  {
   "cell_type": "code",
   "execution_count": 39,
   "id": "7f7597fa-9609-4911-b06c-e9482dff4678",
   "metadata": {},
   "outputs": [],
   "source": [
    "futures = client.map(CalculateMap, Ind, Interp_load=Interp_load, TimeRange_load=TimeRange_load, Band1='g', Band2='i', dT1=30, dT2=300, PointsPDay=1)"
   ]
  },
  {
   "cell_type": "code",
   "execution_count": 40,
   "id": "d44442b8-f2e1-4e3c-b347-c4567e4d395a",
   "metadata": {},
   "outputs": [
    {
     "name": "stdout",
     "output_type": "stream",
     "text": [
      "CPU times: user 34.6 ms, sys: 11.3 ms, total: 45.9 ms\n",
      "Wall time: 57 ms\n"
     ]
    }
   ],
   "source": [
    "%%time\n",
    "data = client.submit(reduce, futures).result()"
   ]
  },
  {
   "cell_type": "code",
   "execution_count": 41,
   "id": "e701e259-726e-4687-a2ca-20a561b569e6",
   "metadata": {},
   "outputs": [
    {
     "data": {
      "text/plain": [
       "<matplotlib.collections.PathCollection at 0x2aabca78f450>"
      ]
     },
     "execution_count": 41,
     "metadata": {},
     "output_type": "execute_result"
    },
    {
     "data": {
      "image/png": "[encoded data removed]",
      "text/plain": [
       "<Figure size 432x288 with 1 Axes>"
      ]
     },
     "metadata": {
      "needs_background": "light"
     },
     "output_type": "display_data"
    }
   ],
   "source": [
    "plt.scatter(data[0],data[1])"
   ]
  },
  {
   "cell_type": "code",
   "execution_count": 100,
   "id": "00ae2d5f-3e44-4ee2-ad4c-ea52ac53ba9c",
   "metadata": {},
   "outputs": [
    {
     "data": {
      "text/plain": [
       "(2, 2526)"
      ]
     },
     "execution_count": 100,
     "metadata": {},
     "output_type": "execute_result"
    }
   ],
   "source": [
    "data.shape"
   ]
  },
  {
   "cell_type": "code",
   "execution_count": null,
   "id": "c46861d8-2bba-4464-8e15-77be85004199",
   "metadata": {},
   "outputs": [],
   "source": []
  },
  {
   "cell_type": "markdown",
   "id": "f5c276ae-ec9f-4eef-90c6-cb2ff7f385c5",
   "metadata": {
    "tags": []
   },
   "source": [
    "---\n",
    "# Change the way of data transmission. "
   ]
  },
  {
   "cell_type": "code",
   "execution_count": 40,
   "id": "6a4369f3-5ebc-4a34-99b4-eb7db0d412e8",
   "metadata": {},
   "outputs": [],
   "source": [
    "#Read in raw data Interp_load and TimeRange_load.\n",
    "#Interp_load is a dictionary with 6 keys (bands in our case), \n",
    "#the item of each of them is a list that contains 40000 functions interpolated with scipy interp1d.\n",
    "#TimeRange_load tells their domains of definition.\n",
    "\n",
    "FilePath = '/global/homes/l/lianming/Presto-Color-2/data/2Day_Interp/SNIa-SALT2_Interp.pkl'\n",
    "\n",
    "with open(FilePath, 'rb') as f:\n",
    "    Interp_load = pickle.load(f)\n",
    "    TimeRange_load = pickle.load(f)  "
   ]
  },
  {
   "cell_type": "code",
   "execution_count": 7,
   "id": "79719d3f-ffa2-4959-9ed0-9dfab9c0caab",
   "metadata": {},
   "outputs": [],
   "source": [
    "def CalculateMap(Function_Band1, Function_Band2, \n",
    "                 Time_Band1, Time_Band2, \n",
    "                 dT1=30, dT2=300, \n",
    "                 PointsPDay = 0.1, Thr=27.5):\n",
    "    \n",
    "           \n",
    "    if Function_Band1==[] or Function_Band2==[]:\n",
    "        return np.array([])\n",
    "\n",
    "    #Decide the range and the length of XX.\n",
    "    TimeRangeStart = max( Time_Band1[0], Time_Band2[0] - dT1/1440 )\n",
    "    TimeRangeEnd = min( Time_Band1[1] - dT2/1440, Time_Band2[1] - dT1/1440 )\n",
    "\n",
    "    TimeRange = TimeRangeEnd - TimeRangeStart\n",
    "    SampleNo = np.int(PointsPDay*TimeRange)\n",
    "\n",
    "    XX = np.random.rand(SampleNo)*TimeRange + TimeRangeStart\n",
    "\n",
    "    #Calculate the values of the functions with selected x values.  \n",
    "    Mag1 = Function_Band1(XX)\n",
    "    Mag2 = Function_Band2(XX+dT1/1440)\n",
    "    Mag12 = Function_Band1(XX+dT2/1440)\n",
    "\n",
    "    #Add a threshold for the results and output.\n",
    "    Mask = (Mag1<Thr) * (Mag2<Thr) *(Mag12<Thr)\n",
    "\n",
    "    dMag = Mag1[Mask] - Mag12[Mask]\n",
    "    Color = Mag1[Mask] - Mag2[Mask]\n",
    "        \n",
    "    return dMag, Color"
   ]
  },
  {
   "cell_type": "code",
   "execution_count": 8,
   "id": "ab3a7bb9-f373-4086-9d9b-85aed29299f5",
   "metadata": {},
   "outputs": [],
   "source": [
    "def reduce(results):\n",
    "    \n",
    "    dMags = []\n",
    "    Colors = []\n",
    "    \n",
    "    for dMag, Color in results:\n",
    "        \n",
    "#         print(len(dMag), len(Color))\n",
    "        dMags.extend(dMag)\n",
    "        Colors.extend(Color)\n",
    "    print(len(dMags), len(Colors))\n",
    "    return np.array([dMags, Colors])"
   ]
  },
  {
   "cell_type": "code",
   "execution_count": 42,
   "id": "142254ad-852d-4697-911f-d3b527f6f4d5",
   "metadata": {},
   "outputs": [],
   "source": [
    "ObjNo = 40000"
   ]
  },
  {
   "cell_type": "code",
   "execution_count": 43,
   "id": "a8b97abc-c6d6-4f29-96b0-7ad1099b93a6",
   "metadata": {},
   "outputs": [],
   "source": [
    "Band1 = 'g'\n",
    "Band2 = 'i'\n",
    "\n",
    "Function_Band1_List = Interp_load[Band1][0:ObjNo]\n",
    "Function_Band2_List = Interp_load[Band2][0:ObjNo]\n",
    "\n",
    "Time_Band1_List = TimeRange_load[Band1][0:ObjNo]\n",
    "Time_Band2_List = TimeRange_load[Band2][0:ObjNo]\n",
    "\n",
    "# Function_Band1_List = Interp_load[Band1]\n",
    "# Function_Band2_List = Interp_load[Band2]\n",
    "\n",
    "# Time_Band1_List = TimeRange_load[Band1]\n",
    "# Time_Band2_List = TimeRange_load[Band2]"
   ]
  },
  {
   "cell_type": "code",
   "execution_count": null,
   "id": "51192f0b-77c4-4a79-9247-60ddc3c4d0ac",
   "metadata": {},
   "outputs": [],
   "source": []
  },
  {
   "cell_type": "markdown",
   "id": "bb2abd5a-07a1-47e1-80f1-4e07dc178387",
   "metadata": {
    "tags": []
   },
   "source": [
    "---\n",
    "Try with delayed and compute"
   ]
  },
  {
   "cell_type": "code",
   "execution_count": 44,
   "id": "5a40f84a-77e4-4ae6-93d3-618715a3f36e",
   "metadata": {},
   "outputs": [
    {
     "name": "stdout",
     "output_type": "stream",
     "text": [
      "CPU times: user 21.7 s, sys: 3.68 s, total: 25.3 s\n",
      "Wall time: 30.3 s\n"
     ]
    }
   ],
   "source": [
    "%%time\n",
    "lazy_results = []\n",
    "\n",
    "for ii in range(ObjNo):\n",
    "    lazy_result = dask.delayed(CalculateMap)(Function_Band1_List[ii], Function_Band2_List[ii], Time_Band1_List[ii], Time_Band2_List[ii])\n",
    "    lazy_results.append(lazy_result)\n",
    "\n",
    "futures = dask.persist(*lazy_results)  # trigger computation in the background"
   ]
  },
  {
   "cell_type": "code",
   "execution_count": 45,
   "id": "6a19c3e6-76ad-4c1c-ada2-d3943528c2cf",
   "metadata": {},
   "outputs": [
    {
     "name": "stdout",
     "output_type": "stream",
     "text": [
      "CPU times: user 21.5 s, sys: 2.89 s, total: 24.4 s\n",
      "Wall time: 34.8 s\n"
     ]
    }
   ],
   "source": [
    "%%time\n",
    "results = dask.compute(*futures)"
   ]
  },
  {
   "cell_type": "code",
   "execution_count": null,
   "id": "f67db583-5ec3-4f79-905f-c8e8c11d9159",
   "metadata": {},
   "outputs": [],
   "source": []
  },
  {
   "cell_type": "code",
   "execution_count": 46,
   "id": "8ba49bc6-d885-498b-98f3-8bcbbec860d2",
   "metadata": {},
   "outputs": [
    {
     "name": "stdout",
     "output_type": "stream",
     "text": [
      "CPU times: user 6.15 s, sys: 867 ms, total: 7.01 s\n",
      "Wall time: 7.84 s\n"
     ]
    }
   ],
   "source": [
    "%%time\n",
    "lazy_results = []\n",
    "\n",
    "for ii in range(ObjNo):\n",
    "    lazy_result = dask.delayed(CalculateMap)(Function_Band1_List[ii], Function_Band2_List[ii], Time_Band1_List[ii], Time_Band2_List[ii])\n",
    "    lazy_results.append(lazy_result)\n",
    "\n",
    "# futures = dask.persist(*lazy_results)  # trigger computation in the background"
   ]
  },
  {
   "cell_type": "code",
   "execution_count": 47,
   "id": "8113d9fd-44f2-450a-8755-fe6c10394c4b",
   "metadata": {},
   "outputs": [
    {
     "name": "stdout",
     "output_type": "stream",
     "text": [
      "CPU times: user 1min 15s, sys: 6.16 s, total: 1min 21s\n",
      "Wall time: 3min 2s\n"
     ]
    }
   ],
   "source": [
    "%%time\n",
    "results = dask.compute(*lazy_results)"
   ]
  },
  {
   "cell_type": "code",
   "execution_count": null,
   "id": "72ac3e2f-2d50-4f97-af96-a2a0f31f74aa",
   "metadata": {},
   "outputs": [],
   "source": []
  },
  {
   "cell_type": "code",
   "execution_count": null,
   "id": "4415fef6-bb87-4087-a4a5-b93ed854b840",
   "metadata": {},
   "outputs": [],
   "source": []
  },
  {
   "cell_type": "code",
   "execution_count": 10,
   "id": "7f22475f-6fc0-44ac-b50a-f5e52e447088",
   "metadata": {},
   "outputs": [
    {
     "name": "stdout",
     "output_type": "stream",
     "text": [
      "1239948 1239948\n"
     ]
    },
    {
     "data": {
      "text/plain": [
       "(2, 1239948)"
      ]
     },
     "execution_count": 10,
     "metadata": {},
     "output_type": "execute_result"
    }
   ],
   "source": [
    "data = reduce(results)\n",
    "data.shape"
   ]
  },
  {
   "cell_type": "code",
   "execution_count": 60,
   "id": "eed8d31d-d95f-4675-b620-122c2d144ebb",
   "metadata": {},
   "outputs": [
    {
     "data": {
      "text/plain": [
       "<matplotlib.collections.PathCollection at 0x2aabaad5d150>"
      ]
     },
     "execution_count": 60,
     "metadata": {},
     "output_type": "execute_result"
    },
    {
     "data": {
      "image/png": "[encoded data removed]",
      "text/plain": [
       "<Figure size 720x576 with 1 Axes>"
      ]
     },
     "metadata": {
      "needs_background": "light"
     },
     "output_type": "display_data"
    }
   ],
   "source": [
    "plt.figure(figsize=(10, 8))\n",
    "plt.scatter(data[0],data[1], s=1)"
   ]
  },
  {
   "cell_type": "code",
   "execution_count": null,
   "id": "37b3eaf0-0f8c-4109-b5bd-4d534becb598",
   "metadata": {},
   "outputs": [],
   "source": []
  },
  {
   "cell_type": "code",
   "execution_count": null,
   "id": "0b20b5dc-5480-43cc-83b0-fd35581a8cf2",
   "metadata": {},
   "outputs": [],
   "source": []
  },
  {
   "cell_type": "code",
   "execution_count": 65,
   "id": "aca4d762-293b-45ef-9937-39ab9e581877",
   "metadata": {},
   "outputs": [],
   "source": [
    "ObjNo = 10000"
   ]
  },
  {
   "cell_type": "code",
   "execution_count": 66,
   "id": "a2bde321-2ff2-4b46-9b69-cf80e1d17a71",
   "metadata": {},
   "outputs": [],
   "source": [
    "Band1 = 'g'\n",
    "Band2 = 'i'\n",
    "\n",
    "Function_Band1_List = Interp_load[Band1][0:ObjNo]\n",
    "Function_Band2_List = Interp_load[Band2][0:ObjNo]\n",
    "\n",
    "Time_Band1_List = TimeRange_load[Band1][0:ObjNo]\n",
    "Time_Band2_List = TimeRange_load[Band2][0:ObjNo]\n",
    "\n",
    "# Function_Band1_List = Interp_load[Band1]\n",
    "# Function_Band2_List = Interp_load[Band2]\n",
    "\n",
    "# Time_Band1_List = TimeRange_load[Band1]\n",
    "# Time_Band2_List = TimeRange_load[Band2]"
   ]
  },
  {
   "cell_type": "code",
   "execution_count": 13,
   "id": "f38e1f47-8985-4bf0-8a7c-d52f43abfeb3",
   "metadata": {},
   "outputs": [
    {
     "name": "stdout",
     "output_type": "stream",
     "text": [
      "CPU times: user 5.56 s, sys: 987 ms, total: 6.55 s\n",
      "Wall time: 6.64 s\n"
     ]
    }
   ],
   "source": [
    "%%time\n",
    "lazy_results = []\n",
    "\n",
    "for ii in range(ObjNo):\n",
    "    lazy_result = dask.delayed(CalculateMap)(Function_Band1_List[ii], Function_Band2_List[ii], Time_Band1_List[ii], Time_Band2_List[ii])\n",
    "    lazy_results.append(lazy_result)\n",
    "\n",
    "futures = dask.persist(*lazy_results)  # trigger computation in the background"
   ]
  },
  {
   "cell_type": "code",
   "execution_count": 14,
   "id": "8a9247f6-8b7d-4431-9885-096bc048b030",
   "metadata": {},
   "outputs": [
    {
     "name": "stdout",
     "output_type": "stream",
     "text": [
      "CPU times: user 8.58 s, sys: 738 ms, total: 9.32 s\n",
      "Wall time: 9.86 s\n"
     ]
    }
   ],
   "source": [
    "%%time\n",
    "results = dask.compute(*futures)"
   ]
  },
  {
   "cell_type": "code",
   "execution_count": 15,
   "id": "d7d241b7-44c7-4b0d-bec7-bfebc231cb19",
   "metadata": {},
   "outputs": [
    {
     "name": "stdout",
     "output_type": "stream",
     "text": [
      "309984 309984\n"
     ]
    },
    {
     "data": {
      "text/plain": [
       "(2, 309984)"
      ]
     },
     "execution_count": 15,
     "metadata": {},
     "output_type": "execute_result"
    }
   ],
   "source": [
    "data = reduce(results)\n",
    "data.shape"
   ]
  },
  {
   "cell_type": "code",
   "execution_count": null,
   "id": "6f687558-b600-4472-91a5-d2614e53cf55",
   "metadata": {},
   "outputs": [],
   "source": []
  },
  {
   "cell_type": "markdown",
   "id": "25592b32-5fd3-4a21-9047-4e1342dc23c9",
   "metadata": {},
   "source": [
    "---\n",
    "Try with map and submit"
   ]
  },
  {
   "cell_type": "code",
   "execution_count": 9,
   "id": "0232747f-a43c-4d47-ab62-10cba2386981",
   "metadata": {},
   "outputs": [],
   "source": [
    "ObjNo = 10000"
   ]
  },
  {
   "cell_type": "code",
   "execution_count": 10,
   "id": "0b3d6f19-d1c7-4e3f-9df8-452f62dad534",
   "metadata": {},
   "outputs": [],
   "source": [
    "Band1 = 'g'\n",
    "Band2 = 'i'\n",
    "\n",
    "Function_Band1_List = Interp_load[Band1][0:ObjNo]\n",
    "Function_Band2_List = Interp_load[Band2][0:ObjNo]\n",
    "\n",
    "Time_Band1_List = TimeRange_load[Band1][0:ObjNo]\n",
    "Time_Band2_List = TimeRange_load[Band2][0:ObjNo]\n",
    "\n",
    "# Function_Band1_List = Interp_load[Band1]\n",
    "# Function_Band2_List = Interp_load[Band2]\n",
    "\n",
    "# Time_Band1_List = TimeRange_load[Band1]\n",
    "# Time_Band2_List = TimeRange_load[Band2]"
   ]
  },
  {
   "cell_type": "code",
   "execution_count": 20,
   "id": "8968884d-7b59-4fa2-a6ae-f529795b01cd",
   "metadata": {},
   "outputs": [
    {
     "name": "stdout",
     "output_type": "stream",
     "text": [
      "CPU times: user 4.71 s, sys: 518 ms, total: 5.22 s\n",
      "Wall time: 5.54 s\n"
     ]
    }
   ],
   "source": [
    "%%time\n",
    "futures = client.map(CalculateMap, \n",
    "                     Function_Band1_List, Function_Band2_List, \n",
    "                     Time_Band1_List, Time_Band2_List,\n",
    "                     dT1=30, dT2=300, PointsPDay=1)"
   ]
  },
  {
   "cell_type": "code",
   "execution_count": 21,
   "id": "c1b8c186-f825-43eb-a0a8-5b6c20fe6887",
   "metadata": {},
   "outputs": [
    {
     "name": "stdout",
     "output_type": "stream",
     "text": [
      "CPU times: user 33.6 s, sys: 3.32 s, total: 36.9 s\n",
      "Wall time: 40.3 s\n"
     ]
    }
   ],
   "source": [
    "%%time\n",
    "data = client.gather(futures)"
   ]
  },
  {
   "cell_type": "code",
   "execution_count": null,
   "id": "7cb72b83-c6be-4294-ab2c-be5194afa967",
   "metadata": {},
   "outputs": [],
   "source": []
  },
  {
   "cell_type": "code",
   "execution_count": 18,
   "id": "a3635395-fe3a-4eca-893f-68f70851f7a0",
   "metadata": {},
   "outputs": [
    {
     "name": "stdout",
     "output_type": "stream",
     "text": [
      "CPU times: user 4.98 s, sys: 1.06 s, total: 6.04 s\n",
      "Wall time: 6.32 s\n"
     ]
    }
   ],
   "source": [
    "%%time\n",
    "futures = client.map(CalculateMap, \n",
    "                     Function_Band1_List, Function_Band2_List, \n",
    "                     Time_Band1_List, Time_Band2_List,\n",
    "                     dT1=30, dT2=300, PointsPDay=1)"
   ]
  },
  {
   "cell_type": "code",
   "execution_count": 19,
   "id": "a1f07a72-9892-4ad1-a9a4-3280caf9db7e",
   "metadata": {},
   "outputs": [
    {
     "name": "stdout",
     "output_type": "stream",
     "text": [
      "CPU times: user 29.2 s, sys: 2.52 s, total: 31.7 s\n",
      "Wall time: 38.7 s\n"
     ]
    }
   ],
   "source": [
    "%%time\n",
    "data = client.submit(reduce, futures).result()"
   ]
  },
  {
   "cell_type": "code",
   "execution_count": null,
   "id": "50b0d4b8-630a-4b05-8c34-4f3d4a0382e0",
   "metadata": {},
   "outputs": [],
   "source": []
  },
  {
   "cell_type": "code",
   "execution_count": 9,
   "id": "4afa3aea-1a91-4a80-93e1-5da99706abc2",
   "metadata": {},
   "outputs": [
    {
     "name": "stdout",
     "output_type": "stream",
     "text": [
      "CPU times: user 30.3 s, sys: 3.31 s, total: 33.6 s\n",
      "Wall time: 34.1 s\n"
     ]
    }
   ],
   "source": [
    "%%time\n",
    "\n",
    "F1 = client.scatter(Function_Band1_List)\n",
    "F2 = client.scatter(Function_Band2_List)\n",
    "\n",
    "T1 = client.scatter(Time_Band1_List)\n",
    "T2 = client.scatter(Time_Band2_List)\n",
    "\n",
    "\n",
    "futures = client.map(CalculateMap, \n",
    "                     F1, F2, T1, T2,\n",
    "                     dT1=30, dT2=300, PointsPDay=1)"
   ]
  },
  {
   "cell_type": "code",
   "execution_count": 10,
   "id": "e651ed52-a250-4e21-abc2-4146f7db197e",
   "metadata": {},
   "outputs": [
    {
     "name": "stderr",
     "output_type": "stream",
     "text": [
      "/usr/common/software/python/3.7-anaconda-2019.10/lib/python3.7/site-packages/distributed/worker.py:3239: UserWarning: Large object of size 1.92 MB detected in task graph: \n",
      "  (['CalculateMap-f7b32caaf58e755da1c4322109479cf9', ... bc77aa6af72'],)\n",
      "Consider scattering large objects ahead of time\n",
      "with client.scatter to reduce scheduler burden and \n",
      "keep data on workers\n",
      "\n",
      "    future = client.submit(func, big_data)    # bad\n",
      "\n",
      "    big_future = client.scatter(big_data)     # good\n",
      "    future = client.submit(func, big_future)  # good\n",
      "  % (format_bytes(len(b)), s)\n",
      "distributed.comm.tcp - WARNING - Closing dangling stream in <TCP  local=tcp://127.0.0.1:33942 remote=tcp://127.0.0.1:40267>\n",
      "distributed.comm.tcp - WARNING - Closing dangling stream in <TCP  local=tcp://127.0.0.1:33950 remote=tcp://127.0.0.1:40267>\n",
      "distributed.comm.tcp - WARNING - Closing dangling stream in <TCP  local=tcp://127.0.0.1:33952 remote=tcp://127.0.0.1:40267>\n",
      "distributed.comm.tcp - WARNING - Closing dangling stream in <TCP  local=tcp://127.0.0.1:33962 remote=tcp://127.0.0.1:40267>\n",
      "distributed.comm.tcp - WARNING - Closing dangling stream in <TCP  local=tcp://127.0.0.1:33974 remote=tcp://127.0.0.1:40267>\n",
      "distributed.comm.tcp - WARNING - Closing dangling stream in <TCP  local=tcp://127.0.0.1:33976 remote=tcp://127.0.0.1:40267>\n",
      "distributed.comm.tcp - WARNING - Closing dangling stream in <TCP  local=tcp://127.0.0.1:33978 remote=tcp://127.0.0.1:40267>\n",
      "distributed.comm.tcp - WARNING - Closing dangling stream in <TCP  local=tcp://127.0.0.1:33986 remote=tcp://127.0.0.1:40267>\n",
      "distributed.comm.tcp - WARNING - Closing dangling stream in <TCP  local=tcp://127.0.0.1:33988 remote=tcp://127.0.0.1:40267>\n",
      "distributed.comm.tcp - WARNING - Closing dangling stream in <TCP  local=tcp://127.0.0.1:33990 remote=tcp://127.0.0.1:40267>\n",
      "distributed.comm.tcp - WARNING - Closing dangling stream in <TCP  local=tcp://127.0.0.1:33992 remote=tcp://127.0.0.1:40267>\n",
      "distributed.comm.tcp - WARNING - Closing dangling stream in <TCP  local=tcp://127.0.0.1:33994 remote=tcp://127.0.0.1:40267>\n"
     ]
    },
    {
     "name": "stdout",
     "output_type": "stream",
     "text": [
      "CPU times: user 1min 26s, sys: 7.47 s, total: 1min 34s\n",
      "Wall time: 1min 43s\n"
     ]
    }
   ],
   "source": [
    "%%time\n",
    "data = client.submit(reduce, futures).result()"
   ]
  },
  {
   "cell_type": "code",
   "execution_count": 11,
   "id": "190f401b-c374-4c2f-857d-a62b7fbb9219",
   "metadata": {},
   "outputs": [
    {
     "data": {
      "text/plain": [
       "<matplotlib.collections.PathCollection at 0x2aab881ca710>"
      ]
     },
     "execution_count": 11,
     "metadata": {},
     "output_type": "execute_result"
    },
    {
     "data": {
      "image/png": "[encoded data removed]",
      "text/plain": [
       "<Figure size 720x576 with 1 Axes>"
      ]
     },
     "metadata": {
      "needs_background": "light"
     },
     "output_type": "display_data"
    }
   ],
   "source": [
    "plt.figure(figsize=(10, 8))\n",
    "plt.scatter(data[0],data[1], s=1)"
   ]
  },
  {
   "cell_type": "code",
   "execution_count": null,
   "id": "7106214c-e0ad-4f50-b8d3-1aa34c83f890",
   "metadata": {},
   "outputs": [],
   "source": [
    "data.shape"
   ]
  },
  {
   "cell_type": "code",
   "execution_count": null,
   "id": "c3890503-8c92-4136-ab06-2dde1bc41d0b",
   "metadata": {},
   "outputs": [],
   "source": []
  },
  {
   "cell_type": "code",
   "execution_count": null,
   "id": "11704715-e550-4162-b12f-598515a3be1c",
   "metadata": {},
   "outputs": [],
   "source": []
  }
 ],
 "metadata": {
  "kernelspec": {
   "display_name": "Python 3",
   "language": "python",
   "name": "python3"
  },
  "language_info": {
   "codemirror_mode": {
    "name": "ipython",
    "version": 3
   },
   "file_extension": ".py",
   "mimetype": "text/x-python",
   "name": "python",
   "nbconvert_exporter": "python",
   "pygments_lexer": "ipython3",
   "version": "3.8.8"
  }
 },
 "nbformat": 4,
 "nbformat_minor": 5
}
