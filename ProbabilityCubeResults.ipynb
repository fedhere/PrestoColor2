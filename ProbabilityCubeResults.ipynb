{
 "cells": [
  {
   "cell_type": "code",
   "execution_count": 1,
   "metadata": {
    "executionInfo": {
     "elapsed": 218,
     "status": "ok",
     "timestamp": 1631647781845,
     "user": {
      "displayName": "Ming Lian",
      "photoUrl": "https://lh3.googleusercontent.com/a-/AOh14GhFnZN2A2xowTHg5pgYqhHMO_ye89Z2cXUJ-M0ywg=s64",
      "userId": "12705220457356801018"
     },
     "user_tz": 240
    },
    "id": "BHpGWIT00gQo"
   },
   "outputs": [],
   "source": [
    "import numpy as np\n",
    "import Functions\n",
    "import pickle\n",
    "import os\n",
    "from matplotlib.colors import LogNorm\n",
    "\n",
    "import matplotlib.pyplot as plt"
   ]
  },
  {
   "cell_type": "code",
   "execution_count": 2,
   "metadata": {},
   "outputs": [
    {
     "data": {
      "text/plain": [
       "['TDE']"
      ]
     },
     "execution_count": 2,
     "metadata": {},
     "output_type": "execute_result"
    }
   ],
   "source": [
    "EventNames = ['AGN', 'CART', 'EB', 'ILOT', 'KN_B19', 'KN_K17', 'MIRA', 'Mdwarf',\n",
    "              'PISN', 'RRL', 'SLSN-I', 'SNII-NMF', 'SNII-Templates', 'SNIIn',\n",
    "              'SNIa-91bg', 'SNIa-SALT2', 'SNIax', 'SNIbc-MOSFIT',\n",
    "              'SNIbc-Templates', 'TDE', 'V19_CC+HostXT', 'uLens-Binary',\n",
    "              'uLens-Single-GenLens', 'uLens-Single_PyLIMA']\n",
    "\n",
    "EventNames = [EventNames[19]]\n",
    "EventNames"
   ]
  },
  {
   "cell_type": "code",
   "execution_count": 3,
   "metadata": {
    "executionInfo": {
     "elapsed": 9,
     "status": "ok",
     "timestamp": 1631646040991,
     "user": {
      "displayName": "Ming Lian",
      "photoUrl": "https://lh3.googleusercontent.com/a-/AOh14GhFnZN2A2xowTHg5pgYqhHMO_ye89Z2cXUJ-M0ywg=s64",
      "userId": "12705220457356801018"
     },
     "user_tz": 240
    },
    "id": "BDsgVRMT0mK3"
   },
   "outputs": [],
   "source": [
    "def Enquiry(HashTable, InfoDict, Band1, Band2, dT1, dT2, dMag=None, Color=None):\n",
    "    \n",
    "    if abs(dT1) > abs(dT1-dT2):\n",
    "        dT1, dT2 = dT1-dT2, -dT2    \n",
    "\n",
    "    Ind1 = InfoDict['BandPairs'].index(Band1+Band2)\n",
    "    \n",
    "    dT1grid = InfoDict['dT1s'][ abs( dT1 - InfoDict['dT1s'] ).argmin() ]\n",
    "    dT2grid = InfoDict['dT2s'][ abs( dT2 - InfoDict['dT2s'] ).argmin() ]\n",
    "    \n",
    "    TimePairGrid = [ InfoDict['dT1s'][ abs( dT1 - InfoDict['dT1s'] ).argmin() ], InfoDict['dT2s'][ abs( dT2 - InfoDict['dT2s'] ).argmin() ] ]\n",
    "    \n",
    "    Ind2 = np.where( (InfoDict['TimePairs'] == TimePairGrid ).all(axis=1) )[0][0]\n",
    "    \n",
    "    Results = HashTable[Ind1, Ind2]\n",
    "\n",
    "    if dMag == None:\n",
    "        pass        \n",
    "    elif dMag<InfoDict['BinMag'][0] or dMag>=InfoDict['BinMag'][-1]:\n",
    "        raise ValueError('The value of dMag is out of boundary, the available interval is [{:.2f}, {:.2f}).'.format(InfoDict['BinMag'][0], InfoDict['BinMag'][-1]))        \n",
    "    else:\n",
    "        Results = Results[np.where( dMag >= InfoDict['BinMag'] )[0][-1]]       \n",
    "\n",
    "    if Color == None:\n",
    "        pass        \n",
    "    elif Color<InfoDict['BinColor'][0] or Color>=InfoDict['BinColor'][-1]:\n",
    "        raise ValueError('The value of Color is out of boundary, the available interval is [{:.2f}, {:.2f}).'.format(InfoDict['BinColor'][0], InfoDict['BinColor'][-1]))\n",
    "        \n",
    "    else:\n",
    "        Results = Results[..., np.where( Color >= InfoDict['BinColor'] )[0][-1] ]\n",
    "\n",
    "    return Results"
   ]
  },
  {
   "cell_type": "code",
   "execution_count": 4,
   "metadata": {
    "executionInfo": {
     "elapsed": 4013,
     "status": "ok",
     "timestamp": 1631653595306,
     "user": {
      "displayName": "Ming Lian",
      "photoUrl": "https://lh3.googleusercontent.com/a-/AOh14GhFnZN2A2xowTHg5pgYqhHMO_ye89Z2cXUJ-M0ywg=s64",
      "userId": "12705220457356801018"
     },
     "user_tz": 240
    },
    "id": "oOEH5kjB0tWh"
   },
   "outputs": [],
   "source": [
    "def loadCubeFile(FilePath):\n",
    "    \n",
    "    FileTime = FilePath[FilePath.find('Cube_')+4: FilePath.rfind('__')]\n",
    "    \n",
    "    with open(FilePath, 'rb') as f:\n",
    "        InfoDict = pickle.load(f)\n",
    "        HashTable = pickle.load(f)\n",
    "    \n",
    "    dT1Range = [InfoDict['dT1s'][0], InfoDict['dT1s'][-1]]\n",
    "    dT2Range = [InfoDict['dT2s'][0], InfoDict['dT2s'][-1]]    \n",
    "    dT1step = ( InfoDict['dT1s'][1:] - InfoDict['dT1s'][:-1] ).min()\n",
    "    dT2step = ( InfoDict['dT2s'][1:] - InfoDict['dT2s'][:-1] ).min()\n",
    "        \n",
    "    StartObjNo = 'n/a'\n",
    "    \n",
    "    if 'StartObjNo' in InfoDict:\n",
    "        StartObjNo = InfoDict['StartObjNo']\n",
    "        \n",
    "    print('{:<35}ObjectNo: {:>5}, start at {:>3}. dT1 range = {}, step = {:>3}. dT2 range = {}, step = {:>3}. BandpairNo: {}.'.format(\n",
    "        InfoDict['EventName']+FileTime, InfoDict['ObjectNo'], StartObjNo, dT1Range, dT1step, dT2Range, dT2step, len(InfoDict['BandPairs'])))\n",
    "\n",
    "    # InfoDict['OutliersRatio'] = InfoDict['Outliers'] / HashTable.sum()\n",
    "\n",
    "    if 'Outliers' in InfoDict:\n",
    "        print('\\t{} outliers found, the ratio to the max value is {:.12f}.'.format(InfoDict['Outliers'], InfoDict['OutliersRatio']) )\n",
    "        print('\\tdMag range is {}, \\n\\tColor range is {}.'.format( InfoDict['dMagRange'], InfoDict['ColorRange'] ) )\n",
    "\n",
    "    if 'Overflow' in InfoDict:\n",
    "        print('\\tData in the HashTable overflowed, the minimun value is {}.'.format(InfoDict['Overflow']))\n",
    "        \n",
    "    return InfoDict, HashTable;\n"
   ]
  },
  {
   "cell_type": "code",
   "execution_count": null,
   "metadata": {},
   "outputs": [],
   "source": []
  },
  {
   "cell_type": "code",
   "execution_count": 47,
   "metadata": {},
   "outputs": [],
   "source": [
    "PathCubeFolder = '/global/cscratch1/sd/lianming/Results/FullRun_10kObj_220802'\n",
    "CubeFileNames = os.listdir(PathCubeFolder)\n",
    "CubeFileNames = [ ii for ii in CubeFileNames if '.pkl' in ii ]"
   ]
  },
  {
   "cell_type": "code",
   "execution_count": 48,
   "metadata": {},
   "outputs": [
    {
     "data": {
      "text/plain": [
       "['ProbCube_0802_0830__SNIa-SALT2.pkl',\n",
       " 'ProbCube_0802_0823__MIRA.pkl',\n",
       " 'ProbCube_0802_0821__AGN.pkl',\n",
       " 'ProbCube_0802_0832__uLens-Single_PyLIMA.pkl',\n",
       " 'ProbCube_0802_0830__SNIbc-MOSFIT.pkl',\n",
       " 'ProbCube_0802_0829__SNIa-91bg.pkl',\n",
       " 'ProbCube_0802_0831__uLens-Single-GenLens.pkl',\n",
       " 'ProbCube_0802_0830__SNIbc-Templates.pkl',\n",
       " 'ProbCube_0802_0824__PISN.pkl',\n",
       " 'ProbCube_0802_0831__TDE.pkl',\n",
       " 'ProbCube_0802_0822__CART.pkl',\n",
       " 'ProbCube_0802_0828__SNIIn.pkl',\n",
       " 'ProbCube_0802_0826__SNII-NMF.pkl',\n",
       " 'ProbCube_0802_0831__uLens-Binary.pkl',\n",
       " 'ProbCube_0802_0825__SLSN-I.pkl',\n",
       " 'ProbCube_0802_0823__ILOT.pkl',\n",
       " 'ProbCube_0802_0824__RRL.pkl',\n",
       " 'ProbCube_0802_0831__V19_CC+HostXT.pkl',\n",
       " 'ProbCube_0802_0830__SNIax.pkl',\n",
       " 'ProbCube_0802_0823__EB.pkl',\n",
       " 'ProbCube_0802_0824__Mdwarf.pkl',\n",
       " 'ProbCube_0802_0827__SNII-Templates.pkl']"
      ]
     },
     "execution_count": 48,
     "metadata": {},
     "output_type": "execute_result"
    }
   ],
   "source": [
    "CubeFileNames"
   ]
  },
  {
   "cell_type": "code",
   "execution_count": null,
   "metadata": {},
   "outputs": [],
   "source": []
  },
  {
   "cell_type": "code",
   "execution_count": 15,
   "metadata": {},
   "outputs": [],
   "source": [
    "CubeFileNames.sort()"
   ]
  },
  {
   "cell_type": "code",
   "execution_count": 16,
   "metadata": {},
   "outputs": [],
   "source": [
    "def sortbyname(CubeFileNames):\n",
    "    namelist = [ [ ii[ii.find('__')+1: ii.rfind('.')], ii] for ii in CubeFileNames ]\n",
    "    namelist.sort()\n",
    "    return [ ii[1] for ii in namelist ]"
   ]
  },
  {
   "cell_type": "code",
   "execution_count": null,
   "metadata": {},
   "outputs": [],
   "source": []
  },
  {
   "cell_type": "code",
   "execution_count": 17,
   "metadata": {},
   "outputs": [],
   "source": [
    "CubeFileNames = sortbyname(CubeFileNames)"
   ]
  },
  {
   "cell_type": "code",
   "execution_count": null,
   "metadata": {},
   "outputs": [],
   "source": []
  },
  {
   "cell_type": "code",
   "execution_count": 18,
   "metadata": {},
   "outputs": [
    {
     "name": "stdout",
     "output_type": "stream",
     "text": [
      "AGN_0802_0821                      ObjectNo: 10000, start at   0. dT1 range = [-480, 480], step =  15. dT2 range = [-1920, 1920], step =  30. BandpairNo: 28.\n",
      "CART_0802_0822                     ObjectNo: 10000, start at   0. dT1 range = [-480, 480], step =  15. dT2 range = [-1920, 1920], step =  30. BandpairNo: 28.\n",
      "EB_0802_0823                       ObjectNo: 10000, start at   0. dT1 range = [-480, 480], step =  15. dT2 range = [-1920, 1920], step =  30. BandpairNo: 28.\n",
      "ILOT_0802_0823                     ObjectNo: 10000, start at   0. dT1 range = [-480, 480], step =  15. dT2 range = [-1920, 1920], step =  30. BandpairNo: 28.\n",
      "MIRA_0802_0823                     ObjectNo: 10000, start at   0. dT1 range = [-480, 480], step =  15. dT2 range = [-1920, 1920], step =  30. BandpairNo: 28.\n",
      "\t152 outliers found, the ratio to the max value is 0.000246726011.\n",
      "\tdMag range is [-0.18850456552306838, 0.5155563354501567], \n",
      "\tColor range is [-9.399906692566011, 9.410819420131974].\n",
      "Mdwarf_0802_0824                   ObjectNo:  9999, start at   0. dT1 range = [-480, 480], step =  15. dT2 range = [-1920, 1920], step =  30. BandpairNo: 28.\n",
      "PISN_0802_0824                     ObjectNo: 10000, start at n/a. dT1 range = [-480, 480], step =  15. dT2 range = [-1920, 1920], step =  30. BandpairNo: 28.\n",
      "RRL_0802_0824                      ObjectNo: 10000, start at n/a. dT1 range = [-480, 480], step =  15. dT2 range = [-1920, 1920], step =  30. BandpairNo: 28.\n",
      "SLSN-I_0802_0825                   ObjectNo: 10000, start at n/a. dT1 range = [-480, 480], step =  15. dT2 range = [-1920, 1920], step =  30. BandpairNo: 28.\n",
      "SNII-NMF_0802_0826                 ObjectNo: 10000, start at n/a. dT1 range = [-480, 480], step =  15. dT2 range = [-1920, 1920], step =  30. BandpairNo: 28.\n",
      "\t4 outliers found, the ratio to the max value is 0.000012435607.\n",
      "\tdMag range is [-0.7776056925469881, 6.3024865556918535], \n",
      "\tColor range is [-6.531222873380067, 6.565151842129978].\n",
      "SNII-Templates_0802_0827           ObjectNo: 10000, start at n/a. dT1 range = [-480, 480], step =  15. dT2 range = [-1920, 1920], step =  30. BandpairNo: 28.\n",
      "SNIIn_0802_0828                    ObjectNo: 10000, start at n/a. dT1 range = [-480, 480], step =  15. dT2 range = [-1920, 1920], step =  30. BandpairNo: 28.\n",
      "SNIa-91bg_0802_0829                ObjectNo: 10000, start at   0. dT1 range = [-480, 480], step =  15. dT2 range = [-1920, 1920], step =  30. BandpairNo: 28.\n",
      "SNIa-SALT2_0802_0830               ObjectNo: 10000, start at   0. dT1 range = [-480, 480], step =  15. dT2 range = [-1920, 1920], step =  30. BandpairNo: 28.\n",
      "SNIax_0802_0830                    ObjectNo: 10000, start at   0. dT1 range = [-480, 480], step =  15. dT2 range = [-1920, 1920], step =  30. BandpairNo: 28.\n",
      "SNIbc-MOSFIT_0802_0830             ObjectNo: 10000, start at   0. dT1 range = [-480, 480], step =  15. dT2 range = [-1920, 1920], step =  30. BandpairNo: 28.\n",
      "SNIbc-Templates_0802_0830          ObjectNo: 10000, start at   0. dT1 range = [-480, 480], step =  15. dT2 range = [-1920, 1920], step =  30. BandpairNo: 28.\n",
      "TDE_0802_0831                      ObjectNo: 10000, start at   0. dT1 range = [-480, 480], step =  15. dT2 range = [-1920, 1920], step =  30. BandpairNo: 28.\n",
      "V19_CC+HostXT_0802_0831            ObjectNo: 10000, start at   0. dT1 range = [-480, 480], step =  15. dT2 range = [-1920, 1920], step =  30. BandpairNo: 28.\n",
      "\t675 outliers found, the ratio to the max value is 0.001476988519.\n",
      "\tdMag range is [-1.0279070536314272, 11.009187772369444], \n",
      "\tColor range is [-8.266089784346336, 10.232986219909982].\n",
      "uLens-Binary_0802_0831             ObjectNo:  9208, start at   0. dT1 range = [-480, 480], step =  15. dT2 range = [-1920, 1920], step =  30. BandpairNo: 28.\n",
      "uLens-Single-GenLens_0802_0831     ObjectNo:  8862, start at   0. dT1 range = [-480, 480], step =  15. dT2 range = [-1920, 1920], step =  30. BandpairNo: 28.\n",
      "uLens-Single_PyLIMA_0802_0832      ObjectNo:  8565, start at   0. dT1 range = [-480, 480], step =  15. dT2 range = [-1920, 1920], step =  30. BandpairNo: 28.\n"
     ]
    }
   ],
   "source": [
    "for FileName in CubeFileNames:\n",
    "    FilePath = os.path.join(PathCubeFolder, FileName)\n",
    "    loadCubeFile(FilePath)    "
   ]
  },
  {
   "cell_type": "code",
   "execution_count": null,
   "metadata": {},
   "outputs": [],
   "source": []
  },
  {
   "cell_type": "code",
   "execution_count": 50,
   "metadata": {},
   "outputs": [],
   "source": [
    "ResultsFolder = '/global/cscratch1/sd/lianming/Results/'"
   ]
  },
  {
   "cell_type": "code",
   "execution_count": 54,
   "metadata": {},
   "outputs": [
    {
     "name": "stdout",
     "output_type": "stream",
     "text": [
      "SNIa-SALT2_0802_0830               ObjectNo: 10000, start at   0. dT1 range = [-480, 480], step =  15. dT2 range = [-1920, 1920], step =  30. BandpairNo: 28.\n",
      "MIRA_0802_0823                     ObjectNo: 10000, start at   0. dT1 range = [-480, 480], step =  15. dT2 range = [-1920, 1920], step =  30. BandpairNo: 28.\n",
      "\t152 outliers found, the ratio to the max value is 0.000246726011.\n",
      "\tdMag range is [-0.18850456552306838, 0.5155563354501567], \n",
      "\tColor range is [-9.399906692566011, 9.410819420131974].\n",
      "AGN_0802_0821                      ObjectNo: 10000, start at   0. dT1 range = [-480, 480], step =  15. dT2 range = [-1920, 1920], step =  30. BandpairNo: 28.\n",
      "uLens-Single_PyLIMA_0802_0832      ObjectNo:  8565, start at   0. dT1 range = [-480, 480], step =  15. dT2 range = [-1920, 1920], step =  30. BandpairNo: 28.\n",
      "SNIbc-MOSFIT_0802_0830             ObjectNo: 10000, start at   0. dT1 range = [-480, 480], step =  15. dT2 range = [-1920, 1920], step =  30. BandpairNo: 28.\n",
      "SNIa-91bg_0802_0829                ObjectNo: 10000, start at   0. dT1 range = [-480, 480], step =  15. dT2 range = [-1920, 1920], step =  30. BandpairNo: 28.\n",
      "uLens-Single-GenLens_0802_0831     ObjectNo:  8862, start at   0. dT1 range = [-480, 480], step =  15. dT2 range = [-1920, 1920], step =  30. BandpairNo: 28.\n",
      "SNIbc-Templates_0802_0830          ObjectNo: 10000, start at   0. dT1 range = [-480, 480], step =  15. dT2 range = [-1920, 1920], step =  30. BandpairNo: 28.\n",
      "PISN_0802_0824                     ObjectNo: 10000, start at n/a. dT1 range = [-480, 480], step =  15. dT2 range = [-1920, 1920], step =  30. BandpairNo: 28.\n",
      "TDE_0802_0831                      ObjectNo: 10000, start at   0. dT1 range = [-480, 480], step =  15. dT2 range = [-1920, 1920], step =  30. BandpairNo: 28.\n",
      "CART_0802_0822                     ObjectNo: 10000, start at   0. dT1 range = [-480, 480], step =  15. dT2 range = [-1920, 1920], step =  30. BandpairNo: 28.\n",
      "SNIIn_0802_0828                    ObjectNo: 10000, start at n/a. dT1 range = [-480, 480], step =  15. dT2 range = [-1920, 1920], step =  30. BandpairNo: 28.\n",
      "SNII-NMF_0802_0826                 ObjectNo: 10000, start at n/a. dT1 range = [-480, 480], step =  15. dT2 range = [-1920, 1920], step =  30. BandpairNo: 28.\n",
      "\t4 outliers found, the ratio to the max value is 0.000012435607.\n",
      "\tdMag range is [-0.7776056925469881, 6.3024865556918535], \n",
      "\tColor range is [-6.531222873380067, 6.565151842129978].\n",
      "uLens-Binary_0802_0831             ObjectNo:  9208, start at   0. dT1 range = [-480, 480], step =  15. dT2 range = [-1920, 1920], step =  30. BandpairNo: 28.\n",
      "SLSN-I_0802_0825                   ObjectNo: 10000, start at n/a. dT1 range = [-480, 480], step =  15. dT2 range = [-1920, 1920], step =  30. BandpairNo: 28.\n",
      "ILOT_0802_0823                     ObjectNo: 10000, start at   0. dT1 range = [-480, 480], step =  15. dT2 range = [-1920, 1920], step =  30. BandpairNo: 28.\n",
      "RRL_0802_0824                      ObjectNo: 10000, start at n/a. dT1 range = [-480, 480], step =  15. dT2 range = [-1920, 1920], step =  30. BandpairNo: 28.\n",
      "V19_CC+HostXT_0802_0831            ObjectNo: 10000, start at   0. dT1 range = [-480, 480], step =  15. dT2 range = [-1920, 1920], step =  30. BandpairNo: 28.\n",
      "\t675 outliers found, the ratio to the max value is 0.001476988519.\n",
      "\tdMag range is [-1.0279070536314272, 11.009187772369444], \n",
      "\tColor range is [-8.266089784346336, 10.232986219909982].\n",
      "SNIax_0802_0830                    ObjectNo: 10000, start at   0. dT1 range = [-480, 480], step =  15. dT2 range = [-1920, 1920], step =  30. BandpairNo: 28.\n",
      "EB_0802_0823                       ObjectNo: 10000, start at   0. dT1 range = [-480, 480], step =  15. dT2 range = [-1920, 1920], step =  30. BandpairNo: 28.\n",
      "Mdwarf_0802_0824                   ObjectNo:  9999, start at   0. dT1 range = [-480, 480], step =  15. dT2 range = [-1920, 1920], step =  30. BandpairNo: 28.\n",
      "SNII-Templates_0802_0827           ObjectNo: 10000, start at n/a. dT1 range = [-480, 480], step =  15. dT2 range = [-1920, 1920], step =  30. BandpairNo: 28.\n",
      "MIRA_0728_0613                     ObjectNo:  2500, start at   8. dT1 range = [-480, 480], step =  15. dT2 range = [-1920, 1920], step =  30. BandpairNo: 28.\n",
      "\t107 outliers found, the ratio to the max value is 0.000173519610.\n",
      "\tdMag range is [-0.17955652872753802, 0.5155563354501567], \n",
      "\tColor range is [-9.395871244973673, 9.402472565029038].\n",
      "SNII-NMF_0702_0015                 ObjectNo:  2500, start at n/a. dT1 range = [-480, 480], step =  15. dT2 range = [-1920, 1920], step =  30. BandpairNo: 28.\n",
      "\t11 outliers found, the ratio to the max value is 0.000033975994.\n",
      "\tdMag range is [-0.7325998942070626, 6.214230094335321], \n",
      "\tColor range is [-6.464288190998957, 6.387969920865512].\n",
      "SNIa-SALT2_0731_0448               ObjectNo:  2500, start at  12. dT1 range = [-480, 480], step =  15. dT2 range = [-1920, 1920], step =  30. BandpairNo: 28.\n",
      "AGN_0728_1939                      ObjectNo:  2500, start at  12. dT1 range = [-480, 480], step =  15. dT2 range = [-1920, 1920], step =  30. BandpairNo: 28.\n",
      "uLens-Single_PyLIMA_0802_0408      ObjectNo:  2142, start at   0. dT1 range = [-480, 480], step =  15. dT2 range = [-1920, 1920], step =  30. BandpairNo: 28.\n",
      "RRL_0702_0046                      ObjectNo:  2500, start at n/a. dT1 range = [-480, 480], step =  15. dT2 range = [-1920, 1920], step =  30. BandpairNo: 28.\n",
      "Mdwarf_0727_1440                   ObjectNo:  2500, start at   0. dT1 range = [-480, 480], step =  15. dT2 range = [-1920, 1920], step =  30. BandpairNo: 28.\n",
      "SNIIn_0702_0027                    ObjectNo:  2500, start at n/a. dT1 range = [-480, 480], step =  15. dT2 range = [-1920, 1920], step =  30. BandpairNo: 28.\n",
      "TDE_0731_1651                      ObjectNo:  2500, start at   4. dT1 range = [-480, 480], step =  15. dT2 range = [-1920, 1920], step =  30. BandpairNo: 28.\n",
      "SNIa-91bg_0801_0858                ObjectNo:  2500, start at   4. dT1 range = [-480, 480], step =  15. dT2 range = [-1920, 1920], step =  30. BandpairNo: 28.\n",
      "SNIa-91bg_0729_0259                ObjectNo:  2500, start at   0. dT1 range = [-480, 480], step =  15. dT2 range = [-1920, 1920], step =  30. BandpairNo: 28.\n",
      "CART_0728_0550                     ObjectNo:  2500, start at   8. dT1 range = [-480, 480], step =  15. dT2 range = [-1920, 1920], step =  30. BandpairNo: 28.\n",
      "uLens-Binary_0731_2121             ObjectNo:  2302, start at  12. dT1 range = [-480, 480], step =  15. dT2 range = [-1920, 1920], step =  30. BandpairNo: 28.\n",
      "V19_CC+HostXT_0802_0359            ObjectNo:  2500, start at   0. dT1 range = [-480, 480], step =  15. dT2 range = [-1920, 1920], step =  30. BandpairNo: 28.\n",
      "\t689 outliers found, the ratio to the max value is 0.001475245214.\n",
      "\tdMag range is [-1.0272699991880678, 11.009187772369444], \n",
      "\tColor range is [-8.266089784346336, 10.232986219909982].\n",
      "SNIIn_0707_2013                    ObjectNo:  2500, start at n/a. dT1 range = [-480, 480], step =  15. dT2 range = [-1920, 1920], step =  30. BandpairNo: 28.\n",
      "MIRA_0729_1443                     ObjectNo:  2500, start at   4. dT1 range = [-480, 480], step =  15. dT2 range = [-1920, 1920], step =  30. BandpairNo: 28.\n",
      "\t111 outliers found, the ratio to the max value is 0.000179782415.\n",
      "\tdMag range is [-0.1847109476728619, 0.5155563354501567], \n",
      "\tColor range is [-9.394535110188551, 9.408283756387428].\n",
      "SNIIn_0702_0026                    ObjectNo:  2500, start at n/a. dT1 range = [-480, 480], step =  15. dT2 range = [-1920, 1920], step =  30. BandpairNo: 28.\n",
      "RRL_0702_1519                      ObjectNo:  2500, start at n/a. dT1 range = [-480, 480], step =  15. dT2 range = [-1920, 1920], step =  30. BandpairNo: 28.\n",
      "SLSN-I_0702_1508                   ObjectNo:  2500, start at n/a. dT1 range = [-480, 480], step =  15. dT2 range = [-1920, 1920], step =  30. BandpairNo: 28.\n",
      "uLens-Single-GenLens_0802_0932     ObjectNo:  2215, start at   8. dT1 range = [-480, 480], step =  15. dT2 range = [-1920, 1920], step =  30. BandpairNo: 28.\n",
      "EB_0727_1435                       ObjectNo:  2500, start at   0. dT1 range = [-480, 480], step =  15. dT2 range = [-1920, 1920], step =  30. BandpairNo: 28.\n",
      "ILOT_0727_1355                     ObjectNo:  2500, start at   0. dT1 range = [-480, 480], step =  15. dT2 range = [-1920, 1920], step =  30. BandpairNo: 28.\n",
      "uLens-Binary_0731_1653             ObjectNo:  2302, start at   4. dT1 range = [-480, 480], step =  15. dT2 range = [-1920, 1920], step =  30. BandpairNo: 28.\n",
      "uLens-Single-GenLens_0802_0413     ObjectNo:  2216, start at   0. dT1 range = [-480, 480], step =  15. dT2 range = [-1920, 1920], step =  30. BandpairNo: 28.\n",
      "uLens-Binary_0802_0935             ObjectNo:  2302, start at   8. dT1 range = [-480, 480], step =  15. dT2 range = [-1920, 1920], step =  30. BandpairNo: 28.\n",
      "EB_0728_1950                       ObjectNo:  2500, start at  12. dT1 range = [-480, 480], step =  15. dT2 range = [-1920, 1920], step =  30. BandpairNo: 28.\n",
      "ILOT_0729_1402                     ObjectNo:  2500, start at   4. dT1 range = [-480, 480], step =  15. dT2 range = [-1920, 1920], step =  30. BandpairNo: 28.\n",
      "CART_0727_1411                     ObjectNo:  2500, start at   0. dT1 range = [-480, 480], step =  15. dT2 range = [-1920, 1920], step =  30. BandpairNo: 28.\n",
      "Mdwarf_0728_0614                   ObjectNo:  2500, start at   8. dT1 range = [-480, 480], step =  15. dT2 range = [-1920, 1920], step =  30. BandpairNo: 28.\n",
      "\t2 outliers found, the ratio to the max value is 0.000002069142.\n",
      "\tdMag range is [-5.111097971607606, 5.107131958017103], \n",
      "\tColor range is [-6.177878007519379, 6.180399365385551].\n",
      "SNIbc-MOSFIT_0801_0831             ObjectNo:  2500, start at   4. dT1 range = [-480, 480], step =  15. dT2 range = [-1920, 1920], step =  30. BandpairNo: 28.\n",
      "SNII-NMF_0702_1449                 ObjectNo:  2500, start at n/a. dT1 range = [-480, 480], step =  15. dT2 range = [-1920, 1920], step =  30. BandpairNo: 28.\n",
      "\t4 outliers found, the ratio to the max value is 0.000012377540.\n",
      "\tdMag range is [-0.7776056925469881, 6.148661298422972], \n",
      "\tColor range is [-6.531222873380067, 6.565151842129978].\n",
      "SNIax_0729_0250                    ObjectNo:  2500, start at   0. dT1 range = [-480, 480], step =  15. dT2 range = [-1920, 1920], step =  30. BandpairNo: 28.\n",
      "TDE_0731_2112                      ObjectNo:  2500, start at  12. dT1 range = [-480, 480], step =  15. dT2 range = [-1920, 1920], step =  30. BandpairNo: 28.\n",
      "uLens-Binary_0802_0417             ObjectNo:  2302, start at   0. dT1 range = [-480, 480], step =  15. dT2 range = [-1920, 1920], step =  30. BandpairNo: 28.\n",
      "V19_CC+HostXT_0731_2102            ObjectNo:  2500, start at  12. dT1 range = [-480, 480], step =  15. dT2 range = [-1920, 1920], step =  30. BandpairNo: 28.\n",
      "\t628 outliers found, the ratio to the max value is 0.001335695615.\n",
      "\tdMag range is [-1.004281361899615, 9.63586494081944], \n",
      "\tColor range is [-6.606138008421311, 9.37821148034438].\n",
      "MIRA_0728_1950                     ObjectNo:  2500, start at  12. dT1 range = [-480, 480], step =  15. dT2 range = [-1920, 1920], step =  30. BandpairNo: 28.\n",
      "\t128 outliers found, the ratio to the max value is 0.000206575558.\n",
      "\tdMag range is [-0.18850456552306838, 0.5155563354501567], \n",
      "\tColor range is [-9.399906692566011, 9.40835687776262].\n",
      "SLSN-I_0702_0035                   ObjectNo:  2500, start at n/a. dT1 range = [-480, 480], step =  15. dT2 range = [-1920, 1920], step =  30. BandpairNo: 28.\n",
      "V19_CC+HostXT_0731_1651            ObjectNo:  2500, start at   4. dT1 range = [-480, 480], step =  15. dT2 range = [-1920, 1920], step =  30. BandpairNo: 28.\n",
      "\t675 outliers found, the ratio to the max value is 0.001476988519.\n",
      "\tdMag range is [-1.0190340677915692, 10.724927313626182], \n",
      "\tColor range is [-7.037814297414126, 9.977493870708384].\n",
      "SNII-Templates_0702_0018           ObjectNo:  2500, start at n/a. dT1 range = [-480, 480], step =  15. dT2 range = [-1920, 1920], step =  30. BandpairNo: 28.\n",
      "PISN_0702_0043                     ObjectNo:  2500, start at n/a. dT1 range = [-480, 480], step =  15. dT2 range = [-1920, 1920], step =  30. BandpairNo: 28.\n",
      "SNII-Templates_0702_0019           ObjectNo:  2500, start at n/a. dT1 range = [-480, 480], step =  15. dT2 range = [-1920, 1920], step =  30. BandpairNo: 28.\n",
      "SNIax_0731_0446                    ObjectNo:  2500, start at  12. dT1 range = [-480, 480], step =  15. dT2 range = [-1920, 1920], step =  30. BandpairNo: 28.\n",
      "SNIbc-Templates_0729_0243          ObjectNo:  2500, start at   0. dT1 range = [-480, 480], step =  15. dT2 range = [-1920, 1920], step =  30. BandpairNo: 28.\n",
      "uLens-Single_PyLIMA_0802_0928      ObjectNo:  2141, start at   8. dT1 range = [-480, 480], step =  15. dT2 range = [-1920, 1920], step =  30. BandpairNo: 28.\n",
      "SLSN-I_0702_0036                   ObjectNo:  2500, start at n/a. dT1 range = [-480, 480], step =  15. dT2 range = [-1920, 1920], step =  30. BandpairNo: 28.\n",
      "ILOT_0728_0533                     ObjectNo:  2500, start at   8. dT1 range = [-480, 480], step =  15. dT2 range = [-1920, 1920], step =  30. BandpairNo: 28.\n",
      "SNIbc-Templates_0731_0439          ObjectNo:  2500, start at  12. dT1 range = [-480, 480], step =  15. dT2 range = [-1920, 1920], step =  30. BandpairNo: 28.\n",
      "Mdwarf_0729_1441                   ObjectNo:  2500, start at   4. dT1 range = [-480, 480], step =  15. dT2 range = [-1920, 1920], step =  30. BandpairNo: 28.\n",
      "SNIbc-MOSFIT_0731_0428             ObjectNo:  2500, start at  12. dT1 range = [-480, 480], step =  15. dT2 range = [-1920, 1920], step =  30. BandpairNo: 28.\n",
      "SNIa-91bg_0802_0010                ObjectNo:  2500, start at   8. dT1 range = [-480, 480], step =  15. dT2 range = [-1920, 1920], step =  30. BandpairNo: 28.\n",
      "PISN_0702_1516                     ObjectNo:  2500, start at n/a. dT1 range = [-480, 480], step =  15. dT2 range = [-1920, 1920], step =  30. BandpairNo: 28.\n",
      "SNIax_0801_0850                    ObjectNo:  2500, start at   4. dT1 range = [-480, 480], step =  15. dT2 range = [-1920, 1920], step =  30. BandpairNo: 28.\n",
      "SNII-Templates_0707_2003           ObjectNo:  2500, start at n/a. dT1 range = [-480, 480], step =  15. dT2 range = [-1920, 1920], step =  30. BandpairNo: 28.\n",
      "uLens-Single-GenLens_0731_1651     ObjectNo:  2216, start at   4. dT1 range = [-480, 480], step =  15. dT2 range = [-1920, 1920], step =  30. BandpairNo: 28.\n",
      "uLens-Single_PyLIMA_0731_1651      ObjectNo:  2141, start at   4. dT1 range = [-480, 480], step =  15. dT2 range = [-1920, 1920], step =  30. BandpairNo: 28.\n",
      "TDE_0802_0927                      ObjectNo:  2500, start at   8. dT1 range = [-480, 480], step =  15. dT2 range = [-1920, 1920], step =  30. BandpairNo: 28.\n",
      "uLens-Single-GenLens_0731_2115     ObjectNo:  2215, start at  12. dT1 range = [-480, 480], step =  15. dT2 range = [-1920, 1920], step =  30. BandpairNo: 28.\n",
      "V19_CC+HostXT_0802_0919            ObjectNo:  2500, start at   8. dT1 range = [-480, 480], step =  15. dT2 range = [-1920, 1920], step =  30. BandpairNo: 28.\n",
      "\t679 outliers found, the ratio to the max value is 0.001445936047.\n",
      "\tdMag range is [-1.0279070536314272, 10.148471862437779], \n",
      "\tColor range is [-6.7589675782348095, 9.54429408163125].\n",
      "ILOT_0728_1910                     ObjectNo:  2500, start at  12. dT1 range = [-480, 480], step =  15. dT2 range = [-1920, 1920], step =  30. BandpairNo: 28.\n",
      "SLSN-I_0707_2021                   ObjectNo:  2500, start at n/a. dT1 range = [-480, 480], step =  15. dT2 range = [-1920, 1920], step =  30. BandpairNo: 28.\n",
      "SNII-NMF_0702_0014                 ObjectNo:  2500, start at n/a. dT1 range = [-480, 480], step =  15. dT2 range = [-1920, 1920], step =  30. BandpairNo: 28.\n",
      "\t4 outliers found, the ratio to the max value is 0.000012435607.\n",
      "\tdMag range is [-0.7593752543145342, 6.3024865556918535], \n",
      "\tColor range is [-6.510704275826932, 6.413325268394754].\n",
      "EB_0729_1442                       ObjectNo:  2500, start at   4. dT1 range = [-480, 480], step =  15. dT2 range = [-1920, 1920], step =  30. BandpairNo: 28.\n",
      "TDE_0802_0406                      ObjectNo:  2500, start at   0. dT1 range = [-480, 480], step =  15. dT2 range = [-1920, 1920], step =  30. BandpairNo: 28.\n",
      "PISN_0707_2030                     ObjectNo:  2500, start at n/a. dT1 range = [-480, 480], step =  15. dT2 range = [-1920, 1920], step =  30. BandpairNo: 28.\n",
      "CART_0728_1927                     ObjectNo:  2500, start at  12. dT1 range = [-480, 480], step =  15. dT2 range = [-1920, 1920], step =  30. BandpairNo: 28.\n",
      "SNIbc-MOSFIT_0801_2343             ObjectNo:  2500, start at   8. dT1 range = [-480, 480], step =  15. dT2 range = [-1920, 1920], step =  30. BandpairNo: 28.\n",
      "SNIbc-MOSFIT_0729_0231             ObjectNo:  2500, start at   0. dT1 range = [-480, 480], step =  15. dT2 range = [-1920, 1920], step =  30. BandpairNo: 28.\n",
      "SNII-NMF_0707_2001                 ObjectNo:  2500, start at n/a. dT1 range = [-480, 480], step =  15. dT2 range = [-1920, 1920], step =  30. BandpairNo: 28.\n",
      "\t3 outliers found, the ratio to the max value is 0.000009288069.\n",
      "\tdMag range is [-0.7574946085625776, 6.035741697849456], \n",
      "\tColor range is [-6.483275254504822, 6.3993390323080845].\n",
      "SNIa-SALT2_0802_0002               ObjectNo:  2500, start at   8. dT1 range = [-480, 480], step =  15. dT2 range = [-1920, 1920], step =  30. BandpairNo: 28.\n",
      "Mdwarf_0728_1952                   ObjectNo:  2499, start at  12. dT1 range = [-480, 480], step =  15. dT2 range = [-1920, 1920], step =  30. BandpairNo: 28.\n",
      "\t2 outliers found, the ratio to the max value is 0.000002079536.\n",
      "\tdMag range is [-5.186270395924147, 5.519106547047802], \n",
      "\tColor range is [-6.184240454103492, 6.189288392394747].\n",
      "RRL_0702_0044                      ObjectNo:  2500, start at n/a. dT1 range = [-480, 480], step =  15. dT2 range = [-1920, 1920], step =  30. BandpairNo: 28.\n",
      "SNIa-SALT2_0729_0252               ObjectNo:  2500, start at   0. dT1 range = [-480, 480], step =  15. dT2 range = [-1920, 1920], step =  30. BandpairNo: 28.\n",
      "PISN_0702_0044                     ObjectNo:  2500, start at n/a. dT1 range = [-480, 480], step =  15. dT2 range = [-1920, 1920], step =  30. BandpairNo: 28.\n",
      "SNIbc-Templates_0801_2352          ObjectNo:  2500, start at   8. dT1 range = [-480, 480], step =  15. dT2 range = [-1920, 1920], step =  30. BandpairNo: 28.\n",
      "SNIa-91bg_0731_0455                ObjectNo:  2500, start at  12. dT1 range = [-480, 480], step =  15. dT2 range = [-1920, 1920], step =  30. BandpairNo: 28.\n",
      "SNII-Templates_0702_1451           ObjectNo:  2500, start at n/a. dT1 range = [-480, 480], step =  15. dT2 range = [-1920, 1920], step =  30. BandpairNo: 28.\n",
      "CART_0729_1417                     ObjectNo:  2500, start at   4. dT1 range = [-480, 480], step =  15. dT2 range = [-1920, 1920], step =  30. BandpairNo: 28.\n",
      "SNIa-SALT2_0801_0851               ObjectNo:  2500, start at   4. dT1 range = [-480, 480], step =  15. dT2 range = [-1920, 1920], step =  30. BandpairNo: 28.\n",
      "AGN_0728_0601                      ObjectNo:  2500, start at   8. dT1 range = [-480, 480], step =  15. dT2 range = [-1920, 1920], step =  30. BandpairNo: 28.\n",
      "MIRA_0727_1434                     ObjectNo:  2500, start at   0. dT1 range = [-480, 480], step =  15. dT2 range = [-1920, 1920], step =  30. BandpairNo: 28.\n",
      "\t152 outliers found, the ratio to the max value is 0.000246726011.\n",
      "\tdMag range is [-0.18728892008497766, 0.5155563354501567], \n",
      "\tColor range is [-9.383963000615948, 9.410819420131974].\n",
      "EB_0728_0612                       ObjectNo:  2500, start at   8. dT1 range = [-480, 480], step =  15. dT2 range = [-1920, 1920], step =  30. BandpairNo: 28.\n",
      "SNIax_0802_0002                    ObjectNo:  2500, start at   8. dT1 range = [-480, 480], step =  15. dT2 range = [-1920, 1920], step =  30. BandpairNo: 28.\n",
      "AGN_0729_1430                      ObjectNo:  2500, start at   4. dT1 range = [-480, 480], step =  15. dT2 range = [-1920, 1920], step =  30. BandpairNo: 28.\n",
      "uLens-Single_PyLIMA_0731_2113      ObjectNo:  2141, start at  12. dT1 range = [-480, 480], step =  15. dT2 range = [-1920, 1920], step =  30. BandpairNo: 28.\n",
      "AGN_0727_1421                      ObjectNo:  2500, start at   0. dT1 range = [-480, 480], step =  15. dT2 range = [-1920, 1920], step =  30. BandpairNo: 28.\n",
      "RRL_0707_2031                      ObjectNo:  2500, start at n/a. dT1 range = [-480, 480], step =  15. dT2 range = [-1920, 1920], step =  30. BandpairNo: 28.\n",
      "SNIbc-Templates_0801_0843          ObjectNo:  2500, start at   4. dT1 range = [-480, 480], step =  15. dT2 range = [-1920, 1920], step =  30. BandpairNo: 28.\n",
      "SNIIn_0702_1502                    ObjectNo:  2500, start at n/a. dT1 range = [-480, 480], step =  15. dT2 range = [-1920, 1920], step =  30. BandpairNo: 28.\n"
     ]
    }
   ],
   "source": [
    "for root, folders, files in os.walk(ResultsFolder):\n",
    "    for file in files:\n",
    "        if '.pkl' not in file:\n",
    "            continue\n",
    "        \n",
    "        FilePath = os.path.join(root, file)\n",
    "        loadCubeFile(FilePath)    "
   ]
  },
  {
   "cell_type": "code",
   "execution_count": null,
   "metadata": {},
   "outputs": [],
   "source": []
  },
  {
   "cell_type": "code",
   "execution_count": 20,
   "metadata": {},
   "outputs": [],
   "source": [
    "EventNames = [ii[20:-4] for ii in CubeFileNames]"
   ]
  },
  {
   "cell_type": "code",
   "execution_count": 23,
   "metadata": {},
   "outputs": [],
   "source": [
    "dT1s = np.arange(-480, 481, 60) #for test\n",
    "dT2s = np.hstack(( np.arange(-1920, -1439, 240), np.arange(-480, 481, 240), np.arange(1440, 1921, 240) )) #for test"
   ]
  },
  {
   "cell_type": "code",
   "execution_count": 24,
   "metadata": {},
   "outputs": [
    {
     "data": {
      "text/plain": [
       "17"
      ]
     },
     "execution_count": 24,
     "metadata": {},
     "output_type": "execute_result"
    }
   ],
   "source": [
    "len(dT1s)"
   ]
  },
  {
   "cell_type": "code",
   "execution_count": 26,
   "metadata": {},
   "outputs": [
    {
     "data": {
      "text/plain": [
       "11"
      ]
     },
     "execution_count": 26,
     "metadata": {},
     "output_type": "execute_result"
    }
   ],
   "source": [
    "len(dT2s)"
   ]
  },
  {
   "cell_type": "code",
   "execution_count": null,
   "metadata": {},
   "outputs": [],
   "source": []
  },
  {
   "cell_type": "code",
   "execution_count": 47,
   "metadata": {},
   "outputs": [],
   "source": [
    "with open('/global/cscratch1/sd/lianming/Results/Tati/ProbCube_0110_1404__SNII-NMF.pkl', 'rb') as f:\n",
    "    InfoDict = pickle.load(f)\n",
    "    HashTable = pickle.load(f)"
   ]
  },
  {
   "cell_type": "code",
   "execution_count": 57,
   "metadata": {},
   "outputs": [],
   "source": [
    "with open('/global/cscratch1/sd/lianming/Results/Tati/ProbCube_0110_2240__SNII-NMF.pkl', 'rb') as f:\n",
    "    InfoDict1 = pickle.load(f)\n",
    "    HashTable1 = pickle.load(f)"
   ]
  },
  {
   "cell_type": "code",
   "execution_count": 53,
   "metadata": {
    "colab": {
     "base_uri": "https://localhost:8080/",
     "height": 613
    },
    "executionInfo": {
     "elapsed": 540,
     "status": "ok",
     "timestamp": 1631657483986,
     "user": {
      "displayName": "Ming Lian",
      "photoUrl": "https://lh3.googleusercontent.com/a-/AOh14GhFnZN2A2xowTHg5pgYqhHMO_ye89Z2cXUJ-M0ywg=s64",
      "userId": "12705220457356801018"
     },
     "user_tz": 240
    },
    "id": "IVKkANAj__6D",
    "outputId": "7c7b3bf4-47ee-4ab7-9361-1c59c6c5d13b"
   },
   "outputs": [
    {
     "data": {
      "text/plain": [
       "(-5.0, 8.0)"
      ]
     },
     "execution_count": 53,
     "metadata": {},
     "output_type": "execute_result"
    },
    {
     "data": {
      "image/png": "[encoded data removed]",
      "text/plain": [
       "<Figure size 1080x864 with 1 Axes>"
      ]
     },
     "metadata": {
      "needs_background": "light"
     },
     "output_type": "display_data"
    }
   ],
   "source": [
    "#If dMag and Color are not given, a 2-D array will be returned.\n",
    "fig, ax = plt.subplots(1, 1, figsize=(15, 12))\n",
    "\n",
    "Map = Enquiry(HashTable, InfoDict, 'g', 'i', 480, 1440)\n",
    "plt.pcolor(InfoDict['BinMag'], InfoDict['BinColor'], np.transpose(Map)+1, edgecolors='face',\n",
    "           norm=LogNorm(1, vmax=Map.max()+1), cmap='gist_gray')\n",
    "plt.xlim([-1.5, 2])\n",
    "plt.ylim([-5, 8])\n",
    "# plt.axis('equal')"
   ]
  },
  {
   "cell_type": "code",
   "execution_count": 58,
   "metadata": {
    "colab": {
     "base_uri": "https://localhost:8080/",
     "height": 613
    },
    "executionInfo": {
     "elapsed": 540,
     "status": "ok",
     "timestamp": 1631657483986,
     "user": {
      "displayName": "Ming Lian",
      "photoUrl": "https://lh3.googleusercontent.com/a-/AOh14GhFnZN2A2xowTHg5pgYqhHMO_ye89Z2cXUJ-M0ywg=s64",
      "userId": "12705220457356801018"
     },
     "user_tz": 240
    },
    "id": "IVKkANAj__6D",
    "outputId": "7c7b3bf4-47ee-4ab7-9361-1c59c6c5d13b"
   },
   "outputs": [
    {
     "data": {
      "text/plain": [
       "(-5.0, 8.0)"
      ]
     },
     "execution_count": 58,
     "metadata": {},
     "output_type": "execute_result"
    },
    {
     "data": {
      "image/png": "[encoded data removed]",
      "text/plain": [
       "<Figure size 1080x864 with 1 Axes>"
      ]
     },
     "metadata": {
      "needs_background": "light"
     },
     "output_type": "display_data"
    }
   ],
   "source": [
    "#If dMag and Color are not given, a 2-D array will be returned.\n",
    "fig, ax = plt.subplots(1, 1, figsize=(15, 12))\n",
    "\n",
    "Map = Enquiry(HashTable1, InfoDict1, 'g', 'i', 480, 1440)\n",
    "plt.pcolor(InfoDict['BinMag'], InfoDict['BinColor'], np.transpose(Map)+1, edgecolors='face',\n",
    "           norm=LogNorm(1, vmax=Map.max()+1), cmap='gist_gray')\n",
    "plt.xlim([-1.5, 2])\n",
    "plt.ylim([-5, 8])\n",
    "# plt.axis('equal')"
   ]
  },
  {
   "cell_type": "code",
   "execution_count": null,
   "metadata": {},
   "outputs": [],
   "source": []
  },
  {
   "cell_type": "code",
   "execution_count": null,
   "metadata": {},
   "outputs": [],
   "source": []
  },
  {
   "cell_type": "code",
   "execution_count": null,
   "metadata": {},
   "outputs": [],
   "source": []
  },
  {
   "cell_type": "code",
   "execution_count": 44,
   "metadata": {},
   "outputs": [],
   "source": [
    "data = Functions.ReadData('/global/homes/l/lianming/Presto-Color-2/data/GSN_IDEAL_z02/', 'SNII-Templates', 18)"
   ]
  },
  {
   "cell_type": "code",
   "execution_count": 33,
   "metadata": {},
   "outputs": [],
   "source": [
    "data1 = Functions.ReadData('/global/homes/l/lianming/Presto-Color-2/data/GSN_IDEAL_z02/', 'SNIa-SALT2', 19)"
   ]
  },
  {
   "cell_type": "code",
   "execution_count": 45,
   "metadata": {},
   "outputs": [
    {
     "data": {
      "text/plain": [
       "[<matplotlib.lines.Line2D at 0x2aaaea62f550>]"
      ]
     },
     "execution_count": 45,
     "metadata": {},
     "output_type": "execute_result"
    },
    {
     "data": {
      "image/png": "[encoded data removed]",
      "text/plain": [
       "<Figure size 432x288 with 1 Axes>"
      ]
     },
     "metadata": {
      "needs_background": "light"
     },
     "output_type": "display_data"
    }
   ],
   "source": [
    "Min = []\n",
    "for dd in data:\n",
    "    Min.append(max(dd['SIM_MAGOBS']))\n",
    "plt.plot(Min)    "
   ]
  },
  {
   "cell_type": "code",
   "execution_count": 43,
   "metadata": {},
   "outputs": [
    {
     "data": {
      "text/plain": [
       "[<matplotlib.lines.Line2D at 0x2aaaea1b7610>]"
      ]
     },
     "execution_count": 43,
     "metadata": {},
     "output_type": "execute_result"
    },
    {
     "data": {
      "image/png": "[encoded data removed]",
      "text/plain": [
       "<Figure size 432x288 with 1 Axes>"
      ]
     },
     "metadata": {
      "needs_background": "light"
     },
     "output_type": "display_data"
    }
   ],
   "source": [
    "Min = []\n",
    "for dd in data1:\n",
    "    Min.append(max(dd['SIM_MAGOBS']))\n",
    "plt.plot(Min)    "
   ]
  },
  {
   "cell_type": "code",
   "execution_count": null,
   "metadata": {},
   "outputs": [],
   "source": []
  },
  {
   "cell_type": "code",
   "execution_count": 36,
   "metadata": {},
   "outputs": [
    {
     "data": {
      "text/plain": [
       "\u001b[0;31mSignature:\u001b[0m\n",
       "\u001b[0mFunctions\u001b[0m\u001b[0;34m.\u001b[0m\u001b[0mPlotLightCurve\u001b[0m\u001b[0;34m(\u001b[0m\u001b[0;34m\u001b[0m\n",
       "\u001b[0;34m\u001b[0m    \u001b[0mPath\u001b[0m\u001b[0;34m,\u001b[0m\u001b[0;34m\u001b[0m\n",
       "\u001b[0;34m\u001b[0m    \u001b[0mBand\u001b[0m\u001b[0;34m,\u001b[0m\u001b[0;34m\u001b[0m\n",
       "\u001b[0;34m\u001b[0m    \u001b[0mEventName\u001b[0m\u001b[0;34m=\u001b[0m\u001b[0;32mNone\u001b[0m\u001b[0;34m,\u001b[0m\u001b[0;34m\u001b[0m\n",
       "\u001b[0;34m\u001b[0m    \u001b[0mSeedFile\u001b[0m\u001b[0;34m=\u001b[0m\u001b[0;32mNone\u001b[0m\u001b[0;34m,\u001b[0m\u001b[0;34m\u001b[0m\n",
       "\u001b[0;34m\u001b[0m    \u001b[0mSeedObj\u001b[0m\u001b[0;34m=\u001b[0m\u001b[0;32mNone\u001b[0m\u001b[0;34m,\u001b[0m\u001b[0;34m\u001b[0m\n",
       "\u001b[0;34m\u001b[0m    \u001b[0mProp\u001b[0m\u001b[0;34m=\u001b[0m\u001b[0;34m'SIM_MAGOBS'\u001b[0m\u001b[0;34m,\u001b[0m\u001b[0;34m\u001b[0m\n",
       "\u001b[0;34m\u001b[0m    \u001b[0mthr\u001b[0m\u001b[0;34m=\u001b[0m\u001b[0;36m27.5\u001b[0m\u001b[0;34m,\u001b[0m\u001b[0;34m\u001b[0m\n",
       "\u001b[0;34m\u001b[0m    \u001b[0mAlignPeak\u001b[0m\u001b[0;34m=\u001b[0m\u001b[0;32mTrue\u001b[0m\u001b[0;34m,\u001b[0m\u001b[0;34m\u001b[0m\n",
       "\u001b[0;34m\u001b[0m    \u001b[0mFigNo\u001b[0m\u001b[0;34m=\u001b[0m\u001b[0;32mNone\u001b[0m\u001b[0;34m,\u001b[0m\u001b[0;34m\u001b[0m\n",
       "\u001b[0;34m\u001b[0m    \u001b[0mFileNo\u001b[0m\u001b[0;34m=\u001b[0m\u001b[0;32mNone\u001b[0m\u001b[0;34m,\u001b[0m\u001b[0;34m\u001b[0m\n",
       "\u001b[0;34m\u001b[0m    \u001b[0mObjNo\u001b[0m\u001b[0;34m=\u001b[0m\u001b[0;32mNone\u001b[0m\u001b[0;34m,\u001b[0m\u001b[0;34m\u001b[0m\n",
       "\u001b[0;34m\u001b[0m    \u001b[0mls\u001b[0m\u001b[0;34m=\u001b[0m\u001b[0;32mNone\u001b[0m\u001b[0;34m,\u001b[0m\u001b[0;34m\u001b[0m\n",
       "\u001b[0;34m\u001b[0m    \u001b[0mPlotSizeRatio\u001b[0m\u001b[0;34m=\u001b[0m\u001b[0;36m1\u001b[0m\u001b[0;34m,\u001b[0m\u001b[0;34m\u001b[0m\n",
       "\u001b[0;34m\u001b[0m    \u001b[0mSpace\u001b[0m\u001b[0;34m=\u001b[0m\u001b[0;32mFalse\u001b[0m\u001b[0;34m,\u001b[0m\u001b[0;34m\u001b[0m\n",
       "\u001b[0;34m\u001b[0m    \u001b[0mmarker\u001b[0m\u001b[0;34m=\u001b[0m\u001b[0;32mNone\u001b[0m\u001b[0;34m,\u001b[0m\u001b[0;34m\u001b[0m\n",
       "\u001b[0;34m\u001b[0m    \u001b[0msharex\u001b[0m\u001b[0;34m=\u001b[0m\u001b[0;32mTrue\u001b[0m\u001b[0;34m,\u001b[0m\u001b[0;34m\u001b[0m\n",
       "\u001b[0;34m\u001b[0m    \u001b[0msharey\u001b[0m\u001b[0;34m=\u001b[0m\u001b[0;34m'none'\u001b[0m\u001b[0;34m,\u001b[0m\u001b[0;34m\u001b[0m\n",
       "\u001b[0;34m\u001b[0m    \u001b[0mRange\u001b[0m\u001b[0;34m=\u001b[0m\u001b[0;34m[\u001b[0m\u001b[0;36m0\u001b[0m\u001b[0;34m,\u001b[0m \u001b[0;36m200\u001b[0m\u001b[0;34m]\u001b[0m\u001b[0;34m,\u001b[0m\u001b[0;34m\u001b[0m\n",
       "\u001b[0;34m\u001b[0m    \u001b[0mShadow\u001b[0m\u001b[0;34m=\u001b[0m\u001b[0;32mNone\u001b[0m\u001b[0;34m,\u001b[0m\u001b[0;34m\u001b[0m\n",
       "\u001b[0;34m\u001b[0m    \u001b[0mxlim\u001b[0m\u001b[0;34m=\u001b[0m\u001b[0;32mNone\u001b[0m\u001b[0;34m,\u001b[0m\u001b[0;34m\u001b[0m\n",
       "\u001b[0;34m\u001b[0m    \u001b[0mylim\u001b[0m\u001b[0;34m=\u001b[0m\u001b[0;32mNone\u001b[0m\u001b[0;34m,\u001b[0m\u001b[0;34m\u001b[0m\n",
       "\u001b[0;34m\u001b[0m\u001b[0;34m)\u001b[0m\u001b[0;34m\u001b[0m\u001b[0;34m\u001b[0m\u001b[0m\n",
       "\u001b[0;31mDocstring:\u001b[0m asfasfasfdasf.\n",
       "\u001b[0;31mFile:\u001b[0m      /global/u2/l/lianming/Presto-Color-2/Functions.py\n",
       "\u001b[0;31mType:\u001b[0m      function\n"
      ]
     },
     "metadata": {},
     "output_type": "display_data"
    }
   ],
   "source": [
    "Functions.PlotLightCurve?"
   ]
  },
  {
   "cell_type": "code",
   "execution_count": null,
   "metadata": {},
   "outputs": [],
   "source": []
  },
  {
   "cell_type": "code",
   "execution_count": 20,
   "metadata": {},
   "outputs": [
    {
     "name": "stdout",
     "output_type": "stream",
     "text": [
      "40000\n",
      "40000\n"
     ]
    },
    {
     "data": {
      "text/plain": [
       "[<matplotlib.lines.Line2D at 0x2aaae7718be0>]"
      ]
     },
     "execution_count": 20,
     "metadata": {},
     "output_type": "execute_result"
    },
    {
     "data": {
      "image/png": "[encoded data removed]",
      "text/plain": [
       "<Figure size 432x288 with 1 Axes>"
      ]
     },
     "metadata": {
      "needs_background": "light"
     },
     "output_type": "display_data"
    }
   ],
   "source": [
    "PathInterp = '/global/cscratch1/sd/lianming/data/2Day_Interp'\n",
    "EventName = 'SNII-Templates'\n",
    "FilePath = os.path.join(PathInterp, EventName+'_Interp.pkl')\n",
    "\n",
    "with open(FilePath, 'rb') as f:\n",
    "    Interp_load = pickle.load(f)\n",
    "    TimeRange_load = pickle.load(f)\n",
    "    \n",
    "print(len(Interp_load['g']))\n",
    "print(len(TimeRange_load['g']))\n",
    "\n",
    "xx = np.arange( TimeRange_load['g'][-1][0], TimeRange_load['g'][-1][1], 0.1)\n",
    "\n",
    "plt.plot(xx, Interp_load['g'][-1](xx))"
   ]
  },
  {
   "cell_type": "code",
   "execution_count": 27,
   "metadata": {},
   "outputs": [
    {
     "data": {
      "text/plain": [
       "[<matplotlib.lines.Line2D at 0x2aaae75048e0>]"
      ]
     },
     "execution_count": 27,
     "metadata": {},
     "output_type": "execute_result"
    },
    {
     "data": {
      "image/png": "[encoded data removed]",
      "text/plain": [
       "<Figure size 432x288 with 1 Axes>"
      ]
     },
     "metadata": {
      "needs_background": "light"
     },
     "output_type": "display_data"
    }
   ],
   "source": [
    "XX = xx[:50]\n",
    "plt.plot(XX, Interp_load['g'][-1](XX))"
   ]
  },
  {
   "cell_type": "code",
   "execution_count": 28,
   "metadata": {},
   "outputs": [
    {
     "data": {
      "text/plain": [
       "array([99.50660706, 99.50660706, 99.50660706, 99.50660706, 99.50660706,\n",
       "       99.50660706, 99.50660706, 99.50660706, 99.50660706, 99.50660706,\n",
       "       99.50660706, 99.50660706, 99.50660706, 99.50660706, 99.50660706,\n",
       "       99.50660706, 99.50660706, 99.50660706, 99.50660706, 99.50660706,\n",
       "       99.50660706, 99.50660706, 99.50660706, 99.50660706, 99.50660706,\n",
       "       99.50660706, 99.50660706, 99.50660706, 99.50660706, 99.50660706,\n",
       "       99.50660706, 99.50660706, 99.50660706, 99.50660706, 99.50660706,\n",
       "       99.50660706, 99.50660706, 99.50660706, 99.50660706, 99.50660706,\n",
       "       99.50660706, 99.50660706, 99.50660706, 99.50660706, 99.50660706,\n",
       "       99.50660706, 99.50660706, 99.50660706, 99.50660706, 99.50660706])"
      ]
     },
     "execution_count": 28,
     "metadata": {},
     "output_type": "execute_result"
    }
   ],
   "source": [
    "Interp_load['g'][-1](XX)"
   ]
  },
  {
   "cell_type": "code",
   "execution_count": null,
   "metadata": {},
   "outputs": [],
   "source": []
  },
  {
   "cell_type": "code",
   "execution_count": 49,
   "metadata": {},
   "outputs": [
    {
     "name": "stdout",
     "output_type": "stream",
     "text": [
      "SNII-NMF                  loaded successfully.\tObjectNo: 1000.\n",
      "\t3 outliers found, the ratio to the max value is 0.000000000397.\n",
      "\tdMag range is [-0.7759653727227658, 6.202512798141445], \n",
      "\tColor range is [-6.428307530269848, 6.293819014421469].\n"
     ]
    }
   ],
   "source": [
    "InfoDict, HashTable = loadCubeFile('/global/cscratch1/sd/lianming/Results/Test_26_BandPair_30min_dT1/ProbCube_1229_0024__SNII-NMF.pkl')"
   ]
  },
  {
   "cell_type": "code",
   "execution_count": 26,
   "metadata": {},
   "outputs": [],
   "source": [
    "with open(FilePath, 'rb') as f:\n",
    "        InfoDict = pickle.load(f)\n",
    "        HashTable = pickle.load(f)"
   ]
  },
  {
   "cell_type": "code",
   "execution_count": 27,
   "metadata": {},
   "outputs": [],
   "source": [
    "List = InfoDict['BandPairs'] "
   ]
  },
  {
   "cell_type": "code",
   "execution_count": 30,
   "metadata": {},
   "outputs": [
    {
     "name": "stdout",
     "output_type": "stream",
     "text": [
      "117 ns ± 5.29 ns per loop (mean ± std. dev. of 7 runs, 10000000 loops each)\n"
     ]
    }
   ],
   "source": [
    "%%timeit\n",
    "InfoDict['BandPairs'] = List\n",
    "InfoDict.pop('BandPairs')"
   ]
  },
  {
   "cell_type": "code",
   "execution_count": 31,
   "metadata": {},
   "outputs": [
    {
     "name": "stdout",
     "output_type": "stream",
     "text": [
      "87.2 ns ± 1.18 ns per loop (mean ± std. dev. of 7 runs, 10000000 loops each)\n"
     ]
    }
   ],
   "source": [
    "%%timeit\n",
    "InfoDict['BandPairs'] = List\n",
    "del InfoDict['BandPairs']"
   ]
  },
  {
   "cell_type": "code",
   "execution_count": null,
   "metadata": {},
   "outputs": [],
   "source": []
  },
  {
   "cell_type": "code",
   "execution_count": null,
   "metadata": {},
   "outputs": [],
   "source": []
  },
  {
   "cell_type": "code",
   "execution_count": null,
   "metadata": {},
   "outputs": [],
   "source": []
  },
  {
   "cell_type": "code",
   "execution_count": 43,
   "metadata": {},
   "outputs": [],
   "source": [
    "dT1s = np.arange(-480, 481, 15)\n",
    "dT2s = np.hstack(( np.arange(-1920, -1439, 30), np.arange(-480, 481, 30), np.arange(1440, 1921, 30) )) \n",
    "TimePairs = [ [ii, jj] for ii in dT1s for jj in dT2s if abs(ii) <= abs(jj) ]"
   ]
  },
  {
   "cell_type": "code",
   "execution_count": 44,
   "metadata": {},
   "outputs": [
    {
     "data": {
      "text/plain": [
       "3331"
      ]
     },
     "execution_count": 44,
     "metadata": {},
     "output_type": "execute_result"
    }
   ],
   "source": [
    "len(TimePairs)"
   ]
  },
  {
   "cell_type": "code",
   "execution_count": 41,
   "metadata": {},
   "outputs": [],
   "source": [
    "dT1s = np.arange(-480, 481, 15)\n",
    "dT2s = np.hstack(( np.arange(-1920, -1439, 30), np.arange(-480, 481, 30), np.arange(1440, 1921, 30) )) \n",
    "TimePairs = [ [ii, jj] for ii in dT1s for jj in dT2s if abs(ii) <= abs(ii-jj) ]"
   ]
  },
  {
   "cell_type": "code",
   "execution_count": 42,
   "metadata": {},
   "outputs": [
    {
     "data": {
      "text/plain": [
       "3603"
      ]
     },
     "execution_count": 42,
     "metadata": {},
     "output_type": "execute_result"
    }
   ],
   "source": [
    "len(TimePairs)"
   ]
  },
  {
   "cell_type": "code",
   "execution_count": null,
   "metadata": {},
   "outputs": [],
   "source": []
  },
  {
   "cell_type": "code",
   "execution_count": null,
   "metadata": {},
   "outputs": [],
   "source": []
  },
  {
   "cell_type": "code",
   "execution_count": 16,
   "metadata": {
    "colab": {
     "base_uri": "https://localhost:8080/",
     "height": 613
    },
    "executionInfo": {
     "elapsed": 540,
     "status": "ok",
     "timestamp": 1631657483986,
     "user": {
      "displayName": "Ming Lian",
      "photoUrl": "https://lh3.googleusercontent.com/a-/AOh14GhFnZN2A2xowTHg5pgYqhHMO_ye89Z2cXUJ-M0ywg=s64",
      "userId": "12705220457356801018"
     },
     "user_tz": 240
    },
    "id": "IVKkANAj__6D",
    "outputId": "7c7b3bf4-47ee-4ab7-9361-1c59c6c5d13b"
   },
   "outputs": [
    {
     "data": {
      "text/plain": [
       "(-5.0, 8.0)"
      ]
     },
     "execution_count": 16,
     "metadata": {},
     "output_type": "execute_result"
    },
    {
     "data": {
      "image/png": "[encoded data removed]",
      "text/plain": [
       "<Figure size 1080x864 with 1 Axes>"
      ]
     },
     "metadata": {
      "needs_background": "light"
     },
     "output_type": "display_data"
    }
   ],
   "source": [
    "#If dMag and Color are not given, a 2-D array will be returned.\n",
    "fig, ax = plt.subplots(1, 1, figsize=(15, 12))\n",
    "\n",
    "Map = Enquiry(HashTable, InfoDict, 'g', 'i', 60, 450)\n",
    "plt.pcolor(InfoDict['BinMag'], InfoDict['BinColor'], np.transpose(Map)+1, edgecolors='face',\n",
    "           norm=LogNorm(1, vmax=Map.max()+1), cmap='gist_gray')\n",
    "plt.xlim([-1.5, 2])\n",
    "plt.ylim([-5, 8])\n",
    "# plt.axis('equal')"
   ]
  },
  {
   "cell_type": "code",
   "execution_count": 49,
   "metadata": {
    "colab": {
     "base_uri": "https://localhost:8080/",
     "height": 613
    },
    "executionInfo": {
     "elapsed": 540,
     "status": "ok",
     "timestamp": 1631657483986,
     "user": {
      "displayName": "Ming Lian",
      "photoUrl": "https://lh3.googleusercontent.com/a-/AOh14GhFnZN2A2xowTHg5pgYqhHMO_ye89Z2cXUJ-M0ywg=s64",
      "userId": "12705220457356801018"
     },
     "user_tz": 240
    },
    "id": "IVKkANAj__6D",
    "outputId": "7c7b3bf4-47ee-4ab7-9361-1c59c6c5d13b"
   },
   "outputs": [
    {
     "data": {
      "text/plain": [
       "<matplotlib.collections.PolyCollection at 0x2aaae9944280>"
      ]
     },
     "execution_count": 49,
     "metadata": {},
     "output_type": "execute_result"
    },
    {
     "data": {
      "image/png": "[encoded data removed]",
      "text/plain": [
       "<Figure size 1080x864 with 1 Axes>"
      ]
     },
     "metadata": {
      "needs_background": "light"
     },
     "output_type": "display_data"
    }
   ],
   "source": [
    "#If dMag and Color are not given, a 2-D array will be returned.\n",
    "fig, ax = plt.subplots(1, 1, figsize=(15, 12))\n",
    "\n",
    "Map = Enquiry(HashTable, InfoDict, 'g', 'i', 60, 450)\n",
    "plt.pcolor(InfoDict['BinMag'], InfoDict['BinColor'], np.transpose(Map)+1, edgecolors='face',\n",
    "           norm=LogNorm(1, vmax=Map.max()+1), cmap='gist_gray')\n",
    "# plt.xlim([-0.5, 2])\n",
    "# plt.ylim([-7.5, 4])\n",
    "# plt.axis('equal')"
   ]
  },
  {
   "cell_type": "code",
   "execution_count": 58,
   "metadata": {
    "colab": {
     "base_uri": "https://localhost:8080/"
    },
    "executionInfo": {
     "elapsed": 532,
     "status": "ok",
     "timestamp": 1631650985840,
     "user": {
      "displayName": "Ming Lian",
      "photoUrl": "https://lh3.googleusercontent.com/a-/AOh14GhFnZN2A2xowTHg5pgYqhHMO_ye89Z2cXUJ-M0ywg=s64",
      "userId": "12705220457356801018"
     },
     "user_tz": 240
    },
    "id": "rFZJ6Squ-DKN",
    "outputId": "a9cc672c-fb69-4bc2-ac56-1c4d7a6f38ff"
   },
   "outputs": [],
   "source": [
    "dT1s = np.arange(-480, 481, 15)\n",
    "dT2s = np.hstack(( np.arange(-1920, -1439, 30), np.arange(-480, 481, 30), np.arange(1440, 1921, 30) )) \n"
   ]
  },
  {
   "cell_type": "code",
   "execution_count": 90,
   "metadata": {},
   "outputs": [],
   "source": [
    "Bands = ['u', 'g', 'r', 'i', 'z', 'Y']\n",
    "BandPairs = [B1+B2 for B1 in Bands for B2 in Bands if B1!=B2 and B1+B2!='uz' and B1+B2!='zu' and B1+B2!='uY' and B1+B2!='Yu']\n"
   ]
  },
  {
   "cell_type": "code",
   "execution_count": 300,
   "metadata": {},
   "outputs": [],
   "source": [
    "dT1s = np.arange(-480, 481, 60)\n",
    "dT2s = np.hstack(( np.arange(-1920, -1439, 120), np.arange(-480, 481, 120), np.arange(1440, 1921, 120) )) \n",
    "\n",
    "dT1s = np.arange(-480, 481, 120) #for test\n",
    "dT2s = np.hstack(( np.arange(-1920, -1439, 240), np.arange(-480, 481, 240), np.arange(1440, 1921, 240) )) #for test\n",
    "\n",
    "TimePairs = [ [ii, jj] for ii in dT1s for jj in dT2s if abs(ii) <= abs(jj) ]"
   ]
  },
  {
   "cell_type": "code",
   "execution_count": null,
   "metadata": {},
   "outputs": [],
   "source": []
  },
  {
   "cell_type": "code",
   "execution_count": 16,
   "metadata": {
    "colab": {
     "base_uri": "https://localhost:8080/"
    },
    "executionInfo": {
     "elapsed": 25833,
     "status": "ok",
     "timestamp": 1631632009680,
     "user": {
      "displayName": "Ming Lian",
      "photoUrl": "https://lh3.googleusercontent.com/a-/AOh14GhFnZN2A2xowTHg5pgYqhHMO_ye89Z2cXUJ-M0ywg=s64",
      "userId": "12705220457356801018"
     },
     "user_tz": 240
    },
    "id": "NFzn1-Ao3CUQ",
    "outputId": "b064923e-b691-41d1-d974-baebaa3d5240"
   },
   "outputs": [
    {
     "name": "stdout",
     "output_type": "stream",
     "text": [
      "||||||||||||||||||||||||||||||||||||||||||||||||||||||||||||||||||||||||||||||||||||||||||||||||||||\n",
      "||||||||||||||||||||||||||||||||||||||||||||||||||||||||||||||||||||||||||||||||||||||||||||||||||||\n",
      "||||||||||||||||||||||||||||||||||||||||||||||||||||||||||||||||||||||||||||||||||||||||||||||||||||\n",
      "||||||||||||||||||||||||||||||||||||||||||||||||||||||||||||||||||||||||||||||||||||||||||||||||||||\n",
      "||||||||||||||||||||||||||||||||||||||||||||||||||||||||||||||||||||||||||||||||||||||||||||||||||||\n",
      "||||||||||||||||||||||||||||||||||||||||||||||||||||||||||||||||||||||||||||||||||||||||||||||||||||\n",
      "||||||||||||||||||||||||||||||||||||||||||||||||||||||||||||||||||||||||||||||||||||||||||||||||||||\n",
      "||||||||||||||||||||||||||||||||||||||||||||||||||||||||||||||||||||||||||||||||||||||||||||||||||||\n",
      "Finish!\n"
     ]
    }
   ],
   "source": [
    "data = CalculateMap('/content/drive/Shareddrives/FASTlab/PrestoColor2/Interpolated Data', 'SNIa-SALT2', 'g', 'i', 60, 450, PointsPDay=0.1)"
   ]
  },
  {
   "cell_type": "code",
   "execution_count": 170,
   "metadata": {
    "colab": {
     "base_uri": "https://localhost:8080/",
     "height": 787
    },
    "executionInfo": {
     "elapsed": 1861,
     "status": "ok",
     "timestamp": 1631657861505,
     "user": {
      "displayName": "Ming Lian",
      "photoUrl": "https://lh3.googleusercontent.com/a-/AOh14GhFnZN2A2xowTHg5pgYqhHMO_ye89Z2cXUJ-M0ywg=s64",
      "userId": "12705220457356801018"
     },
     "user_tz": 240
    },
    "id": "-ELTqsIl1Sej",
    "outputId": "0eb5545e-2b58-4162-fa28-9e1866e3480d"
   },
   "outputs": [
    {
     "data": {
      "text/plain": [
       "([<matplotlib.lines.Line2D at 0x7f3a8f9e22d0>],\n",
       " <matplotlib.contour.QuadContourSet at 0x7f3a8f9bdd50>)"
      ]
     },
     "execution_count": 170,
     "metadata": {},
     "output_type": "execute_result"
    },
    {
     "data": {
      "image/png": "[encoded data removed]",
      "text/plain": [
       "<Figure size 1080x864 with 1 Axes>"
      ]
     },
     "metadata": {
      "needs_background": "light"
     },
     "output_type": "display_data"
    }
   ],
   "source": [
    "fig, ax = plt.subplots(1, 1, figsize=(15, 12))\n",
    "ax.set_xlabel(\"$\\Delta {0}$\".format('g'), fontsize=20)\n",
    "ax.set_ylabel('${0}-{1}$'.format('g','i'), fontsize=20)\n",
    "ax.tick_params(labelsize=15 )\n",
    "ax.set_title('SNIa-SALT2', fontsize=22)\n",
    "\n",
    "plt.xlim([-0.3, 1.8])\n",
    "plt.ylim([-7.5, 4])\n",
    "\n",
    "plt.pcolor(CoordinateDict['BinMag'], CoordinateDict['BinColor'], np.transpose(Map[0,0])+1, edgecolors='face',\n",
    "           norm=LogNorm(1, vmax=Map[0,0].max()+1), cmap='gist_gray', alpha=0.6)\n",
    "\n",
    "ax.scatter([10], [10])\n",
    "\n",
    "plotting.scatter_contour(data[0], data[1], \n",
    "                         threshold=50,log_counts=True, \n",
    "                         histogram2d_args=dict(bins=(100,100)), filled_contour=False,\n",
    "                         plot_args=dict(marker='.', linestyle='none', color='black', alpha=0.1),\n",
    "                         contour_args=dict(alpha=1, cmap='bone'))"
   ]
  },
  {
   "cell_type": "code",
   "execution_count": null,
   "metadata": {
    "id": "BsmKewXSGoJh"
   },
   "outputs": [],
   "source": []
  },
  {
   "cell_type": "code",
   "execution_count": null,
   "metadata": {
    "id": "hGGxtLrwGoF2"
   },
   "outputs": [],
   "source": []
  },
  {
   "cell_type": "code",
   "execution_count": null,
   "metadata": {
    "id": "tNuZLLYfGn_c"
   },
   "outputs": [],
   "source": []
  },
  {
   "cell_type": "code",
   "execution_count": 15,
   "metadata": {
    "executionInfo": {
     "elapsed": 315,
     "status": "ok",
     "timestamp": 1631631978813,
     "user": {
      "displayName": "Ming Lian",
      "photoUrl": "https://lh3.googleusercontent.com/a-/AOh14GhFnZN2A2xowTHg5pgYqhHMO_ye89Z2cXUJ-M0ywg=s64",
      "userId": "12705220457356801018"
     },
     "user_tz": 240
    },
    "id": "sWzMM6NL5VT2"
   },
   "outputs": [],
   "source": [
    "def CalculateMap(PathInterp, EventName, Band1, Band2, dT1, dT2, PointsPDay = 50, Thr=27.5, Save=0, TargetFolder='MapData'):    \n",
    "    \n",
    "    FilePath = os.path.join(PathInterp, EventName+'_Interp.pkl')\n",
    "    \n",
    "    with open(FilePath, 'rb') as f:\n",
    "        Interp_load = pickle.load(f)\n",
    "        TimeRange_load = pickle.load(f)    \n",
    "\n",
    "    dMag = []\n",
    "    Color = []\n",
    "\n",
    "    for II in range(len(Interp_load[Band1])):\n",
    "        \n",
    "        if Interp_load[Band1][II]==[] or Interp_load[Band2][II]==[]:\n",
    "            continue\n",
    "        \n",
    "        if II%5000 == 4999:\n",
    "            print('|')\n",
    "        elif II%50 == 49:\n",
    "            print('|', end='' )\n",
    "\n",
    "        TimeRangeStart = max( TimeRange_load[Band1][II][0], TimeRange_load[Band2][II][0] - dT1/1440 )\n",
    "        TimeRangeEnd = min( TimeRange_load[Band1][II][1] - dT2/1440, TimeRange_load[Band2][II][1] - dT1/1440 )\n",
    "\n",
    "        TimeRange = TimeRangeEnd - TimeRangeStart\n",
    "        SampleNo = np.int(PointsPDay*TimeRange)\n",
    "        \n",
    "        XX = np.random.rand(SampleNo)*TimeRange + TimeRangeStart\n",
    "\n",
    "        Mag1 = Interp_load[Band1][II](XX)\n",
    "        Mag2 = Interp_load[Band2][II](XX+dT1/1440)\n",
    "        Mag12 = Interp_load[Band1][II](XX+dT2/1440)\n",
    "\n",
    "        Mask = (Mag1<Thr) * (Mag2<Thr) *(Mag12<Thr)\n",
    "\n",
    "        dMag.extend(Mag1[Mask] - Mag12[Mask])\n",
    "        Color.extend(Mag1[Mask] - Mag2[Mask])\n",
    "        \n",
    "    data = np.array([dMag, Color])\n",
    "    \n",
    "    if Save == 1:\n",
    "    \n",
    "        TargetPath = os.path.join(Path0, TargetFolder)                            \n",
    "        if not os.path.isdir(TargetPath):\n",
    "            os.mkdir(TargetPath)\n",
    "        os.chdir(TargetPath)\n",
    "\n",
    "        Ind1 = PathInterp.rfind('/')\n",
    "        Ind2 = PathInterp.rfind('_')\n",
    "        \n",
    "        FileName = '{}{}_dT1_{}_dT2_{}_PPD{}_Thr{}_{}_Source_{}.npy'.format(Band1, Band2, dT1, dT2, PointsPDay, Thr, EventName, PathInterp[Ind1+1:Ind2])\n",
    "        np.save(FileName, data)\n",
    "        \n",
    "        print('The data is saved at {} as {}.'.format(TargetPath, FileName))\n",
    "    \n",
    "    print('Finish!')\n",
    "        \n",
    "    return data"
   ]
  },
  {
   "cell_type": "code",
   "execution_count": null,
   "metadata": {},
   "outputs": [],
   "source": []
  },
  {
   "cell_type": "code",
   "execution_count": null,
   "metadata": {},
   "outputs": [],
   "source": []
  },
  {
   "cell_type": "code",
   "execution_count": 47,
   "metadata": {},
   "outputs": [],
   "source": [
    "FilePath = '/global/homes/l/lianming/Presto-Color-2/data/2Day_Interp/SNIa-SALT2_Interp.pkl'"
   ]
  },
  {
   "cell_type": "code",
   "execution_count": 48,
   "metadata": {},
   "outputs": [],
   "source": [
    "with open(FilePath, 'rb') as f:\n",
    "        Interp_load = pickle.load(f)\n",
    "        TimeRange_load = pickle.load(f)  "
   ]
  },
  {
   "cell_type": "code",
   "execution_count": 277,
   "metadata": {},
   "outputs": [],
   "source": [
    "Objects = np.arange(40000)\n",
    "Band1 = 'g'\n",
    "Band2 = 'i'\n",
    "dT1 = 60\n",
    "dT2 = 600\n",
    "PointsPerDay=1\n",
    "\n",
    "BinMag = InfoDict['BinMag']\n",
    "BinColor = InfoDict['BinColor']\n",
    "\n",
    "Thrs = {'u': 23.9, 'g': 25.0, 'r': 24.7, 'i': 24.0, 'z': 23.3, 'Y': 22.1}"
   ]
  },
  {
   "cell_type": "code",
   "execution_count": 293,
   "metadata": {
    "id": "maQBiNAEEkzm"
   },
   "outputs": [
    {
     "name": "stdout",
     "output_type": "stream",
     "text": [
      "17 s ± 426 ms per loop (mean ± std. dev. of 7 runs, 1 loop each)\n"
     ]
    }
   ],
   "source": [
    "%%timeit\n",
    "dMag = []\n",
    "Color = []\n",
    "\n",
    "for II in Objects:\n",
    "\n",
    "    if Interp_load[Band1][II]==[] or Interp_load[Band2][II]==[]:\n",
    "        continue\n",
    "\n",
    "    #Decide the range and the length of XX.\n",
    "    TimeRangeStart = max( TimeRange_load[Band1][II][0], TimeRange_load[Band2][II][0] - dT1/1440, TimeRange_load[Band1][II][0] - dT2/1440 )\n",
    "    TimeRangeEnd = min( TimeRange_load[Band1][II][1], TimeRange_load[Band1][II][1] - dT2/1440, TimeRange_load[Band2][II][1] - dT1/1440 )\n",
    "\n",
    "    TimeRange = TimeRangeEnd - TimeRangeStart\n",
    "    if TimeRange<=0:\n",
    "        continue\n",
    "\n",
    "    SampleNo = int(PointsPerDay*TimeRange)\n",
    "\n",
    "    XX = np.random.rand(SampleNo)*TimeRange + TimeRangeStart\n",
    "\n",
    "    #Calculate the values of the functions with selected x values.  \n",
    "    Mag1 = Interp_load[Band1][II](XX)\n",
    "    Mag2 = Interp_load[Band2][II](XX+dT1/1440)\n",
    "    Mag12 = Interp_load[Band1][II](XX+dT2/1440)\n",
    "\n",
    "    #Add a threshold for the results and output.\n",
    "    Mask = (Mag1<Thrs[Band1]) * (Mag2<Thrs[Band2]) * (Mag12<Thrs[Band1])\n",
    "\n",
    "    dMag.extend(  (Mag1[Mask] - Mag12[Mask])*np.sign(dT2) )\n",
    "    Color.extend(Mag1[Mask] - Mag2[Mask])\n",
    "\n",
    "# data = np.array([dMag, Color])\n",
    "histdata,_,_ = np.histogram2d(dMag, Color, bins=[BinMag, BinColor])"
   ]
  },
  {
   "cell_type": "code",
   "execution_count": 292,
   "metadata": {
    "id": "maQBiNAEEkzm"
   },
   "outputs": [
    {
     "name": "stdout",
     "output_type": "stream",
     "text": [
      "21.3 s ± 1.28 s per loop (mean ± std. dev. of 7 runs, 1 loop each)\n"
     ]
    }
   ],
   "source": [
    "%%timeit\n",
    "\n",
    "HistData = np.zeros( (len(BinMag)-1, len(BinColor)-1), dtype=np.uint32)\n",
    "\n",
    "for II in Objects:\n",
    "\n",
    "    if Interp_load[Band1][II]==[] or Interp_load[Band2][II]==[]:\n",
    "        continue\n",
    "\n",
    "    #Decide the range and the length of XX.\n",
    "    TimeRangeStart = max( TimeRange_load[Band1][II][0], TimeRange_load[Band2][II][0] - dT1/1440, TimeRange_load[Band1][II][0] - dT2/1440 )\n",
    "    TimeRangeEnd = min( TimeRange_load[Band1][II][1], TimeRange_load[Band1][II][1] - dT2/1440, TimeRange_load[Band2][II][1] - dT1/1440 )\n",
    "\n",
    "    TimeRange = TimeRangeEnd - TimeRangeStart\n",
    "    if TimeRange<=0:\n",
    "        continue\n",
    "\n",
    "    SampleNo = int(PointsPerDay*TimeRange)\n",
    "\n",
    "    XX = np.random.rand(SampleNo)*TimeRange + TimeRangeStart\n",
    "\n",
    "    #Calculate the values of the functions with selected x values.  \n",
    "    Mag1 = Interp_load[Band1][II](XX)\n",
    "    Mag2 = Interp_load[Band2][II](XX+dT1/1440)\n",
    "    Mag12 = Interp_load[Band1][II](XX+dT2/1440)\n",
    "\n",
    "    #Add a threshold for the results and output.\n",
    "    Mask = (Mag1<Thrs[Band1]) * (Mag2<Thrs[Band2]) * (Mag12<Thrs[Band1])\n",
    "    \n",
    "    hh,_,_ = np.histogram2d( (Mag1[Mask] - Mag12[Mask])*np.sign(dT2), Mag1[Mask] - Mag2[Mask], bins=[BinMag, BinColor])\n",
    "    \n",
    "    HistData += hh.astype(dtype=np.uint32)"
   ]
  },
  {
   "cell_type": "code",
   "execution_count": null,
   "metadata": {},
   "outputs": [],
   "source": []
  },
  {
   "cell_type": "code",
   "execution_count": 9,
   "metadata": {
    "executionInfo": {
     "elapsed": 9,
     "status": "ok",
     "timestamp": 1631646040991,
     "user": {
      "displayName": "Ming Lian",
      "photoUrl": "https://lh3.googleusercontent.com/a-/AOh14GhFnZN2A2xowTHg5pgYqhHMO_ye89Z2cXUJ-M0ywg=s64",
      "userId": "12705220457356801018"
     },
     "user_tz": 240
    },
    "id": "BDsgVRMT0mK3"
   },
   "outputs": [],
   "source": [
    "#Older version\n",
    "def Enquiry(HashTable, InfoDict, Band1, Band2, dT1, dT2, dMag=None, Color=None):\n",
    "\n",
    "    Ind1 = InfoDict['BandPairs'].index(Band1+Band2)\n",
    "    \n",
    "    Ind2 = abs( dT1 - InfoDict['dT1s'] ).argmin()\n",
    "    Ind3 = abs( dT2 - InfoDict['dT2s'] ).argmin()\n",
    "\n",
    "    if dT1<InfoDict['dT1s'][0] or dT1>InfoDict['dT1s'][-1]:\n",
    "        raise ValueError('The value of dT1 is out of boundary, the available interval is [{:.2f}, {:.2f}].'.format(InfoDict['dT1s'][0], InfoDict['dT1s'][-1]))\n",
    "        \n",
    "    else:\n",
    "        Ind3 = np.where( dT1 >= InfoDict['dT1s'] )[0][-1]\n",
    "\n",
    "    if dT2<InfoDict['dT2s'][0] or dT2>InfoDict['dT2s'][-1]:\n",
    "        raise ValueError('The value of dT2 is out of boundary, the available interval is [{:.2f}, {:.2f}].'.format(InfoDict['dT2s'][0], InfoDict['dT2s'][-1]))\n",
    "    else:\n",
    "        Ind4 = np.where( dT2 >= InfoDict['dT2s'] )[0][-1]\n",
    "\n",
    "    Results = HashTable[Ind1, Ind2, Ind3, Ind4]\n",
    "\n",
    "    if dMag == None:\n",
    "        pass        \n",
    "    elif dMag<InfoDict['BinMag'][0] or dMag>=InfoDict['BinMag'][-1]:\n",
    "        raise ValueError('The value of dMag is out of boundary, the available interval is [{:.2f}, {:.2f}).'.format(InfoDict['BinMag'][0], InfoDict['BinMag'][-1]))\n",
    "        \n",
    "    else:\n",
    "        Results = Results[np.where( dMag >= InfoDict['BinMag'] )[0][-1]]       \n",
    "\n",
    "    if Color == None:\n",
    "        pass        \n",
    "    elif Color<InfoDict['BinColor'][0] or Color>=InfoDict['BinColor'][-1]:\n",
    "        raise ValueError('The value of Color is out of boundary, the available interval is [{:.2f}, {:.2f}).'.format(InfoDict['BinColor'][0], InfoDict['BinColor'][-1]))\n",
    "        \n",
    "    else:\n",
    "        Results = Results[..., np.where( Color >= InfoDict['BinColor'] )[0][-1] ]\n",
    "\n",
    "    return Results"
   ]
  },
  {
   "cell_type": "code",
   "execution_count": 40,
   "metadata": {},
   "outputs": [
    {
     "data": {
      "text/plain": [
       "1000"
      ]
     },
     "execution_count": 40,
     "metadata": {},
     "output_type": "execute_result"
    }
   ],
   "source": [
    "InfoDict.pop('ObjectNo')"
   ]
  },
  {
   "cell_type": "code",
   "execution_count": 50,
   "metadata": {},
   "outputs": [
    {
     "data": {
      "text/plain": [
       "{'EventName': 'SNII-NMF',\n",
       " 'PointsPerDay': 1,\n",
       " 'ObjectNo': 1000,\n",
       " 'BandPairs': ['ug',\n",
       "  'ur',\n",
       "  'ui',\n",
       "  'gu',\n",
       "  'gr',\n",
       "  'gi',\n",
       "  'gz',\n",
       "  'gy',\n",
       "  'ru',\n",
       "  'rg',\n",
       "  'ri',\n",
       "  'rz',\n",
       "  'ry',\n",
       "  'iu',\n",
       "  'ig',\n",
       "  'ir',\n",
       "  'iz',\n",
       "  'iy',\n",
       "  'zg',\n",
       "  'zr',\n",
       "  'zi',\n",
       "  'zy',\n",
       "  'yg',\n",
       "  'yr',\n",
       "  'yi',\n",
       "  'yz'],\n",
       " 'dT1s': array([-480, -450, -420, -390, -360, -330, -300, -270, -240, -210, -180,\n",
       "        -150, -120,  -90,  -60,  -30,    0,   30,   60,   90,  120,  150,\n",
       "         180,  210,  240,  270,  300,  330,  360,  390,  420,  450,  480]),\n",
       " 'dT2s': array([-1920, -1890, -1860, -1830, -1800, -1770, -1740, -1710, -1680,\n",
       "        -1650, -1620, -1590, -1560, -1530, -1500, -1470, -1440,  -480,\n",
       "         -450,  -420,  -390,  -360,  -330,  -300,  -270,  -240,  -210,\n",
       "         -180,  -150,  -120,   -90,   -60,   -30,     0,    30,    60,\n",
       "           90,   120,   150,   180,   210,   240,   270,   300,   330,\n",
       "          360,   390,   420,   450,   480,  1440,  1470,  1500,  1530,\n",
       "         1560,  1590,  1620,  1650,  1680,  1710,  1740,  1770,  1800,\n",
       "         1830,  1860,  1890,  1920]),\n",
       " 'BinMag': array([-5.05, -4.95, -4.85, -4.75, -4.65, -4.55, -4.45, -4.35, -4.25,\n",
       "        -4.15, -4.05, -3.95, -3.85, -3.75, -3.65, -3.55, -3.45, -3.35,\n",
       "        -3.25, -3.15, -3.05, -2.95, -2.85, -2.75, -2.65, -2.55, -2.45,\n",
       "        -2.35, -2.25, -2.15, -2.05, -1.95, -1.85, -1.75, -1.65, -1.55,\n",
       "        -1.45, -1.35, -1.25, -1.15, -1.05, -0.95, -0.85, -0.75, -0.65,\n",
       "        -0.55, -0.45, -0.35, -0.25, -0.15, -0.05,  0.05,  0.15,  0.25,\n",
       "         0.35,  0.45,  0.55,  0.65,  0.75,  0.85,  0.95,  1.05,  1.15,\n",
       "         1.25,  1.35,  1.45,  1.55,  1.65,  1.75,  1.85,  1.95,  2.05,\n",
       "         2.15,  2.25,  2.35,  2.45,  2.55,  2.65,  2.75,  2.85,  2.95,\n",
       "         3.05,  3.15,  3.25,  3.35,  3.45,  3.55,  3.65,  3.75,  3.85,\n",
       "         3.95,  4.05,  4.15,  4.25,  4.35,  4.45,  4.55,  4.65,  4.75,\n",
       "         4.85,  4.95,  5.05,  5.15,  5.25,  5.35,  5.45,  5.55,  5.65,\n",
       "         5.75,  5.85,  5.95]),\n",
       " 'BinColor': array([-9.25, -8.75, -8.25, -7.75, -7.25, -6.75, -6.25, -5.75, -5.25,\n",
       "        -4.75, -4.25, -3.75, -3.25, -2.75, -2.25, -1.75, -1.25, -0.75,\n",
       "        -0.25,  0.25,  0.75,  1.25,  1.75,  2.25,  2.75,  3.25,  3.75,\n",
       "         4.25,  4.75,  5.25,  5.75,  6.25,  6.75,  7.25,  7.75,  8.25,\n",
       "         8.75,  9.25,  9.75]),\n",
       " 'dMagRange': [-0.7759653727227658, 6.202512798141445],\n",
       " 'ColorRange': [-6.428307530269848, 6.293819014421469],\n",
       " 'TimePairs': array([[ -480, -1920],\n",
       "        [ -480, -1890],\n",
       "        [ -480, -1860],\n",
       "        ...,\n",
       "        [  480,  1860],\n",
       "        [  480,  1890],\n",
       "        [  480,  1920]]),\n",
       " 'Outliers': 3,\n",
       " 'OutliersRatio': 3.9703840530392703e-10}"
      ]
     },
     "execution_count": 50,
     "metadata": {},
     "output_type": "execute_result"
    }
   ],
   "source": [
    "InfoDict"
   ]
  },
  {
   "cell_type": "code",
   "execution_count": null,
   "metadata": {},
   "outputs": [
    {
     "ename": "NameError",
     "evalue": "name 'InfoDict' is not defined",
     "output_type": "error",
     "traceback": [
      "\u001b[0;31m---------------------------------------------------------------------------\u001b[0m",
      "\u001b[0;31mNameError\u001b[0m                                 Traceback (most recent call last)",
      "\u001b[0;32m/tmp/ipykernel_60901/357831071.py\u001b[0m in \u001b[0;36m<module>\u001b[0;34m\u001b[0m\n\u001b[0;32m----> 1\u001b[0;31m \u001b[0mInfoDict\u001b[0m\u001b[0;34m\u001b[0m\u001b[0;34m\u001b[0m\u001b[0m\n\u001b[0m",
      "\u001b[0;31mNameError\u001b[0m: name 'InfoDict' is not defined"
     ]
    }
   ],
   "source": []
  }
 ],
 "metadata": {
  "colab": {
   "authorship_tag": "ABX9TyPGlFMjee40SvWOEaYHjOqo",
   "collapsed_sections": [],
   "mount_file_id": "10i9xL0kIReFkER7bfFQh8y12RbLkl1kf",
   "name": "ProbabilityCube.ipynb",
   "provenance": []
  },
  "kernelspec": {
   "display_name": "NERSC Python",
   "language": "python",
   "name": "python3"
  },
  "language_info": {
   "codemirror_mode": {
    "name": "ipython",
    "version": 3
   },
   "file_extension": ".py",
   "mimetype": "text/x-python",
   "name": "python",
   "nbconvert_exporter": "python",
   "pygments_lexer": "ipython3",
   "version": "3.9.7"
  }
 },
 "nbformat": 4,
 "nbformat_minor": 4
}
