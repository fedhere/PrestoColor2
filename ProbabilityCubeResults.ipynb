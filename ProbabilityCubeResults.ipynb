{
 "cells": [
  {
   "cell_type": "code",
   "execution_count": 7,
   "metadata": {
    "executionInfo": {
     "elapsed": 218,
     "status": "ok",
     "timestamp": 1631647781845,
     "user": {
      "displayName": "Ming Lian",
      "photoUrl": "https://lh3.googleusercontent.com/a-/AOh14GhFnZN2A2xowTHg5pgYqhHMO_ye89Z2cXUJ-M0ywg=s64",
      "userId": "12705220457356801018"
     },
     "user_tz": 240
    },
    "id": "BHpGWIT00gQo"
   },
   "outputs": [],
   "source": [
    "import numpy as np\n",
    "import Functions\n",
    "import pickle\n",
    "import os\n",
    "from matplotlib.colors import LogNorm\n",
    "\n",
    "import matplotlib.pyplot as plt"
   ]
  },
  {
   "cell_type": "code",
   "execution_count": 8,
   "metadata": {},
   "outputs": [
    {
     "data": {
      "text/plain": [
       "['TDE']"
      ]
     },
     "execution_count": 8,
     "metadata": {},
     "output_type": "execute_result"
    }
   ],
   "source": [
    "EventNames = ['AGN', 'CART', 'EB', 'ILOT', 'KN_B19', 'KN_K17', 'MIRA', 'Mdwarf',\n",
    "              'PISN', 'RRL', 'SLSN-I', 'SNII-NMF', 'SNII-Templates', 'SNIIn',\n",
    "              'SNIa-91bg', 'SNIa-SALT2', 'SNIax', 'SNIbc-MOSFIT',\n",
    "              'SNIbc-Templates', 'TDE', 'V19_CC+HostXT', 'uLens-Binary',\n",
    "              'uLens-Single-GenLens', 'uLens-Single_PyLIMA']\n",
    "\n",
    "EventNames = [EventNames[19]]\n",
    "EventNames"
   ]
  },
  {
   "cell_type": "code",
   "execution_count": 9,
   "metadata": {
    "executionInfo": {
     "elapsed": 9,
     "status": "ok",
     "timestamp": 1631646040991,
     "user": {
      "displayName": "Ming Lian",
      "photoUrl": "https://lh3.googleusercontent.com/a-/AOh14GhFnZN2A2xowTHg5pgYqhHMO_ye89Z2cXUJ-M0ywg=s64",
      "userId": "12705220457356801018"
     },
     "user_tz": 240
    },
    "id": "BDsgVRMT0mK3"
   },
   "outputs": [],
   "source": [
    "def Enquiry(HashTable, InfoDict, Band1, Band2, dT1, dT2, dMag=None, Color=None):\n",
    "\n",
    "    Ind1 = InfoDict['Bands'].index(Band1)\n",
    "    Ind2 = InfoDict['Bands'].index(Band2)\n",
    "\n",
    "    if dT1<InfoDict['dT1s'][0] or dT1>InfoDict['dT1s'][-1]:\n",
    "        raise ValueError('The value of dT1 is out of boundary, the available interval is [{:.2f}, {:.2f}].'.format(InfoDict['dT1s'][0], InfoDict['dT1s'][-1]))\n",
    "        \n",
    "    else:\n",
    "        Ind3 = np.where( dT1 >= InfoDict['dT1s'] )[0][-1]\n",
    "\n",
    "    if dT2<InfoDict['dT2s'][0] or dT2>InfoDict['dT2s'][-1]:\n",
    "        raise ValueError('The value of dT2 is out of boundary, the available interval is [{:.2f}, {:.2f}].'.format(InfoDict['dT2s'][0], InfoDict['dT2s'][-1]))\n",
    "    else:\n",
    "        Ind4 = np.where( dT2 >= InfoDict['dT2s'] )[0][-1]\n",
    "\n",
    "    Results = HashTable[Ind1, Ind2, Ind3, Ind4]\n",
    "\n",
    "    if dMag == None:\n",
    "        pass        \n",
    "    elif dMag<InfoDict['BinMag'][0] or dMag>=InfoDict['BinMag'][-1]:\n",
    "        raise ValueError('The value of dMag is out of boundary, the available interval is [{:.2f}, {:.2f}).'.format(InfoDict['BinMag'][0], InfoDict['BinMag'][-1]))\n",
    "        \n",
    "    else:\n",
    "        Results = Results[np.where( dMag >= InfoDict['BinMag'] )[0][-1]]       \n",
    "\n",
    "    if Color == None:\n",
    "        pass        \n",
    "    elif Color<InfoDict['BinColor'][0] or Color>=InfoDict['BinColor'][-1]:\n",
    "        raise ValueError('The value of Color is out of boundary, the available interval is [{:.2f}, {:.2f}).'.format(InfoDict['BinColor'][0], InfoDict['BinColor'][-1]))\n",
    "        \n",
    "    else:\n",
    "        Results = Results[..., np.where( Color >= InfoDict['BinColor'] )[0][-1] ]\n",
    "\n",
    "    return Results"
   ]
  },
  {
   "cell_type": "code",
   "execution_count": 10,
   "metadata": {},
   "outputs": [],
   "source": [
    "File = '/global/cscratch1/sd/lianming/Results/ProbabilityCube_Nov 2_02:51_SNIa-SALT2.pkl'"
   ]
  },
  {
   "cell_type": "code",
   "execution_count": 11,
   "metadata": {
    "executionInfo": {
     "elapsed": 4013,
     "status": "ok",
     "timestamp": 1631653595306,
     "user": {
      "displayName": "Ming Lian",
      "photoUrl": "https://lh3.googleusercontent.com/a-/AOh14GhFnZN2A2xowTHg5pgYqhHMO_ye89Z2cXUJ-M0ywg=s64",
      "userId": "12705220457356801018"
     },
     "user_tz": 240
    },
    "id": "oOEH5kjB0tWh"
   },
   "outputs": [],
   "source": [
    "with open(File, 'rb') as f:\n",
    "    EventNames = pickle.load(f)\n",
    "    InfoDict = pickle.load(f)\n",
    "    HashTable = pickle.load(f)"
   ]
  },
  {
   "cell_type": "code",
   "execution_count": 12,
   "metadata": {
    "executionInfo": {
     "elapsed": 36,
     "status": "ok",
     "timestamp": 1631653595313,
     "user": {
      "displayName": "Ming Lian",
      "photoUrl": "https://lh3.googleusercontent.com/a-/AOh14GhFnZN2A2xowTHg5pgYqhHMO_ye89Z2cXUJ-M0ywg=s64",
      "userId": "12705220457356801018"
     },
     "user_tz": 240
    },
    "id": "WhmBhttZHl9U"
   },
   "outputs": [
    {
     "data": {
      "text/plain": [
       "{'EventNames': ['SNIa-SALT2'],\n",
       " 'PointsPerDay': 1,\n",
       " 'Object Number': 10000,\n",
       " 'Bands': ['g', 'i'],\n",
       " 'dT1s': array([  0,  15,  30,  45,  60,  75,  90, 105, 120, 135, 150, 165, 180,\n",
       "        195, 210, 225, 240, 255, 270, 285, 300, 315, 330, 345, 360, 375,\n",
       "        390, 405, 420, 435, 450, 465, 480]),\n",
       " 'dT2s': array([ 30,  60,  90, 120, 150, 180, 210, 240, 270, 300, 330, 360, 390,\n",
       "        420, 450, 480]),\n",
       " 'BinMag': array([-2.25, -2.15, -2.05, -1.95, -1.85, -1.75, -1.65, -1.55, -1.45,\n",
       "        -1.35, -1.25, -1.15, -1.05, -0.95, -0.85, -0.75, -0.65, -0.55,\n",
       "        -0.45, -0.35, -0.25, -0.15, -0.05,  0.05,  0.15,  0.25,  0.35,\n",
       "         0.45,  0.55,  0.65,  0.75,  0.85,  0.95,  1.05,  1.15,  1.25,\n",
       "         1.35,  1.45,  1.55,  1.65,  1.75,  1.85,  1.95,  2.05,  2.15,\n",
       "         2.25,  2.35,  2.45,  2.55,  2.65,  2.75,  2.85,  2.95,  3.05,\n",
       "         3.15,  3.25,  3.35,  3.45,  3.55,  3.65,  3.75,  3.85,  3.95,\n",
       "         4.05]),\n",
       " 'BinColor': array([-9.25, -8.75, -8.25, -7.75, -7.25, -6.75, -6.25, -5.75, -5.25,\n",
       "        -4.75, -4.25, -3.75, -3.25, -2.75, -2.25, -1.75, -1.25, -0.75,\n",
       "        -0.25,  0.25,  0.75,  1.25,  1.75,  2.25,  2.75,  3.25,  3.75,\n",
       "         4.25,  4.75,  5.25,  5.75,  6.25,  6.75,  7.25,  7.75,  8.25,\n",
       "         8.75,  9.25,  9.75])}"
      ]
     },
     "execution_count": 12,
     "metadata": {},
     "output_type": "execute_result"
    }
   ],
   "source": [
    "InfoDict"
   ]
  },
  {
   "cell_type": "code",
   "execution_count": 13,
   "metadata": {},
   "outputs": [
    {
     "data": {
      "text/plain": [
       "(2, 2, 33, 16, 63, 38)"
      ]
     },
     "execution_count": 13,
     "metadata": {},
     "output_type": "execute_result"
    }
   ],
   "source": [
    "HashTable.shape"
   ]
  },
  {
   "cell_type": "code",
   "execution_count": null,
   "metadata": {},
   "outputs": [],
   "source": []
  },
  {
   "cell_type": "code",
   "execution_count": 15,
   "metadata": {},
   "outputs": [
    {
     "data": {
      "text/plain": [
       "array(625726, dtype=int32)"
      ]
     },
     "execution_count": 16,
     "metadata": {},
     "output_type": "execute_result"
    }
   ],
   "source": [
    "Enquiry(HashTable, InfoDict,'g', 'i', 23, 134, 0, 0)"
   ]
  },
  {
   "cell_type": "code",
   "execution_count": null,
   "metadata": {},
   "outputs": [],
   "source": []
  },
  {
   "cell_type": "code",
   "execution_count": null,
   "metadata": {},
   "outputs": [],
   "source": []
  },
  {
   "cell_type": "code",
   "execution_count": null,
   "metadata": {},
   "outputs": [],
   "source": []
  },
  {
   "cell_type": "code",
   "execution_count": 6,
   "metadata": {
    "colab": {
     "base_uri": "https://localhost:8080/",
     "height": 613
    },
    "executionInfo": {
     "elapsed": 540,
     "status": "ok",
     "timestamp": 1631657483986,
     "user": {
      "displayName": "Ming Lian",
      "photoUrl": "https://lh3.googleusercontent.com/a-/AOh14GhFnZN2A2xowTHg5pgYqhHMO_ye89Z2cXUJ-M0ywg=s64",
      "userId": "12705220457356801018"
     },
     "user_tz": 240
    },
    "id": "IVKkANAj__6D",
    "outputId": "7c7b3bf4-47ee-4ab7-9361-1c59c6c5d13b"
   },
   "outputs": [
    {
     "data": {
      "text/plain": [
       "<matplotlib.collections.PolyCollection at 0x2aaae5e528b0>"
      ]
     },
     "execution_count": 6,
     "metadata": {},
     "output_type": "execute_result"
    },
    {
     "data": {
      "image/png": "[encoded data removed]",
      "text/plain": [
       "<Figure size 1080x864 with 1 Axes>"
      ]
     },
     "metadata": {
      "needs_background": "light"
     },
     "output_type": "display_data"
    }
   ],
   "source": [
    "#If dMag and Color are not given, a 2-D array will be returned.\n",
    "fig, ax = plt.subplots(1, 1, figsize=(15, 12))\n",
    "\n",
    "Map = Enquiry(HashTable, InfoDict, 'g', 'i', 60, 450)\n",
    "plt.pcolor(InfoDict['BinMag'], InfoDict['BinColor'], np.transpose(Map)+1, edgecolors='face',\n",
    "           norm=LogNorm(1, vmax=Map.max()+1), cmap='gist_gray')\n",
    "# plt.xlim([-0.5, 2])\n",
    "# plt.ylim([-7.5, 4])\n",
    "# plt.axis('equal')"
   ]
  },
  {
   "cell_type": "code",
   "execution_count": 49,
   "metadata": {
    "colab": {
     "base_uri": "https://localhost:8080/",
     "height": 613
    },
    "executionInfo": {
     "elapsed": 540,
     "status": "ok",
     "timestamp": 1631657483986,
     "user": {
      "displayName": "Ming Lian",
      "photoUrl": "https://lh3.googleusercontent.com/a-/AOh14GhFnZN2A2xowTHg5pgYqhHMO_ye89Z2cXUJ-M0ywg=s64",
      "userId": "12705220457356801018"
     },
     "user_tz": 240
    },
    "id": "IVKkANAj__6D",
    "outputId": "7c7b3bf4-47ee-4ab7-9361-1c59c6c5d13b"
   },
   "outputs": [
    {
     "data": {
      "text/plain": [
       "<matplotlib.collections.PolyCollection at 0x2aaae9944280>"
      ]
     },
     "execution_count": 49,
     "metadata": {},
     "output_type": "execute_result"
    },
    {
     "data": {
      "image/png": "[encoded data removed]",
      "text/plain": [
       "<Figure size 1080x864 with 1 Axes>"
      ]
     },
     "metadata": {
      "needs_background": "light"
     },
     "output_type": "display_data"
    }
   ],
   "source": [
    "#If dMag and Color are not given, a 2-D array will be returned.\n",
    "fig, ax = plt.subplots(1, 1, figsize=(15, 12))\n",
    "\n",
    "Map = Enquiry(HashTable, InfoDict, 'g', 'i', 60, 450)\n",
    "plt.pcolor(InfoDict['BinMag'], InfoDict['BinColor'], np.transpose(Map)+1, edgecolors='face',\n",
    "           norm=LogNorm(1, vmax=Map.max()+1), cmap='gist_gray')\n",
    "# plt.xlim([-0.5, 2])\n",
    "# plt.ylim([-7.5, 4])\n",
    "# plt.axis('equal')"
   ]
  },
  {
   "cell_type": "code",
   "execution_count": 35,
   "metadata": {
    "colab": {
     "base_uri": "https://localhost:8080/"
    },
    "executionInfo": {
     "elapsed": 532,
     "status": "ok",
     "timestamp": 1631650985840,
     "user": {
      "displayName": "Ming Lian",
      "photoUrl": "https://lh3.googleusercontent.com/a-/AOh14GhFnZN2A2xowTHg5pgYqhHMO_ye89Z2cXUJ-M0ywg=s64",
      "userId": "12705220457356801018"
     },
     "user_tz": 240
    },
    "id": "rFZJ6Squ-DKN",
    "outputId": "a9cc672c-fb69-4bc2-ac56-1c4d7a6f38ff"
   },
   "outputs": [
    {
     "data": {
      "text/plain": [
       "195190"
      ]
     },
     "execution_count": 35,
     "metadata": {},
     "output_type": "execute_result"
    }
   ],
   "source": [
    "Map.max()"
   ]
  },
  {
   "cell_type": "code",
   "execution_count": null,
   "metadata": {
    "id": "gjYccfOC-COr"
   },
   "outputs": [],
   "source": []
  },
  {
   "cell_type": "code",
   "execution_count": null,
   "metadata": {
    "colab": {
     "base_uri": "https://localhost:8080/",
     "height": 286
    },
    "executionInfo": {
     "elapsed": 226,
     "status": "ok",
     "timestamp": 1631567404872,
     "user": {
      "displayName": "Ming Lian",
      "photoUrl": "https://lh3.googleusercontent.com/a-/AOh14GhFnZN2A2xowTHg5pgYqhHMO_ye89Z2cXUJ-M0ywg=s64",
      "userId": "12705220457356801018"
     },
     "user_tz": 240
    },
    "id": "8ewSZTEA1Pe0",
    "outputId": "81584e0e-7e7c-4892-d57e-db1732b9d80b"
   },
   "outputs": [
    {
     "data": {
      "text/plain": [
       "(-7.5, 4.0)"
      ]
     },
     "execution_count": 5,
     "metadata": {},
     "output_type": "execute_result"
    },
    {
     "data": {
      "image/png": "[encoded data removed]",
      "text/plain": [
       "<Figure size 432x288 with 1 Axes>"
      ]
     },
     "metadata": {
      "needs_background": "light"
     },
     "output_type": "display_data"
    }
   ],
   "source": [
    "#If dMag and Color are not given, a 2-D array will be returned.\n",
    "\n",
    "Map = Enquiry(HashTable, CoordinateDict, 'g', 'i', 60, 450)\n",
    "plt.pcolor(CoordinateDict['BinMag'], CoordinateDict['BinColor'], np.transpose(Map[0,0]), cmap='gist_gray')\n",
    "plt.xlim([-0.5, 2.5])\n",
    "plt.ylim([-7.5, 4])\n",
    "# plt.axis('equal')"
   ]
  },
  {
   "cell_type": "code",
   "execution_count": 16,
   "metadata": {
    "colab": {
     "base_uri": "https://localhost:8080/"
    },
    "executionInfo": {
     "elapsed": 25833,
     "status": "ok",
     "timestamp": 1631632009680,
     "user": {
      "displayName": "Ming Lian",
      "photoUrl": "https://lh3.googleusercontent.com/a-/AOh14GhFnZN2A2xowTHg5pgYqhHMO_ye89Z2cXUJ-M0ywg=s64",
      "userId": "12705220457356801018"
     },
     "user_tz": 240
    },
    "id": "NFzn1-Ao3CUQ",
    "outputId": "b064923e-b691-41d1-d974-baebaa3d5240"
   },
   "outputs": [
    {
     "name": "stdout",
     "output_type": "stream",
     "text": [
      "||||||||||||||||||||||||||||||||||||||||||||||||||||||||||||||||||||||||||||||||||||||||||||||||||||\n",
      "||||||||||||||||||||||||||||||||||||||||||||||||||||||||||||||||||||||||||||||||||||||||||||||||||||\n",
      "||||||||||||||||||||||||||||||||||||||||||||||||||||||||||||||||||||||||||||||||||||||||||||||||||||\n",
      "||||||||||||||||||||||||||||||||||||||||||||||||||||||||||||||||||||||||||||||||||||||||||||||||||||\n",
      "||||||||||||||||||||||||||||||||||||||||||||||||||||||||||||||||||||||||||||||||||||||||||||||||||||\n",
      "||||||||||||||||||||||||||||||||||||||||||||||||||||||||||||||||||||||||||||||||||||||||||||||||||||\n",
      "||||||||||||||||||||||||||||||||||||||||||||||||||||||||||||||||||||||||||||||||||||||||||||||||||||\n",
      "||||||||||||||||||||||||||||||||||||||||||||||||||||||||||||||||||||||||||||||||||||||||||||||||||||\n",
      "Finish!\n"
     ]
    }
   ],
   "source": [
    "data = CalculateMap('/content/drive/Shareddrives/FASTlab/PrestoColor2/Interpolated Data', 'SNIa-SALT2', 'g', 'i', 60, 450, PointsPDay=0.1)"
   ]
  },
  {
   "cell_type": "code",
   "execution_count": 170,
   "metadata": {
    "colab": {
     "base_uri": "https://localhost:8080/",
     "height": 787
    },
    "executionInfo": {
     "elapsed": 1861,
     "status": "ok",
     "timestamp": 1631657861505,
     "user": {
      "displayName": "Ming Lian",
      "photoUrl": "https://lh3.googleusercontent.com/a-/AOh14GhFnZN2A2xowTHg5pgYqhHMO_ye89Z2cXUJ-M0ywg=s64",
      "userId": "12705220457356801018"
     },
     "user_tz": 240
    },
    "id": "-ELTqsIl1Sej",
    "outputId": "0eb5545e-2b58-4162-fa28-9e1866e3480d"
   },
   "outputs": [
    {
     "data": {
      "text/plain": [
       "([<matplotlib.lines.Line2D at 0x7f3a8f9e22d0>],\n",
       " <matplotlib.contour.QuadContourSet at 0x7f3a8f9bdd50>)"
      ]
     },
     "execution_count": 170,
     "metadata": {},
     "output_type": "execute_result"
    },
    {
     "data": {
      "image/png": "[encoded data removed]",
      "text/plain": [
       "<Figure size 1080x864 with 1 Axes>"
      ]
     },
     "metadata": {
      "needs_background": "light"
     },
     "output_type": "display_data"
    }
   ],
   "source": [
    "fig, ax = plt.subplots(1, 1, figsize=(15, 12))\n",
    "ax.set_xlabel(\"$\\Delta {0}$\".format('g'), fontsize=20)\n",
    "ax.set_ylabel('${0}-{1}$'.format('g','i'), fontsize=20)\n",
    "ax.tick_params(labelsize=15 )\n",
    "ax.set_title('SNIa-SALT2', fontsize=22)\n",
    "\n",
    "plt.xlim([-0.3, 1.8])\n",
    "plt.ylim([-7.5, 4])\n",
    "\n",
    "plt.pcolor(CoordinateDict['BinMag'], CoordinateDict['BinColor'], np.transpose(Map[0,0])+1, edgecolors='face',\n",
    "           norm=LogNorm(1, vmax=Map[0,0].max()+1), cmap='gist_gray', alpha=0.6)\n",
    "\n",
    "ax.scatter([10], [10])\n",
    "\n",
    "plotting.scatter_contour(data[0], data[1], \n",
    "                         threshold=50,log_counts=True, \n",
    "                         histogram2d_args=dict(bins=(100,100)), filled_contour=False,\n",
    "                         plot_args=dict(marker='.', linestyle='none', color='black', alpha=0.1),\n",
    "                         contour_args=dict(alpha=1, cmap='bone'))"
   ]
  },
  {
   "cell_type": "code",
   "execution_count": null,
   "metadata": {
    "id": "BsmKewXSGoJh"
   },
   "outputs": [],
   "source": []
  },
  {
   "cell_type": "code",
   "execution_count": null,
   "metadata": {
    "id": "hGGxtLrwGoF2"
   },
   "outputs": [],
   "source": []
  },
  {
   "cell_type": "code",
   "execution_count": null,
   "metadata": {
    "id": "y1pd16R2GoCW"
   },
   "outputs": [],
   "source": []
  },
  {
   "cell_type": "code",
   "execution_count": null,
   "metadata": {
    "id": "tNuZLLYfGn_c"
   },
   "outputs": [],
   "source": []
  },
  {
   "cell_type": "code",
   "execution_count": 15,
   "metadata": {
    "executionInfo": {
     "elapsed": 315,
     "status": "ok",
     "timestamp": 1631631978813,
     "user": {
      "displayName": "Ming Lian",
      "photoUrl": "https://lh3.googleusercontent.com/a-/AOh14GhFnZN2A2xowTHg5pgYqhHMO_ye89Z2cXUJ-M0ywg=s64",
      "userId": "12705220457356801018"
     },
     "user_tz": 240
    },
    "id": "sWzMM6NL5VT2"
   },
   "outputs": [],
   "source": [
    "def CalculateMap(PathInterp, EventName, Band1, Band2, dT1, dT2, PointsPDay = 50, Thr=27.5, Save=0, TargetFolder='MapData'):    \n",
    "    \n",
    "    FilePath = os.path.join(PathInterp, EventName+'_Interp.pkl')\n",
    "    \n",
    "    with open(FilePath, 'rb') as f:\n",
    "        Interp_load = pickle.load(f)\n",
    "        TimeRange_load = pickle.load(f)    \n",
    "\n",
    "    dMag = []\n",
    "    Color = []\n",
    "\n",
    "    for II in range(len(Interp_load[Band1])):\n",
    "        \n",
    "        if Interp_load[Band1][II]==[] or Interp_load[Band2][II]==[]:\n",
    "            continue\n",
    "        \n",
    "        if II%5000 == 4999:\n",
    "            print('|')\n",
    "        elif II%50 == 49:\n",
    "            print('|', end='' )\n",
    "\n",
    "        TimeRangeStart = max( TimeRange_load[Band1][II][0], TimeRange_load[Band2][II][0] - dT1/1440 )\n",
    "        TimeRangeEnd = min( TimeRange_load[Band1][II][1] - dT2/1440, TimeRange_load[Band2][II][1] - dT1/1440 )\n",
    "\n",
    "        TimeRange = TimeRangeEnd - TimeRangeStart\n",
    "        SampleNo = np.int(PointsPDay*TimeRange)\n",
    "        \n",
    "        XX = np.random.rand(SampleNo)*TimeRange + TimeRangeStart\n",
    "\n",
    "        Mag1 = Interp_load[Band1][II](XX)\n",
    "        Mag2 = Interp_load[Band2][II](XX+dT1/1440)\n",
    "        Mag12 = Interp_load[Band1][II](XX+dT2/1440)\n",
    "\n",
    "        Mask = (Mag1<Thr) * (Mag2<Thr) *(Mag12<Thr)\n",
    "\n",
    "        dMag.extend(Mag1[Mask] - Mag12[Mask])\n",
    "        Color.extend(Mag1[Mask] - Mag2[Mask])\n",
    "        \n",
    "    data = np.array([dMag, Color])\n",
    "    \n",
    "    if Save == 1:\n",
    "    \n",
    "        TargetPath = os.path.join(Path0, TargetFolder)                            \n",
    "        if not os.path.isdir(TargetPath):\n",
    "            os.mkdir(TargetPath)\n",
    "        os.chdir(TargetPath)\n",
    "\n",
    "        Ind1 = PathInterp.rfind('/')\n",
    "        Ind2 = PathInterp.rfind('_')\n",
    "        \n",
    "        FileName = '{}{}_dT1_{}_dT2_{}_PPD{}_Thr{}_{}_Source_{}.npy'.format(Band1, Band2, dT1, dT2, PointsPDay, Thr, EventName, PathInterp[Ind1+1:Ind2])\n",
    "        np.save(FileName, data)\n",
    "        \n",
    "        print('The data is saved at {} as {}.'.format(TargetPath, FileName))\n",
    "    \n",
    "    print('Finish!')\n",
    "        \n",
    "    return data"
   ]
  },
  {
   "cell_type": "code",
   "execution_count": 13,
   "metadata": {
    "colab": {
     "base_uri": "https://localhost:8080/"
    },
    "executionInfo": {
     "elapsed": 5392,
     "status": "ok",
     "timestamp": 1631631966450,
     "user": {
      "displayName": "Ming Lian",
      "photoUrl": "https://lh3.googleusercontent.com/a-/AOh14GhFnZN2A2xowTHg5pgYqhHMO_ye89Z2cXUJ-M0ywg=s64",
      "userId": "12705220457356801018"
     },
     "user_tz": 240
    },
    "id": "FodHxvssFmWC",
    "outputId": "662a97d0-7297-4722-884c-2bf850fea60d"
   },
   "outputs": [
    {
     "name": "stdout",
     "output_type": "stream",
     "text": [
      "Collecting astroML\n",
      "  Downloading astroML-0.4.1.tar.gz (105 kB)\n",
      "\u001b[K     |████████████████████████████████| 105 kB 15.7 MB/s eta 0:00:01\n",
      "\u001b[?25hRequirement already satisfied: scikit-learn>=0.18 in /usr/local/lib/python3.7/dist-packages (from astroML) (0.22.2.post1)\n",
      "Requirement already satisfied: numpy>=1.4 in /usr/local/lib/python3.7/dist-packages (from astroML) (1.19.5)\n",
      "Requirement already satisfied: scipy>=0.11 in /usr/local/lib/python3.7/dist-packages (from astroML) (1.4.1)\n",
      "Requirement already satisfied: matplotlib>=0.99 in /usr/local/lib/python3.7/dist-packages (from astroML) (3.2.2)\n",
      "Requirement already satisfied: astropy>=1.2 in /usr/local/lib/python3.7/dist-packages (from astroML) (4.3.1)\n",
      "Requirement already satisfied: importlib-metadata in /usr/local/lib/python3.7/dist-packages (from astropy>=1.2->astroML) (4.6.4)\n",
      "Requirement already satisfied: pyerfa>=1.7.3 in /usr/local/lib/python3.7/dist-packages (from astropy>=1.2->astroML) (2.0.0)\n",
      "Requirement already satisfied: kiwisolver>=1.0.1 in /usr/local/lib/python3.7/dist-packages (from matplotlib>=0.99->astroML) (1.3.1)\n",
      "Requirement already satisfied: pyparsing!=2.0.4,!=2.1.2,!=2.1.6,>=2.0.1 in /usr/local/lib/python3.7/dist-packages (from matplotlib>=0.99->astroML) (2.4.7)\n",
      "Requirement already satisfied: cycler>=0.10 in /usr/local/lib/python3.7/dist-packages (from matplotlib>=0.99->astroML) (0.10.0)\n",
      "Requirement already satisfied: python-dateutil>=2.1 in /usr/local/lib/python3.7/dist-packages (from matplotlib>=0.99->astroML) (2.8.2)\n",
      "Requirement already satisfied: six in /usr/local/lib/python3.7/dist-packages (from cycler>=0.10->matplotlib>=0.99->astroML) (1.15.0)\n",
      "Requirement already satisfied: joblib>=0.11 in /usr/local/lib/python3.7/dist-packages (from scikit-learn>=0.18->astroML) (1.0.1)\n",
      "Requirement already satisfied: typing-extensions>=3.6.4 in /usr/local/lib/python3.7/dist-packages (from importlib-metadata->astropy>=1.2->astroML) (3.7.4.3)\n",
      "Requirement already satisfied: zipp>=0.5 in /usr/local/lib/python3.7/dist-packages (from importlib-metadata->astropy>=1.2->astroML) (3.5.0)\n",
      "Building wheels for collected packages: astroML\n",
      "  Building wheel for astroML (setup.py) ... \u001b[?25l\u001b[?25hdone\n",
      "  Created wheel for astroML: filename=astroML-0.4.1-py3-none-any.whl size=128672 sha256=17a935d564227f982a972bb67f4e7cf7debe0ceee9b4445c40c6bbefbbca82bf\n",
      "  Stored in directory: /root/.cache/pip/wheels/d2/65/48/32aab81213722d288c9529e3a6e94cea3f7d6b95b649e6540a\n",
      "Successfully built astroML\n",
      "Installing collected packages: astroML\n",
      "Successfully installed astroML-0.4.1\n"
     ]
    }
   ],
   "source": [
    "pip install astroML"
   ]
  },
  {
   "cell_type": "code",
   "execution_count": 14,
   "metadata": {
    "executionInfo": {
     "elapsed": 5,
     "status": "ok",
     "timestamp": 1631631966450,
     "user": {
      "displayName": "Ming Lian",
      "photoUrl": "https://lh3.googleusercontent.com/a-/AOh14GhFnZN2A2xowTHg5pgYqhHMO_ye89Z2cXUJ-M0ywg=s64",
      "userId": "12705220457356801018"
     },
     "user_tz": 240
    },
    "id": "Ax0_GWK0LK0T"
   },
   "outputs": [],
   "source": [
    "from astroML import plotting"
   ]
  },
  {
   "cell_type": "code",
   "execution_count": 5,
   "metadata": {
    "colab": {
     "base_uri": "https://localhost:8080/"
    },
    "executionInfo": {
     "elapsed": 258,
     "status": "ok",
     "timestamp": 1631631620134,
     "user": {
      "displayName": "Ming Lian",
      "photoUrl": "https://lh3.googleusercontent.com/a-/AOh14GhFnZN2A2xowTHg5pgYqhHMO_ye89Z2cXUJ-M0ywg=s64",
      "userId": "12705220457356801018"
     },
     "user_tz": 240
    },
    "id": "EvYG2TEmLnlP",
    "outputId": "bdb56bac-1bcb-4759-89e8-618f90d3f677"
   },
   "outputs": [
    {
     "data": {
      "text/plain": [
       "array([[1, 2],\n",
       "       [3, 4]])"
      ]
     },
     "execution_count": 5,
     "metadata": {},
     "output_type": "execute_result"
    }
   ],
   "source": [
    "aa = np.array([[1,2],[3,4]])\n",
    "aa"
   ]
  },
  {
   "cell_type": "code",
   "execution_count": 8,
   "metadata": {
    "colab": {
     "base_uri": "https://localhost:8080/",
     "height": 286
    },
    "executionInfo": {
     "elapsed": 259,
     "status": "ok",
     "timestamp": 1631631675444,
     "user": {
      "displayName": "Ming Lian",
      "photoUrl": "https://lh3.googleusercontent.com/a-/AOh14GhFnZN2A2xowTHg5pgYqhHMO_ye89Z2cXUJ-M0ywg=s64",
      "userId": "12705220457356801018"
     },
     "user_tz": 240
    },
    "id": "VR10hIaqRej4",
    "outputId": "2ed0e74e-887f-4355-e6ea-3076d5d18ce8"
   },
   "outputs": [
    {
     "data": {
      "text/plain": [
       "<matplotlib.collections.PolyCollection at 0x7f3a9fbd1310>"
      ]
     },
     "execution_count": 8,
     "metadata": {},
     "output_type": "execute_result"
    },
    {
     "data": {
      "image/png": "[encoded data removed]",
      "text/plain": [
       "<Figure size 432x288 with 1 Axes>"
      ]
     },
     "metadata": {
      "needs_background": "light"
     },
     "output_type": "display_data"
    }
   ],
   "source": [
    "plt.pcolor([1,2,3], [6,7,8], aa, cmap='gist_gray')"
   ]
  },
  {
   "cell_type": "code",
   "execution_count": null,
   "metadata": {
    "colab": {
     "base_uri": "https://localhost:8080/",
     "height": 286
    },
    "executionInfo": {
     "elapsed": 249,
     "status": "ok",
     "timestamp": 1631572859852,
     "user": {
      "displayName": "Ming Lian",
      "photoUrl": "https://lh3.googleusercontent.com/a-/AOh14GhFnZN2A2xowTHg5pgYqhHMO_ye89Z2cXUJ-M0ywg=s64",
      "userId": "12705220457356801018"
     },
     "user_tz": 240
    },
    "id": "_q59BCSORhxA",
    "outputId": "73b88130-a686-44b9-d915-bb56c432a581"
   },
   "outputs": [
    {
     "data": {
      "text/plain": [
       "<matplotlib.image.AxesImage at 0x7fba79ff1290>"
      ]
     },
     "execution_count": 36,
     "metadata": {},
     "output_type": "execute_result"
    },
    {
     "data": {
      "image/png": "[encoded data removed]",
      "text/plain": [
       "<Figure size 432x288 with 1 Axes>"
      ]
     },
     "metadata": {
      "needs_background": "light"
     },
     "output_type": "display_data"
    }
   ],
   "source": [
    "plt.imshow(aa, cmap='gist_gray')"
   ]
  },
  {
   "cell_type": "code",
   "execution_count": 82,
   "metadata": {
    "executionInfo": {
     "elapsed": 480,
     "status": "ok",
     "timestamp": 1631636972175,
     "user": {
      "displayName": "Ming Lian",
      "photoUrl": "https://lh3.googleusercontent.com/a-/AOh14GhFnZN2A2xowTHg5pgYqhHMO_ye89Z2cXUJ-M0ywg=s64",
      "userId": "12705220457356801018"
     },
     "user_tz": 240
    },
    "id": "Q4jkroYpUeiJ"
   },
   "outputs": [],
   "source": [
    "xx = np.ones(10)*1.999\n",
    "yy = np.array([0, 0, 0, 3, 3, 4, 4, 4, 4, 4])"
   ]
  },
  {
   "cell_type": "code",
   "execution_count": 83,
   "metadata": {
    "colab": {
     "base_uri": "https://localhost:8080/"
    },
    "executionInfo": {
     "elapsed": 13,
     "status": "ok",
     "timestamp": 1631636972179,
     "user": {
      "displayName": "Ming Lian",
      "photoUrl": "https://lh3.googleusercontent.com/a-/AOh14GhFnZN2A2xowTHg5pgYqhHMO_ye89Z2cXUJ-M0ywg=s64",
      "userId": "12705220457356801018"
     },
     "user_tz": 240
    },
    "id": "WZl_Iu3_JDN9",
    "outputId": "2dcacae6-5415-4f40-b94b-33b5c1909348"
   },
   "outputs": [
    {
     "data": {
      "text/plain": [
       "array([1.999, 1.999, 1.999, 1.999, 1.999, 1.999, 1.999, 1.999, 1.999,\n",
       "       1.999])"
      ]
     },
     "execution_count": 83,
     "metadata": {},
     "output_type": "execute_result"
    }
   ],
   "source": [
    "xx"
   ]
  },
  {
   "cell_type": "code",
   "execution_count": 56,
   "metadata": {
    "executionInfo": {
     "elapsed": 5,
     "status": "ok",
     "timestamp": 1631633533058,
     "user": {
      "displayName": "Ming Lian",
      "photoUrl": "https://lh3.googleusercontent.com/a-/AOh14GhFnZN2A2xowTHg5pgYqhHMO_ye89Z2cXUJ-M0ywg=s64",
      "userId": "12705220457356801018"
     },
     "user_tz": 240
    },
    "id": "EVnAti8S6Wz8"
   },
   "outputs": [],
   "source": [
    "xbins = np.arange(4)\n",
    "ybins = np.arange(-0.75, 6.5, 0.5)"
   ]
  },
  {
   "cell_type": "code",
   "execution_count": 57,
   "metadata": {
    "colab": {
     "base_uri": "https://localhost:8080/"
    },
    "executionInfo": {
     "elapsed": 4,
     "status": "ok",
     "timestamp": 1631633534268,
     "user": {
      "displayName": "Ming Lian",
      "photoUrl": "https://lh3.googleusercontent.com/a-/AOh14GhFnZN2A2xowTHg5pgYqhHMO_ye89Z2cXUJ-M0ywg=s64",
      "userId": "12705220457356801018"
     },
     "user_tz": 240
    },
    "id": "-PhXeZxx6bdo",
    "outputId": "6ccadfc3-4271-47dd-e062-86772ed5181f"
   },
   "outputs": [
    {
     "data": {
      "text/plain": [
       "array([-0.75, -0.25,  0.25,  0.75,  1.25,  1.75,  2.25,  2.75,  3.25,\n",
       "        3.75,  4.25,  4.75,  5.25,  5.75,  6.25])"
      ]
     },
     "execution_count": 57,
     "metadata": {},
     "output_type": "execute_result"
    }
   ],
   "source": [
    "ybins"
   ]
  },
  {
   "cell_type": "code",
   "execution_count": 58,
   "metadata": {
    "colab": {
     "base_uri": "https://localhost:8080/",
     "height": 265
    },
    "executionInfo": {
     "elapsed": 299,
     "status": "ok",
     "timestamp": 1631633535738,
     "user": {
      "displayName": "Ming Lian",
      "photoUrl": "https://lh3.googleusercontent.com/a-/AOh14GhFnZN2A2xowTHg5pgYqhHMO_ye89Z2cXUJ-M0ywg=s64",
      "userId": "12705220457356801018"
     },
     "user_tz": 240
    },
    "id": "HoyVEbcAVB51",
    "outputId": "95bfa8b4-1625-4785-87b8-9ed2bbefb9e5"
   },
   "outputs": [
    {
     "data": {
      "image/png": "[encoded data removed]",
      "text/plain": [
       "<Figure size 432x288 with 1 Axes>"
      ]
     },
     "metadata": {
      "needs_background": "light"
     },
     "output_type": "display_data"
    }
   ],
   "source": [
    "Hist = plt.hist2d(xx, yy, bins=[xbins, ybins], alpha = 0.5)"
   ]
  },
  {
   "cell_type": "code",
   "execution_count": 48,
   "metadata": {
    "colab": {
     "base_uri": "https://localhost:8080/"
    },
    "executionInfo": {
     "elapsed": 12,
     "status": "ok",
     "timestamp": 1631633274048,
     "user": {
      "displayName": "Ming Lian",
      "photoUrl": "https://lh3.googleusercontent.com/a-/AOh14GhFnZN2A2xowTHg5pgYqhHMO_ye89Z2cXUJ-M0ywg=s64",
      "userId": "12705220457356801018"
     },
     "user_tz": 240
    },
    "id": "lAKGJ-pyVEan",
    "outputId": "41dc0754-697c-4d24-a130-87c7f4eefb36"
   },
   "outputs": [
    {
     "data": {
      "text/plain": [
       "array([[0., 0., 0., 0., 0., 0., 0., 0., 0., 0., 0., 0., 0.],\n",
       "       [3., 0., 0., 0., 0., 0., 2., 0., 5., 0., 0., 0., 0.],\n",
       "       [0., 0., 0., 0., 0., 0., 0., 0., 0., 0., 0., 0., 0.]])"
      ]
     },
     "execution_count": 48,
     "metadata": {},
     "output_type": "execute_result"
    }
   ],
   "source": [
    "Hist[0]"
   ]
  },
  {
   "cell_type": "code",
   "execution_count": null,
   "metadata": {
    "colab": {
     "base_uri": "https://localhost:8080/",
     "height": 286
    },
    "executionInfo": {
     "elapsed": 207,
     "status": "ok",
     "timestamp": 1631573192868,
     "user": {
      "displayName": "Ming Lian",
      "photoUrl": "https://lh3.googleusercontent.com/a-/AOh14GhFnZN2A2xowTHg5pgYqhHMO_ye89Z2cXUJ-M0ywg=s64",
      "userId": "12705220457356801018"
     },
     "user_tz": 240
    },
    "id": "sOicriGwVjxh",
    "outputId": "a1df9dcf-e41d-46a4-9cfc-9ba3995cd291"
   },
   "outputs": [
    {
     "data": {
      "text/plain": [
       "<matplotlib.collections.PolyCollection at 0x7fba7ae60a50>"
      ]
     },
     "execution_count": 47,
     "metadata": {},
     "output_type": "execute_result"
    },
    {
     "data": {
      "image/png": "[encoded data removed]",
      "text/plain": [
       "<Figure size 432x288 with 1 Axes>"
      ]
     },
     "metadata": {
      "needs_background": "light"
     },
     "output_type": "display_data"
    }
   ],
   "source": [
    "plt.pcolor(Hist[0])"
   ]
  },
  {
   "cell_type": "code",
   "execution_count": null,
   "metadata": {
    "colab": {
     "base_uri": "https://localhost:8080/",
     "height": 282
    },
    "executionInfo": {
     "elapsed": 262,
     "status": "ok",
     "timestamp": 1631573185232,
     "user": {
      "displayName": "Ming Lian",
      "photoUrl": "https://lh3.googleusercontent.com/a-/AOh14GhFnZN2A2xowTHg5pgYqhHMO_ye89Z2cXUJ-M0ywg=s64",
      "userId": "12705220457356801018"
     },
     "user_tz": 240
    },
    "id": "gvgHaNpAVoFS",
    "outputId": "45ecaaff-06f1-4c19-86d1-4fa1fe5fd01b"
   },
   "outputs": [
    {
     "data": {
      "text/plain": [
       "<matplotlib.image.AxesImage at 0x7fba7ae70950>"
      ]
     },
     "execution_count": 46,
     "metadata": {},
     "output_type": "execute_result"
    },
    {
     "data": {
      "image/png": "[encoded data removed]",
      "text/plain": [
       "<Figure size 432x288 with 1 Axes>"
      ]
     },
     "metadata": {
      "needs_background": "light"
     },
     "output_type": "display_data"
    }
   ],
   "source": [
    "plt.imshow(Hist[0])"
   ]
  },
  {
   "cell_type": "code",
   "execution_count": 103,
   "metadata": {
    "executionInfo": {
     "elapsed": 262,
     "status": "ok",
     "timestamp": 1631637876670,
     "user": {
      "displayName": "Ming Lian",
      "photoUrl": "https://lh3.googleusercontent.com/a-/AOh14GhFnZN2A2xowTHg5pgYqhHMO_ye89Z2cXUJ-M0ywg=s64",
      "userId": "12705220457356801018"
     },
     "user_tz": 240
    },
    "id": "TqEGLIc1Vw93"
   },
   "outputs": [],
   "source": [
    "xx = np.arange(0, 10, 0.01)\n",
    "yy = np.sin(xx)\n",
    "\n",
    "xbin = np.arange(-0.75, 10.3, 0.5)\n",
    "ybin = np.arange(-1.7, 1.8, 0.2)"
   ]
  },
  {
   "cell_type": "code",
   "execution_count": 94,
   "metadata": {
    "executionInfo": {
     "elapsed": 223,
     "status": "ok",
     "timestamp": 1631637542080,
     "user": {
      "displayName": "Ming Lian",
      "photoUrl": "https://lh3.googleusercontent.com/a-/AOh14GhFnZN2A2xowTHg5pgYqhHMO_ye89Z2cXUJ-M0ywg=s64",
      "userId": "12705220457356801018"
     },
     "user_tz": 240
    },
    "id": "KStjHh6QKY6q"
   },
   "outputs": [],
   "source": [
    "Noise1 = np.random.normal(scale = 0.2, size=1000)\n",
    "Noise2 = np.random.normal(scale = 0.2, size=1000)"
   ]
  },
  {
   "cell_type": "code",
   "execution_count": 90,
   "metadata": {
    "colab": {
     "base_uri": "https://localhost:8080/"
    },
    "executionInfo": {
     "elapsed": 202,
     "status": "ok",
     "timestamp": 1631637390772,
     "user": {
      "displayName": "Ming Lian",
      "photoUrl": "https://lh3.googleusercontent.com/a-/AOh14GhFnZN2A2xowTHg5pgYqhHMO_ye89Z2cXUJ-M0ywg=s64",
      "userId": "12705220457356801018"
     },
     "user_tz": 240
    },
    "id": "RfdOPFm2Ko1x",
    "outputId": "eca1b46d-0bb1-48a1-9268-967009fa65b8"
   },
   "outputs": [
    {
     "data": {
      "text/plain": [
       "(1000,)"
      ]
     },
     "execution_count": 90,
     "metadata": {},
     "output_type": "execute_result"
    }
   ],
   "source": [
    "Noise.shape"
   ]
  },
  {
   "cell_type": "code",
   "execution_count": 87,
   "metadata": {
    "colab": {
     "base_uri": "https://localhost:8080/"
    },
    "executionInfo": {
     "elapsed": 10,
     "status": "ok",
     "timestamp": 1631637347346,
     "user": {
      "displayName": "Ming Lian",
      "photoUrl": "https://lh3.googleusercontent.com/a-/AOh14GhFnZN2A2xowTHg5pgYqhHMO_ye89Z2cXUJ-M0ywg=s64",
      "userId": "12705220457356801018"
     },
     "user_tz": 240
    },
    "id": "57prPr8fKhAe",
    "outputId": "1afab2e5-335f-4c70-b671-004d389f0a83"
   },
   "outputs": [
    {
     "data": {
      "text/plain": [
       "(1000,)"
      ]
     },
     "execution_count": 87,
     "metadata": {},
     "output_type": "execute_result"
    }
   ],
   "source": [
    "xx.shape"
   ]
  },
  {
   "cell_type": "code",
   "execution_count": 95,
   "metadata": {
    "colab": {
     "base_uri": "https://localhost:8080/",
     "height": 282
    },
    "executionInfo": {
     "elapsed": 477,
     "status": "ok",
     "timestamp": 1631637545423,
     "user": {
      "displayName": "Ming Lian",
      "photoUrl": "https://lh3.googleusercontent.com/a-/AOh14GhFnZN2A2xowTHg5pgYqhHMO_ye89Z2cXUJ-M0ywg=s64",
      "userId": "12705220457356801018"
     },
     "user_tz": 240
    },
    "id": "axll02BSD-hS",
    "outputId": "4331be8e-c12a-44fa-c6f0-8177f2a6c62d"
   },
   "outputs": [
    {
     "data": {
      "text/plain": [
       "<matplotlib.collections.PathCollection at 0x7f3a9ea6cf90>"
      ]
     },
     "execution_count": 95,
     "metadata": {},
     "output_type": "execute_result"
    },
    {
     "data": {
      "image/png": "[encoded data removed]",
      "text/plain": [
       "<Figure size 432x288 with 1 Axes>"
      ]
     },
     "metadata": {
      "needs_background": "light"
     },
     "output_type": "display_data"
    }
   ],
   "source": [
    "plt.scatter(xx+Noise1,yy+Noise2, s=1)"
   ]
  },
  {
   "cell_type": "code",
   "execution_count": 118,
   "metadata": {
    "colab": {
     "base_uri": "https://localhost:8080/",
     "height": 592
    },
    "executionInfo": {
     "elapsed": 504,
     "status": "ok",
     "timestamp": 1631638186622,
     "user": {
      "displayName": "Ming Lian",
      "photoUrl": "https://lh3.googleusercontent.com/a-/AOh14GhFnZN2A2xowTHg5pgYqhHMO_ye89Z2cXUJ-M0ywg=s64",
      "userId": "12705220457356801018"
     },
     "user_tz": 240
    },
    "id": "Q-ANvWSrD-3A",
    "outputId": "87f4001d-11c6-4fb9-985d-ef9412035832"
   },
   "outputs": [
    {
     "data": {
      "image/png": "[encoded data removed]",
      "text/plain": [
       "<Figure size 1080x720 with 1 Axes>"
      ]
     },
     "metadata": {
      "needs_background": "light"
     },
     "output_type": "display_data"
    }
   ],
   "source": [
    "plt.figure(figsize=(15,10))\n",
    "Hist = plt.hist2d(xx+Noise1,yy+Noise2, bins=[xbin, ybin], cmap='gist_gray')\n",
    "# plt.colorbar()"
   ]
  },
  {
   "cell_type": "code",
   "execution_count": 117,
   "metadata": {
    "colab": {
     "base_uri": "https://localhost:8080/",
     "height": 609
    },
    "executionInfo": {
     "elapsed": 600,
     "status": "ok",
     "timestamp": 1631638171633,
     "user": {
      "displayName": "Ming Lian",
      "photoUrl": "https://lh3.googleusercontent.com/a-/AOh14GhFnZN2A2xowTHg5pgYqhHMO_ye89Z2cXUJ-M0ywg=s64",
      "userId": "12705220457356801018"
     },
     "user_tz": 240
    },
    "id": "Hh985eWFEDub",
    "outputId": "901c6ace-ff97-4d26-a1c6-8e745a945a99"
   },
   "outputs": [
    {
     "data": {
      "text/plain": [
       "<matplotlib.collections.PathCollection at 0x7f3a9ead8ed0>"
      ]
     },
     "execution_count": 117,
     "metadata": {},
     "output_type": "execute_result"
    },
    {
     "data": {
      "image/png": "[encoded data removed]",
      "text/plain": [
       "<Figure size 1080x720 with 1 Axes>"
      ]
     },
     "metadata": {
      "needs_background": "light"
     },
     "output_type": "display_data"
    }
   ],
   "source": [
    "plt.figure(figsize=(15,10))\n",
    "plt.pcolor(Hist[1], Hist[2], np.transpose(Hist[0]), cmap='gist_gray', alpha=0.3)\n",
    "plt.scatter(xx+Noise1,yy+Noise2, s=1)"
   ]
  },
  {
   "cell_type": "code",
   "execution_count": 108,
   "metadata": {
    "colab": {
     "base_uri": "https://localhost:8080/"
    },
    "executionInfo": {
     "elapsed": 214,
     "status": "ok",
     "timestamp": 1631637986081,
     "user": {
      "displayName": "Ming Lian",
      "photoUrl": "https://lh3.googleusercontent.com/a-/AOh14GhFnZN2A2xowTHg5pgYqhHMO_ye89Z2cXUJ-M0ywg=s64",
      "userId": "12705220457356801018"
     },
     "user_tz": 240
    },
    "id": "DNWwpswvEPSm",
    "outputId": "7d76aaf9-2f88-4446-c407-0961fad425e9"
   },
   "outputs": [
    {
     "data": {
      "text/plain": [
       "(array([[ 0.,  0.,  0.,  0.,  0.,  0.,  0.,  0.,  0.,  0.,  0.,  0.,  0.,\n",
       "          0.,  0.,  0.,  0.],\n",
       "        [ 0.,  0.,  0.,  0.,  0.,  0.,  0.,  0., 11., 14.,  0.,  0.,  0.,\n",
       "          0.,  0.,  0.,  0.],\n",
       "        [ 0.,  0.,  0.,  0.,  0.,  0.,  0.,  0.,  0.,  6., 22., 22.,  0.,\n",
       "          0.,  0.,  0.,  0.],\n",
       "        [ 0.,  0.,  0.,  0.,  0.,  0.,  0.,  0.,  0.,  0.,  0.,  3., 34.,\n",
       "         13.,  0.,  0.,  0.],\n",
       "        [ 0.,  0.,  0.,  0.,  0.,  0.,  0.,  0.,  0.,  0.,  0.,  0.,  0.,\n",
       "         50.,  0.,  0.,  0.],\n",
       "        [ 0.,  0.,  0.,  0.,  0.,  0.,  0.,  0.,  0.,  0.,  0.,  0., 22.,\n",
       "         28.,  0.,  0.,  0.],\n",
       "        [ 0.,  0.,  0.,  0.,  0.,  0.,  0.,  0.,  0.,  0., 13., 25., 12.,\n",
       "          0.,  0.,  0.,  0.],\n",
       "        [ 0.,  0.,  0.,  0.,  0.,  0.,  0.,  0., 20., 21.,  9.,  0.,  0.,\n",
       "          0.,  0.,  0.,  0.],\n",
       "        [ 0.,  0.,  0.,  0.,  0.,  8., 22., 20.,  0.,  0.,  0.,  0.,  0.,\n",
       "          0.,  0.,  0.,  0.],\n",
       "        [ 0.,  0.,  0.,  0., 33., 17.,  0.,  0.,  0.,  0.,  0.,  0.,  0.,\n",
       "          0.,  0.,  0.,  0.],\n",
       "        [ 0.,  0.,  0., 48.,  2.,  0.,  0.,  0.,  0.,  0.,  0.,  0.,  0.,\n",
       "          0.,  0.,  0.,  0.],\n",
       "        [ 0.,  0.,  0., 42.,  8.,  0.,  0.,  0.,  0.,  0.,  0.,  0.,  0.,\n",
       "          0.,  0.,  0.,  0.],\n",
       "        [ 0.,  0.,  0.,  0., 26., 24.,  0.,  0.,  0.,  0.,  0.,  0.,  0.,\n",
       "          0.,  0.,  0.,  0.],\n",
       "        [ 0.,  0.,  0.,  0.,  0.,  1., 22., 21.,  6.,  0.,  0.,  0.,  0.,\n",
       "          0.,  0.,  0.,  0.],\n",
       "        [ 0.,  0.,  0.,  0.,  0.,  0.,  0.,  0., 14., 20., 16.,  0.,  0.,\n",
       "          0.,  0.,  0.,  0.],\n",
       "        [ 0.,  0.,  0.,  0.,  0.,  0.,  0.,  0.,  0.,  0.,  6., 25., 19.,\n",
       "          0.,  0.,  0.,  0.],\n",
       "        [ 0.,  0.,  0.,  0.,  0.,  0.,  0.,  0.,  0.,  0.,  0.,  0., 16.,\n",
       "         34.,  0.,  0.,  0.],\n",
       "        [ 0.,  0.,  0.,  0.,  0.,  0.,  0.,  0.,  0.,  0.,  0.,  0.,  0.,\n",
       "         50.,  0.,  0.,  0.],\n",
       "        [ 0.,  0.,  0.,  0.,  0.,  0.,  0.,  0.,  0.,  0.,  0., 10., 34.,\n",
       "          6.,  0.,  0.,  0.],\n",
       "        [ 0.,  0.,  0.,  0.,  0.,  0.,  0.,  0.,  0., 12., 22., 16.,  0.,\n",
       "          0.,  0.,  0.,  0.],\n",
       "        [ 0.,  0.,  0.,  0.,  0.,  0.,  2., 20., 20.,  8.,  0.,  0.,  0.,\n",
       "          0.,  0.,  0.,  0.],\n",
       "        [ 0.,  0.,  0.,  0.,  0.,  5., 20.,  0.,  0.,  0.,  0.,  0.,  0.,\n",
       "          0.,  0.,  0.,  0.]]),\n",
       " array([-0.75, -0.25,  0.25,  0.75,  1.25,  1.75,  2.25,  2.75,  3.25,\n",
       "         3.75,  4.25,  4.75,  5.25,  5.75,  6.25,  6.75,  7.25,  7.75,\n",
       "         8.25,  8.75,  9.25,  9.75, 10.25]),\n",
       " array([-1.7, -1.5, -1.3, -1.1, -0.9, -0.7, -0.5, -0.3, -0.1,  0.1,  0.3,\n",
       "         0.5,  0.7,  0.9,  1.1,  1.3,  1.5,  1.7]),\n",
       " <matplotlib.collections.QuadMesh at 0x7f3a92db2810>)"
      ]
     },
     "execution_count": 108,
     "metadata": {},
     "output_type": "execute_result"
    }
   ],
   "source": [
    "Hist"
   ]
  },
  {
   "cell_type": "code",
   "execution_count": null,
   "metadata": {
    "id": "maQBiNAEEkzm"
   },
   "outputs": [],
   "source": []
  }
 ],
 "metadata": {
  "colab": {
   "authorship_tag": "ABX9TyPGlFMjee40SvWOEaYHjOqo",
   "collapsed_sections": [],
   "mount_file_id": "10i9xL0kIReFkER7bfFQh8y12RbLkl1kf",
   "name": "ProbabilityCube.ipynb",
   "provenance": []
  },
  "kernelspec": {
   "display_name": "Python 3",
   "language": "python",
   "name": "python3"
  },
  "language_info": {
   "codemirror_mode": {
    "name": "ipython",
    "version": 3
   },
   "file_extension": ".py",
   "mimetype": "text/x-python",
   "name": "python",
   "nbconvert_exporter": "python",
   "pygments_lexer": "ipython3",
   "version": "3.8.8"
  }
 },
 "nbformat": 4,
 "nbformat_minor": 4
}
