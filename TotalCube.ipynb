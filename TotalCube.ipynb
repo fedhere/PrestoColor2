{
 "cells": [
  {
   "cell_type": "code",
   "execution_count": 1,
   "metadata": {},
   "outputs": [],
   "source": [
    "%load_ext autoreload"
   ]
  },
  {
   "cell_type": "code",
   "execution_count": 2,
   "metadata": {},
   "outputs": [],
   "source": [
    "%autoreload 2"
   ]
  },
  {
   "cell_type": "code",
   "execution_count": 3,
   "metadata": {
    "executionInfo": {
     "elapsed": 218,
     "status": "ok",
     "timestamp": 1631647781845,
     "user": {
      "displayName": "Ming Lian",
      "photoUrl": "https://lh3.googleusercontent.com/a-/AOh14GhFnZN2A2xowTHg5pgYqhHMO_ye89Z2cXUJ-M0ywg=s64",
      "userId": "12705220457356801018"
     },
     "user_tz": 240
    },
    "id": "BHpGWIT00gQo"
   },
   "outputs": [],
   "source": [
    "import numpy as np\n",
    "import Functions\n",
    "import pickle\n",
    "import os\n",
    "from matplotlib.colors import LogNorm\n",
    "import time\n",
    "import Functions\n",
    "\n",
    "import matplotlib.pyplot as plt"
   ]
  },
  {
   "cell_type": "code",
   "execution_count": 4,
   "metadata": {},
   "outputs": [],
   "source": [
    "EventNames = ['AGN', 'CART', 'EB', 'ILOT', 'KN_B19', 'KN_K17', 'MIRA', 'Mdwarf',\n",
    "              'PISN', 'RRL', 'SLSN-I', 'SNII-NMF', 'SNII-Templates', 'SNIIn',\n",
    "              'SNIa-91bg', 'SNIa-SALT2', 'SNIax', 'SNIbc-MOSFIT',\n",
    "              'SNIbc-Templates', 'TDE', 'V19_CC+HostXT', 'uLens-Binary',\n",
    "              'uLens-Single-GenLens', 'uLens-Single_PyLIMA']\n",
    "\n",
    "RateDict = {key:1 for key in EventNames}\n",
    "RateDict['KN_B19'] = 0\n",
    "RateDict['KN_K17'] = 0\n",
    "RateDict['V19_CC+HostXT'] = 0"
   ]
  },
  {
   "cell_type": "code",
   "execution_count": 5,
   "metadata": {},
   "outputs": [],
   "source": [
    "PathCubeFolder = '/global/cscratch1/sd/lianming/Results'\n",
    "CubeFileNames = os.listdir(PathCubeFolder)"
   ]
  },
  {
   "cell_type": "code",
   "execution_count": 6,
   "metadata": {},
   "outputs": [
    {
     "data": {
      "text/plain": [
       "['.ipynb_checkpoints',\n",
       " 'ProbabilityCube_Nov 1_2008__Mdwarf.pkl',\n",
       " 'ProbabilityCube_Nov 2_0414__V19_CC+HostXT.pkl',\n",
       " 'ProbabilityCube_Nov 2_0441__uLens-Single-GenLens.pkl',\n",
       " 'ProbabilityCube_Nov 1_1538__AGN.pkl',\n",
       " 'ProbabilityCube_Nov 2_0305__SNIax.pkl',\n",
       " 'ProbabilityCube_Nov 2_0058__SNIIn.pkl',\n",
       " 'ProbabilityCube_Nov 2_0259__SNIbc-MOSFIT.pkl',\n",
       " 'ProbabilityCube_Nov 2_0054__SNII-Templates.pkl',\n",
       " 'ProbabilityCube_Nov 1_1530__CART.pkl',\n",
       " 'ProbabilityCube_Nov 2_0331__SNIbc-Templates.pkl',\n",
       " 'ProbabilityCube_Nov 1_1823__ILOT.pkl',\n",
       " 'ProbabilityCube_Nov 2_0020__SNII-NMF.pkl',\n",
       " 'ProbabilityCube_Nov 2_0430__uLens-Binary.pkl',\n",
       " 'ProbabilityCube_Nov 2_0340__TDE.pkl',\n",
       " 'ProbabilityCube_Nov 1_2303__RRL.pkl',\n",
       " 'ProbabilityCube_Nov 2_0251__SNIa-SALT2.pkl',\n",
       " 'ProbabilityCube_Nov 1_1818__EB.pkl',\n",
       " 'ProbabilityCube_Nov 1_2334__SLSN-I.pkl',\n",
       " 'ProbabilityCube_Nov 2_0121__SNIa-91bg.pkl',\n",
       " 'ProbabilityCube_Nov 1_2204__PISN.pkl',\n",
       " 'ProbabilityCube_Nov 2_0447__uLens-Single_PyLIMA.pkl',\n",
       " 'ProbabilityCube_Nov 1_1924__MIRA.pkl']"
      ]
     },
     "execution_count": 6,
     "metadata": {},
     "output_type": "execute_result"
    }
   ],
   "source": [
    "CubeFileNames"
   ]
  },
  {
   "cell_type": "code",
   "execution_count": 7,
   "metadata": {},
   "outputs": [
    {
     "data": {
      "text/plain": [
       "['ProbabilityCube_Nov 1_2008__Mdwarf.pkl',\n",
       " 'ProbabilityCube_Nov 2_0414__V19_CC+HostXT.pkl',\n",
       " 'ProbabilityCube_Nov 2_0441__uLens-Single-GenLens.pkl',\n",
       " 'ProbabilityCube_Nov 1_1538__AGN.pkl',\n",
       " 'ProbabilityCube_Nov 2_0305__SNIax.pkl',\n",
       " 'ProbabilityCube_Nov 2_0058__SNIIn.pkl',\n",
       " 'ProbabilityCube_Nov 2_0259__SNIbc-MOSFIT.pkl',\n",
       " 'ProbabilityCube_Nov 2_0054__SNII-Templates.pkl',\n",
       " 'ProbabilityCube_Nov 1_1530__CART.pkl',\n",
       " 'ProbabilityCube_Nov 2_0331__SNIbc-Templates.pkl',\n",
       " 'ProbabilityCube_Nov 1_1823__ILOT.pkl',\n",
       " 'ProbabilityCube_Nov 2_0020__SNII-NMF.pkl',\n",
       " 'ProbabilityCube_Nov 2_0430__uLens-Binary.pkl',\n",
       " 'ProbabilityCube_Nov 2_0340__TDE.pkl',\n",
       " 'ProbabilityCube_Nov 1_2303__RRL.pkl',\n",
       " 'ProbabilityCube_Nov 2_0251__SNIa-SALT2.pkl',\n",
       " 'ProbabilityCube_Nov 1_1818__EB.pkl',\n",
       " 'ProbabilityCube_Nov 1_2334__SLSN-I.pkl',\n",
       " 'ProbabilityCube_Nov 2_0121__SNIa-91bg.pkl',\n",
       " 'ProbabilityCube_Nov 1_2204__PISN.pkl',\n",
       " 'ProbabilityCube_Nov 2_0447__uLens-Single_PyLIMA.pkl',\n",
       " 'ProbabilityCube_Nov 1_1924__MIRA.pkl']"
      ]
     },
     "execution_count": 7,
     "metadata": {},
     "output_type": "execute_result"
    }
   ],
   "source": [
    "CubeFileNames = CubeFileNames[1:]\n",
    "CubeFileNames"
   ]
  },
  {
   "cell_type": "code",
   "execution_count": null,
   "metadata": {},
   "outputs": [],
   "source": []
  },
  {
   "cell_type": "code",
   "execution_count": 8,
   "metadata": {},
   "outputs": [
    {
     "name": "stdout",
     "output_type": "stream",
     "text": [
      "|||||||||||||||||||||"
     ]
    }
   ],
   "source": [
    "CubeFileName = CubeFileNames[0]\n",
    "EventName = CubeFileName[ CubeFileName.rfind('__')+2 : CubeFileName.rfind('.') ]\n",
    "CubeFilePath = os.path.join(PathCubeFolder, CubeFileName)\n",
    "\n",
    "with open(CubeFilePath, 'rb') as f:\n",
    "    _ = pickle.load(f)\n",
    "    InfoDict = pickle.load(f)\n",
    "    HashTable = pickle.load(f)\n",
    "\n",
    "TotalCube = HashTable * RateDict[EventName]\n",
    "\n",
    "for CubeFileName in CubeFileNames[1:]:\n",
    "    \n",
    "    print('|', end='')\n",
    "\n",
    "    EventName = CubeFileName[ CubeFileName.rfind('__')+2 : CubeFileName.rfind('.') ]\n",
    "    CubeFilePath = os.path.join(PathCubeFolder, CubeFileName)\n",
    "\n",
    "    with open(CubeFilePath, 'rb') as f:\n",
    "        _ = pickle.load(f)\n",
    "        _ = pickle.load(f)\n",
    "        HashTable = pickle.load(f)\n",
    "\n",
    "    TotalCube = TotalCube + HashTable * RateDict[EventName]\n",
    "\n",
    "if TotalCube.min() < 0:\n",
    "    print('Data overflow, please check!')\n"
   ]
  },
  {
   "cell_type": "code",
   "execution_count": 9,
   "metadata": {},
   "outputs": [
    {
     "name": "stderr",
     "output_type": "stream",
     "text": [
      "<ipython-input-9-639eb30487e3>:1: RuntimeWarning: invalid value encountered in true_divide\n",
      "  TotalCubeNorm = TotalCube / TotalCube.max(-1, keepdims=True).max(-2, keepdims=True)\n"
     ]
    }
   ],
   "source": [
    "TotalCubeNorm = TotalCube / TotalCube.max(-1, keepdims=True).max(-2, keepdims=True)\n",
    "np.nan_to_num(TotalCubeNorm, copy=False);"
   ]
  },
  {
   "cell_type": "code",
   "execution_count": 235,
   "metadata": {},
   "outputs": [],
   "source": [
    "def PlotCubeSlice(DataCube, InfoDict, Band1, Band2, dT1, dT2):\n",
    "\n",
    "    fig, ax = plt.subplots(1, 1, figsize=(7, 5))\n",
    "\n",
    "    Map = Enquiry(DataCube, InfoDict, Band1, Band2, dT1, dT2) * 10000000\n",
    "\n",
    "    plt.pcolor(InfoDict['BinMag'], InfoDict['BinColor'], np.transpose(Map)+1, \n",
    "               norm=LogNorm(1, vmax=Map.max()+1), cmap='gist_gray')\n",
    "    # plt.title('Filters: {}, {}  Time Gaps: {}, {}'.format(Band1, Band2, dT1, dT2))\n",
    "    # plt.colorbar()\n",
    "    \n",
    "    plt.xlim([-1.5, 2])\n",
    "    plt.ylim([-5, 8])"
   ]
  },
  {
   "cell_type": "code",
   "execution_count": 239,
   "metadata": {},
   "outputs": [
    {
     "data": {
      "text/plain": [
       "<matplotlib.collections.PathCollection at 0x2aaaf38972e0>"
      ]
     },
     "execution_count": 239,
     "metadata": {},
     "output_type": "execute_result"
    },
    {
     "data": {
      "image/png": "[encoded data removed]",
      "text/plain": [
       "<Figure size 504x360 with 1 Axes>"
      ]
     },
     "metadata": {
      "needs_background": "light"
     },
     "output_type": "display_data"
    }
   ],
   "source": [
    "PlotCubeSlice(TotalCubeNorm, InfoDict, 'g', 'i', 60, 60)\n",
    "plt.scatter(data6060[0], data6060[1], c='salmon', s=10, alpha=0.2)"
   ]
  },
  {
   "cell_type": "code",
   "execution_count": 240,
   "metadata": {},
   "outputs": [
    {
     "data": {
      "text/plain": [
       "<matplotlib.collections.PathCollection at 0x2aaaf3a1fac0>"
      ]
     },
     "execution_count": 240,
     "metadata": {},
     "output_type": "execute_result"
    },
    {
     "data": {
      "image/png": "[encoded data removed]",
      "text/plain": [
       "<Figure size 504x360 with 1 Axes>"
      ]
     },
     "metadata": {
      "needs_background": "light"
     },
     "output_type": "display_data"
    }
   ],
   "source": [
    "PlotCubeSlice(TotalCubeNorm, InfoDict, 'g', 'i', 450, 60)\n",
    "plt.scatter(data45060[0], data45060[1], c='salmon', s=10, alpha=0.2)"
   ]
  },
  {
   "cell_type": "code",
   "execution_count": 241,
   "metadata": {},
   "outputs": [
    {
     "data": {
      "text/plain": [
       "<matplotlib.collections.PathCollection at 0x2aaaf3bb3250>"
      ]
     },
     "execution_count": 241,
     "metadata": {},
     "output_type": "execute_result"
    },
    {
     "data": {
      "image/png": "[encoded data removed]",
      "text/plain": [
       "<Figure size 504x360 with 1 Axes>"
      ]
     },
     "metadata": {
      "needs_background": "light"
     },
     "output_type": "display_data"
    }
   ],
   "source": [
    "PlotCubeSlice(TotalCubeNorm, InfoDict, 'g', 'i', 60, 450)\n",
    "plt.scatter(data60450[0], data60450[1], c='salmon', s=10, alpha=0.2)"
   ]
  },
  {
   "cell_type": "code",
   "execution_count": null,
   "metadata": {},
   "outputs": [],
   "source": []
  },
  {
   "cell_type": "code",
   "execution_count": 215,
   "metadata": {},
   "outputs": [
    {
     "data": {
      "text/plain": [
       "<matplotlib.collections.PathCollection at 0x2aaaf25aee50>"
      ]
     },
     "execution_count": 215,
     "metadata": {},
     "output_type": "execute_result"
    },
    {
     "data": {
      "image/png": "[encoded data removed]",
      "text/plain": [
       "<Figure size 576x360 with 2 Axes>"
      ]
     },
     "metadata": {
      "needs_background": "light"
     },
     "output_type": "display_data"
    }
   ],
   "source": [
    "PlotCubeSlice(TotalCubeNorm, InfoDict, 'g', 'i', 60, 300)\n",
    "plt.scatter(data60300[0], data60300[1], c='salmon', s=10, alpha=0.2)"
   ]
  },
  {
   "cell_type": "code",
   "execution_count": 37,
   "metadata": {},
   "outputs": [
    {
     "data": {
      "text/plain": [
       "array(0.63998714)"
      ]
     },
     "execution_count": 37,
     "metadata": {},
     "output_type": "execute_result"
    }
   ],
   "source": [
    "Enquiry(TotalCubeNorm, InfoDict, 'g', 'i', 60, 450, 0, 0)"
   ]
  },
  {
   "cell_type": "code",
   "execution_count": 38,
   "metadata": {},
   "outputs": [
    {
     "data": {
      "text/plain": [
       "array(0.00219402)"
      ]
     },
     "execution_count": 38,
     "metadata": {},
     "output_type": "execute_result"
    }
   ],
   "source": [
    "Enquiry(TotalCubeNorm, InfoDict, 'g', 'i', 60, 450, -0.2, 0)"
   ]
  },
  {
   "cell_type": "code",
   "execution_count": null,
   "metadata": {},
   "outputs": [],
   "source": []
  },
  {
   "cell_type": "code",
   "execution_count": null,
   "metadata": {},
   "outputs": [],
   "source": []
  },
  {
   "cell_type": "code",
   "execution_count": 265,
   "metadata": {},
   "outputs": [
    {
     "data": {
      "text/plain": [
       "0.39020771513353114"
      ]
     },
     "execution_count": 265,
     "metadata": {},
     "output_type": "execute_result"
    }
   ],
   "source": [
    "Score1(Interp_load, TimeRange_load, TotalCubeNorm, InfoDict, 'g', 'i', 60, 60, 0.003)"
   ]
  },
  {
   "cell_type": "code",
   "execution_count": 266,
   "metadata": {},
   "outputs": [
    {
     "data": {
      "text/plain": [
       "0.40257879656160456"
      ]
     },
     "execution_count": 266,
     "metadata": {},
     "output_type": "execute_result"
    }
   ],
   "source": [
    "Score1(Interp_load, TimeRange_load, TotalCubeNorm, InfoDict, 'g', 'i', 450, 60, 0.003)"
   ]
  },
  {
   "cell_type": "code",
   "execution_count": 267,
   "metadata": {},
   "outputs": [
    {
     "data": {
      "text/plain": [
       "0.8884826325411335"
      ]
     },
     "execution_count": 267,
     "metadata": {},
     "output_type": "execute_result"
    }
   ],
   "source": [
    "Score1(Interp_load, TimeRange_load, TotalCubeNorm, InfoDict, 'g', 'i', 60, 450, 0.003)"
   ]
  },
  {
   "cell_type": "code",
   "execution_count": 268,
   "metadata": {},
   "outputs": [
    {
     "data": {
      "text/plain": [
       "0.880672268907563"
      ]
     },
     "execution_count": 268,
     "metadata": {},
     "output_type": "execute_result"
    }
   ],
   "source": [
    "Score1(Interp_load, TimeRange_load, TotalCubeNorm, InfoDict, 'g', 'i', 60, 300, 0.003)"
   ]
  },
  {
   "cell_type": "code",
   "execution_count": null,
   "metadata": {},
   "outputs": [],
   "source": []
  },
  {
   "cell_type": "code",
   "execution_count": null,
   "metadata": {},
   "outputs": [],
   "source": []
  },
  {
   "cell_type": "code",
   "execution_count": 269,
   "metadata": {},
   "outputs": [
    {
     "data": {
      "text/plain": [
       "0.5444354097713042"
      ]
     },
     "execution_count": 269,
     "metadata": {},
     "output_type": "execute_result"
    }
   ],
   "source": [
    "Score2(Interp_load, TimeRange_load, TotalCubeNorm, InfoDict, 'g', 'i', 60, 60)"
   ]
  },
  {
   "cell_type": "code",
   "execution_count": 270,
   "metadata": {},
   "outputs": [
    {
     "data": {
      "text/plain": [
       "0.5462622123407903"
      ]
     },
     "execution_count": 270,
     "metadata": {},
     "output_type": "execute_result"
    }
   ],
   "source": [
    "Score2(Interp_load, TimeRange_load, TotalCubeNorm, InfoDict, 'g', 'i', 450, 60)"
   ]
  },
  {
   "cell_type": "code",
   "execution_count": 271,
   "metadata": {},
   "outputs": [
    {
     "data": {
      "text/plain": [
       "0.933966556690755"
      ]
     },
     "execution_count": 271,
     "metadata": {},
     "output_type": "execute_result"
    }
   ],
   "source": [
    "Score2(Interp_load, TimeRange_load, TotalCubeNorm, InfoDict, 'g', 'i', 60, 450)"
   ]
  },
  {
   "cell_type": "code",
   "execution_count": 272,
   "metadata": {},
   "outputs": [
    {
     "data": {
      "text/plain": [
       "0.9087458467124531"
      ]
     },
     "execution_count": 272,
     "metadata": {},
     "output_type": "execute_result"
    }
   ],
   "source": [
    "Score2(Interp_load, TimeRange_load, TotalCubeNorm, InfoDict, 'g', 'i', 60, 300)"
   ]
  },
  {
   "cell_type": "code",
   "execution_count": null,
   "metadata": {},
   "outputs": [],
   "source": []
  },
  {
   "cell_type": "code",
   "execution_count": null,
   "metadata": {},
   "outputs": [],
   "source": []
  },
  {
   "cell_type": "code",
   "execution_count": null,
   "metadata": {},
   "outputs": [],
   "source": []
  },
  {
   "cell_type": "code",
   "execution_count": null,
   "metadata": {},
   "outputs": [],
   "source": []
  },
  {
   "cell_type": "code",
   "execution_count": null,
   "metadata": {},
   "outputs": [],
   "source": []
  },
  {
   "cell_type": "code",
   "execution_count": 16,
   "metadata": {},
   "outputs": [],
   "source": [
    "FilePath = '/global/homes/l/lianming/Presto-Color-2/data/P1Day_Interp/KN_B19_Interp.pkl'"
   ]
  },
  {
   "cell_type": "code",
   "execution_count": 17,
   "metadata": {},
   "outputs": [],
   "source": [
    "with open(FilePath, 'rb') as f:\n",
    "        Interp_load = pickle.load(f)\n",
    "        TimeRange_load = pickle.load(f)  "
   ]
  },
  {
   "cell_type": "code",
   "execution_count": 158,
   "metadata": {},
   "outputs": [],
   "source": [
    "data6060 = Functions.CalculateMap(Interp_load, TimeRange_load, 'g', 'i', 60, 60, PointsPDay=12, ObjNo=100, SeedObj=113)"
   ]
  },
  {
   "cell_type": "code",
   "execution_count": 159,
   "metadata": {},
   "outputs": [],
   "source": [
    "data45060 = Functions.CalculateMap(Interp_load, TimeRange_load, 'g', 'i', 450, 60, PointsPDay=12, ObjNo=100, SeedObj=113)"
   ]
  },
  {
   "cell_type": "code",
   "execution_count": 160,
   "metadata": {},
   "outputs": [],
   "source": [
    "data60450 = Functions.CalculateMap(Interp_load, TimeRange_load, 'g', 'i', 60, 450, PointsPDay=12, ObjNo=100, SeedObj=113)"
   ]
  },
  {
   "cell_type": "code",
   "execution_count": 214,
   "metadata": {},
   "outputs": [],
   "source": [
    "data60300 = Functions.CalculateMap(Interp_load, TimeRange_load, 'g', 'i', 60, 300, PointsPDay=12, ObjNo=100, SeedObj=113)"
   ]
  },
  {
   "cell_type": "code",
   "execution_count": 161,
   "metadata": {},
   "outputs": [
    {
     "data": {
      "text/plain": [
       "(2, 674)"
      ]
     },
     "execution_count": 161,
     "metadata": {},
     "output_type": "execute_result"
    }
   ],
   "source": [
    "data6060.shape"
   ]
  },
  {
   "cell_type": "code",
   "execution_count": 162,
   "metadata": {},
   "outputs": [
    {
     "data": {
      "text/plain": [
       "(2, 698)"
      ]
     },
     "execution_count": 162,
     "metadata": {},
     "output_type": "execute_result"
    }
   ],
   "source": [
    "data45060.shape"
   ]
  },
  {
   "cell_type": "code",
   "execution_count": 163,
   "metadata": {},
   "outputs": [
    {
     "data": {
      "text/plain": [
       "(2, 547)"
      ]
     },
     "execution_count": 163,
     "metadata": {},
     "output_type": "execute_result"
    }
   ],
   "source": [
    "data60450.shape"
   ]
  },
  {
   "cell_type": "code",
   "execution_count": null,
   "metadata": {},
   "outputs": [],
   "source": []
  },
  {
   "cell_type": "code",
   "execution_count": null,
   "metadata": {},
   "outputs": [],
   "source": []
  },
  {
   "cell_type": "code",
   "execution_count": 63,
   "metadata": {},
   "outputs": [
    {
     "name": "stdout",
     "output_type": "stream",
     "text": [
      "59\n"
     ]
    }
   ],
   "source": [
    "Data = np.transpose(data7530)\n",
    "\n",
    "Band1 = 'g'\n",
    "Band2 = 'i'\n",
    "dT1 = 75\n",
    "dT2 = 30\n",
    "\n",
    "thr = 0.003\n",
    "\n",
    "P = 0\n",
    "\n",
    "for ii in Data:\n",
    "    \n",
    "    if Enquiry(TotalCubeNorm, InfoDict, Band1, Band2, dT1, dT2, ii[0], ii[1]) < thr:\n",
    "        P += 1\n",
    "        \n",
    "print(P)"
   ]
  },
  {
   "cell_type": "code",
   "execution_count": 64,
   "metadata": {},
   "outputs": [
    {
     "name": "stdout",
     "output_type": "stream",
     "text": [
      "487\n"
     ]
    }
   ],
   "source": [
    "Data = np.transpose(data60120)\n",
    "\n",
    "Band1 = 'g'\n",
    "Band2 = 'i'\n",
    "dT1 = 60\n",
    "dT2 = 120\n",
    "\n",
    "thr = 0.003\n",
    "\n",
    "P = 0\n",
    "\n",
    "for ii in Data:\n",
    "    \n",
    "    if Enquiry(TotalCubeNorm, InfoDict, Band1, Band2, dT1, dT2, ii[0], ii[1]) < thr:\n",
    "        P += 1\n",
    "        \n",
    "print(P)"
   ]
  },
  {
   "cell_type": "code",
   "execution_count": 65,
   "metadata": {},
   "outputs": [
    {
     "name": "stdout",
     "output_type": "stream",
     "text": [
      "486\n"
     ]
    }
   ],
   "source": [
    "Data = np.transpose(data60450)\n",
    "\n",
    "Band1 = 'g'\n",
    "Band2 = 'i'\n",
    "dT1 = 60\n",
    "dT2 = 450\n",
    "\n",
    "thr = 0.003\n",
    "\n",
    "P = 0\n",
    "\n",
    "for ii in Data:\n",
    "    \n",
    "    if Enquiry(TotalCubeNorm, InfoDict, Band1, Band2, dT1, dT2, ii[0], ii[1]) < thr:\n",
    "        P += 1\n",
    "        \n",
    "print(P)"
   ]
  },
  {
   "cell_type": "code",
   "execution_count": null,
   "metadata": {},
   "outputs": [],
   "source": []
  },
  {
   "cell_type": "code",
   "execution_count": null,
   "metadata": {},
   "outputs": [],
   "source": []
  },
  {
   "cell_type": "code",
   "execution_count": null,
   "metadata": {},
   "outputs": [],
   "source": []
  },
  {
   "cell_type": "code",
   "execution_count": null,
   "metadata": {},
   "outputs": [],
   "source": []
  },
  {
   "cell_type": "code",
   "execution_count": null,
   "metadata": {},
   "outputs": [],
   "source": []
  },
  {
   "cell_type": "code",
   "execution_count": null,
   "metadata": {},
   "outputs": [],
   "source": []
  },
  {
   "cell_type": "code",
   "execution_count": null,
   "metadata": {},
   "outputs": [],
   "source": []
  },
  {
   "cell_type": "code",
   "execution_count": 100,
   "metadata": {},
   "outputs": [
    {
     "name": "stdout",
     "output_type": "stream",
     "text": [
      "456.6705380410647\n"
     ]
    }
   ],
   "source": [
    "Data = np.transpose(data7530)\n",
    "\n",
    "Band1 = 'g'\n",
    "Band2 = 'i'\n",
    "dT1 = 75\n",
    "dT2 = 30\n",
    "P = 0\n",
    "\n",
    "for ii in Data:\n",
    "    \n",
    "    P += Enquiry(TotalCubeNorm, InfoDict, Band1, Band2, dT1, dT2, ii[0], ii[1]) \n",
    "        \n",
    "print(P)"
   ]
  },
  {
   "cell_type": "code",
   "execution_count": 67,
   "metadata": {},
   "outputs": [
    {
     "name": "stdout",
     "output_type": "stream",
     "text": [
      "132.43803673072273\n"
     ]
    }
   ],
   "source": [
    "Data = np.transpose(data60120)\n",
    "\n",
    "Band1 = 'g'\n",
    "Band2 = 'i'\n",
    "dT1 = 60\n",
    "dT2 = 120\n",
    "\n",
    "thr = 0.003\n",
    "\n",
    "P = 0\n",
    "\n",
    "for ii in Data:\n",
    "    \n",
    "    P += Enquiry(TotalCubeNorm, InfoDict, Band1, Band2, dT1, dT2, ii[0], ii[1]) \n",
    "        \n",
    "print(P)"
   ]
  },
  {
   "cell_type": "code",
   "execution_count": 68,
   "metadata": {},
   "outputs": [
    {
     "name": "stdout",
     "output_type": "stream",
     "text": [
      "36.120293490157124\n"
     ]
    }
   ],
   "source": [
    "Data = np.transpose(data60450)\n",
    "\n",
    "Band1 = 'g'\n",
    "Band2 = 'i'\n",
    "dT1 = 60\n",
    "dT2 = 450\n",
    "\n",
    "thr = 0.003\n",
    "\n",
    "P = 0\n",
    "\n",
    "for ii in Data:\n",
    "    \n",
    "    P += Enquiry(TotalCubeNorm, InfoDict, Band1, Band2, dT1, dT2, ii[0], ii[1]) \n",
    "        \n",
    "print(P)"
   ]
  },
  {
   "cell_type": "code",
   "execution_count": null,
   "metadata": {},
   "outputs": [],
   "source": []
  },
  {
   "cell_type": "code",
   "execution_count": null,
   "metadata": {},
   "outputs": [],
   "source": []
  },
  {
   "cell_type": "code",
   "execution_count": null,
   "metadata": {},
   "outputs": [],
   "source": []
  },
  {
   "cell_type": "code",
   "execution_count": null,
   "metadata": {},
   "outputs": [],
   "source": []
  },
  {
   "cell_type": "code",
   "execution_count": null,
   "metadata": {},
   "outputs": [],
   "source": []
  },
  {
   "cell_type": "code",
   "execution_count": 75,
   "metadata": {},
   "outputs": [],
   "source": [
    "aa = np.arange(2,13,2)\n",
    "aa = aa.reshape(2,3)\n",
    "bb = np.arange(6)\n",
    "bb = bb.reshape(2,3)"
   ]
  },
  {
   "cell_type": "code",
   "execution_count": 76,
   "metadata": {},
   "outputs": [
    {
     "data": {
      "text/plain": [
       "array([[ 2,  4,  6],\n",
       "       [ 8, 10, 12]])"
      ]
     },
     "execution_count": 76,
     "metadata": {},
     "output_type": "execute_result"
    }
   ],
   "source": [
    "aa"
   ]
  },
  {
   "cell_type": "code",
   "execution_count": 77,
   "metadata": {},
   "outputs": [
    {
     "data": {
      "text/plain": [
       "array([[0, 1, 2],\n",
       "       [3, 4, 5]])"
      ]
     },
     "execution_count": 77,
     "metadata": {},
     "output_type": "execute_result"
    }
   ],
   "source": [
    "bb"
   ]
  },
  {
   "cell_type": "code",
   "execution_count": 78,
   "metadata": {},
   "outputs": [
    {
     "data": {
      "text/plain": [
       "array([[ 2,  5,  8],\n",
       "       [11, 14, 17]])"
      ]
     },
     "execution_count": 78,
     "metadata": {},
     "output_type": "execute_result"
    }
   ],
   "source": [
    "aa+bb"
   ]
  },
  {
   "cell_type": "code",
   "execution_count": 79,
   "metadata": {},
   "outputs": [
    {
     "data": {
      "text/plain": [
       "array([[ 0,  4, 12],\n",
       "       [24, 40, 60]])"
      ]
     },
     "execution_count": 79,
     "metadata": {},
     "output_type": "execute_result"
    }
   ],
   "source": [
    "aa*bb"
   ]
  },
  {
   "cell_type": "code",
   "execution_count": null,
   "metadata": {},
   "outputs": [],
   "source": []
  },
  {
   "cell_type": "code",
   "execution_count": null,
   "metadata": {},
   "outputs": [],
   "source": []
  },
  {
   "cell_type": "code",
   "execution_count": 242,
   "metadata": {},
   "outputs": [],
   "source": [
    "def Score1(FTInterp, FTTimeRange, CubeData, InfoDict, Band1, Band2, dT1, dT2, thr):\n",
    "    \n",
    "    FTData = Functions.CalculateMap(FTInterp, FTTimeRange, Band1, Band2, dT1, dT2, PointsPDay=12, ObjNo=100, SeedObj=113)    \n",
    "    FTHist,_,_ = np.histogram2d(FTData[0], FTData[1], bins=[InfoDict['BinMag'], InfoDict['BinColor']])\n",
    "    \n",
    "    Map = Enquiry(CubeData, InfoDict, Band1, Band2, dT1, dT2)\n",
    "    \n",
    "    Mask = Map < thr\n",
    "    \n",
    "    Score = np.sum(FTHist[Mask]) / np.sum(FTHist)\n",
    "    \n",
    "    return Score"
   ]
  },
  {
   "cell_type": "code",
   "execution_count": 243,
   "metadata": {},
   "outputs": [],
   "source": [
    "def Score2(FTInterp, FTTimeRange, CubeData, InfoDict, Band1, Band2, dT1, dT2):\n",
    "    \n",
    "    FTData = Functions.CalculateMap(FTInterp, FTTimeRange, Band1, Band2, dT1, dT2, PointsPDay=12, ObjNo=100, SeedObj=113)    \n",
    "    FTHist,_,_ = np.histogram2d(FTData[0], FTData[1], bins=[InfoDict['BinMag'], InfoDict['BinColor']])\n",
    "    \n",
    "    Map = Enquiry(CubeData, InfoDict, Band1, Band2, dT1, dT2)\n",
    "    \n",
    "    Mask = Map < thr\n",
    "    \n",
    "    Score = 1 - np.sum( Map*FTHist ) / np.sum(FTHist)\n",
    "    \n",
    "    return Score"
   ]
  },
  {
   "cell_type": "code",
   "execution_count": 81,
   "metadata": {},
   "outputs": [
    {
     "data": {
      "text/plain": [
       "42"
      ]
     },
     "execution_count": 81,
     "metadata": {},
     "output_type": "execute_result"
    }
   ],
   "source": [
    "np.sum(aa)"
   ]
  },
  {
   "cell_type": "code",
   "execution_count": null,
   "metadata": {},
   "outputs": [
    {
     "data": {
      "text/plain": [
       "5"
      ]
     },
     "execution_count": 124,
     "metadata": {},
     "output_type": "execute_result"
    }
   ],
   "source": [
    "int(5.5)"
   ]
  },
  {
   "cell_type": "code",
   "execution_count": 244,
   "metadata": {},
   "outputs": [],
   "source": [
    "def ScoreMap2(FTInterp, FTTimeRange, CubeData, InfoDict, Band1, Band2):\n",
    "    \n",
    "    xx = ( InfoDict['dT2s'][:-1] + InfoDict['dT2s'][1:] )/2                      \n",
    "    yy = ( InfoDict['dT1s'][:-1] + InfoDict['dT1s'][1:] )/2 \n",
    "    \n",
    "    Scores = np.zeros( [len(yy), len(xx)] )\n",
    "    \n",
    "    for ii, dT1 in enumerate(yy):\n",
    "        for jj, dT2 in enumerate(xx):\n",
    "            \n",
    "            Scores[ii, jj] = Score2(FTInterp, FTTimeRange, CubeData, InfoDict, Band1, Band2, dT1, dT2)\n",
    "            \n",
    "    plt.pcolor(InfoDict['dT2s'], InfoDict['dT1s'], Scores)\n",
    "    plt.xlabel('dT2')\n",
    "    plt.ylabel('dT1')\n",
    "    plt.colorbar()\n",
    "    \n",
    "    return Scores"
   ]
  },
  {
   "cell_type": "code",
   "execution_count": 245,
   "metadata": {},
   "outputs": [
    {
     "data": {
      "image/png": "[encoded data removed]",
      "text/plain": [
       "<Figure size 432x288 with 2 Axes>"
      ]
     },
     "metadata": {
      "needs_background": "light"
     },
     "output_type": "display_data"
    }
   ],
   "source": [
    "Scores2 = ScoreMap2(Interp_load, TimeRange_load, TotalCubeNorm, InfoDict, 'g', 'i')"
   ]
  },
  {
   "cell_type": "code",
   "execution_count": null,
   "metadata": {},
   "outputs": [],
   "source": []
  },
  {
   "cell_type": "code",
   "execution_count": 248,
   "metadata": {},
   "outputs": [],
   "source": [
    "def ScoreMap1(FTInterp, FTTimeRange, CubeData, InfoDict, Band1, Band2, thr):\n",
    "    \n",
    "    xx = ( InfoDict['dT2s'][:-1] + InfoDict['dT2s'][1:] )/2                      \n",
    "    yy = ( InfoDict['dT1s'][:-1] + InfoDict['dT1s'][1:] )/2 \n",
    "    \n",
    "    Scores = np.zeros( [len(yy), len(xx)] )\n",
    "    \n",
    "    for ii, dT1 in enumerate(yy):\n",
    "        for jj, dT2 in enumerate(xx):\n",
    "            \n",
    "            Scores[ii, jj] = Score1(FTInterp, FTTimeRange, CubeData, InfoDict, Band1, Band2, dT1, dT2, thr)\n",
    "            \n",
    "    plt.pcolor(InfoDict['dT2s'], InfoDict['dT1s'], Scores)    \n",
    "    plt.xlabel('dT2')\n",
    "    plt.ylabel('dT1')    \n",
    "    plt.colorbar()\n",
    "    \n",
    "    return Scores"
   ]
  },
  {
   "cell_type": "code",
   "execution_count": 249,
   "metadata": {},
   "outputs": [
    {
     "data": {
      "image/png": "[encoded data removed]",
      "text/plain": [
       "<Figure size 432x288 with 2 Axes>"
      ]
     },
     "metadata": {
      "needs_background": "light"
     },
     "output_type": "display_data"
    }
   ],
   "source": [
    "Scores1 = ScoreMap1(Interp_load, TimeRange_load, TotalCubeNorm, InfoDict, 'g', 'i', 0.003)"
   ]
  },
  {
   "cell_type": "code",
   "execution_count": null,
   "metadata": {},
   "outputs": [],
   "source": [
    "plt.clim(-0.2,0.2)"
   ]
  },
  {
   "cell_type": "code",
   "execution_count": null,
   "metadata": {},
   "outputs": [],
   "source": []
  },
  {
   "cell_type": "code",
   "execution_count": null,
   "metadata": {},
   "outputs": [],
   "source": []
  },
  {
   "cell_type": "code",
   "execution_count": 261,
   "metadata": {},
   "outputs": [
    {
     "data": {
      "text/plain": [
       "<matplotlib.colorbar.Colorbar at 0x2aaaf473f100>"
      ]
     },
     "execution_count": 261,
     "metadata": {},
     "output_type": "execute_result"
    },
    {
     "data": {
      "image/png": "[encoded data removed]",
      "text/plain": [
       "<Figure size 576x360 with 2 Axes>"
      ]
     },
     "metadata": {
      "needs_background": "light"
     },
     "output_type": "display_data"
    }
   ],
   "source": [
    "fig, ax = plt.subplots(1, 1, figsize=(8, 5))\n",
    "\n",
    "plt.pcolor(InfoDict['dT2s'], InfoDict['dT1s'], Scores1, cmap='')    \n",
    "plt.xlabel('dT2')\n",
    "plt.ylabel('dT1')\n",
    "# plt.clim(0,1)\n",
    "plt.colorbar()\n",
    "# plt.xlim([45,None])"
   ]
  },
  {
   "cell_type": "code",
   "execution_count": 264,
   "metadata": {},
   "outputs": [
    {
     "data": {
      "text/plain": [
       "<matplotlib.colorbar.Colorbar at 0x2aaaf49a41f0>"
      ]
     },
     "execution_count": 264,
     "metadata": {},
     "output_type": "execute_result"
    },
    {
     "data": {
      "image/png": "[encoded data removed]",
      "text/plain": [
       "<Figure size 576x360 with 2 Axes>"
      ]
     },
     "metadata": {
      "needs_background": "light"
     },
     "output_type": "display_data"
    }
   ],
   "source": [
    "fig, ax = plt.subplots(1, 1, figsize=(8, 5))\n",
    "\n",
    "plt.pcolor(InfoDict['dT2s'], InfoDict['dT1s'], Scores2, cmap='Blues')\n",
    "plt.xlabel('dT2')\n",
    "plt.ylabel('dT1')\n",
    "plt.colorbar()\n",
    "# plt.clim(0,1)\n",
    "# plt.xlim([45,None])"
   ]
  },
  {
   "cell_type": "code",
   "execution_count": null,
   "metadata": {},
   "outputs": [],
   "source": []
  },
  {
   "cell_type": "code",
   "execution_count": null,
   "metadata": {},
   "outputs": [],
   "source": []
  },
  {
   "cell_type": "code",
   "execution_count": null,
   "metadata": {},
   "outputs": [],
   "source": []
  },
  {
   "cell_type": "code",
   "execution_count": null,
   "metadata": {},
   "outputs": [],
   "source": []
  },
  {
   "cell_type": "code",
   "execution_count": null,
   "metadata": {},
   "outputs": [],
   "source": []
  },
  {
   "cell_type": "code",
   "execution_count": 224,
   "metadata": {},
   "outputs": [],
   "source": [
    "plt.rcParams['font.size'] = '14'"
   ]
  },
  {
   "cell_type": "code",
   "execution_count": 225,
   "metadata": {},
   "outputs": [
    {
     "data": {
      "text/plain": [
       "<matplotlib.colorbar.Colorbar at 0x2aaaf2b29bb0>"
      ]
     },
     "execution_count": 225,
     "metadata": {},
     "output_type": "execute_result"
    },
    {
     "data": {
      "image/png": "[encoded data removed]",
      "text/plain": [
       "<Figure size 576x360 with 2 Axes>"
      ]
     },
     "metadata": {
      "needs_background": "light"
     },
     "output_type": "display_data"
    }
   ],
   "source": [
    "fig, ax = plt.subplots(1, 1, figsize=(8, 5))\n",
    "\n",
    "plt.pcolor(InfoDict['dT2s'], InfoDict['dT1s'], Scores1)    \n",
    "plt.xlabel('dT2')\n",
    "plt.ylabel('dT1')\n",
    "plt.colorbar()\n",
    "# plt.xlim([45,None])"
   ]
  },
  {
   "cell_type": "code",
   "execution_count": 227,
   "metadata": {},
   "outputs": [
    {
     "data": {
      "text/plain": [
       "<matplotlib.colorbar.Colorbar at 0x2aaaf2bffd60>"
      ]
     },
     "execution_count": 227,
     "metadata": {},
     "output_type": "execute_result"
    },
    {
     "data": {
      "image/png": "[encoded data removed]",
      "text/plain": [
       "<Figure size 576x360 with 2 Axes>"
      ]
     },
     "metadata": {
      "needs_background": "light"
     },
     "output_type": "display_data"
    }
   ],
   "source": [
    "fig, ax = plt.subplots(1, 1, figsize=(8, 5))\n",
    "\n",
    "plt.pcolor(InfoDict['dT2s'], InfoDict['dT1s'], Scores2)    \n",
    "plt.xlabel('dT2')\n",
    "plt.ylabel('dT1')\n",
    "plt.colorbar()\n",
    "# plt.xlim([45,None])"
   ]
  },
  {
   "cell_type": "code",
   "execution_count": null,
   "metadata": {},
   "outputs": [],
   "source": []
  },
  {
   "cell_type": "code",
   "execution_count": null,
   "metadata": {},
   "outputs": [],
   "source": []
  },
  {
   "cell_type": "code",
   "execution_count": null,
   "metadata": {},
   "outputs": [],
   "source": []
  },
  {
   "cell_type": "code",
   "execution_count": null,
   "metadata": {},
   "outputs": [],
   "source": []
  },
  {
   "cell_type": "code",
   "execution_count": null,
   "metadata": {},
   "outputs": [],
   "source": []
  },
  {
   "cell_type": "code",
   "execution_count": 12,
   "metadata": {
    "executionInfo": {
     "elapsed": 9,
     "status": "ok",
     "timestamp": 1631646040991,
     "user": {
      "displayName": "Ming Lian",
      "photoUrl": "https://lh3.googleusercontent.com/a-/AOh14GhFnZN2A2xowTHg5pgYqhHMO_ye89Z2cXUJ-M0ywg=s64",
      "userId": "12705220457356801018"
     },
     "user_tz": 240
    },
    "id": "BDsgVRMT0mK3"
   },
   "outputs": [],
   "source": [
    "def Enquiry(HashTable, InfoDict, Band1, Band2, dT1, dT2, dMag=None, Color=None):\n",
    "\n",
    "    Ind1 = InfoDict['Bands'].index(Band1)\n",
    "    Ind2 = InfoDict['Bands'].index(Band2)\n",
    "\n",
    "    if dT1<InfoDict['dT1s'][0] or dT1>InfoDict['dT1s'][-1]:\n",
    "        raise ValueError('The value of dT1 is out of boundary, the available interval is [{:.2f}, {:.2f}].'.format(InfoDict['dT1s'][0], InfoDict['dT1s'][-1]))\n",
    "        \n",
    "    else:\n",
    "        Ind3 = np.where( dT1 >= InfoDict['dT1s'] )[0][-1]\n",
    "\n",
    "    if dT2<InfoDict['dT2s'][0] or dT2>InfoDict['dT2s'][-1]:\n",
    "        raise ValueError('The value of dT2 is out of boundary, the available interval is [{:.2f}, {:.2f}].'.format(InfoDict['dT2s'][0], InfoDict['dT2s'][-1]))\n",
    "    else:\n",
    "        Ind4 = np.where( dT2 >= InfoDict['dT2s'] )[0][-1]\n",
    "\n",
    "    Results = HashTable[Ind1, Ind2, Ind3, Ind4]\n",
    "\n",
    "    if dMag == None:\n",
    "        pass        \n",
    "    elif dMag<InfoDict['BinMag'][0] or dMag>=InfoDict['BinMag'][-1]:\n",
    "        raise ValueError('The value of dMag is out of boundary, the available interval is [{:.2f}, {:.2f}).'.format(InfoDict['BinMag'][0], InfoDict['BinMag'][-1]))\n",
    "        \n",
    "    else:\n",
    "        Results = Results[np.where( dMag >= InfoDict['BinMag'] )[0][-1]]       \n",
    "\n",
    "    if Color == None:\n",
    "        pass        \n",
    "    elif Color<InfoDict['BinColor'][0] or Color>=InfoDict['BinColor'][-1]:\n",
    "        raise ValueError('The value of Color is out of boundary, the available interval is [{:.2f}, {:.2f}).'.format(InfoDict['BinColor'][0], InfoDict['BinColor'][-1]))\n",
    "        \n",
    "    else:\n",
    "        Results = Results[..., np.where( Color >= InfoDict['BinColor'] )[0][-1] ]\n",
    "\n",
    "    return Results"
   ]
  },
  {
   "cell_type": "code",
   "execution_count": null,
   "metadata": {},
   "outputs": [],
   "source": []
  },
  {
   "cell_type": "code",
   "execution_count": null,
   "metadata": {},
   "outputs": [],
   "source": []
  },
  {
   "cell_type": "code",
   "execution_count": null,
   "metadata": {},
   "outputs": [],
   "source": []
  }
 ],
 "metadata": {
  "colab": {
   "authorship_tag": "ABX9TyPGlFMjee40SvWOEaYHjOqo",
   "collapsed_sections": [],
   "mount_file_id": "10i9xL0kIReFkER7bfFQh8y12RbLkl1kf",
   "name": "ProbabilityCube.ipynb",
   "provenance": []
  },
  "kernelspec": {
   "display_name": "Python 3",
   "language": "python",
   "name": "python3"
  },
  "language_info": {
   "codemirror_mode": {
    "name": "ipython",
    "version": 3
   },
   "file_extension": ".py",
   "mimetype": "text/x-python",
   "name": "python",
   "nbconvert_exporter": "python",
   "pygments_lexer": "ipython3",
   "version": "3.8.8"
  }
 },
 "nbformat": 4,
 "nbformat_minor": 4
}
