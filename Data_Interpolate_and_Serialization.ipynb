{
 "cells": [
  {
   "cell_type": "code",
   "execution_count": 1,
   "metadata": {
    "executionInfo": {
     "elapsed": 1825,
     "status": "ok",
     "timestamp": 1624500478714,
     "user": {
      "displayName": "Ming Lian",
      "photoUrl": "https://lh3.googleusercontent.com/a-/AOh14GjQ8HAUIvym1HvoVv0O1BcUOHYHSCRnHGpB6gN2=s64",
      "userId": "12705220457356801018"
     },
     "user_tz": 240
    },
    "id": "sM7zvDrgSFnY"
   },
   "outputs": [],
   "source": [
    "import os\n",
    "import numpy as np\n",
    "import matplotlib.pyplot as plt\n",
    "import math\n",
    "import time\n",
    "from scipy import interpolate\n",
    "import pickle\n",
    "\n",
    "import Functions"
   ]
  },
  {
   "cell_type": "code",
   "execution_count": 2,
   "metadata": {
    "executionInfo": {
     "elapsed": 303,
     "status": "ok",
     "timestamp": 1624500485907,
     "user": {
      "displayName": "Ming Lian",
      "photoUrl": "https://lh3.googleusercontent.com/a-/AOh14GjQ8HAUIvym1HvoVv0O1BcUOHYHSCRnHGpB6gN2=s64",
      "userId": "12705220457356801018"
     },
     "user_tz": 240
    },
    "id": "3PAlmN7tdhbr"
   },
   "outputs": [],
   "source": [
    "Path1 = '/global/homes/l/lianming/data/GSN_IDEAL_zALL_p1day'\n",
    "Path2 = '/global/homes/l/lianming/data/GSN_IDEAL_zALL_36min'\n",
    "Path3 = '/global/homes/l/lianming/data/GSN_IDEAL_z02'\n",
    "PathTest = '/global/homes/l/lianming/data/For_Test'"
   ]
  },
  {
   "cell_type": "code",
   "execution_count": 4,
   "metadata": {
    "executionInfo": {
     "elapsed": 170,
     "status": "ok",
     "timestamp": 1624500799812,
     "user": {
      "displayName": "Ming Lian",
      "photoUrl": "https://lh3.googleusercontent.com/a-/AOh14GjQ8HAUIvym1HvoVv0O1BcUOHYHSCRnHGpB6gN2=s64",
      "userId": "12705220457356801018"
     },
     "user_tz": 240
    },
    "id": "pM-vtRJTXjcR"
   },
   "outputs": [],
   "source": [
    "PathsDict = Functions.GetEventPaths(Path1)\n",
    "EventNames = list(PathsDict.keys())\n",
    "\n",
    "TargetPath = '/global/homes/l/lianming/' + 'Fits1day'"
   ]
  },
  {
   "cell_type": "code",
   "execution_count": 5,
   "metadata": {
    "executionInfo": {
     "elapsed": 174,
     "status": "ok",
     "timestamp": 1624500842399,
     "user": {
      "displayName": "Ming Lian",
      "photoUrl": "https://lh3.googleusercontent.com/a-/AOh14GjQ8HAUIvym1HvoVv0O1BcUOHYHSCRnHGpB6gN2=s64",
      "userId": "12705220457356801018"
     },
     "user_tz": 240
    },
    "id": "bMpmzL9zhyoa"
   },
   "outputs": [],
   "source": [
    "#Parameter setting\n",
    "\n",
    "EventNames = EventNames\n",
    "\n",
    "Bands = ['u ', 'g ', 'r ', 'i ', 'z ', 'Y ']\n",
    "\n",
    "StartFile = 0\n",
    "EndFile = None\n",
    "\n",
    "StartObject = 0\n",
    "EndObject = None"
   ]
  },
  {
   "cell_type": "code",
   "execution_count": 7,
   "metadata": {},
   "outputs": [
    {
     "ename": "FileExistsError",
     "evalue": "[Errno 17] File exists: '/global/homes/l/lianming/Fits1day'",
     "output_type": "error",
     "traceback": [
      "\u001b[0;31m---------------------------------------------------------------------------\u001b[0m",
      "\u001b[0;31mFileExistsError\u001b[0m                           Traceback (most recent call last)",
      "\u001b[0;32m<ipython-input-7-51865d37f1b2>\u001b[0m in \u001b[0;36m<module>\u001b[0;34m\u001b[0m\n\u001b[1;32m      1\u001b[0m \u001b[0;31m#Result structure ObjFits[Band][ObjNo], save a file for eath event.\u001b[0m\u001b[0;34m\u001b[0m\u001b[0;34m\u001b[0m\u001b[0;34m\u001b[0m\u001b[0m\n\u001b[0;32m----> 2\u001b[0;31m \u001b[0mos\u001b[0m\u001b[0;34m.\u001b[0m\u001b[0mmkdir\u001b[0m\u001b[0;34m(\u001b[0m\u001b[0mTargetPath\u001b[0m\u001b[0;34m)\u001b[0m\u001b[0;34m\u001b[0m\u001b[0;34m\u001b[0m\u001b[0m\n\u001b[0m\u001b[1;32m      3\u001b[0m \u001b[0mos\u001b[0m\u001b[0;34m.\u001b[0m\u001b[0mchdir\u001b[0m\u001b[0;34m(\u001b[0m\u001b[0mTargetPath\u001b[0m\u001b[0;34m)\u001b[0m\u001b[0;34m\u001b[0m\u001b[0;34m\u001b[0m\u001b[0m\n\u001b[1;32m      4\u001b[0m \u001b[0;34m\u001b[0m\u001b[0m\n\u001b[1;32m      5\u001b[0m \u001b[0;32mwith\u001b[0m \u001b[0mopen\u001b[0m\u001b[0;34m(\u001b[0m\u001b[0;34m'EventName.npy'\u001b[0m\u001b[0;34m,\u001b[0m \u001b[0;34m'wb'\u001b[0m\u001b[0;34m)\u001b[0m \u001b[0;32mas\u001b[0m \u001b[0mf\u001b[0m\u001b[0;34m:\u001b[0m\u001b[0;34m\u001b[0m\u001b[0;34m\u001b[0m\u001b[0m\n",
      "\u001b[0;31mFileExistsError\u001b[0m: [Errno 17] File exists: '/global/homes/l/lianming/Fits1day'"
     ]
    }
   ],
   "source": [
    "#Result structure ObjFits[Band][ObjNo], save a file for eath event.\n",
    "os.mkdir(TargetPath)\n",
    "os.chdir(TargetPath)\n",
    "\n",
    "with open('EventName.npy', 'wb') as f:\n",
    "    np.save(f, EventNames)\n",
    "\n",
    "# np.save('/EventName.npy', EventNames)\n",
    "\n",
    "for EventName in EventNames:\n",
    "\n",
    "    print('Processing {:<25}'.format(EventName+':'), end='')\n",
    "    start = time.time()\n",
    "\n",
    "    ObjFits = {'u': [], 'g': [], 'r': [], 'i': [], 'z': [], 'Y': []}\n",
    "\n",
    "    EventPath = PathsDict[EventName]\n",
    "    FileNames = os.listdir(EventPath)\n",
    "    FileNames.sort()\n",
    "\n",
    "    for FileName in FileNames[StartFile: EndFile]:\n",
    "        \n",
    "        Ind = FileName.find('HEAD')\n",
    "        \n",
    "        if Ind > -1:\n",
    "\n",
    "            print('|', end='')\n",
    "            \n",
    "            FileNamePHOT = FileName[:Ind] + 'PHOT.FITS.gz'\n",
    "            \n",
    "            HeadFilePath = os.path.join(EventPath, FileName)\n",
    "            PhotFilePath = os.path.join(EventPath, FileNamePHOT)\n",
    "            Data = Functions.read_snana_fits(HeadFilePath, PhotFilePath)\n",
    "            \n",
    "            for II, Obj in enumerate(Data[StartObject: EndObject]):\n",
    "                \n",
    "                for Band in Bands:\n",
    "\n",
    "                    Mask = Obj['BAND']==Band\n",
    "\n",
    "                    fobject  = interpolate.interp1d(Obj['MJD'][Mask], Obj['SIM_MAGOBS'][Mask])\n",
    "                    ObjFits[Band[0]].append(fobject)\n",
    "                    \n",
    "    TimeRange = [Obj['MJD'][Mask][0], Obj['MJD'][Mask][-1]]    \n",
    "        \n",
    "    with open(EventName+'_Fit.pkl', 'wb') as f:\n",
    "        pickle.dump(ObjFits, f)\n",
    "        pickle.dump(TimeRange, f )    \n",
    "            \n",
    "    end = time.time()\n",
    "    print('\\t time spent: {0:6.3f} s'.format(end-start))\n",
    "    "
   ]
  },
  {
   "cell_type": "code",
   "execution_count": 82,
   "metadata": {
    "colab": {
     "base_uri": "https://localhost:8080/"
    },
    "executionInfo": {
     "elapsed": 109032,
     "status": "ok",
     "timestamp": 1624500966753,
     "user": {
      "displayName": "Ming Lian",
      "photoUrl": "https://lh3.googleusercontent.com/a-/AOh14GjQ8HAUIvym1HvoVv0O1BcUOHYHSCRnHGpB6gN2=s64",
      "userId": "12705220457356801018"
     },
     "user_tz": 240
    },
    "id": "2zBuvaVln-D9",
    "outputId": "f4a1a6a3-6c6b-4195-999a-62ee878a24e5"
   },
   "outputs": [
    {
     "name": "stdout",
     "output_type": "stream",
     "text": [
      "Processing AGN:                     ||||||||||||||||||||\t time spent: 13.362 s\n",
      "Processing CART:                    ||||||||||||||||||||\t time spent: 14.742 s\n",
      "Processing EB:                      ||||||||||||||||||||\t time spent: 14.372 s\n",
      "Processing ILOT:                    ||||||||||||||||||||\t time spent:  6.809 s\n",
      "Processing KN_B19:                  ||||||||||||||||||||\t time spent: 13.568 s\n",
      "Processing KN_K17:                  ||||||||||||||||||||\t time spent: 14.342 s\n",
      "Processing MIRA:                    ||||||||||||||||||||\t time spent: 14.062 s\n",
      "Processing Mdwarf:                  ||||||||||||||||||||\t time spent: 14.892 s\n",
      "Processing PISN:                    ||||||||||||||||||||\t time spent: 13.751 s\n",
      "Processing RRL:                     ||||||||||||||||||||\t time spent: 14.804 s\n",
      "Processing SLSN-I:                  ||||||||||||||||||||\t time spent: 13.790 s\n",
      "Processing SNII-NMF:                ||||||||||||||||||||\t time spent: 13.707 s\n",
      "Processing SNII-Templates:          ||||||||||||||||||||\t time spent: 14.386 s\n",
      "Processing SNIIn:                   ||||||||||||||||||||\t time spent: 11.846 s\n",
      "Processing SNIa-91bg:               ||||||||||||||||||||\t time spent: 13.289 s\n",
      "Processing SNIa-SALT2:              ||||||||||||||||||||\t time spent: 13.354 s\n",
      "Processing SNIax:                   ||||||||||||||||||||\t time spent: 14.106 s\n",
      "Processing SNIbc-MOSFIT:            ||||||||||||||||||||\t time spent: 13.515 s\n",
      "Processing SNIbc-Templates:         ||||||||||||||||||||\t time spent: 13.701 s\n",
      "Processing TDE:                     ||||||||||||||||||||\t time spent: 13.755 s\n",
      "Processing V19_CC+HostXT:           ||||||||||||||||||||\t time spent: 14.815 s\n",
      "Processing uLens-Binary:            ||||||||||||||||||||\t time spent: 10.908 s\n",
      "Processing uLens-Single-GenLens:    ||||||||||||||||||||\t time spent: 10.512 s\n",
      "Processing uLens-Single_PyLIMA:     ||||||||||||||||||||\t time spent:  8.305 s\n"
     ]
    }
   ],
   "source": [
    "#Result structure AllObjFits[EventName][Band][ObjNo], all events in one file. \n",
    "AllObjFits = {}\n",
    "TimeRange = {}\n",
    "\n",
    "for EventName in EventNames:\n",
    "\n",
    "    print('Processing {:<25}'.format(EventName+':'), end='')\n",
    "    start = time.time()\n",
    "\n",
    "    AllObjFits[EventName] = {'u': [], 'g': [], 'r': [], 'i': [], 'z': [], 'Y': []}\n",
    "\n",
    "    EventPath = PathsDict[EventName]\n",
    "    FileNames = os.listdir(EventPath)\n",
    "    FileNames.sort()\n",
    "\n",
    "    for FileName in FileNames[StartFile: EndFile]:\n",
    "        \n",
    "        Ind = FileName.find('HEAD')\n",
    "        \n",
    "        if Ind > -1:\n",
    "\n",
    "            print('|', end='')\n",
    "            \n",
    "            FileNamePHOT = FileName[:Ind] + 'PHOT.FITS.gz'\n",
    "            \n",
    "            HeadFilePath = os.path.join(EventPath, FileName)\n",
    "            PhotFilePath = os.path.join(EventPath, FileNamePHOT)\n",
    "            Data = Functions.read_snana_fits(HeadFilePath, PhotFilePath)\n",
    "            \n",
    "            for II, Obj in enumerate(Data[StartObject: EndObject]):\n",
    "                \n",
    "                for Band in Bands:\n",
    "\n",
    "                    Mask = Obj['BAND']==Band\n",
    "\n",
    "                    fobject  = interpolate.interp1d(Obj['MJD'][Mask], Obj['SIM_MAGOBS'][Mask])\n",
    "                    AllObjFits[EventName][Band[0]].append(fobject)\n",
    "                    \n",
    "    TimeRange[EventName] = [Obj['MJD'][Mask][0], Obj['MJD'][Mask][-1]]\n",
    "            \n",
    "    end = time.time()\n",
    "    print('\\t time spent: {0:6.3f} s'.format(end-start))\n",
    "    "
   ]
  },
  {
   "cell_type": "code",
   "execution_count": 19,
   "metadata": {
    "colab": {
     "base_uri": "https://localhost:8080/"
    },
    "executionInfo": {
     "elapsed": 388,
     "status": "ok",
     "timestamp": 1624383940099,
     "user": {
      "displayName": "Ming Lian",
      "photoUrl": "https://lh3.googleusercontent.com/a-/AOh14GjQ8HAUIvym1HvoVv0O1BcUOHYHSCRnHGpB6gN2=s64",
      "userId": "12705220457356801018"
     },
     "user_tz": 240
    },
    "id": "SQarwZSPsV0B",
    "outputId": "0b20bdec-d89d-4675-df1a-dab3f0146c8b"
   },
   "outputs": [
    {
     "data": {
      "text/plain": [
       "{'AGN': [53100.0, 53120.0],\n",
       " 'CART': [53100.0, 53120.0],\n",
       " 'EB': [53100.0, 53120.0],\n",
       " 'ILOT': [53100.0, 53120.0],\n",
       " 'KN_B19': [53100.0, 53120.0],\n",
       " 'KN_K17': [53100.0, 53120.0],\n",
       " 'MIRA': [53100.0, 53120.0],\n",
       " 'Mdwarf': [53100.0, 53120.0],\n",
       " 'PISN': [53100.0, 53120.0],\n",
       " 'RRL': [53100.0, 53120.0],\n",
       " 'SLSN-I': [53100.0, 53120.0],\n",
       " 'SNII-NMF': [53100.0, 53120.0],\n",
       " 'SNII-Templates': [53100.0, 53120.0],\n",
       " 'SNIIn': [53100.0, 53120.0],\n",
       " 'SNIa-91bg': [53100.0, 53120.0],\n",
       " 'SNIa-SALT2': [53100.0, 53120.0],\n",
       " 'SNIax': [53100.0, 53120.0],\n",
       " 'SNIbc-MOSFIT': [53100.0, 53120.0],\n",
       " 'SNIbc-Templates': [53100.0, 53120.0],\n",
       " 'TDE': [53100.0, 53120.0],\n",
       " 'V19_CC+HostXT': [53100.0, 53120.0],\n",
       " 'uLens-Binary': [53100.0, 53120.0],\n",
       " 'uLens-Single-GenLens': [53100.0, 53120.0],\n",
       " 'uLens-Single_PyLIMA': [53100.0, 53120.0]}"
      ]
     },
     "execution_count": 19,
     "metadata": {},
     "output_type": "execute_result"
    }
   ],
   "source": [
    "TimeRange"
   ]
  },
  {
   "cell_type": "code",
   "execution_count": null,
   "metadata": {
    "id": "dMaFAm4en-B5"
   },
   "outputs": [],
   "source": [
    "XX = np.linspace(53090, 53120)"
   ]
  },
  {
   "cell_type": "code",
   "execution_count": null,
   "metadata": {
    "colab": {
     "base_uri": "https://localhost:8080/",
     "height": 282
    },
    "executionInfo": {
     "elapsed": 524,
     "status": "ok",
     "timestamp": 1620846452999,
     "user": {
      "displayName": "Ming Lian",
      "photoUrl": "https://lh3.googleusercontent.com/a-/AOh14GjQ8HAUIvym1HvoVv0O1BcUOHYHSCRnHGpB6gN2=s64",
      "userId": "12705220457356801018"
     },
     "user_tz": 240
    },
    "id": "SCjoiobvn9-6",
    "outputId": "b0cd026c-7a90-4a03-84d4-d329337c9c39"
   },
   "outputs": [
    {
     "data": {
      "text/plain": [
       "[<matplotlib.lines.Line2D at 0x7fcae77e8890>]"
      ]
     },
     "execution_count": 43,
     "metadata": {
      "tags": []
     },
     "output_type": "execute_result"
    },
    {
     "data": {
      "image/png": "[encoded data removed]",
      "text/plain": [
       "<Figure size 432x288 with 1 Axes>"
      ]
     },
     "metadata": {
      "needs_background": "light",
      "tags": []
     },
     "output_type": "display_data"
    }
   ],
   "source": [
    "plt.plot(XX, AllObjFits['KN_B19_0002_00000']['Y'](XX))"
   ]
  },
  {
   "cell_type": "code",
   "execution_count": 43,
   "metadata": {
    "executionInfo": {
     "elapsed": 25826,
     "status": "ok",
     "timestamp": 1624501007913,
     "user": {
      "displayName": "Ming Lian",
      "photoUrl": "https://lh3.googleusercontent.com/a-/AOh14GjQ8HAUIvym1HvoVv0O1BcUOHYHSCRnHGpB6gN2=s64",
      "userId": "12705220457356801018"
     },
     "user_tz": 240
    },
    "id": "XhzCQdj9n98D"
   },
   "outputs": [],
   "source": [
    "with open('AllObjFits1day.pkl', 'wb') as f:\n",
    "    pickle.dump(AllObjFits, f)\n",
    "    pickle.dump(TimeRange, f )    "
   ]
  },
  {
   "cell_type": "code",
   "execution_count": 78,
   "metadata": {
    "id": "p7YVtEsXn95c"
   },
   "outputs": [],
   "source": [
    "with open('AllObjFits1day.pkl', 'rb') as f:\n",
    "    AllObjFits_loaded = pickle.load(f)\n",
    "    TimeRange_loaded = pickle.load(f)\n"
   ]
  },
  {
   "cell_type": "code",
   "execution_count": 85,
   "metadata": {},
   "outputs": [
    {
     "data": {
      "text/plain": [
       "False"
      ]
     },
     "execution_count": 85,
     "metadata": {},
     "output_type": "execute_result"
    }
   ],
   "source": [
    "AllObjFits_loaded == AllObjFits"
   ]
  },
  {
   "cell_type": "code",
   "execution_count": 84,
   "metadata": {},
   "outputs": [
    {
     "data": {
      "text/plain": [
       "True"
      ]
     },
     "execution_count": 84,
     "metadata": {},
     "output_type": "execute_result"
    }
   ],
   "source": [
    "TimeRange_loaded == TimeRange"
   ]
  },
  {
   "cell_type": "code",
   "execution_count": 81,
   "metadata": {},
   "outputs": [
    {
     "data": {
      "text/plain": [
       "[53100.0, 53120.0]"
      ]
     },
     "execution_count": 81,
     "metadata": {},
     "output_type": "execute_result"
    }
   ],
   "source": [
    "TimeRange"
   ]
  },
  {
   "cell_type": "code",
   "execution_count": null,
   "metadata": {
    "colab": {
     "base_uri": "https://localhost:8080/",
     "height": 282
    },
    "executionInfo": {
     "elapsed": 516,
     "status": "ok",
     "timestamp": 1620846916992,
     "user": {
      "displayName": "Ming Lian",
      "photoUrl": "https://lh3.googleusercontent.com/a-/AOh14GjQ8HAUIvym1HvoVv0O1BcUOHYHSCRnHGpB6gN2=s64",
      "userId": "12705220457356801018"
     },
     "user_tz": 240
    },
    "id": "4Cb_URSDn9z2",
    "outputId": "d3ba7abf-54d0-49af-cce7-d556d7709866"
   },
   "outputs": [
    {
     "data": {
      "text/plain": [
       "[<matplotlib.lines.Line2D at 0x7fcaea9a6110>]"
      ]
     },
     "execution_count": 49,
     "metadata": {
      "tags": []
     },
     "output_type": "execute_result"
    },
    {
     "data": {
      "image/png": "[encoded data removed]",
      "text/plain": [
       "<Figure size 432x288 with 1 Axes>"
      ]
     },
     "metadata": {
      "needs_background": "light",
      "tags": []
     },
     "output_type": "display_data"
    }
   ],
   "source": [
    "plt.plot(XX, AllObjFits_loaded['SNIax_0002_00000']['Y'](XX))"
   ]
  },
  {
   "cell_type": "code",
   "execution_count": null,
   "metadata": {
    "colab": {
     "base_uri": "https://localhost:8080/",
     "height": 285
    },
    "executionInfo": {
     "elapsed": 492,
     "status": "ok",
     "timestamp": 1624454718370,
     "user": {
      "displayName": "Ming Lian",
      "photoUrl": "https://lh3.googleusercontent.com/a-/AOh14GjQ8HAUIvym1HvoVv0O1BcUOHYHSCRnHGpB6gN2=s64",
      "userId": "12705220457356801018"
     },
     "user_tz": 240
    },
    "id": "sQiQfJp5n9xi",
    "outputId": "5db258be-4bc1-44c8-8689-a474521d7105"
   },
   "outputs": [
    {
     "data": {
      "text/plain": [
       "[<matplotlib.lines.Line2D at 0x7f481a90dc90>]"
      ]
     },
     "execution_count": 11,
     "metadata": {
      "tags": []
     },
     "output_type": "execute_result"
    },
    {
     "data": {
      "image/png": "[encoded data removed]",
      "text/plain": [
       "<Figure size 432x288 with 1 Axes>"
      ]
     },
     "metadata": {
      "needs_background": "light",
      "tags": []
     },
     "output_type": "display_data"
    }
   ],
   "source": [
    "plt.plot(XX, AllObjFits_loaded['EB']['u'][0](XX))"
   ]
  },
  {
   "cell_type": "code",
   "execution_count": 71,
   "metadata": {},
   "outputs": [],
   "source": []
  },
  {
   "cell_type": "code",
   "execution_count": null,
   "metadata": {},
   "outputs": [],
   "source": []
  },
  {
   "cell_type": "code",
   "execution_count": 6,
   "metadata": {},
   "outputs": [
    {
     "ename": "FileNotFoundError",
     "evalue": "[Errno 2] No such file or directory: '/content/drive/MyDrive/LSST/PLAsTiCC/Data/Test_Interp/EventName.npy'",
     "output_type": "error",
     "traceback": [
      "\u001b[0;31m---------------------------------------------------------------------------\u001b[0m",
      "\u001b[0;31mFileNotFoundError\u001b[0m                         Traceback (most recent call last)",
      "\u001b[0;32m<ipython-input-6-b90a4417966f>\u001b[0m in \u001b[0;36m<module>\u001b[0;34m\u001b[0m\n\u001b[1;32m      2\u001b[0m \u001b[0;34m\u001b[0m\u001b[0m\n\u001b[1;32m      3\u001b[0m \u001b[0mPathInterp\u001b[0m \u001b[0;34m=\u001b[0m \u001b[0mPathInterpTest\u001b[0m\u001b[0;34m\u001b[0m\u001b[0;34m\u001b[0m\u001b[0m\n\u001b[0;32m----> 4\u001b[0;31m \u001b[0mEventNames\u001b[0m \u001b[0;34m=\u001b[0m \u001b[0mnp\u001b[0m\u001b[0;34m.\u001b[0m\u001b[0mload\u001b[0m\u001b[0;34m(\u001b[0m\u001b[0mPathInterp\u001b[0m\u001b[0;34m+\u001b[0m\u001b[0;34m'EventName.npy'\u001b[0m\u001b[0;34m)\u001b[0m\u001b[0;34m\u001b[0m\u001b[0;34m\u001b[0m\u001b[0m\n\u001b[0m",
      "\u001b[0;32m/usr/common/software/python/3.7-anaconda-2019.10/lib/python3.7/site-packages/numpy/lib/npyio.py\u001b[0m in \u001b[0;36mload\u001b[0;34m(file, mmap_mode, allow_pickle, fix_imports, encoding)\u001b[0m\n\u001b[1;32m    426\u001b[0m         \u001b[0mown_fid\u001b[0m \u001b[0;34m=\u001b[0m \u001b[0;32mFalse\u001b[0m\u001b[0;34m\u001b[0m\u001b[0;34m\u001b[0m\u001b[0m\n\u001b[1;32m    427\u001b[0m     \u001b[0;32melse\u001b[0m\u001b[0;34m:\u001b[0m\u001b[0;34m\u001b[0m\u001b[0;34m\u001b[0m\u001b[0m\n\u001b[0;32m--> 428\u001b[0;31m         \u001b[0mfid\u001b[0m \u001b[0;34m=\u001b[0m \u001b[0mopen\u001b[0m\u001b[0;34m(\u001b[0m\u001b[0mos_fspath\u001b[0m\u001b[0;34m(\u001b[0m\u001b[0mfile\u001b[0m\u001b[0;34m)\u001b[0m\u001b[0;34m,\u001b[0m \u001b[0;34m\"rb\"\u001b[0m\u001b[0;34m)\u001b[0m\u001b[0;34m\u001b[0m\u001b[0;34m\u001b[0m\u001b[0m\n\u001b[0m\u001b[1;32m    429\u001b[0m         \u001b[0mown_fid\u001b[0m \u001b[0;34m=\u001b[0m \u001b[0;32mTrue\u001b[0m\u001b[0;34m\u001b[0m\u001b[0;34m\u001b[0m\u001b[0m\n\u001b[1;32m    430\u001b[0m \u001b[0;34m\u001b[0m\u001b[0m\n",
      "\u001b[0;31mFileNotFoundError\u001b[0m: [Errno 2] No such file or directory: '/content/drive/MyDrive/LSST/PLAsTiCC/Data/Test_Interp/EventName.npy'"
     ]
    }
   ],
   "source": [
    "PathInterpTest = '/content/drive/MyDrive/LSST/PLAsTiCC/Data/Test_Interp/'\n",
    "PathInterp1Day = \n",
    "\n",
    "PathInterp = PathInterpTest\n",
    "EventNames = np.load(PathInterp+'EventName.npy')"
   ]
  },
  {
   "cell_type": "code",
   "execution_count": 10,
   "metadata": {},
   "outputs": [],
   "source": [
    "aa = np.zeros([5,5], dtype=np.float32)"
   ]
  },
  {
   "cell_type": "code",
   "execution_count": 11,
   "metadata": {},
   "outputs": [],
   "source": [
    "np.save('Test', aa)"
   ]
  },
  {
   "cell_type": "code",
   "execution_count": null,
   "metadata": {},
   "outputs": [],
   "source": []
  }
 ],
 "metadata": {
  "colab": {
   "authorship_tag": "ABX9TyPDzKdrEUx1CC/MYqeQF4bo",
   "collapsed_sections": [],
   "mount_file_id": "1z5LjA1nOQXMr6NIwE1_ZZ3gL1BbI4y5F",
   "name": "Data_Interpolate_and_Serialization.ipynb",
   "provenance": []
  },
  "kernelspec": {
   "display_name": "NERSC Python",
   "language": "python",
   "name": "python3"
  },
  "language_info": {
   "codemirror_mode": {
    "name": "ipython",
    "version": 3
   },
   "file_extension": ".py",
   "mimetype": "text/x-python",
   "name": "python",
   "nbconvert_exporter": "python",
   "pygments_lexer": "ipython3",
   "version": "3.9.7"
  }
 },
 "nbformat": 4,
 "nbformat_minor": 4
}
