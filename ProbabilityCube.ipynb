{
 "cells": [
  {
   "cell_type": "code",
   "execution_count": null,
   "metadata": {
    "colab": {
     "base_uri": "https://localhost:8080/"
    },
    "executionInfo": {
     "elapsed": 216,
     "status": "ok",
     "timestamp": 1631552470889,
     "user": {
      "displayName": "Ming Lian",
      "photoUrl": "https://lh3.googleusercontent.com/a-/AOh14GhFnZN2A2xowTHg5pgYqhHMO_ye89Z2cXUJ-M0ywg=s64",
      "userId": "12705220457356801018"
     },
     "user_tz": 240
    },
    "id": "hFFduiUe0kKJ",
    "outputId": "31473ea5-3f78-43b0-8ca6-0f52d234e389"
   },
   "outputs": [
    {
     "name": "stdout",
     "output_type": "stream",
     "text": [
      "Drive already mounted at /content/drive; to attempt to forcibly remount, call drive.mount(\"/content/drive\", force_remount=True).\n"
     ]
    }
   ],
   "source": [
    "from google.colab import drive\n",
    "drive.mount('/content/drive')"
   ]
  },
  {
   "cell_type": "code",
   "execution_count": 1,
   "metadata": {
    "colab": {
     "base_uri": "https://localhost:8080/"
    },
    "executionInfo": {
     "elapsed": 320,
     "status": "ok",
     "timestamp": 1631646039986,
     "user": {
      "displayName": "Ming Lian",
      "photoUrl": "https://lh3.googleusercontent.com/a-/AOh14GhFnZN2A2xowTHg5pgYqhHMO_ye89Z2cXUJ-M0ywg=s64",
      "userId": "12705220457356801018"
     },
     "user_tz": 240
    },
    "id": "0nobW2Iw0Q4n",
    "outputId": "be068eee-68c1-42b4-a7a6-079b559ba8d6"
   },
   "outputs": [
    {
     "name": "stdout",
     "output_type": "stream",
     "text": [
      "[Errno 2] No such file or directory: '/content/drive/Shareddrives/FASTlab/PrestoColor2'\n",
      "/global/u2/l/lianming/Presto-Color-2\n"
     ]
    }
   ],
   "source": [
    "cd /content/drive/Shareddrives/FASTlab/PrestoColor2"
   ]
  },
  {
   "cell_type": "code",
   "execution_count": 127,
   "metadata": {
    "executionInfo": {
     "elapsed": 218,
     "status": "ok",
     "timestamp": 1631647781845,
     "user": {
      "displayName": "Ming Lian",
      "photoUrl": "https://lh3.googleusercontent.com/a-/AOh14GhFnZN2A2xowTHg5pgYqhHMO_ye89Z2cXUJ-M0ywg=s64",
      "userId": "12705220457356801018"
     },
     "user_tz": 240
    },
    "id": "BHpGWIT00gQo"
   },
   "outputs": [],
   "source": [
    "import numpy as np\n",
    "import Functions\n",
    "import pickle\n",
    "import os\n",
    "from matplotlib.colors import LogNorm\n",
    "\n",
    "import matplotlib.pyplot as plt"
   ]
  },
  {
   "cell_type": "code",
   "execution_count": 122,
   "metadata": {
    "executionInfo": {
     "elapsed": 9,
     "status": "ok",
     "timestamp": 1631646040991,
     "user": {
      "displayName": "Ming Lian",
      "photoUrl": "https://lh3.googleusercontent.com/a-/AOh14GhFnZN2A2xowTHg5pgYqhHMO_ye89Z2cXUJ-M0ywg=s64",
      "userId": "12705220457356801018"
     },
     "user_tz": 240
    },
    "id": "BDsgVRMT0mK3"
   },
   "outputs": [],
   "source": [
    "def Enquiry(HashTable, CoordinateDict, Band1, Band2, dT1, dT2, dMag=None, Color=None):\n",
    "\n",
    "    Ind1 = CoordinateDict['Bands'].index(Band1)\n",
    "    Ind2 = CoordinateDict['Bands'].index(Band2)\n",
    "\n",
    "    Ind3 = abs( dT1 - CoordinateDict['dT1s'] ).argmin()\n",
    "    Ind4 = abs( dT2 - CoordinateDict['dT2s'] ).argmin()\n",
    "\n",
    "    if dMag == None:\n",
    "        Ind5 = None\n",
    "    elif dMag<CoordinateDict['BinMag'][0] or dMag>=CoordinateDict['BinMag'][-1]:\n",
    "        print('The value of dMag is out of boundary, the available interval is [{:.2f}, {:.2f}).'.format(CoordinateDict['BinMag'][0], CoordinateDict['BinMag'][-1]))\n",
    "        return\n",
    "    else:\n",
    "        Ind5 = np.where( dMag >= CoordinateDict['BinMag'] )[0][-1]\n",
    "\n",
    "    if Color == None:\n",
    "        Ind6 = None\n",
    "    elif Color<CoordinateDict['BinColor'][0] or Color>=CoordinateDict['BinColor'][-1]:\n",
    "        print('The value of Color is out of boundary, the available interval is [{:.2f}, {:.2f}).'.format(CoordinateDict['BinColor'][0], CoordinateDict['BinColor'][-1]))\n",
    "        return\n",
    "    else:\n",
    "        Ind6 = np.where( Color >= CoordinateDict['BinColor'] )[0][-1]\n",
    "\n",
    "    return HashTable[Ind1, Ind2, Ind3, Ind4, Ind5, Ind6]"
   ]
  },
  {
   "cell_type": "code",
   "execution_count": 152,
   "metadata": {
    "executionInfo": {
     "elapsed": 4013,
     "status": "ok",
     "timestamp": 1631653595306,
     "user": {
      "displayName": "Ming Lian",
      "photoUrl": "https://lh3.googleusercontent.com/a-/AOh14GhFnZN2A2xowTHg5pgYqhHMO_ye89Z2cXUJ-M0ywg=s64",
      "userId": "12705220457356801018"
     },
     "user_tz": 240
    },
    "id": "oOEH5kjB0tWh"
   },
   "outputs": [],
   "source": [
    "with open('/content/drive/Shareddrives/FASTlab/PrestoColor2/Probability_Cube/ProbabilityCube_SNIa_1Slice0.1.pkl', 'rb') as f:\n",
    "    EventNames = pickle.load(f)\n",
    "    CoordinateDict = pickle.load(f)\n",
    "    HashTable = pickle.load(f)"
   ]
  },
  {
   "cell_type": "code",
   "execution_count": 152,
   "metadata": {
    "executionInfo": {
     "elapsed": 36,
     "status": "ok",
     "timestamp": 1631653595313,
     "user": {
      "displayName": "Ming Lian",
      "photoUrl": "https://lh3.googleusercontent.com/a-/AOh14GhFnZN2A2xowTHg5pgYqhHMO_ye89Z2cXUJ-M0ywg=s64",
      "userId": "12705220457356801018"
     },
     "user_tz": 240
    },
    "id": "WhmBhttZHl9U"
   },
   "outputs": [],
   "source": []
  },
  {
   "cell_type": "code",
   "execution_count": 78,
   "metadata": {
    "colab": {
     "base_uri": "https://localhost:8080/"
    },
    "executionInfo": {
     "elapsed": 250,
     "status": "ok",
     "timestamp": 1631636557335,
     "user": {
      "displayName": "Ming Lian",
      "photoUrl": "https://lh3.googleusercontent.com/a-/AOh14GhFnZN2A2xowTHg5pgYqhHMO_ye89Z2cXUJ-M0ywg=s64",
      "userId": "12705220457356801018"
     },
     "user_tz": 240
    },
    "id": "vn3ePxzl1-5i",
    "outputId": "3c33a147-7b1b-41bb-809d-c3a816009ffa"
   },
   "outputs": [
    {
     "data": {
      "text/plain": [
       "0"
      ]
     },
     "execution_count": 78,
     "metadata": {},
     "output_type": "execute_result"
    }
   ],
   "source": [
    "#Set the parameters: band1, band2, dT1, dT2, dMag, Color. The number of cases in the cell is returned.\n",
    "\n",
    "Enquiry(HashTable, CoordinateDict, 'g', 'i', 60, 450, 3.82, 0)"
   ]
  },
  {
   "cell_type": "code",
   "execution_count": 29,
   "metadata": {
    "colab": {
     "base_uri": "https://localhost:8080/"
    },
    "executionInfo": {
     "elapsed": 342,
     "status": "ok",
     "timestamp": 1631632722473,
     "user": {
      "displayName": "Ming Lian",
      "photoUrl": "https://lh3.googleusercontent.com/a-/AOh14GhFnZN2A2xowTHg5pgYqhHMO_ye89Z2cXUJ-M0ywg=s64",
      "userId": "12705220457356801018"
     },
     "user_tz": 240
    },
    "id": "WgpsGtrHID2d",
    "outputId": "bdbe24ba-bc6d-40f6-f5b2-da3041a6eb34"
   },
   "outputs": [
    {
     "data": {
      "text/plain": [
       "34"
      ]
     },
     "execution_count": 29,
     "metadata": {},
     "output_type": "execute_result"
    }
   ],
   "source": [
    "Enquiry(HashTable, CoordinateDict, 'g', 'i', 60, 450, 0.04, 0)"
   ]
  },
  {
   "cell_type": "code",
   "execution_count": 151,
   "metadata": {
    "colab": {
     "base_uri": "https://localhost:8080/"
    },
    "executionInfo": {
     "elapsed": 227,
     "status": "ok",
     "timestamp": 1631652576034,
     "user": {
      "displayName": "Ming Lian",
      "photoUrl": "https://lh3.googleusercontent.com/a-/AOh14GhFnZN2A2xowTHg5pgYqhHMO_ye89Z2cXUJ-M0ywg=s64",
      "userId": "12705220457356801018"
     },
     "user_tz": 240
    },
    "id": "BYBCgpbZIDtj",
    "outputId": "91977d51-ae92-4ae7-c405-e9941cf4335d"
   },
   "outputs": [
    {
     "data": {
      "text/plain": [
       "{'Bands': ['u', 'g', 'r', 'i', 'z', 'Y'],\n",
       " 'BinColor': array([-9.1, -8.9, -8.7, -8.5, -8.3, -8.1, -7.9, -7.7, -7.5, -7.3, -7.1,\n",
       "        -6.9, -6.7, -6.5, -6.3, -6.1, -5.9, -5.7, -5.5, -5.3, -5.1, -4.9,\n",
       "        -4.7, -4.5, -4.3, -4.1, -3.9, -3.7, -3.5, -3.3, -3.1, -2.9, -2.7,\n",
       "        -2.5, -2.3, -2.1, -1.9, -1.7, -1.5, -1.3, -1.1, -0.9, -0.7, -0.5,\n",
       "        -0.3, -0.1,  0.1,  0.3,  0.5,  0.7,  0.9,  1.1,  1.3,  1.5,  1.7,\n",
       "         1.9,  2.1,  2.3,  2.5,  2.7,  2.9,  3.1,  3.3,  3.5,  3.7,  3.9,\n",
       "         4.1,  4.3,  4.5,  4.7,  4.9,  5.1,  5.3,  5.5,  5.7,  5.9,  6.1,\n",
       "         6.3,  6.5,  6.7,  6.9,  7.1,  7.3,  7.5,  7.7,  7.9,  8.1,  8.3,\n",
       "         8.5,  8.7,  8.9,  9.1,  9.3,  9.5,  9.7]),\n",
       " 'BinMag': array([-1.1 , -1.06, -1.02, -0.98, -0.94, -0.9 , -0.86, -0.82, -0.78,\n",
       "        -0.74, -0.7 , -0.66, -0.62, -0.58, -0.54, -0.5 , -0.46, -0.42,\n",
       "        -0.38, -0.34, -0.3 , -0.26, -0.22, -0.18, -0.14, -0.1 , -0.06,\n",
       "        -0.02,  0.02,  0.06,  0.1 ,  0.14,  0.18,  0.22,  0.26,  0.3 ,\n",
       "         0.34,  0.38,  0.42,  0.46,  0.5 ,  0.54,  0.58,  0.62,  0.66,\n",
       "         0.7 ,  0.74,  0.78,  0.82,  0.86,  0.9 ,  0.94,  0.98,  1.02,\n",
       "         1.06,  1.1 ,  1.14,  1.18,  1.22,  1.26,  1.3 ,  1.34,  1.38,\n",
       "         1.42,  1.46,  1.5 ,  1.54,  1.58,  1.62,  1.66,  1.7 ,  1.74,\n",
       "         1.78,  1.82,  1.86,  1.9 ,  1.94,  1.98,  2.02,  2.06,  2.1 ,\n",
       "         2.14,  2.18,  2.22,  2.26,  2.3 ,  2.34,  2.38,  2.42,  2.46,\n",
       "         2.5 ,  2.54,  2.58,  2.62,  2.66,  2.7 ,  2.74,  2.78,  2.82,\n",
       "         2.86,  2.9 ,  2.94,  2.98,  3.02,  3.06,  3.1 ,  3.14,  3.18,\n",
       "         3.22,  3.26,  3.3 ,  3.34,  3.38,  3.42,  3.46,  3.5 ,  3.54,\n",
       "         3.58,  3.62,  3.66,  3.7 ,  3.74,  3.78,  3.82]),\n",
       " 'dT1s': array([  0,  15,  30,  45,  60,  75,  90, 105, 120]),\n",
       " 'dT2s': array([  0,  30,  60,  90, 120, 150, 180, 210, 240, 270, 300, 330, 360,\n",
       "        390, 420, 450, 480])}"
      ]
     },
     "execution_count": 151,
     "metadata": {},
     "output_type": "execute_result"
    }
   ],
   "source": [
    "CoordinateDict"
   ]
  },
  {
   "cell_type": "code",
   "execution_count": 133,
   "metadata": {
    "colab": {
     "base_uri": "https://localhost:8080/"
    },
    "executionInfo": {
     "elapsed": 237,
     "status": "ok",
     "timestamp": 1631647997204,
     "user": {
      "displayName": "Ming Lian",
      "photoUrl": "https://lh3.googleusercontent.com/a-/AOh14GhFnZN2A2xowTHg5pgYqhHMO_ye89Z2cXUJ-M0ywg=s64",
      "userId": "12705220457356801018"
     },
     "user_tz": 240
    },
    "id": "WeQfw39DIDnN",
    "outputId": "4ab22c0a-8bcd-4a1b-d069-6b412d086549"
   },
   "outputs": [
    {
     "data": {
      "text/plain": [
       "<matplotlib.colors.LogNorm at 0x7f3a91e86550>"
      ]
     },
     "execution_count": 133,
     "metadata": {},
     "output_type": "execute_result"
    }
   ],
   "source": [
    "LogNorm(vmin=Map[0,0].min(), vmax=Map[0,0].max())"
   ]
  },
  {
   "cell_type": "code",
   "execution_count": 161,
   "metadata": {
    "colab": {
     "base_uri": "https://localhost:8080/",
     "height": 613
    },
    "executionInfo": {
     "elapsed": 540,
     "status": "ok",
     "timestamp": 1631657483986,
     "user": {
      "displayName": "Ming Lian",
      "photoUrl": "https://lh3.googleusercontent.com/a-/AOh14GhFnZN2A2xowTHg5pgYqhHMO_ye89Z2cXUJ-M0ywg=s64",
      "userId": "12705220457356801018"
     },
     "user_tz": 240
    },
    "id": "IVKkANAj__6D",
    "outputId": "7c7b3bf4-47ee-4ab7-9361-1c59c6c5d13b"
   },
   "outputs": [
    {
     "data": {
      "text/plain": [
       "(-7.5, 4.0)"
      ]
     },
     "execution_count": 161,
     "metadata": {},
     "output_type": "execute_result"
    },
    {
     "data": {
      "image/png": "[encoded data removed]",
      "text/plain": [
       "<Figure size 1080x720 with 1 Axes>"
      ]
     },
     "metadata": {
      "needs_background": "light"
     },
     "output_type": "display_data"
    }
   ],
   "source": [
    "#If dMag and Color are not given, a 2-D array will be returned.\n",
    "fig, ax = plt.subplots(1, 1, figsize=(15, 10))\n",
    "\n",
    "Map = Enquiry(HashTable, CoordinateDict, 'g', 'g', 60, 450)\n",
    "plt.pcolor(CoordinateDict['BinMag'], CoordinateDict['BinColor'], np.transpose(Map[0,0])+1, edgecolors='face',\n",
    "           norm=LogNorm(1, vmax=Map[0,0].max()+1), cmap='gist_gray', alpha=0.5)\n",
    "plt.xlim([-0.5, 2])\n",
    "plt.ylim([-7.5, 4])\n",
    "# plt.axis('equal')"
   ]
  },
  {
   "cell_type": "code",
   "execution_count": 147,
   "metadata": {
    "colab": {
     "base_uri": "https://localhost:8080/"
    },
    "executionInfo": {
     "elapsed": 532,
     "status": "ok",
     "timestamp": 1631650985840,
     "user": {
      "displayName": "Ming Lian",
      "photoUrl": "https://lh3.googleusercontent.com/a-/AOh14GhFnZN2A2xowTHg5pgYqhHMO_ye89Z2cXUJ-M0ywg=s64",
      "userId": "12705220457356801018"
     },
     "user_tz": 240
    },
    "id": "rFZJ6Squ-DKN",
    "outputId": "a9cc672c-fb69-4bc2-ac56-1c4d7a6f38ff"
   },
   "outputs": [
    {
     "data": {
      "text/plain": [
       "(2, 2, 1, 1, 10, 38)"
      ]
     },
     "execution_count": 147,
     "metadata": {},
     "output_type": "execute_result"
    }
   ],
   "source": [
    "HashTable.shape"
   ]
  },
  {
   "cell_type": "code",
   "execution_count": null,
   "metadata": {
    "id": "gjYccfOC-COr"
   },
   "outputs": [],
   "source": []
  },
  {
   "cell_type": "code",
   "execution_count": null,
   "metadata": {
    "colab": {
     "base_uri": "https://localhost:8080/",
     "height": 286
    },
    "executionInfo": {
     "elapsed": 226,
     "status": "ok",
     "timestamp": 1631567404872,
     "user": {
      "displayName": "Ming Lian",
      "photoUrl": "https://lh3.googleusercontent.com/a-/AOh14GhFnZN2A2xowTHg5pgYqhHMO_ye89Z2cXUJ-M0ywg=s64",
      "userId": "12705220457356801018"
     },
     "user_tz": 240
    },
    "id": "8ewSZTEA1Pe0",
    "outputId": "81584e0e-7e7c-4892-d57e-db1732b9d80b"
   },
   "outputs": [
    {
     "data": {
      "text/plain": [
       "(-7.5, 4.0)"
      ]
     },
     "execution_count": 5,
     "metadata": {},
     "output_type": "execute_result"
    },
    {
     "data": {
      "image/png": "[encoded data removed]",
      "text/plain": [
       "<Figure size 432x288 with 1 Axes>"
      ]
     },
     "metadata": {
      "needs_background": "light"
     },
     "output_type": "display_data"
    }
   ],
   "source": [
    "#If dMag and Color are not given, a 2-D array will be returned.\n",
    "\n",
    "Map = Enquiry(HashTable, CoordinateDict, 'g', 'i', 60, 450)\n",
    "plt.pcolor(CoordinateDict['BinMag'], CoordinateDict['BinColor'], np.transpose(Map[0,0]), cmap='gist_gray')\n",
    "plt.xlim([-0.5, 2.5])\n",
    "plt.ylim([-7.5, 4])\n",
    "# plt.axis('equal')"
   ]
  },
  {
   "cell_type": "code",
   "execution_count": 16,
   "metadata": {
    "colab": {
     "base_uri": "https://localhost:8080/"
    },
    "executionInfo": {
     "elapsed": 25833,
     "status": "ok",
     "timestamp": 1631632009680,
     "user": {
      "displayName": "Ming Lian",
      "photoUrl": "https://lh3.googleusercontent.com/a-/AOh14GhFnZN2A2xowTHg5pgYqhHMO_ye89Z2cXUJ-M0ywg=s64",
      "userId": "12705220457356801018"
     },
     "user_tz": 240
    },
    "id": "NFzn1-Ao3CUQ",
    "outputId": "b064923e-b691-41d1-d974-baebaa3d5240"
   },
   "outputs": [
    {
     "name": "stdout",
     "output_type": "stream",
     "text": [
      "||||||||||||||||||||||||||||||||||||||||||||||||||||||||||||||||||||||||||||||||||||||||||||||||||||\n",
      "||||||||||||||||||||||||||||||||||||||||||||||||||||||||||||||||||||||||||||||||||||||||||||||||||||\n",
      "||||||||||||||||||||||||||||||||||||||||||||||||||||||||||||||||||||||||||||||||||||||||||||||||||||\n",
      "||||||||||||||||||||||||||||||||||||||||||||||||||||||||||||||||||||||||||||||||||||||||||||||||||||\n",
      "||||||||||||||||||||||||||||||||||||||||||||||||||||||||||||||||||||||||||||||||||||||||||||||||||||\n",
      "||||||||||||||||||||||||||||||||||||||||||||||||||||||||||||||||||||||||||||||||||||||||||||||||||||\n",
      "||||||||||||||||||||||||||||||||||||||||||||||||||||||||||||||||||||||||||||||||||||||||||||||||||||\n",
      "||||||||||||||||||||||||||||||||||||||||||||||||||||||||||||||||||||||||||||||||||||||||||||||||||||\n",
      "Finish!\n"
     ]
    }
   ],
   "source": [
    "data = CalculateMap('/content/drive/Shareddrives/FASTlab/PrestoColor2/Interpolated Data', 'SNIa-SALT2', 'g', 'i', 60, 450, PointsPDay=0.1)"
   ]
  },
  {
   "cell_type": "code",
   "execution_count": 170,
   "metadata": {
    "colab": {
     "base_uri": "https://localhost:8080/",
     "height": 787
    },
    "executionInfo": {
     "elapsed": 1861,
     "status": "ok",
     "timestamp": 1631657861505,
     "user": {
      "displayName": "Ming Lian",
      "photoUrl": "https://lh3.googleusercontent.com/a-/AOh14GhFnZN2A2xowTHg5pgYqhHMO_ye89Z2cXUJ-M0ywg=s64",
      "userId": "12705220457356801018"
     },
     "user_tz": 240
    },
    "id": "-ELTqsIl1Sej",
    "outputId": "0eb5545e-2b58-4162-fa28-9e1866e3480d"
   },
   "outputs": [
    {
     "data": {
      "text/plain": [
       "([<matplotlib.lines.Line2D at 0x7f3a8f9e22d0>],\n",
       " <matplotlib.contour.QuadContourSet at 0x7f3a8f9bdd50>)"
      ]
     },
     "execution_count": 170,
     "metadata": {},
     "output_type": "execute_result"
    },
    {
     "data": {
      "image/png": "[encoded data removed]",
      "text/plain": [
       "<Figure size 1080x864 with 1 Axes>"
      ]
     },
     "metadata": {
      "needs_background": "light"
     },
     "output_type": "display_data"
    }
   ],
   "source": [
    "fig, ax = plt.subplots(1, 1, figsize=(15, 12))\n",
    "ax.set_xlabel(\"$\\Delta {0}$\".format('g'), fontsize=20)\n",
    "ax.set_ylabel('${0}-{1}$'.format('g','i'), fontsize=20)\n",
    "ax.tick_params(labelsize=15 )\n",
    "ax.set_title('SNIa-SALT2', fontsize=22)\n",
    "\n",
    "plt.xlim([-0.3, 1.8])\n",
    "plt.ylim([-7.5, 4])\n",
    "\n",
    "plt.pcolor(CoordinateDict['BinMag'], CoordinateDict['BinColor'], np.transpose(Map[0,0])+1, edgecolors='face',\n",
    "           norm=LogNorm(1, vmax=Map[0,0].max()+1), cmap='gist_gray', alpha=0.6)\n",
    "\n",
    "ax.scatter([10], [10])\n",
    "\n",
    "plotting.scatter_contour(data[0], data[1], \n",
    "                         threshold=50,log_counts=True, \n",
    "                         histogram2d_args=dict(bins=(100,100)), filled_contour=False,\n",
    "                         plot_args=dict(marker='.', linestyle='none', color='black', alpha=0.1),\n",
    "                         contour_args=dict(alpha=1, cmap='bone'))"
   ]
  },
  {
   "cell_type": "code",
   "execution_count": null,
   "metadata": {
    "id": "BsmKewXSGoJh"
   },
   "outputs": [],
   "source": []
  },
  {
   "cell_type": "code",
   "execution_count": null,
   "metadata": {
    "id": "hGGxtLrwGoF2"
   },
   "outputs": [],
   "source": []
  },
  {
   "cell_type": "code",
   "execution_count": null,
   "metadata": {
    "id": "y1pd16R2GoCW"
   },
   "outputs": [],
   "source": []
  },
  {
   "cell_type": "code",
   "execution_count": null,
   "metadata": {
    "id": "tNuZLLYfGn_c"
   },
   "outputs": [],
   "source": []
  },
  {
   "cell_type": "code",
   "execution_count": 15,
   "metadata": {
    "executionInfo": {
     "elapsed": 315,
     "status": "ok",
     "timestamp": 1631631978813,
     "user": {
      "displayName": "Ming Lian",
      "photoUrl": "https://lh3.googleusercontent.com/a-/AOh14GhFnZN2A2xowTHg5pgYqhHMO_ye89Z2cXUJ-M0ywg=s64",
      "userId": "12705220457356801018"
     },
     "user_tz": 240
    },
    "id": "sWzMM6NL5VT2"
   },
   "outputs": [],
   "source": [
    "def CalculateMap(PathInterp, EventName, Band1, Band2, dT1, dT2, PointsPDay = 50, Thr=27.5, Save=0, TargetFolder='MapData'):    \n",
    "    \n",
    "    FilePath = os.path.join(PathInterp, EventName+'_Interp.pkl')\n",
    "    \n",
    "    with open(FilePath, 'rb') as f:\n",
    "        Interp_load = pickle.load(f)\n",
    "        TimeRange_load = pickle.load(f)    \n",
    "\n",
    "    dMag = []\n",
    "    Color = []\n",
    "\n",
    "    for II in range(len(Interp_load[Band1])):\n",
    "        \n",
    "        if Interp_load[Band1][II]==[] or Interp_load[Band2][II]==[]:\n",
    "            continue\n",
    "        \n",
    "        if II%5000 == 4999:\n",
    "            print('|')\n",
    "        elif II%50 == 49:\n",
    "            print('|', end='' )\n",
    "\n",
    "        TimeRangeStart = max( TimeRange_load[Band1][II][0], TimeRange_load[Band2][II][0] - dT1/1440 )\n",
    "        TimeRangeEnd = min( TimeRange_load[Band1][II][1] - dT2/1440, TimeRange_load[Band2][II][1] - dT1/1440 )\n",
    "\n",
    "        TimeRange = TimeRangeEnd - TimeRangeStart\n",
    "        SampleNo = np.int(PointsPDay*TimeRange)\n",
    "        \n",
    "        XX = np.random.rand(SampleNo)*TimeRange + TimeRangeStart\n",
    "\n",
    "        Mag1 = Interp_load[Band1][II](XX)\n",
    "        Mag2 = Interp_load[Band2][II](XX+dT1/1440)\n",
    "        Mag12 = Interp_load[Band1][II](XX+dT2/1440)\n",
    "\n",
    "        Mask = (Mag1<Thr) * (Mag2<Thr) *(Mag12<Thr)\n",
    "\n",
    "        dMag.extend(Mag1[Mask] - Mag12[Mask])\n",
    "        Color.extend(Mag1[Mask] - Mag2[Mask])\n",
    "        \n",
    "    data = np.array([dMag, Color])\n",
    "    \n",
    "    if Save == 1:\n",
    "    \n",
    "        TargetPath = os.path.join(Path0, TargetFolder)                            \n",
    "        if not os.path.isdir(TargetPath):\n",
    "            os.mkdir(TargetPath)\n",
    "        os.chdir(TargetPath)\n",
    "\n",
    "        Ind1 = PathInterp.rfind('/')\n",
    "        Ind2 = PathInterp.rfind('_')\n",
    "        \n",
    "        FileName = '{}{}_dT1_{}_dT2_{}_PPD{}_Thr{}_{}_Source_{}.npy'.format(Band1, Band2, dT1, dT2, PointsPDay, Thr, EventName, PathInterp[Ind1+1:Ind2])\n",
    "        np.save(FileName, data)\n",
    "        \n",
    "        print('The data is saved at {} as {}.'.format(TargetPath, FileName))\n",
    "    \n",
    "    print('Finish!')\n",
    "        \n",
    "    return data"
   ]
  },
  {
   "cell_type": "code",
   "execution_count": 14,
   "metadata": {
    "executionInfo": {
     "elapsed": 5,
     "status": "ok",
     "timestamp": 1631631966450,
     "user": {
      "displayName": "Ming Lian",
      "photoUrl": "https://lh3.googleusercontent.com/a-/AOh14GhFnZN2A2xowTHg5pgYqhHMO_ye89Z2cXUJ-M0ywg=s64",
      "userId": "12705220457356801018"
     },
     "user_tz": 240
    },
    "id": "Ax0_GWK0LK0T"
   },
   "outputs": [],
   "source": [
    "from astroML import plotting"
   ]
  },
  {
   "cell_type": "code",
   "execution_count": 5,
   "metadata": {
    "colab": {
     "base_uri": "https://localhost:8080/"
    },
    "executionInfo": {
     "elapsed": 258,
     "status": "ok",
     "timestamp": 1631631620134,
     "user": {
      "displayName": "Ming Lian",
      "photoUrl": "https://lh3.googleusercontent.com/a-/AOh14GhFnZN2A2xowTHg5pgYqhHMO_ye89Z2cXUJ-M0ywg=s64",
      "userId": "12705220457356801018"
     },
     "user_tz": 240
    },
    "id": "EvYG2TEmLnlP",
    "outputId": "bdb56bac-1bcb-4759-89e8-618f90d3f677"
   },
   "outputs": [
    {
     "data": {
      "text/plain": [
       "array([[1, 2],\n",
       "       [3, 4]])"
      ]
     },
     "execution_count": 5,
     "metadata": {},
     "output_type": "execute_result"
    }
   ],
   "source": [
    "aa = np.array([[1,2],[3,4]])\n",
    "aa"
   ]
  },
  {
   "cell_type": "code",
   "execution_count": 8,
   "metadata": {
    "colab": {
     "base_uri": "https://localhost:8080/",
     "height": 286
    },
    "executionInfo": {
     "elapsed": 259,
     "status": "ok",
     "timestamp": 1631631675444,
     "user": {
      "displayName": "Ming Lian",
      "photoUrl": "https://lh3.googleusercontent.com/a-/AOh14GhFnZN2A2xowTHg5pgYqhHMO_ye89Z2cXUJ-M0ywg=s64",
      "userId": "12705220457356801018"
     },
     "user_tz": 240
    },
    "id": "VR10hIaqRej4",
    "outputId": "2ed0e74e-887f-4355-e6ea-3076d5d18ce8"
   },
   "outputs": [
    {
     "data": {
      "text/plain": [
       "<matplotlib.collections.PolyCollection at 0x7f3a9fbd1310>"
      ]
     },
     "execution_count": 8,
     "metadata": {},
     "output_type": "execute_result"
    },
    {
     "data": {
      "image/png": "[encoded data removed]",
      "text/plain": [
       "<Figure size 432x288 with 1 Axes>"
      ]
     },
     "metadata": {
      "needs_background": "light"
     },
     "output_type": "display_data"
    }
   ],
   "source": [
    "plt.pcolor([1,2,3], [6,7,8], aa, cmap='gist_gray')"
   ]
  },
  {
   "cell_type": "code",
   "execution_count": null,
   "metadata": {
    "colab": {
     "base_uri": "https://localhost:8080/",
     "height": 286
    },
    "executionInfo": {
     "elapsed": 249,
     "status": "ok",
     "timestamp": 1631572859852,
     "user": {
      "displayName": "Ming Lian",
      "photoUrl": "https://lh3.googleusercontent.com/a-/AOh14GhFnZN2A2xowTHg5pgYqhHMO_ye89Z2cXUJ-M0ywg=s64",
      "userId": "12705220457356801018"
     },
     "user_tz": 240
    },
    "id": "_q59BCSORhxA",
    "outputId": "73b88130-a686-44b9-d915-bb56c432a581"
   },
   "outputs": [
    {
     "data": {
      "text/plain": [
       "<matplotlib.image.AxesImage at 0x7fba79ff1290>"
      ]
     },
     "execution_count": 36,
     "metadata": {},
     "output_type": "execute_result"
    },
    {
     "data": {
      "image/png": "[encoded data removed]",
      "text/plain": [
       "<Figure size 432x288 with 1 Axes>"
      ]
     },
     "metadata": {
      "needs_background": "light"
     },
     "output_type": "display_data"
    }
   ],
   "source": [
    "plt.imshow(aa, cmap='gist_gray')"
   ]
  },
  {
   "cell_type": "code",
   "execution_count": 82,
   "metadata": {
    "executionInfo": {
     "elapsed": 480,
     "status": "ok",
     "timestamp": 1631636972175,
     "user": {
      "displayName": "Ming Lian",
      "photoUrl": "https://lh3.googleusercontent.com/a-/AOh14GhFnZN2A2xowTHg5pgYqhHMO_ye89Z2cXUJ-M0ywg=s64",
      "userId": "12705220457356801018"
     },
     "user_tz": 240
    },
    "id": "Q4jkroYpUeiJ"
   },
   "outputs": [],
   "source": [
    "xx = np.ones(10)*1.999\n",
    "yy = np.array([0, 0, 0, 3, 3, 4, 4, 4, 4, 4])"
   ]
  },
  {
   "cell_type": "code",
   "execution_count": 83,
   "metadata": {
    "colab": {
     "base_uri": "https://localhost:8080/"
    },
    "executionInfo": {
     "elapsed": 13,
     "status": "ok",
     "timestamp": 1631636972179,
     "user": {
      "displayName": "Ming Lian",
      "photoUrl": "https://lh3.googleusercontent.com/a-/AOh14GhFnZN2A2xowTHg5pgYqhHMO_ye89Z2cXUJ-M0ywg=s64",
      "userId": "12705220457356801018"
     },
     "user_tz": 240
    },
    "id": "WZl_Iu3_JDN9",
    "outputId": "2dcacae6-5415-4f40-b94b-33b5c1909348"
   },
   "outputs": [
    {
     "data": {
      "text/plain": [
       "array([1.999, 1.999, 1.999, 1.999, 1.999, 1.999, 1.999, 1.999, 1.999,\n",
       "       1.999])"
      ]
     },
     "execution_count": 83,
     "metadata": {},
     "output_type": "execute_result"
    }
   ],
   "source": [
    "xx"
   ]
  },
  {
   "cell_type": "code",
   "execution_count": 56,
   "metadata": {
    "executionInfo": {
     "elapsed": 5,
     "status": "ok",
     "timestamp": 1631633533058,
     "user": {
      "displayName": "Ming Lian",
      "photoUrl": "https://lh3.googleusercontent.com/a-/AOh14GhFnZN2A2xowTHg5pgYqhHMO_ye89Z2cXUJ-M0ywg=s64",
      "userId": "12705220457356801018"
     },
     "user_tz": 240
    },
    "id": "EVnAti8S6Wz8"
   },
   "outputs": [],
   "source": [
    "xbins = np.arange(4)\n",
    "ybins = np.arange(-0.75, 6.5, 0.5)"
   ]
  },
  {
   "cell_type": "code",
   "execution_count": 57,
   "metadata": {
    "colab": {
     "base_uri": "https://localhost:8080/"
    },
    "executionInfo": {
     "elapsed": 4,
     "status": "ok",
     "timestamp": 1631633534268,
     "user": {
      "displayName": "Ming Lian",
      "photoUrl": "https://lh3.googleusercontent.com/a-/AOh14GhFnZN2A2xowTHg5pgYqhHMO_ye89Z2cXUJ-M0ywg=s64",
      "userId": "12705220457356801018"
     },
     "user_tz": 240
    },
    "id": "-PhXeZxx6bdo",
    "outputId": "6ccadfc3-4271-47dd-e062-86772ed5181f"
   },
   "outputs": [
    {
     "data": {
      "text/plain": [
       "array([-0.75, -0.25,  0.25,  0.75,  1.25,  1.75,  2.25,  2.75,  3.25,\n",
       "        3.75,  4.25,  4.75,  5.25,  5.75,  6.25])"
      ]
     },
     "execution_count": 57,
     "metadata": {},
     "output_type": "execute_result"
    }
   ],
   "source": [
    "ybins"
   ]
  },
  {
   "cell_type": "code",
   "execution_count": 58,
   "metadata": {
    "colab": {
     "base_uri": "https://localhost:8080/",
     "height": 265
    },
    "executionInfo": {
     "elapsed": 299,
     "status": "ok",
     "timestamp": 1631633535738,
     "user": {
      "displayName": "Ming Lian",
      "photoUrl": "https://lh3.googleusercontent.com/a-/AOh14GhFnZN2A2xowTHg5pgYqhHMO_ye89Z2cXUJ-M0ywg=s64",
      "userId": "12705220457356801018"
     },
     "user_tz": 240
    },
    "id": "HoyVEbcAVB51",
    "outputId": "95bfa8b4-1625-4785-87b8-9ed2bbefb9e5"
   },
   "outputs": [
    {
     "data": {
      "image/png": "[encoded data removed]",
      "text/plain": [
       "<Figure size 432x288 with 1 Axes>"
      ]
     },
     "metadata": {
      "needs_background": "light"
     },
     "output_type": "display_data"
    }
   ],
   "source": [
    "Hist = plt.hist2d(xx, yy, bins=[xbins, ybins], alpha = 0.5)"
   ]
  },
  {
   "cell_type": "code",
   "execution_count": 48,
   "metadata": {
    "colab": {
     "base_uri": "https://localhost:8080/"
    },
    "executionInfo": {
     "elapsed": 12,
     "status": "ok",
     "timestamp": 1631633274048,
     "user": {
      "displayName": "Ming Lian",
      "photoUrl": "https://lh3.googleusercontent.com/a-/AOh14GhFnZN2A2xowTHg5pgYqhHMO_ye89Z2cXUJ-M0ywg=s64",
      "userId": "12705220457356801018"
     },
     "user_tz": 240
    },
    "id": "lAKGJ-pyVEan",
    "outputId": "41dc0754-697c-4d24-a130-87c7f4eefb36"
   },
   "outputs": [
    {
     "data": {
      "text/plain": [
       "array([[0., 0., 0., 0., 0., 0., 0., 0., 0., 0., 0., 0., 0.],\n",
       "       [3., 0., 0., 0., 0., 0., 2., 0., 5., 0., 0., 0., 0.],\n",
       "       [0., 0., 0., 0., 0., 0., 0., 0., 0., 0., 0., 0., 0.]])"
      ]
     },
     "execution_count": 48,
     "metadata": {},
     "output_type": "execute_result"
    }
   ],
   "source": [
    "Hist[0]"
   ]
  },
  {
   "cell_type": "code",
   "execution_count": null,
   "metadata": {
    "colab": {
     "base_uri": "https://localhost:8080/",
     "height": 286
    },
    "executionInfo": {
     "elapsed": 207,
     "status": "ok",
     "timestamp": 1631573192868,
     "user": {
      "displayName": "Ming Lian",
      "photoUrl": "https://lh3.googleusercontent.com/a-/AOh14GhFnZN2A2xowTHg5pgYqhHMO_ye89Z2cXUJ-M0ywg=s64",
      "userId": "12705220457356801018"
     },
     "user_tz": 240
    },
    "id": "sOicriGwVjxh",
    "outputId": "a1df9dcf-e41d-46a4-9cfc-9ba3995cd291"
   },
   "outputs": [
    {
     "data": {
      "text/plain": [
       "<matplotlib.collections.PolyCollection at 0x7fba7ae60a50>"
      ]
     },
     "execution_count": 47,
     "metadata": {},
     "output_type": "execute_result"
    },
    {
     "data": {
      "image/png": "[encoded data removed]",
      "text/plain": [
       "<Figure size 432x288 with 1 Axes>"
      ]
     },
     "metadata": {
      "needs_background": "light"
     },
     "output_type": "display_data"
    }
   ],
   "source": [
    "plt.pcolor(Hist[0])"
   ]
  },
  {
   "cell_type": "code",
   "execution_count": null,
   "metadata": {
    "colab": {
     "base_uri": "https://localhost:8080/",
     "height": 282
    },
    "executionInfo": {
     "elapsed": 262,
     "status": "ok",
     "timestamp": 1631573185232,
     "user": {
      "displayName": "Ming Lian",
      "photoUrl": "https://lh3.googleusercontent.com/a-/AOh14GhFnZN2A2xowTHg5pgYqhHMO_ye89Z2cXUJ-M0ywg=s64",
      "userId": "12705220457356801018"
     },
     "user_tz": 240
    },
    "id": "gvgHaNpAVoFS",
    "outputId": "45ecaaff-06f1-4c19-86d1-4fa1fe5fd01b"
   },
   "outputs": [
    {
     "data": {
      "text/plain": [
       "<matplotlib.image.AxesImage at 0x7fba7ae70950>"
      ]
     },
     "execution_count": 46,
     "metadata": {},
     "output_type": "execute_result"
    },
    {
     "data": {
      "image/png": "[encoded data removed]",
      "text/plain": [
       "<Figure size 432x288 with 1 Axes>"
      ]
     },
     "metadata": {
      "needs_background": "light"
     },
     "output_type": "display_data"
    }
   ],
   "source": [
    "plt.imshow(Hist[0])"
   ]
  },
  {
   "cell_type": "code",
   "execution_count": 103,
   "metadata": {
    "executionInfo": {
     "elapsed": 262,
     "status": "ok",
     "timestamp": 1631637876670,
     "user": {
      "displayName": "Ming Lian",
      "photoUrl": "https://lh3.googleusercontent.com/a-/AOh14GhFnZN2A2xowTHg5pgYqhHMO_ye89Z2cXUJ-M0ywg=s64",
      "userId": "12705220457356801018"
     },
     "user_tz": 240
    },
    "id": "TqEGLIc1Vw93"
   },
   "outputs": [],
   "source": [
    "xx = np.arange(0, 10, 0.01)\n",
    "yy = np.sin(xx)\n",
    "\n",
    "xbin = np.arange(-0.75, 10.3, 0.5)\n",
    "ybin = np.arange(-1.7, 1.8, 0.2)"
   ]
  },
  {
   "cell_type": "code",
   "execution_count": 94,
   "metadata": {
    "executionInfo": {
     "elapsed": 223,
     "status": "ok",
     "timestamp": 1631637542080,
     "user": {
      "displayName": "Ming Lian",
      "photoUrl": "https://lh3.googleusercontent.com/a-/AOh14GhFnZN2A2xowTHg5pgYqhHMO_ye89Z2cXUJ-M0ywg=s64",
      "userId": "12705220457356801018"
     },
     "user_tz": 240
    },
    "id": "KStjHh6QKY6q"
   },
   "outputs": [],
   "source": [
    "Noise1 = np.random.normal(scale = 0.2, size=1000)\n",
    "Noise2 = np.random.normal(scale = 0.2, size=1000)"
   ]
  },
  {
   "cell_type": "code",
   "execution_count": 90,
   "metadata": {
    "colab": {
     "base_uri": "https://localhost:8080/"
    },
    "executionInfo": {
     "elapsed": 202,
     "status": "ok",
     "timestamp": 1631637390772,
     "user": {
      "displayName": "Ming Lian",
      "photoUrl": "https://lh3.googleusercontent.com/a-/AOh14GhFnZN2A2xowTHg5pgYqhHMO_ye89Z2cXUJ-M0ywg=s64",
      "userId": "12705220457356801018"
     },
     "user_tz": 240
    },
    "id": "RfdOPFm2Ko1x",
    "outputId": "eca1b46d-0bb1-48a1-9268-967009fa65b8"
   },
   "outputs": [
    {
     "data": {
      "text/plain": [
       "(1000,)"
      ]
     },
     "execution_count": 90,
     "metadata": {},
     "output_type": "execute_result"
    }
   ],
   "source": [
    "Noise.shape"
   ]
  },
  {
   "cell_type": "code",
   "execution_count": 87,
   "metadata": {
    "colab": {
     "base_uri": "https://localhost:8080/"
    },
    "executionInfo": {
     "elapsed": 10,
     "status": "ok",
     "timestamp": 1631637347346,
     "user": {
      "displayName": "Ming Lian",
      "photoUrl": "https://lh3.googleusercontent.com/a-/AOh14GhFnZN2A2xowTHg5pgYqhHMO_ye89Z2cXUJ-M0ywg=s64",
      "userId": "12705220457356801018"
     },
     "user_tz": 240
    },
    "id": "57prPr8fKhAe",
    "outputId": "1afab2e5-335f-4c70-b671-004d389f0a83"
   },
   "outputs": [
    {
     "data": {
      "text/plain": [
       "(1000,)"
      ]
     },
     "execution_count": 87,
     "metadata": {},
     "output_type": "execute_result"
    }
   ],
   "source": [
    "xx.shape"
   ]
  },
  {
   "cell_type": "code",
   "execution_count": 95,
   "metadata": {
    "colab": {
     "base_uri": "https://localhost:8080/",
     "height": 282
    },
    "executionInfo": {
     "elapsed": 477,
     "status": "ok",
     "timestamp": 1631637545423,
     "user": {
      "displayName": "Ming Lian",
      "photoUrl": "https://lh3.googleusercontent.com/a-/AOh14GhFnZN2A2xowTHg5pgYqhHMO_ye89Z2cXUJ-M0ywg=s64",
      "userId": "12705220457356801018"
     },
     "user_tz": 240
    },
    "id": "axll02BSD-hS",
    "outputId": "4331be8e-c12a-44fa-c6f0-8177f2a6c62d"
   },
   "outputs": [
    {
     "data": {
      "text/plain": [
       "<matplotlib.collections.PathCollection at 0x7f3a9ea6cf90>"
      ]
     },
     "execution_count": 95,
     "metadata": {},
     "output_type": "execute_result"
    },
    {
     "data": {
      "image/png": "[encoded data removed]",
      "text/plain": [
       "<Figure size 432x288 with 1 Axes>"
      ]
     },
     "metadata": {
      "needs_background": "light"
     },
     "output_type": "display_data"
    }
   ],
   "source": [
    "plt.scatter(xx+Noise1,yy+Noise2, s=1)"
   ]
  },
  {
   "cell_type": "code",
   "execution_count": 118,
   "metadata": {
    "colab": {
     "base_uri": "https://localhost:8080/",
     "height": 592
    },
    "executionInfo": {
     "elapsed": 504,
     "status": "ok",
     "timestamp": 1631638186622,
     "user": {
      "displayName": "Ming Lian",
      "photoUrl": "https://lh3.googleusercontent.com/a-/AOh14GhFnZN2A2xowTHg5pgYqhHMO_ye89Z2cXUJ-M0ywg=s64",
      "userId": "12705220457356801018"
     },
     "user_tz": 240
    },
    "id": "Q-ANvWSrD-3A",
    "outputId": "87f4001d-11c6-4fb9-985d-ef9412035832"
   },
   "outputs": [
    {
     "data": {
      "image/png": "[encoded data removed]",
      "text/plain": [
       "<Figure size 1080x720 with 1 Axes>"
      ]
     },
     "metadata": {
      "needs_background": "light"
     },
     "output_type": "display_data"
    }
   ],
   "source": [
    "plt.figure(figsize=(15,10))\n",
    "Hist = plt.hist2d(xx+Noise1,yy+Noise2, bins=[xbin, ybin], cmap='gist_gray')\n",
    "# plt.colorbar()"
   ]
  },
  {
   "cell_type": "code",
   "execution_count": 117,
   "metadata": {
    "colab": {
     "base_uri": "https://localhost:8080/",
     "height": 609
    },
    "executionInfo": {
     "elapsed": 600,
     "status": "ok",
     "timestamp": 1631638171633,
     "user": {
      "displayName": "Ming Lian",
      "photoUrl": "https://lh3.googleusercontent.com/a-/AOh14GhFnZN2A2xowTHg5pgYqhHMO_ye89Z2cXUJ-M0ywg=s64",
      "userId": "12705220457356801018"
     },
     "user_tz": 240
    },
    "id": "Hh985eWFEDub",
    "outputId": "901c6ace-ff97-4d26-a1c6-8e745a945a99"
   },
   "outputs": [
    {
     "data": {
      "text/plain": [
       "<matplotlib.collections.PathCollection at 0x7f3a9ead8ed0>"
      ]
     },
     "execution_count": 117,
     "metadata": {},
     "output_type": "execute_result"
    },
    {
     "data": {
      "image/png": "[encoded data removed]",
      "text/plain": [
       "<Figure size 1080x720 with 1 Axes>"
      ]
     },
     "metadata": {
      "needs_background": "light"
     },
     "output_type": "display_data"
    }
   ],
   "source": [
    "plt.figure(figsize=(15,10))\n",
    "plt.pcolor(Hist[1], Hist[2], np.transpose(Hist[0]), cmap='gist_gray', alpha=0.3)\n",
    "plt.scatter(xx+Noise1,yy+Noise2, s=1)"
   ]
  },
  {
   "cell_type": "code",
   "execution_count": 108,
   "metadata": {
    "colab": {
     "base_uri": "https://localhost:8080/"
    },
    "executionInfo": {
     "elapsed": 214,
     "status": "ok",
     "timestamp": 1631637986081,
     "user": {
      "displayName": "Ming Lian",
      "photoUrl": "https://lh3.googleusercontent.com/a-/AOh14GhFnZN2A2xowTHg5pgYqhHMO_ye89Z2cXUJ-M0ywg=s64",
      "userId": "12705220457356801018"
     },
     "user_tz": 240
    },
    "id": "DNWwpswvEPSm",
    "outputId": "7d76aaf9-2f88-4446-c407-0961fad425e9"
   },
   "outputs": [
    {
     "data": {
      "text/plain": [
       "(array([[ 0.,  0.,  0.,  0.,  0.,  0.,  0.,  0.,  0.,  0.,  0.,  0.,  0.,\n",
       "          0.,  0.,  0.,  0.],\n",
       "        [ 0.,  0.,  0.,  0.,  0.,  0.,  0.,  0., 11., 14.,  0.,  0.,  0.,\n",
       "          0.,  0.,  0.,  0.],\n",
       "        [ 0.,  0.,  0.,  0.,  0.,  0.,  0.,  0.,  0.,  6., 22., 22.,  0.,\n",
       "          0.,  0.,  0.,  0.],\n",
       "        [ 0.,  0.,  0.,  0.,  0.,  0.,  0.,  0.,  0.,  0.,  0.,  3., 34.,\n",
       "         13.,  0.,  0.,  0.],\n",
       "        [ 0.,  0.,  0.,  0.,  0.,  0.,  0.,  0.,  0.,  0.,  0.,  0.,  0.,\n",
       "         50.,  0.,  0.,  0.],\n",
       "        [ 0.,  0.,  0.,  0.,  0.,  0.,  0.,  0.,  0.,  0.,  0.,  0., 22.,\n",
       "         28.,  0.,  0.,  0.],\n",
       "        [ 0.,  0.,  0.,  0.,  0.,  0.,  0.,  0.,  0.,  0., 13., 25., 12.,\n",
       "          0.,  0.,  0.,  0.],\n",
       "        [ 0.,  0.,  0.,  0.,  0.,  0.,  0.,  0., 20., 21.,  9.,  0.,  0.,\n",
       "          0.,  0.,  0.,  0.],\n",
       "        [ 0.,  0.,  0.,  0.,  0.,  8., 22., 20.,  0.,  0.,  0.,  0.,  0.,\n",
       "          0.,  0.,  0.,  0.],\n",
       "        [ 0.,  0.,  0.,  0., 33., 17.,  0.,  0.,  0.,  0.,  0.,  0.,  0.,\n",
       "          0.,  0.,  0.,  0.],\n",
       "        [ 0.,  0.,  0., 48.,  2.,  0.,  0.,  0.,  0.,  0.,  0.,  0.,  0.,\n",
       "          0.,  0.,  0.,  0.],\n",
       "        [ 0.,  0.,  0., 42.,  8.,  0.,  0.,  0.,  0.,  0.,  0.,  0.,  0.,\n",
       "          0.,  0.,  0.,  0.],\n",
       "        [ 0.,  0.,  0.,  0., 26., 24.,  0.,  0.,  0.,  0.,  0.,  0.,  0.,\n",
       "          0.,  0.,  0.,  0.],\n",
       "        [ 0.,  0.,  0.,  0.,  0.,  1., 22., 21.,  6.,  0.,  0.,  0.,  0.,\n",
       "          0.,  0.,  0.,  0.],\n",
       "        [ 0.,  0.,  0.,  0.,  0.,  0.,  0.,  0., 14., 20., 16.,  0.,  0.,\n",
       "          0.,  0.,  0.,  0.],\n",
       "        [ 0.,  0.,  0.,  0.,  0.,  0.,  0.,  0.,  0.,  0.,  6., 25., 19.,\n",
       "          0.,  0.,  0.,  0.],\n",
       "        [ 0.,  0.,  0.,  0.,  0.,  0.,  0.,  0.,  0.,  0.,  0.,  0., 16.,\n",
       "         34.,  0.,  0.,  0.],\n",
       "        [ 0.,  0.,  0.,  0.,  0.,  0.,  0.,  0.,  0.,  0.,  0.,  0.,  0.,\n",
       "         50.,  0.,  0.,  0.],\n",
       "        [ 0.,  0.,  0.,  0.,  0.,  0.,  0.,  0.,  0.,  0.,  0., 10., 34.,\n",
       "          6.,  0.,  0.,  0.],\n",
       "        [ 0.,  0.,  0.,  0.,  0.,  0.,  0.,  0.,  0., 12., 22., 16.,  0.,\n",
       "          0.,  0.,  0.,  0.],\n",
       "        [ 0.,  0.,  0.,  0.,  0.,  0.,  2., 20., 20.,  8.,  0.,  0.,  0.,\n",
       "          0.,  0.,  0.,  0.],\n",
       "        [ 0.,  0.,  0.,  0.,  0.,  5., 20.,  0.,  0.,  0.,  0.,  0.,  0.,\n",
       "          0.,  0.,  0.,  0.]]),\n",
       " array([-0.75, -0.25,  0.25,  0.75,  1.25,  1.75,  2.25,  2.75,  3.25,\n",
       "         3.75,  4.25,  4.75,  5.25,  5.75,  6.25,  6.75,  7.25,  7.75,\n",
       "         8.25,  8.75,  9.25,  9.75, 10.25]),\n",
       " array([-1.7, -1.5, -1.3, -1.1, -0.9, -0.7, -0.5, -0.3, -0.1,  0.1,  0.3,\n",
       "         0.5,  0.7,  0.9,  1.1,  1.3,  1.5,  1.7]),\n",
       " <matplotlib.collections.QuadMesh at 0x7f3a92db2810>)"
      ]
     },
     "execution_count": 108,
     "metadata": {},
     "output_type": "execute_result"
    }
   ],
   "source": [
    "Hist"
   ]
  },
  {
   "cell_type": "code",
   "execution_count": null,
   "metadata": {},
   "outputs": [],
   "source": []
  }
 ],
 "metadata": {
  "colab": {
   "authorship_tag": "ABX9TyPGlFMjee40SvWOEaYHjOqo",
   "collapsed_sections": [],
   "mount_file_id": "10i9xL0kIReFkER7bfFQh8y12RbLkl1kf",
   "name": "ProbabilityCube.ipynb",
   "provenance": []
  },
  "kernelspec": {
   "display_name": "NERSC Python",
   "language": "python",
   "name": "python3"
  },
  "language_info": {
   "codemirror_mode": {
    "name": "ipython",
    "version": 3
   },
   "file_extension": ".py",
   "mimetype": "text/x-python",
   "name": "python",
   "nbconvert_exporter": "python",
   "pygments_lexer": "ipython3",
   "version": "3.9.7"
  }
 },
 "nbformat": 4,
 "nbformat_minor": 4
}
